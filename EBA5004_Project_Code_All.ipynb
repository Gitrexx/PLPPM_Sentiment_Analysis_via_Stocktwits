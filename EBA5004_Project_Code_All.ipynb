{
 "cells": [
  {
   "cell_type": "markdown",
   "id": "d5cc2800-5a8b-45ac-aeb2-0e07e919a666",
   "metadata": {},
   "source": [
    "# Data Collection"
   ]
  },
  {
   "cell_type": "markdown",
   "id": "3ed67a96-5290-4aa2-90b1-f66d1137f073",
   "metadata": {},
   "source": [
    "## Stock Price Data Collection"
   ]
  },
  {
   "cell_type": "code",
   "execution_count": 2,
   "id": "19921db0-19e3-4718-ae76-75342c4e2411",
   "metadata": {},
   "outputs": [],
   "source": [
    "import pandas as pd\n",
    "import yfinance as yf\n",
    "import numpy as np\n",
    "pd.set_option(\"display.max_colwidth\", None)\n",
    "pd.set_option('display.max_columns', None)"
   ]
  },
  {
   "cell_type": "code",
   "execution_count": 273,
   "id": "e867ddf9-39b1-4c43-9412-23ef0b3b56a7",
   "metadata": {},
   "outputs": [],
   "source": [
    "class get_stock_data:\n",
    "    \n",
    "    @classmethod\n",
    "    def download_daily_stock_price(cls, stock_list, start_date, end_date):\n",
    "        df_stock_combined = pd.DataFrame()\n",
    "        for stock in sorted(stock_list):\n",
    "            df = yf.download(stock, start=start_date, end=end_date)\n",
    "            df['stock'] = stock\n",
    "            df_stock_combined = pd.concat([df_stock_combined, df])\n",
    "        df_stock_combined.reset_index(inplace=True)\n",
    "        df_stock_combined.columns = [col.lower() for col in df_stock_combined.columns]\n",
    "        df_stock_combined.rename(columns={'date': 'trading_date'}, inplace=True)\n",
    "        return df_stock_combined"
   ]
  },
  {
   "cell_type": "code",
   "execution_count": 274,
   "id": "5111bea2-cc7f-414f-8200-dc7c197287cb",
   "metadata": {},
   "outputs": [
    {
     "name": "stdout",
     "output_type": "stream",
     "text": [
      "[*********************100%***********************]  1 of 1 completed\n",
      "[*********************100%***********************]  1 of 1 completed\n",
      "[*********************100%***********************]  1 of 1 completed\n",
      "[*********************100%***********************]  1 of 1 completed\n",
      "[*********************100%***********************]  1 of 1 completed\n"
     ]
    }
   ],
   "source": [
    "df_stock_combined = get_stock_data.download_daily_stock_price(['TSLA', 'AMZN', 'NVDA', 'AAPL', 'FB'], '2020-01-01', '2022-04-01')"
   ]
  },
  {
   "cell_type": "code",
   "execution_count": 275,
   "id": "7fcfb15e-e53b-4809-83c9-04a0cb33b830",
   "metadata": {},
   "outputs": [
    {
     "name": "stdout",
     "output_type": "stream",
     "text": [
      "<class 'pandas.core.frame.DataFrame'>\n",
      "RangeIndex: 2840 entries, 0 to 2839\n",
      "Data columns (total 8 columns):\n",
      " #   Column        Non-Null Count  Dtype         \n",
      "---  ------        --------------  -----         \n",
      " 0   trading_date  2840 non-null   datetime64[ns]\n",
      " 1   open          2840 non-null   float64       \n",
      " 2   high          2840 non-null   float64       \n",
      " 3   low           2840 non-null   float64       \n",
      " 4   close         2840 non-null   float64       \n",
      " 5   adj close     2840 non-null   float64       \n",
      " 6   volume        2840 non-null   int64         \n",
      " 7   stock         2840 non-null   object        \n",
      "dtypes: datetime64[ns](1), float64(5), int64(1), object(1)\n",
      "memory usage: 177.6+ KB\n"
     ]
    }
   ],
   "source": [
    "df_stock_combined.info()"
   ]
  },
  {
   "cell_type": "markdown",
   "id": "7500a632-6a65-4476-9247-8e9816a2638e",
   "metadata": {
    "tags": []
   },
   "source": [
    "## StockTwit Data Scrapping"
   ]
  },
  {
   "cell_type": "code",
   "execution_count": null,
   "id": "cf3549cd-a948-4439-ac14-f4493275e4cd",
   "metadata": {},
   "outputs": [],
   "source": []
  },
  {
   "cell_type": "code",
   "execution_count": null,
   "id": "99c1db53-0ad2-4e79-93b1-2c4b13dfcfc1",
   "metadata": {},
   "outputs": [],
   "source": []
  },
  {
   "cell_type": "markdown",
   "id": "6542b434-277e-49fa-9c1c-ae418b0b740a",
   "metadata": {
    "tags": []
   },
   "source": [
    "# Data Collation"
   ]
  },
  {
   "cell_type": "markdown",
   "id": "40ddcf78-bad5-4c83-9981-8011bf954ded",
   "metadata": {
    "tags": []
   },
   "source": [
    "## Combine Scapped Data"
   ]
  },
  {
   "cell_type": "code",
   "execution_count": 25,
   "id": "0132292d-f53a-4ce7-92dd-aa863412e442",
   "metadata": {},
   "outputs": [],
   "source": [
    "import os\n",
    "from pathlib import Path\n",
    "from ast import literal_eval\n",
    "from datetime import datetime"
   ]
  },
  {
   "cell_type": "code",
   "execution_count": 236,
   "id": "98cb4d11-f6c2-4315-94c9-ba9af9efdc1b",
   "metadata": {},
   "outputs": [],
   "source": [
    "class combine_files:\n",
    "    \n",
    "    @classmethod\n",
    "    def get_all_files_list(cls, root_folder_dir):\n",
    "        \n",
    "        file_dir_list = []\n",
    "        for root, dirs, files in os.walk(root_folder_dir):\n",
    "            for file in files:\n",
    "                #append the file name to the list\n",
    "                file_dir_list.append(os.path.join(root,file))\n",
    "        return file_dir_list\n",
    "        \n",
    "        # for path, subdirs, files in os.walk(root_folder_dir):\n",
    "        #     for name in files:\n",
    "        #         file_dir_list = list(os.path.join(path, name))\n",
    "        #         print(file_dir_list)\n",
    "    \n",
    "    @classmethod\n",
    "    def get_sentiment_score(cls, string_entities):\n",
    "        try:\n",
    "            sentiment_label = literal_eval(string_entities)['sentiment']['basic']\n",
    "            if sentiment_label == 'Bullish':\n",
    "                return 1\n",
    "            elif sentiment_label == 'Bearish':\n",
    "                return 0\n",
    "            else:\n",
    "                return np.nan\n",
    "        except:\n",
    "            return np.nan\n",
    "        \n",
    "    @classmethod    \n",
    "    def get_likes_count(cls, string_likes):\n",
    "        try:\n",
    "            count_like = literal_eval(string_likes)['total']\n",
    "            return count_like\n",
    "        except:\n",
    "        # need to return 0 instead of NA to prevent Nan values\n",
    "            return 0\n",
    "\n",
    "    @classmethod\n",
    "    def get_reshares_count(cls, string_reshares):\n",
    "        try:\n",
    "            count_reshare = literal_eval(string_reshares)['reshared_count']\n",
    "            return count_reshare\n",
    "        except:\n",
    "        # need to return 0 instead of NA to prevent Nan values\n",
    "            return 0\n",
    "        \n",
    "    @classmethod\n",
    "    def read_file(cls, file_dir):\n",
    "        df = pd.read_csv(file_dir, usecols=['body', 'created_at', 'likes', 'reshares', 'entities'])\n",
    "        stock_label = Path(file_dir).stem.split('_')[0]\n",
    "        df['stock'] = stock_label\n",
    "        df['count_like'] = df['likes'].apply(lambda x: cls.get_likes_count(x))\n",
    "        df['count_reshare'] = df['reshares'].apply(lambda x: cls.get_reshares_count(x))\n",
    "        df['sentiment_score'] = df['entities'].apply(lambda x: cls.get_sentiment_score(x))\n",
    "        df['created_at'] = pd.to_datetime(df['created_at'], utc=True)\n",
    "        df.rename(columns={'created_at': 'created_at_utc'}, inplace=True)\n",
    "        df.drop(columns=['entities', 'likes', 'reshares'], inplace=True)\n",
    "        return df\n",
    "        \n",
    "    @classmethod\n",
    "    def combine_files(cls, root_folder_dir):\n",
    "        file_dir_list = cls.get_all_files_list(root_folder_dir)\n",
    "        df_combined = pd.DataFrame()\n",
    "        for file in file_dir_list:\n",
    "            df = cls.read_file(file)\n",
    "            df_combined = pd.concat([df_combined, df], ignore_index=True)\n",
    "        df_combined.sort_values(by=['stock', 'created_at_utc'], inplace=True)\n",
    "        df_combined.reset_index(drop=True, inplace=True)\n",
    "        return df_combined\n",
    "            \n",
    "    @classmethod\n",
    "    def filter_by_datetime_range(cls, df_combined, date_time=datetime.strptime('2020-01-01 00:00:00-05:00', '%Y-%m-%d %H:%M:%S%z')):\n",
    "        df_combined = df_combined[df_combined['created_at_utc'] >= date_time]\n",
    "        df_combined.reset_index(drop=True, inplace=True)\n",
    "        return df_combined\n",
    "    \n",
    "    @classmethod\n",
    "    def transform_and_output(cls, root_folder_dir, output_folder_dir):\n",
    "        df_combined = cls.combine_files(root_folder_dir)\n",
    "        df_combined = cls.filter_by_datetime_range(df_combined)\n",
    "        output_file_dir = os.path.join(output_folder_dir, 'stocktwits_combined.csv')\n",
    "        df_combined.to_csv(output_file_dir, index=False)\n",
    "        print(f\"combined file is output to {output_file_dir}\")\n",
    "        return df_combined\n",
    "        "
   ]
  },
  {
   "cell_type": "code",
   "execution_count": 237,
   "id": "03ce9740-63ab-452e-9931-e99472ba5311",
   "metadata": {},
   "outputs": [],
   "source": [
    "test_folder_dir = r'C:\\Users\\frank\\OneDrive\\Documents\\Learning\\NUS MTech EBCA\\3. Course Material\\EBA5004 PLP\\4. Practice Module Project\\data\\Raw\\test'\n",
    "test_output_dir = r'C:\\Users\\frank\\OneDrive\\Documents\\Learning\\NUS MTech EBCA\\3. Course Material\\EBA5004 PLP\\4. Practice Module Project\\data\\Processed\\StockTwits\\Combined\\test'"
   ]
  },
  {
   "cell_type": "code",
   "execution_count": 238,
   "id": "c3b8cf95-91c9-46fb-b170-d41855ed73a0",
   "metadata": {},
   "outputs": [],
   "source": [
    "root_folder_dir = r'C:\\Users\\frank\\OneDrive\\Documents\\Learning\\NUS MTech EBCA\\3. Course Material\\EBA5004 PLP\\4. Practice Module Project\\data\\Raw\\stocktwits'\n",
    "output_folder_dir = r'C:\\Users\\frank\\OneDrive\\Documents\\Learning\\NUS MTech EBCA\\3. Course Material\\EBA5004 PLP\\4. Practice Module Project\\data\\Processed\\StockTwits\\Combined'"
   ]
  },
  {
   "cell_type": "code",
   "execution_count": 240,
   "id": "46b42856-749f-4fcc-9542-324496701516",
   "metadata": {},
   "outputs": [
    {
     "name": "stdout",
     "output_type": "stream",
     "text": [
      "combined file is output to C:\\Users\\frank\\OneDrive\\Documents\\Learning\\NUS MTech EBCA\\3. Course Material\\EBA5004 PLP\\4. Practice Module Project\\data\\Processed\\StockTwits\\Combined\\stocktwits_combined.csv\n"
     ]
    }
   ],
   "source": [
    "df_twits_combined = combine_files.transform_and_output(root_folder_dir, output_folder_dir)"
   ]
  },
  {
   "cell_type": "code",
   "execution_count": null,
   "id": "f39018df-ccfc-4227-9554-4a7e69c004eb",
   "metadata": {},
   "outputs": [],
   "source": [
    "# df['created_at'] = pd.to_datetime(df['created_at'], utc=True)\n",
    "# # filter messages from 2020-01-01 00:00 US Eastern Time onwards, UTC-5 timezone\n",
    "# df = df[df['created_at'] >= datetime.strptime('2020-01-01 00:00:00-05:00', '%Y-%m-%d %H:%M:%S%z')]"
   ]
  },
  {
   "cell_type": "code",
   "execution_count": 254,
   "id": "af5ac76c-9619-4202-b8d1-f3ca9c7d1ef8",
   "metadata": {},
   "outputs": [
    {
     "data": {
      "text/html": [
       "<div>\n",
       "<style scoped>\n",
       "    .dataframe tbody tr th:only-of-type {\n",
       "        vertical-align: middle;\n",
       "    }\n",
       "\n",
       "    .dataframe tbody tr th {\n",
       "        vertical-align: top;\n",
       "    }\n",
       "\n",
       "    .dataframe thead th {\n",
       "        text-align: right;\n",
       "    }\n",
       "</style>\n",
       "<table border=\"1\" class=\"dataframe\">\n",
       "  <thead>\n",
       "    <tr style=\"text-align: right;\">\n",
       "      <th></th>\n",
       "      <th>created_at_utc</th>\n",
       "      <th>stock</th>\n",
       "      <th>count_like</th>\n",
       "      <th>count_reshare</th>\n",
       "      <th>sentiment_score</th>\n",
       "      <th>body_prepared</th>\n",
       "      <th>body_processed</th>\n",
       "    </tr>\n",
       "  </thead>\n",
       "  <tbody>\n",
       "    <tr>\n",
       "      <th>0</th>\n",
       "      <td>2020-01-01 05:06:58+00:00</td>\n",
       "      <td>AAPL</td>\n",
       "      <td>2.0</td>\n",
       "      <td>NaN</td>\n",
       "      <td>1.0</td>\n",
       "      <td>$AAPL good things happening 2020 run trump and everything’s gonna run up get it while you can follow the trend</td>\n",
       "      <td>good things happening 2020 run trump and everything’s gonna run up get it while you can follow the trend</td>\n",
       "    </tr>\n",
       "    <tr>\n",
       "      <th>1</th>\n",
       "      <td>2020-01-01 05:08:28+00:00</td>\n",
       "      <td>AAPL</td>\n",
       "      <td>3.0</td>\n",
       "      <td>NaN</td>\n",
       "      <td>1.0</td>\n",
       "      <td>$AAPL Happy New Year amazing winning AAPL Bulls! You’re making life fun and exciting!</td>\n",
       "      <td>Happy New Year amazing winning AAPL Bulls! You’re making life fun and exciting!</td>\n",
       "    </tr>\n",
       "    <tr>\n",
       "      <th>2</th>\n",
       "      <td>2020-01-01 05:14:51+00:00</td>\n",
       "      <td>AAPL</td>\n",
       "      <td>21.0</td>\n",
       "      <td>NaN</td>\n",
       "      <td>1.0</td>\n",
       "      <td>Happy New Year  :) $AAPL $TSLA $AMZN  $SPY $BTC.X</td>\n",
       "      <td>Happy New Year  :)      .X</td>\n",
       "    </tr>\n",
       "    <tr>\n",
       "      <th>3</th>\n",
       "      <td>2020-01-01 05:19:59+00:00</td>\n",
       "      <td>AAPL</td>\n",
       "      <td>1.0</td>\n",
       "      <td>NaN</td>\n",
       "      <td>NaN</td>\n",
       "      <td>@Taxes_R2_Damn_High  my dad ended this year by selling half his $aapl and $MSFT  Two decades in almost exactly.   I think no one is being careful.   These parabolic moves can be dangerous.   I know everyone is cheerful  now!</td>\n",
       "      <td>my dad ended this year by selling half his  and   Two decades in almost exactly.   I think no one is being careful.   These parabolic moves can be dangerous.   I know everyone is cheerful  now!</td>\n",
       "    </tr>\n",
       "    <tr>\n",
       "      <th>4</th>\n",
       "      <td>2020-01-01 05:37:42+00:00</td>\n",
       "      <td>AAPL</td>\n",
       "      <td>1.0</td>\n",
       "      <td>NaN</td>\n",
       "      <td>1.0</td>\n",
       "      <td>$AAPL And to those using the tired and old delapidated PE ratio argument, I'll just leave you with this, oh, ours?  Just 24.7 PE, at end of 2019 (with a massively more room to grow ).... Compare Apples' PE to other megacaps=, quote from article with a false negative title to begin with = &amp;quot;Compared with the other megacap tech stocks, Apple's P/E ratio still ranks among the lowest. Amazon is finishing the year with a P/E of 81.8, Facebook's is 32.8, Microsoft's is 29.7, and Google-parent Alphabet's is 28.7.&amp;quot;  !!!HAPPY NEW YEAR EVERYBODY!!!  After its strongest year in a decade, Apple stock is historically expensive on a price-to-earnings basis -</td>\n",
       "      <td>And to those using the tired and old delapidated PE ratio argument, I'll just leave you with this, oh, ours?  Just 24.7 PE, at end of 2019 (with a massively more room to grow ).... Compare Apples' PE to other megacaps=, quote from article with a false negative title to begin with = &amp;quot;Compared with the other megacap tech stocks, Apple's P/E ratio still ranks among the lowest. Amazon is finishing the year with a P/E of 81.8, Facebook's is 32.8, Microsoft's is 29.7, and Google-parent Alphabet's is 28.7.&amp;quot;  !!!HAPPY NEW YEAR EVERYBODY!!!  After its strongest year in a decade, Apple stock is historically expensive on a price-to-earnings basis -</td>\n",
       "    </tr>\n",
       "    <tr>\n",
       "      <th>5</th>\n",
       "      <td>2020-01-01 05:41:36+00:00</td>\n",
       "      <td>AAPL</td>\n",
       "      <td>1.0</td>\n",
       "      <td>NaN</td>\n",
       "      <td>1.0</td>\n",
       "      <td>$AAPL **&amp;quot;With massively more room to grow&amp;quot; not &amp;quot; with (a) massively room to grow&amp;quot; silly stocktwits won't let me erase and repost with right grammar. Oh well..you get the picture. Happy New Year! 😎</td>\n",
       "      <td>**&amp;quot;With massively more room to grow&amp;quot; not &amp;quot; with (a) massively room to grow&amp;quot; silly stocktwits won't let me erase and repost with right grammar. Oh well..you get the picture. Happy New Year! smiling_face_with_sunglasses</td>\n",
       "    </tr>\n",
       "    <tr>\n",
       "      <th>6</th>\n",
       "      <td>2020-01-01 06:00:25+00:00</td>\n",
       "      <td>AAPL</td>\n",
       "      <td>6.0</td>\n",
       "      <td>NaN</td>\n",
       "      <td>1.0</td>\n",
       "      <td>$AAPL gonna rip on Thursday for the new year</td>\n",
       "      <td>gonna rip on Thursday for the new year</td>\n",
       "    </tr>\n",
       "    <tr>\n",
       "      <th>7</th>\n",
       "      <td>2020-01-01 06:04:36+00:00</td>\n",
       "      <td>AAPL</td>\n",
       "      <td>31.0</td>\n",
       "      <td>NaN</td>\n",
       "      <td>1.0</td>\n",
       "      <td>$AAPL $MSFT $AMZN $PTI bulls and bears.. Happy New Years!! May all of us little fish make some 💰 this upcoming year.</td>\n",
       "      <td>bulls and bears.. Happy New Years!! May all of us little fish make some money_bag  this upcoming year.</td>\n",
       "    </tr>\n",
       "    <tr>\n",
       "      <th>8</th>\n",
       "      <td>2020-01-01 06:12:03+00:00</td>\n",
       "      <td>AAPL</td>\n",
       "      <td>1.0</td>\n",
       "      <td>NaN</td>\n",
       "      <td>NaN</td>\n",
       "      <td>Bullish investment portfolio: Apple($AAPL), International Bancshares($IBOC),…  #correlations #stocks #stockratings</td>\n",
       "      <td>Bullish investment portfolio: Apple(), International Bancshares(),…</td>\n",
       "    </tr>\n",
       "    <tr>\n",
       "      <th>9</th>\n",
       "      <td>2020-01-01 06:48:59+00:00</td>\n",
       "      <td>AAPL</td>\n",
       "      <td>6.0</td>\n",
       "      <td>NaN</td>\n",
       "      <td>1.0</td>\n",
       "      <td>$AAPL $TSLA been to 6 dealerships in last few weeks. Non stop deliveries to the point they canceled my service rQ (tesla). Been to 4 Apple stores. Packed packed packed. Entire middle class upgrade cycle next 24months. $SPY $DJIA</td>\n",
       "      <td>been to 6 dealerships in last few weeks. Non stop deliveries to the point they canceled my service rQ (tesla). Been to 4 Apple stores. Packed packed packed. Entire middle class upgrade cycle next 24months.</td>\n",
       "    </tr>\n",
       "  </tbody>\n",
       "</table>\n",
       "</div>"
      ],
      "text/plain": [
       "             created_at_utc stock  count_like  count_reshare  sentiment_score  \\\n",
       "0 2020-01-01 05:06:58+00:00  AAPL         2.0            NaN              1.0   \n",
       "1 2020-01-01 05:08:28+00:00  AAPL         3.0            NaN              1.0   \n",
       "2 2020-01-01 05:14:51+00:00  AAPL        21.0            NaN              1.0   \n",
       "3 2020-01-01 05:19:59+00:00  AAPL         1.0            NaN              NaN   \n",
       "4 2020-01-01 05:37:42+00:00  AAPL         1.0            NaN              1.0   \n",
       "5 2020-01-01 05:41:36+00:00  AAPL         1.0            NaN              1.0   \n",
       "6 2020-01-01 06:00:25+00:00  AAPL         6.0            NaN              1.0   \n",
       "7 2020-01-01 06:04:36+00:00  AAPL        31.0            NaN              1.0   \n",
       "8 2020-01-01 06:12:03+00:00  AAPL         1.0            NaN              NaN   \n",
       "9 2020-01-01 06:48:59+00:00  AAPL         6.0            NaN              1.0   \n",
       "\n",
       "                                                                                                                                                                                                                                                                                                                                                                                                                                                                                                                                                                                                                                                                            body_prepared  \\\n",
       "0                                                                                                                                                                                                                                                                                                                                                                                                                                                                                                                                                                          $AAPL good things happening 2020 run trump and everything’s gonna run up get it while you can follow the trend   \n",
       "1                                                                                                                                                                                                                                                                                                                                                                                                                                                                                                                                                                                                   $AAPL Happy New Year amazing winning AAPL Bulls! You’re making life fun and exciting!   \n",
       "2                                                                                                                                                                                                                                                                                                                                                                                                                                                                                                                                                                                                                                       Happy New Year  :) $AAPL $TSLA $AMZN  $SPY $BTC.X   \n",
       "3                                                                                                                                                                                                                                                                                                                                                                                                                                                        @Taxes_R2_Damn_High  my dad ended this year by selling half his $aapl and $MSFT  Two decades in almost exactly.   I think no one is being careful.   These parabolic moves can be dangerous.   I know everyone is cheerful  now!   \n",
       "4  $AAPL And to those using the tired and old delapidated PE ratio argument, I'll just leave you with this, oh, ours?  Just 24.7 PE, at end of 2019 (with a massively more room to grow ).... Compare Apples' PE to other megacaps=, quote from article with a false negative title to begin with = &quot;Compared with the other megacap tech stocks, Apple's P/E ratio still ranks among the lowest. Amazon is finishing the year with a P/E of 81.8, Facebook's is 32.8, Microsoft's is 29.7, and Google-parent Alphabet's is 28.7.&quot;  !!!HAPPY NEW YEAR EVERYBODY!!!  After its strongest year in a decade, Apple stock is historically expensive on a price-to-earnings basis -    \n",
       "5                                                                                                                                                                                                                                                                                                                                                                                                                                                                $AAPL **&quot;With massively more room to grow&quot; not &quot; with (a) massively room to grow&quot; silly stocktwits won't let me erase and repost with right grammar. Oh well..you get the picture. Happy New Year! 😎   \n",
       "6                                                                                                                                                                                                                                                                                                                                                                                                                                                                                                                                                                                                                                            $AAPL gonna rip on Thursday for the new year   \n",
       "7                                                                                                                                                                                                                                                                                                                                                                                                                                                                                                                                                                    $AAPL $MSFT $AMZN $PTI bulls and bears.. Happy New Years!! May all of us little fish make some 💰 this upcoming year.   \n",
       "8                                                                                                                                                                                                                                                                                                                                                                                                                                                                                                                                                                      Bullish investment portfolio: Apple($AAPL), International Bancshares($IBOC),…  #correlations #stocks #stockratings   \n",
       "9                                                                                                                                                                                                                                                                                                                                                                                                                                                    $AAPL $TSLA been to 6 dealerships in last few weeks. Non stop deliveries to the point they canceled my service rQ (tesla). Been to 4 Apple stores. Packed packed packed. Entire middle class upgrade cycle next 24months. $SPY $DJIA   \n",
       "\n",
       "                                                                                                                                                                                                                                                                                                                                                                                                                                                                                                                                                                                                                                                                      body_processed  \n",
       "0                                                                                                                                                                                                                                                                                                                                                                                                                                                                                                                                                                           good things happening 2020 run trump and everything’s gonna run up get it while you can follow the trend  \n",
       "1                                                                                                                                                                                                                                                                                                                                                                                                                                                                                                                                                                                                    Happy New Year amazing winning AAPL Bulls! You’re making life fun and exciting!  \n",
       "2                                                                                                                                                                                                                                                                                                                                                                                                                                                                                                                                                                                                                                                         Happy New Year  :)      .X  \n",
       "3                                                                                                                                                                                                                                                                                                                                                                                                                                                                                  my dad ended this year by selling half his  and   Two decades in almost exactly.   I think no one is being careful.   These parabolic moves can be dangerous.   I know everyone is cheerful  now!  \n",
       "4   And to those using the tired and old delapidated PE ratio argument, I'll just leave you with this, oh, ours?  Just 24.7 PE, at end of 2019 (with a massively more room to grow ).... Compare Apples' PE to other megacaps=, quote from article with a false negative title to begin with = &quot;Compared with the other megacap tech stocks, Apple's P/E ratio still ranks among the lowest. Amazon is finishing the year with a P/E of 81.8, Facebook's is 32.8, Microsoft's is 29.7, and Google-parent Alphabet's is 28.7.&quot;  !!!HAPPY NEW YEAR EVERYBODY!!!  After its strongest year in a decade, Apple stock is historically expensive on a price-to-earnings basis -   \n",
       "5                                                                                                                                                                                                                                                                                                                                                                                                                                     **&quot;With massively more room to grow&quot; not &quot; with (a) massively room to grow&quot; silly stocktwits won't let me erase and repost with right grammar. Oh well..you get the picture. Happy New Year! smiling_face_with_sunglasses   \n",
       "6                                                                                                                                                                                                                                                                                                                                                                                                                                                                                                                                                                                                                                             gonna rip on Thursday for the new year  \n",
       "7                                                                                                                                                                                                                                                                                                                                                                                                                                                                                                                                                                             bulls and bears.. Happy New Years!! May all of us little fish make some money_bag  this upcoming year.  \n",
       "8                                                                                                                                                                                                                                                                                                                                                                                                                                                                                                                                                                                                            Bullish investment portfolio: Apple(), International Bancshares(),…      \n",
       "9                                                                                                                                                                                                                                                                                                                                                                                                                                                                    been to 6 dealerships in last few weeks. Non stop deliveries to the point they canceled my service rQ (tesla). Been to 4 Apple stores. Packed packed packed. Entire middle class upgrade cycle next 24months.    "
      ]
     },
     "execution_count": 254,
     "metadata": {},
     "output_type": "execute_result"
    }
   ],
   "source": [
    "df_twits_combined.head(10)"
   ]
  },
  {
   "cell_type": "code",
   "execution_count": 167,
   "id": "06dbd0a5-4a4a-4cc2-985e-ecc8456108f0",
   "metadata": {},
   "outputs": [
    {
     "data": {
      "text/html": [
       "<div>\n",
       "<style scoped>\n",
       "    .dataframe tbody tr th:only-of-type {\n",
       "        vertical-align: middle;\n",
       "    }\n",
       "\n",
       "    .dataframe tbody tr th {\n",
       "        vertical-align: top;\n",
       "    }\n",
       "\n",
       "    .dataframe thead th {\n",
       "        text-align: right;\n",
       "    }\n",
       "</style>\n",
       "<table border=\"1\" class=\"dataframe\">\n",
       "  <thead>\n",
       "    <tr style=\"text-align: right;\">\n",
       "      <th></th>\n",
       "      <th>body</th>\n",
       "      <th>created_at_utc</th>\n",
       "      <th>stock</th>\n",
       "      <th>count_like</th>\n",
       "      <th>count_reshare</th>\n",
       "      <th>sentiment_score</th>\n",
       "    </tr>\n",
       "  </thead>\n",
       "  <tbody>\n",
       "    <tr>\n",
       "      <th>30</th>\n",
       "      <td>$AAPL as in for all of 2020 as well</td>\n",
       "      <td>2020-01-01 13:28:57+00:00</td>\n",
       "      <td>AAPL</td>\n",
       "      <td>NaN</td>\n",
       "      <td>NaN</td>\n",
       "      <td>NaN</td>\n",
       "    </tr>\n",
       "    <tr>\n",
       "      <th>31</th>\n",
       "      <td>$AAPL -  This  will try to reach $300 in the next  few days!  Bullish for the whole year!    $SPY , $QQQ .  \\nThis is  the reason the market will rise another 20% this year!</td>\n",
       "      <td>2020-01-01 13:49:44+00:00</td>\n",
       "      <td>AAPL</td>\n",
       "      <td>2.0</td>\n",
       "      <td>NaN</td>\n",
       "      <td>1.0</td>\n",
       "    </tr>\n",
       "    <tr>\n",
       "      <th>32</th>\n",
       "      <td>@sonicmerlin  $AAPL  - looks like it&amp;#39;s going to  pop to $300!</td>\n",
       "      <td>2020-01-01 13:52:05+00:00</td>\n",
       "      <td>AAPL</td>\n",
       "      <td>NaN</td>\n",
       "      <td>NaN</td>\n",
       "      <td>1.0</td>\n",
       "    </tr>\n",
       "    <tr>\n",
       "      <th>33</th>\n",
       "      <td>$AAPL</td>\n",
       "      <td>2020-01-01 13:53:41+00:00</td>\n",
       "      <td>AAPL</td>\n",
       "      <td>NaN</td>\n",
       "      <td>NaN</td>\n",
       "      <td>NaN</td>\n",
       "    </tr>\n",
       "    <tr>\n",
       "      <th>34</th>\n",
       "      <td>$AAPL 👌🏼</td>\n",
       "      <td>2020-01-01 13:59:19+00:00</td>\n",
       "      <td>AAPL</td>\n",
       "      <td>1.0</td>\n",
       "      <td>NaN</td>\n",
       "      <td>NaN</td>\n",
       "    </tr>\n",
       "    <tr>\n",
       "      <th>35</th>\n",
       "      <td>$ANET $AAPL $SHOP $TSLA $AMZN its all about technique focus on the technique</td>\n",
       "      <td>2020-01-01 14:11:21+00:00</td>\n",
       "      <td>AAPL</td>\n",
       "      <td>7.0</td>\n",
       "      <td>NaN</td>\n",
       "      <td>NaN</td>\n",
       "    </tr>\n",
       "    <tr>\n",
       "      <th>36</th>\n",
       "      <td>Take to time to $STUDY my Youtube channel Today Link is here   https://www.youtube.com/c/PowerTargetTrades    as I lead my group into the new year with back to back to back wins in the best stocks right into the new year. $AAPL being the best and $TSLA our 2nd great weapon for making the best gains with skill based on a the big picture of the market and my times tested system rules.  This Link here  https://youtu.be/d8jgDB_O2wY   Explains how to become a member inside my free unique being managed by a leader group as I have  been massively correct the big picture on real market direction with many great plans since 2016 all documented on my Youtube Channel. If your serious for success start the new year right by doing some serious $study</td>\n",
       "      <td>2020-01-01 14:17:04+00:00</td>\n",
       "      <td>AAPL</td>\n",
       "      <td>1.0</td>\n",
       "      <td>NaN</td>\n",
       "      <td>NaN</td>\n",
       "    </tr>\n",
       "    <tr>\n",
       "      <th>37</th>\n",
       "      <td>$AAPL After its strongest year in a decade, Apple stock is historically expensive on a price-to-earnings basis - https://www.cnbc.com/2019/12/31/apple-pe-ratio-is-at-historic-high-following-an-explosive-year.html</td>\n",
       "      <td>2020-01-01 14:18:51+00:00</td>\n",
       "      <td>AAPL</td>\n",
       "      <td>NaN</td>\n",
       "      <td>NaN</td>\n",
       "      <td>NaN</td>\n",
       "    </tr>\n",
       "    <tr>\n",
       "      <th>38</th>\n",
       "      <td>Confident Investor indicator analysis for 1/1/2020. Interesting results from $LULU $AAPL $SINA $NXST #invest https://t.co/zmKHM7G8Ha</td>\n",
       "      <td>2020-01-01 14:21:52+00:00</td>\n",
       "      <td>AAPL</td>\n",
       "      <td>NaN</td>\n",
       "      <td>NaN</td>\n",
       "      <td>NaN</td>\n",
       "    </tr>\n",
       "    <tr>\n",
       "      <th>39</th>\n",
       "      <td>$AAPL .  $300 next week!</td>\n",
       "      <td>2020-01-01 14:23:08+00:00</td>\n",
       "      <td>AAPL</td>\n",
       "      <td>4.0</td>\n",
       "      <td>NaN</td>\n",
       "      <td>1.0</td>\n",
       "    </tr>\n",
       "  </tbody>\n",
       "</table>\n",
       "</div>"
      ],
      "text/plain": [
       "                                                                                                                                                                                                                                                                                                                                                                                                                                                                                                                                                                                                                                                                                                                                                                           body  \\\n",
       "30                                                                                                                                                                                                                                                                                                                                                                                                                                                                                                                                                                                                                                                                                                                                          $AAPL as in for all of 2020 as well   \n",
       "31                                                                                                                                                                                                                                                                                                                                                                                                                                                                                                                                                                                                $AAPL -  This  will try to reach $300 in the next  few days!  Bullish for the whole year!    $SPY , $QQQ .  \\nThis is  the reason the market will rise another 20% this year!   \n",
       "32                                                                                                                                                                                                                                                                                                                                                                                                                                                                                                                                                                                                                                                                                                            @sonicmerlin  $AAPL  - looks like it&#39;s going to  pop to $300!   \n",
       "33                                                                                                                                                                                                                                                                                                                                                                                                                                                                                                                                                                                                                                                                                                                                                                        $AAPL   \n",
       "34                                                                                                                                                                                                                                                                                                                                                                                                                                                                                                                                                                                                                                                                                                                                                                     $AAPL 👌🏼   \n",
       "35                                                                                                                                                                                                                                                                                                                                                                                                                                                                                                                                                                                                                                                                                                 $ANET $AAPL $SHOP $TSLA $AMZN its all about technique focus on the technique   \n",
       "36  Take to time to $STUDY my Youtube channel Today Link is here   https://www.youtube.com/c/PowerTargetTrades    as I lead my group into the new year with back to back to back wins in the best stocks right into the new year. $AAPL being the best and $TSLA our 2nd great weapon for making the best gains with skill based on a the big picture of the market and my times tested system rules.  This Link here  https://youtu.be/d8jgDB_O2wY   Explains how to become a member inside my free unique being managed by a leader group as I have  been massively correct the big picture on real market direction with many great plans since 2016 all documented on my Youtube Channel. If your serious for success start the new year right by doing some serious $study   \n",
       "37                                                                                                                                                                                                                                                                                                                                                                                                                                                                                                                                                         $AAPL After its strongest year in a decade, Apple stock is historically expensive on a price-to-earnings basis - https://www.cnbc.com/2019/12/31/apple-pe-ratio-is-at-historic-high-following-an-explosive-year.html   \n",
       "38                                                                                                                                                                                                                                                                                                                                                                                                                                                                                                                                                                                                                                         Confident Investor indicator analysis for 1/1/2020. Interesting results from $LULU $AAPL $SINA $NXST #invest https://t.co/zmKHM7G8Ha   \n",
       "39                                                                                                                                                                                                                                                                                                                                                                                                                                                                                                                                                                                                                                                                                                                                                     $AAPL .  $300 next week!   \n",
       "\n",
       "              created_at_utc stock  count_like  count_reshare  sentiment_score  \n",
       "30 2020-01-01 13:28:57+00:00  AAPL         NaN            NaN              NaN  \n",
       "31 2020-01-01 13:49:44+00:00  AAPL         2.0            NaN              1.0  \n",
       "32 2020-01-01 13:52:05+00:00  AAPL         NaN            NaN              1.0  \n",
       "33 2020-01-01 13:53:41+00:00  AAPL         NaN            NaN              NaN  \n",
       "34 2020-01-01 13:59:19+00:00  AAPL         1.0            NaN              NaN  \n",
       "35 2020-01-01 14:11:21+00:00  AAPL         7.0            NaN              NaN  \n",
       "36 2020-01-01 14:17:04+00:00  AAPL         1.0            NaN              NaN  \n",
       "37 2020-01-01 14:18:51+00:00  AAPL         NaN            NaN              NaN  \n",
       "38 2020-01-01 14:21:52+00:00  AAPL         NaN            NaN              NaN  \n",
       "39 2020-01-01 14:23:08+00:00  AAPL         4.0            NaN              1.0  "
      ]
     },
     "execution_count": 167,
     "metadata": {},
     "output_type": "execute_result"
    }
   ],
   "source": [
    "df_twits_combined.iloc[30:40]"
   ]
  },
  {
   "cell_type": "markdown",
   "id": "0ffd22a2-93e1-490d-b28f-5e390baa5f80",
   "metadata": {
    "tags": []
   },
   "source": [
    "# Data Transformation "
   ]
  },
  {
   "cell_type": "markdown",
   "id": "436b717d-5506-4cbd-b2da-2e307c470cb1",
   "metadata": {
    "tags": []
   },
   "source": [
    "## Stock Price Label Generation"
   ]
  },
  {
   "cell_type": "code",
   "execution_count": 280,
   "id": "27ffb228-65b0-4d46-9856-33d3c581b308",
   "metadata": {},
   "outputs": [],
   "source": [
    "class stock_price_label_generation:\n",
    "    \n",
    "    @classmethod\n",
    "    def labeller(cls, delta):\n",
    "    # 1 is price increase, 0 is price decrease\n",
    "        if delta >= 0:\n",
    "            return 1\n",
    "        elif delta < 0:\n",
    "            return 0\n",
    "        else:\n",
    "            return np.nan\n",
    "        \n",
    "    @classmethod\n",
    "    def generate_pre_day_volumn(cls, df_stock_combined):\n",
    "        df_stock_combined_processed = pd.DataFrame()\n",
    "        for stock in df_stock_combined['stock'].unique():\n",
    "            df_stock = df_stock_combined[df_stock_combined['stock']==stock]\n",
    "            df_stock['pre_day_volume'] = df_stock['volume'].shift(1)\n",
    "            df_stock_combined_processed = pd.concat([df_stock_combined_processed, df_stock], ignore_index=True)\n",
    "        return df_stock_combined_processed\n",
    "    \n",
    "    @classmethod\n",
    "    def generate_same_day_adj_close_price_change(cls, df_stock_combined):\n",
    "        df_stock_combined['price_change_same_day'] = np.where(df_stock_combined['adj close'] >= df_stock_combined['open'], 1, 0)\n",
    "        return df_stock_combined\n",
    "    \n",
    "    @classmethod\n",
    "    def generate_pre_day_adj_close_price_change(cls, df_stock_combined):\n",
    "        df_stock_combined_processed = pd.DataFrame()\n",
    "        for stock in df_stock_combined['stock'].unique():\n",
    "            df_stock = df_stock_combined[df_stock_combined['stock']==stock]\n",
    "            df_stock['price_diff_pre_day'] = df_stock['adj close'] - df_stock['adj close'].shift(1)\n",
    "            df_stock_combined_processed = pd.concat([df_stock_combined_processed, df_stock], ignore_index=True)\n",
    "        # label the price change, 1 as increase and 0 as decrease\n",
    "        df_stock_combined_processed['price_change_pre_day'] = df_stock_combined_processed['price_diff_pre_day'].apply(lambda x: cls.labeller(x))\n",
    "        df_stock_combined_processed.drop(columns=['price_diff_pre_day'], inplace=True)\n",
    "        return df_stock_combined_processed\n",
    "    \n",
    "    @classmethod\n",
    "    def generate_trading_close_datetime(cls, df):\n",
    "        trading_close_time = datetime.strptime('16:00:00', '%H:%M:%S').time()\n",
    "        df['next_close_datetime'] = df['trading_date'].apply(lambda x: datetime.combine(x, trading_close_time))\n",
    "        return df\n",
    "    \n",
    "    @classmethod\n",
    "    def normalize_by_z_score_by_group(cls, df, key='stock', col='pre_day_volume'):\n",
    "        zscore = lambda x: (x - x.mean()) / x.std()\n",
    "        df[f'{col}_zscore'] = df.groupby(key)[col].transform(zscore)\n",
    "        return df\n",
    "    \n",
    "    @classmethod\n",
    "    def transform(cls, df_stock_combined):\n",
    "        df_stock_combined = cls.generate_pre_day_volumn(df_stock_combined)\n",
    "        df_stock_combined = cls.generate_same_day_adj_close_price_change(df_stock_combined)\n",
    "        df_stock_combined = cls.generate_pre_day_adj_close_price_change(df_stock_combined)\n",
    "        df_stock_combined = cls.generate_trading_close_datetime(df_stock_combined)\n",
    "        df_stock_combined = cls.normalize_by_z_score_by_group(df_stock_combined)\n",
    "        df_stock_combined.drop(columns=['high', 'low', 'close', 'volume', 'pre_day_volume'], inplace=True)\n",
    "        return df_stock_combined"
   ]
  },
  {
   "cell_type": "code",
   "execution_count": 247,
   "id": "18c62ba1-0d18-4f3f-b551-5cf060d12dde",
   "metadata": {},
   "outputs": [],
   "source": [
    "def normalize_by_z_score_by_group(df, key='stock', col='volume'):\n",
    "    zscore = lambda x: (x - x.mean()) / x.std()\n",
    "    df[f'{col}_z_norm'] = df.groupby(key)[col].transform(zscore)\n",
    "    return df"
   ]
  },
  {
   "cell_type": "code",
   "execution_count": 282,
   "id": "477d6d39-cbc7-4db3-9e80-69a84d61ad2c",
   "metadata": {},
   "outputs": [
    {
     "name": "stderr",
     "output_type": "stream",
     "text": [
      "C:\\Users\\frank\\AppData\\Local\\Temp\\ipykernel_23436\\1421083164.py:18: SettingWithCopyWarning: \n",
      "A value is trying to be set on a copy of a slice from a DataFrame.\n",
      "Try using .loc[row_indexer,col_indexer] = value instead\n",
      "\n",
      "See the caveats in the documentation: https://pandas.pydata.org/pandas-docs/stable/user_guide/indexing.html#returning-a-view-versus-a-copy\n",
      "  df_stock['pre_day_volume'] = df_stock['volume'].shift(1)\n",
      "C:\\Users\\frank\\AppData\\Local\\Temp\\ipykernel_23436\\1421083164.py:18: SettingWithCopyWarning: \n",
      "A value is trying to be set on a copy of a slice from a DataFrame.\n",
      "Try using .loc[row_indexer,col_indexer] = value instead\n",
      "\n",
      "See the caveats in the documentation: https://pandas.pydata.org/pandas-docs/stable/user_guide/indexing.html#returning-a-view-versus-a-copy\n",
      "  df_stock['pre_day_volume'] = df_stock['volume'].shift(1)\n",
      "C:\\Users\\frank\\AppData\\Local\\Temp\\ipykernel_23436\\1421083164.py:18: SettingWithCopyWarning: \n",
      "A value is trying to be set on a copy of a slice from a DataFrame.\n",
      "Try using .loc[row_indexer,col_indexer] = value instead\n",
      "\n",
      "See the caveats in the documentation: https://pandas.pydata.org/pandas-docs/stable/user_guide/indexing.html#returning-a-view-versus-a-copy\n",
      "  df_stock['pre_day_volume'] = df_stock['volume'].shift(1)\n",
      "C:\\Users\\frank\\AppData\\Local\\Temp\\ipykernel_23436\\1421083164.py:18: SettingWithCopyWarning: \n",
      "A value is trying to be set on a copy of a slice from a DataFrame.\n",
      "Try using .loc[row_indexer,col_indexer] = value instead\n",
      "\n",
      "See the caveats in the documentation: https://pandas.pydata.org/pandas-docs/stable/user_guide/indexing.html#returning-a-view-versus-a-copy\n",
      "  df_stock['pre_day_volume'] = df_stock['volume'].shift(1)\n",
      "C:\\Users\\frank\\AppData\\Local\\Temp\\ipykernel_23436\\1421083164.py:18: SettingWithCopyWarning: \n",
      "A value is trying to be set on a copy of a slice from a DataFrame.\n",
      "Try using .loc[row_indexer,col_indexer] = value instead\n",
      "\n",
      "See the caveats in the documentation: https://pandas.pydata.org/pandas-docs/stable/user_guide/indexing.html#returning-a-view-versus-a-copy\n",
      "  df_stock['pre_day_volume'] = df_stock['volume'].shift(1)\n",
      "C:\\Users\\frank\\AppData\\Local\\Temp\\ipykernel_23436\\1421083164.py:32: SettingWithCopyWarning: \n",
      "A value is trying to be set on a copy of a slice from a DataFrame.\n",
      "Try using .loc[row_indexer,col_indexer] = value instead\n",
      "\n",
      "See the caveats in the documentation: https://pandas.pydata.org/pandas-docs/stable/user_guide/indexing.html#returning-a-view-versus-a-copy\n",
      "  df_stock['price_diff_pre_day'] = df_stock['adj close'] - df_stock['adj close'].shift(1)\n",
      "C:\\Users\\frank\\AppData\\Local\\Temp\\ipykernel_23436\\1421083164.py:32: SettingWithCopyWarning: \n",
      "A value is trying to be set on a copy of a slice from a DataFrame.\n",
      "Try using .loc[row_indexer,col_indexer] = value instead\n",
      "\n",
      "See the caveats in the documentation: https://pandas.pydata.org/pandas-docs/stable/user_guide/indexing.html#returning-a-view-versus-a-copy\n",
      "  df_stock['price_diff_pre_day'] = df_stock['adj close'] - df_stock['adj close'].shift(1)\n",
      "C:\\Users\\frank\\AppData\\Local\\Temp\\ipykernel_23436\\1421083164.py:32: SettingWithCopyWarning: \n",
      "A value is trying to be set on a copy of a slice from a DataFrame.\n",
      "Try using .loc[row_indexer,col_indexer] = value instead\n",
      "\n",
      "See the caveats in the documentation: https://pandas.pydata.org/pandas-docs/stable/user_guide/indexing.html#returning-a-view-versus-a-copy\n",
      "  df_stock['price_diff_pre_day'] = df_stock['adj close'] - df_stock['adj close'].shift(1)\n",
      "C:\\Users\\frank\\AppData\\Local\\Temp\\ipykernel_23436\\1421083164.py:32: SettingWithCopyWarning: \n",
      "A value is trying to be set on a copy of a slice from a DataFrame.\n",
      "Try using .loc[row_indexer,col_indexer] = value instead\n",
      "\n",
      "See the caveats in the documentation: https://pandas.pydata.org/pandas-docs/stable/user_guide/indexing.html#returning-a-view-versus-a-copy\n",
      "  df_stock['price_diff_pre_day'] = df_stock['adj close'] - df_stock['adj close'].shift(1)\n",
      "C:\\Users\\frank\\AppData\\Local\\Temp\\ipykernel_23436\\1421083164.py:32: SettingWithCopyWarning: \n",
      "A value is trying to be set on a copy of a slice from a DataFrame.\n",
      "Try using .loc[row_indexer,col_indexer] = value instead\n",
      "\n",
      "See the caveats in the documentation: https://pandas.pydata.org/pandas-docs/stable/user_guide/indexing.html#returning-a-view-versus-a-copy\n",
      "  df_stock['price_diff_pre_day'] = df_stock['adj close'] - df_stock['adj close'].shift(1)\n"
     ]
    }
   ],
   "source": [
    "df_stock_combined_labelled = stock_price_label_generation.transform(df_stock_combined)"
   ]
  },
  {
   "cell_type": "code",
   "execution_count": 283,
   "id": "6ff6d662-200e-4dde-add8-b5af7eac4bed",
   "metadata": {},
   "outputs": [
    {
     "data": {
      "text/html": [
       "<div>\n",
       "<style scoped>\n",
       "    .dataframe tbody tr th:only-of-type {\n",
       "        vertical-align: middle;\n",
       "    }\n",
       "\n",
       "    .dataframe tbody tr th {\n",
       "        vertical-align: top;\n",
       "    }\n",
       "\n",
       "    .dataframe thead th {\n",
       "        text-align: right;\n",
       "    }\n",
       "</style>\n",
       "<table border=\"1\" class=\"dataframe\">\n",
       "  <thead>\n",
       "    <tr style=\"text-align: right;\">\n",
       "      <th></th>\n",
       "      <th>trading_date</th>\n",
       "      <th>open</th>\n",
       "      <th>adj close</th>\n",
       "      <th>stock</th>\n",
       "      <th>price_change_same_day</th>\n",
       "      <th>price_change_pre_day</th>\n",
       "      <th>next_close_datetime</th>\n",
       "      <th>pre_day_volume_zscore</th>\n",
       "    </tr>\n",
       "  </thead>\n",
       "  <tbody>\n",
       "    <tr>\n",
       "      <th>0</th>\n",
       "      <td>2019-12-31</td>\n",
       "      <td>72.482498</td>\n",
       "      <td>72.245941</td>\n",
       "      <td>AAPL</td>\n",
       "      <td>0</td>\n",
       "      <td>NaN</td>\n",
       "      <td>2019-12-31 16:00:00</td>\n",
       "      <td>NaN</td>\n",
       "    </tr>\n",
       "    <tr>\n",
       "      <th>1</th>\n",
       "      <td>2020-01-02</td>\n",
       "      <td>74.059998</td>\n",
       "      <td>73.894333</td>\n",
       "      <td>AAPL</td>\n",
       "      <td>0</td>\n",
       "      <td>1.0</td>\n",
       "      <td>2020-01-02 16:00:00</td>\n",
       "      <td>-0.332439</td>\n",
       "    </tr>\n",
       "    <tr>\n",
       "      <th>2</th>\n",
       "      <td>2020-01-03</td>\n",
       "      <td>74.287498</td>\n",
       "      <td>73.175926</td>\n",
       "      <td>AAPL</td>\n",
       "      <td>0</td>\n",
       "      <td>0.0</td>\n",
       "      <td>2020-01-03 16:00:00</td>\n",
       "      <td>0.239195</td>\n",
       "    </tr>\n",
       "    <tr>\n",
       "      <th>3</th>\n",
       "      <td>2020-01-06</td>\n",
       "      <td>73.447502</td>\n",
       "      <td>73.759010</td>\n",
       "      <td>AAPL</td>\n",
       "      <td>1</td>\n",
       "      <td>1.0</td>\n",
       "      <td>2020-01-06 16:00:00</td>\n",
       "      <td>0.417939</td>\n",
       "    </tr>\n",
       "    <tr>\n",
       "      <th>4</th>\n",
       "      <td>2020-01-07</td>\n",
       "      <td>74.959999</td>\n",
       "      <td>73.412109</td>\n",
       "      <td>AAPL</td>\n",
       "      <td>0</td>\n",
       "      <td>0.0</td>\n",
       "      <td>2020-01-07 16:00:00</td>\n",
       "      <td>-0.042596</td>\n",
       "    </tr>\n",
       "  </tbody>\n",
       "</table>\n",
       "</div>"
      ],
      "text/plain": [
       "  trading_date       open  adj close stock  price_change_same_day  \\\n",
       "0   2019-12-31  72.482498  72.245941  AAPL                      0   \n",
       "1   2020-01-02  74.059998  73.894333  AAPL                      0   \n",
       "2   2020-01-03  74.287498  73.175926  AAPL                      0   \n",
       "3   2020-01-06  73.447502  73.759010  AAPL                      1   \n",
       "4   2020-01-07  74.959999  73.412109  AAPL                      0   \n",
       "\n",
       "   price_change_pre_day next_close_datetime  pre_day_volume_zscore  \n",
       "0                   NaN 2019-12-31 16:00:00                    NaN  \n",
       "1                   1.0 2020-01-02 16:00:00              -0.332439  \n",
       "2                   0.0 2020-01-03 16:00:00               0.239195  \n",
       "3                   1.0 2020-01-06 16:00:00               0.417939  \n",
       "4                   0.0 2020-01-07 16:00:00              -0.042596  "
      ]
     },
     "execution_count": 283,
     "metadata": {},
     "output_type": "execute_result"
    }
   ],
   "source": [
    "df_stock_combined_labelled.head()"
   ]
  },
  {
   "cell_type": "code",
   "execution_count": 100,
   "id": "4eb34a72-e783-4f89-949f-5f993679e59b",
   "metadata": {},
   "outputs": [
    {
     "name": "stdout",
     "output_type": "stream",
     "text": [
      "<class 'pandas.core.frame.DataFrame'>\n",
      "RangeIndex: 2840 entries, 0 to 2839\n",
      "Data columns (total 8 columns):\n",
      " #   Column                 Non-Null Count  Dtype         \n",
      "---  ------                 --------------  -----         \n",
      " 0   trading_date           2840 non-null   datetime64[ns]\n",
      " 1   open                   2840 non-null   float64       \n",
      " 2   adj close              2840 non-null   float64       \n",
      " 3   stock                  2840 non-null   object        \n",
      " 4   pre_day_volume         2835 non-null   float64       \n",
      " 5   price_change_same_day  2840 non-null   int32         \n",
      " 6   price_change_pre_day   2835 non-null   float64       \n",
      " 7   next_close_datetime    2840 non-null   datetime64[ns]\n",
      "dtypes: datetime64[ns](2), float64(4), int32(1), object(1)\n",
      "memory usage: 166.5+ KB\n"
     ]
    }
   ],
   "source": [
    "df_stock_combined_labelled.info()"
   ]
  },
  {
   "cell_type": "markdown",
   "id": "d6446b31-78a1-4a41-80a6-a57f9057c685",
   "metadata": {
    "jp-MarkdownHeadingCollapsed": true,
    "tags": []
   },
   "source": [
    "## StockTwits Text Preparation"
   ]
  },
  {
   "cell_type": "code",
   "execution_count": 40,
   "id": "932a41ae-46aa-41ea-b9e4-597f6d525582",
   "metadata": {},
   "outputs": [],
   "source": [
    "# backup procedure to read the output file in case that the following process stops\n",
    "output_file = r'C:\\Users\\frank\\OneDrive\\Documents\\Learning\\NUS MTech EBCA\\3. Course Material\\EBA5004 PLP\\4. Practice Module Project\\data\\Processed\\StockTwits\\Combined\\stocktwits_combined.csv'\n",
    "df_twits_combined = pd.read_csv(output_file)\n",
    "df_twits_combined['created_at_utc'] = pd.to_datetime(df_twits_combined['created_at_utc'], utc=True)"
   ]
  },
  {
   "cell_type": "code",
   "execution_count": 42,
   "id": "bd24fd51-9302-4166-a1ff-301c42bb6b74",
   "metadata": {},
   "outputs": [
    {
     "data": {
      "text/plain": [
       "(4165805, 6)"
      ]
     },
     "execution_count": 42,
     "metadata": {},
     "output_type": "execute_result"
    }
   ],
   "source": [
    "df_twits_combined.shape"
   ]
  },
  {
   "cell_type": "code",
   "execution_count": 37,
   "id": "cba388aa-0ea0-454b-b1d6-588a1fd3bfde",
   "metadata": {},
   "outputs": [],
   "source": [
    "# define preparation procedure for feature engineering\n",
    "import re\n",
    "class text_preparation:\n",
    "    \n",
    "    @classmethod\n",
    "    def remove_url(cls, string):\n",
    "        string = re.sub(r'https?://\\S+', \"\", string)\n",
    "        string = re.sub(r'www.\\S+', \"\", string)\n",
    "        return string\n",
    "    \n",
    "    @classmethod\n",
    "    def remove_special_chars(cls, string):\n",
    "        string = string.replace('\\n', ' ').replace('&#39;', \"'\").replace('&quot;', '\"')\n",
    "        return string\n",
    "    \n",
    "    @classmethod\n",
    "    def transform(cls, df):\n",
    "        df['body_prepared'] = df['body']\\\n",
    "        .apply(lambda x: cls.remove_url(x))\\\n",
    "        .apply(lambda x: cls.remove_special_chars(x))\n",
    "        df.drop(columns='body', inplace=True)\n",
    "        return df"
   ]
  },
  {
   "cell_type": "code",
   "execution_count": 304,
   "id": "9f38510f-0e95-4d52-8784-ae6b8d13aa76",
   "metadata": {},
   "outputs": [],
   "source": [
    "df_twits_combined = text_preparation.transform(df_twits_combined)"
   ]
  },
  {
   "cell_type": "code",
   "execution_count": null,
   "id": "63f1823a-a5d9-4295-829c-e90743db6c77",
   "metadata": {},
   "outputs": [],
   "source": [
    "# define text processing procedure\n",
    "# may not be needed as the pre-processing will be defined at the sentiment model section\n",
    "import emoji\n",
    "class text_processing:\n",
    "    \n",
    "    @classmethod\n",
    "    def convert_symbols(cls, string):\n",
    "        string = re.sub(r'(\\@)(\\S+)', r'mention_\\2', string)\n",
    "        string = re.sub(r'(\\#)(\\S+)', r'hashtag_\\2', string)\n",
    "        string = re.sub(r'(\\$)([A-Za-z]+)', r'cashtag_\\2', string)\n",
    "        return string\n",
    "    \n",
    "    # this method is not used in this processing because emoji needs to be converted after feature generation, as the convertion will affect the character length\n",
    "    @classmethod\n",
    "    def convert_emoji(cls, string):\n",
    "        return emoji.demojize(string, delimiters=(\"\", \" \"))\n",
    "    \n",
    "    @classmethod\n",
    "    def transform(cls, df):\n",
    "        df['body_processed'] = df['body_prepared']\\\n",
    "        .apply(lambda x: cls.convert_symbols(x))\n",
    "        # emoji needs to be converted after feature generation, as the convertion will affect the character length\n",
    "        return df"
   ]
  },
  {
   "cell_type": "code",
   "execution_count": 306,
   "id": "14d5c27c-cbd9-4fac-8c73-bc2ea784e1ef",
   "metadata": {},
   "outputs": [],
   "source": [
    "df_twits_combined = text_processing.transform(df_twits_combined)"
   ]
  },
  {
   "cell_type": "code",
   "execution_count": 309,
   "id": "f4e591db-a407-4c01-8a27-8379955d4335",
   "metadata": {},
   "outputs": [
    {
     "data": {
      "text/html": [
       "<div>\n",
       "<style scoped>\n",
       "    .dataframe tbody tr th:only-of-type {\n",
       "        vertical-align: middle;\n",
       "    }\n",
       "\n",
       "    .dataframe tbody tr th {\n",
       "        vertical-align: top;\n",
       "    }\n",
       "\n",
       "    .dataframe thead th {\n",
       "        text-align: right;\n",
       "    }\n",
       "</style>\n",
       "<table border=\"1\" class=\"dataframe\">\n",
       "  <thead>\n",
       "    <tr style=\"text-align: right;\">\n",
       "      <th></th>\n",
       "      <th>created_at_utc</th>\n",
       "      <th>stock</th>\n",
       "      <th>count_like</th>\n",
       "      <th>count_reshare</th>\n",
       "      <th>sentiment_score</th>\n",
       "      <th>body_prepared</th>\n",
       "      <th>body_processed</th>\n",
       "    </tr>\n",
       "  </thead>\n",
       "  <tbody>\n",
       "    <tr>\n",
       "      <th>0</th>\n",
       "      <td>2020-01-01 05:06:58+00:00</td>\n",
       "      <td>AAPL</td>\n",
       "      <td>2.0</td>\n",
       "      <td>NaN</td>\n",
       "      <td>1.0</td>\n",
       "      <td>$AAPL good things happening 2020 run trump and everything’s gonna run up get it while you can follow the trend</td>\n",
       "      <td>good things happening 2020 run trump and everything’s gonna run up get it while you can follow the trend</td>\n",
       "    </tr>\n",
       "    <tr>\n",
       "      <th>1</th>\n",
       "      <td>2020-01-01 05:08:28+00:00</td>\n",
       "      <td>AAPL</td>\n",
       "      <td>3.0</td>\n",
       "      <td>NaN</td>\n",
       "      <td>1.0</td>\n",
       "      <td>$AAPL Happy New Year amazing winning AAPL Bulls! You’re making life fun and exciting!</td>\n",
       "      <td>Happy New Year amazing winning AAPL Bulls! You’re making life fun and exciting!</td>\n",
       "    </tr>\n",
       "    <tr>\n",
       "      <th>2</th>\n",
       "      <td>2020-01-01 05:14:51+00:00</td>\n",
       "      <td>AAPL</td>\n",
       "      <td>21.0</td>\n",
       "      <td>NaN</td>\n",
       "      <td>1.0</td>\n",
       "      <td>Happy New Year  :) $AAPL $TSLA $AMZN  $SPY $BTC.X</td>\n",
       "      <td>Happy New Year  :)      .X</td>\n",
       "    </tr>\n",
       "    <tr>\n",
       "      <th>3</th>\n",
       "      <td>2020-01-01 05:19:59+00:00</td>\n",
       "      <td>AAPL</td>\n",
       "      <td>1.0</td>\n",
       "      <td>NaN</td>\n",
       "      <td>NaN</td>\n",
       "      <td>@Taxes_R2_Damn_High  my dad ended this year by selling half his $aapl and $MSFT  Two decades in almost exactly.   I think no one is being careful.   These parabolic moves can be dangerous.   I know everyone is cheerful  now!</td>\n",
       "      <td>my dad ended this year by selling half his  and   Two decades in almost exactly.   I think no one is being careful.   These parabolic moves can be dangerous.   I know everyone is cheerful  now!</td>\n",
       "    </tr>\n",
       "    <tr>\n",
       "      <th>4</th>\n",
       "      <td>2020-01-01 05:37:42+00:00</td>\n",
       "      <td>AAPL</td>\n",
       "      <td>1.0</td>\n",
       "      <td>NaN</td>\n",
       "      <td>1.0</td>\n",
       "      <td>$AAPL And to those using the tired and old delapidated PE ratio argument, I'll just leave you with this, oh, ours?  Just 24.7 PE, at end of 2019 (with a massively more room to grow ).... Compare Apples' PE to other megacaps=, quote from article with a false negative title to begin with = \"Compared with the other megacap tech stocks, Apple's P/E ratio still ranks among the lowest. Amazon is finishing the year with a P/E of 81.8, Facebook's is 32.8, Microsoft's is 29.7, and Google-parent Alphabet's is 28.7.\"  !!!HAPPY NEW YEAR EVERYBODY!!!  After its strongest year in a decade, Apple stock is historically expensive on a price-to-earnings basis -</td>\n",
       "      <td>And to those using the tired and old delapidated PE ratio argument, I'll just leave you with this, oh, ours?  Just 24.7 PE, at end of 2019 (with a massively more room to grow ).... Compare Apples' PE to other megacaps=, quote from article with a false negative title to begin with = \"Compared with the other megacap tech stocks, Apple's P/E ratio still ranks among the lowest. Amazon is finishing the year with a P/E of 81.8, Facebook's is 32.8, Microsoft's is 29.7, and Google-parent Alphabet's is 28.7.\"  !!!HAPPY NEW YEAR EVERYBODY!!!  After its strongest year in a decade, Apple stock is historically expensive on a price-to-earnings basis -</td>\n",
       "    </tr>\n",
       "    <tr>\n",
       "      <th>5</th>\n",
       "      <td>2020-01-01 05:41:36+00:00</td>\n",
       "      <td>AAPL</td>\n",
       "      <td>1.0</td>\n",
       "      <td>NaN</td>\n",
       "      <td>1.0</td>\n",
       "      <td>$AAPL **\"With massively more room to grow\" not \" with (a) massively room to grow\" silly stocktwits won't let me erase and repost with right grammar. Oh well..you get the picture. Happy New Year! 😎</td>\n",
       "      <td>**\"With massively more room to grow\" not \" with (a) massively room to grow\" silly stocktwits won't let me erase and repost with right grammar. Oh well..you get the picture. Happy New Year! 😎</td>\n",
       "    </tr>\n",
       "    <tr>\n",
       "      <th>6</th>\n",
       "      <td>2020-01-01 06:00:25+00:00</td>\n",
       "      <td>AAPL</td>\n",
       "      <td>6.0</td>\n",
       "      <td>NaN</td>\n",
       "      <td>1.0</td>\n",
       "      <td>$AAPL gonna rip on Thursday for the new year</td>\n",
       "      <td>gonna rip on Thursday for the new year</td>\n",
       "    </tr>\n",
       "    <tr>\n",
       "      <th>7</th>\n",
       "      <td>2020-01-01 06:04:36+00:00</td>\n",
       "      <td>AAPL</td>\n",
       "      <td>31.0</td>\n",
       "      <td>NaN</td>\n",
       "      <td>1.0</td>\n",
       "      <td>$AAPL $MSFT $AMZN $PTI bulls and bears.. Happy New Years!! May all of us little fish make some 💰 this upcoming year.</td>\n",
       "      <td>bulls and bears.. Happy New Years!! May all of us little fish make some 💰 this upcoming year.</td>\n",
       "    </tr>\n",
       "    <tr>\n",
       "      <th>8</th>\n",
       "      <td>2020-01-01 06:12:03+00:00</td>\n",
       "      <td>AAPL</td>\n",
       "      <td>1.0</td>\n",
       "      <td>NaN</td>\n",
       "      <td>NaN</td>\n",
       "      <td>Bullish investment portfolio: Apple($AAPL), International Bancshares($IBOC),…  #correlations #stocks #stockratings</td>\n",
       "      <td>Bullish investment portfolio: Apple(), International Bancshares(),…</td>\n",
       "    </tr>\n",
       "    <tr>\n",
       "      <th>9</th>\n",
       "      <td>2020-01-01 06:48:59+00:00</td>\n",
       "      <td>AAPL</td>\n",
       "      <td>6.0</td>\n",
       "      <td>NaN</td>\n",
       "      <td>1.0</td>\n",
       "      <td>$AAPL $TSLA been to 6 dealerships in last few weeks. Non stop deliveries to the point they canceled my service rQ (tesla). Been to 4 Apple stores. Packed packed packed. Entire middle class upgrade cycle next 24months. $SPY $DJIA</td>\n",
       "      <td>been to 6 dealerships in last few weeks. Non stop deliveries to the point they canceled my service rQ (tesla). Been to 4 Apple stores. Packed packed packed. Entire middle class upgrade cycle next 24months.</td>\n",
       "    </tr>\n",
       "  </tbody>\n",
       "</table>\n",
       "</div>"
      ],
      "text/plain": [
       "             created_at_utc stock  count_like  count_reshare  sentiment_score  \\\n",
       "0 2020-01-01 05:06:58+00:00  AAPL         2.0            NaN              1.0   \n",
       "1 2020-01-01 05:08:28+00:00  AAPL         3.0            NaN              1.0   \n",
       "2 2020-01-01 05:14:51+00:00  AAPL        21.0            NaN              1.0   \n",
       "3 2020-01-01 05:19:59+00:00  AAPL         1.0            NaN              NaN   \n",
       "4 2020-01-01 05:37:42+00:00  AAPL         1.0            NaN              1.0   \n",
       "5 2020-01-01 05:41:36+00:00  AAPL         1.0            NaN              1.0   \n",
       "6 2020-01-01 06:00:25+00:00  AAPL         6.0            NaN              1.0   \n",
       "7 2020-01-01 06:04:36+00:00  AAPL        31.0            NaN              1.0   \n",
       "8 2020-01-01 06:12:03+00:00  AAPL         1.0            NaN              NaN   \n",
       "9 2020-01-01 06:48:59+00:00  AAPL         6.0            NaN              1.0   \n",
       "\n",
       "                                                                                                                                                                                                                                                                                                                                                                                                                                                                                                                                                                                                                                                                  body_prepared  \\\n",
       "0                                                                                                                                                                                                                                                                                                                                                                                                                                                                                                                                                                $AAPL good things happening 2020 run trump and everything’s gonna run up get it while you can follow the trend   \n",
       "1                                                                                                                                                                                                                                                                                                                                                                                                                                                                                                                                                                                         $AAPL Happy New Year amazing winning AAPL Bulls! You’re making life fun and exciting!   \n",
       "2                                                                                                                                                                                                                                                                                                                                                                                                                                                                                                                                                                                                                             Happy New Year  :) $AAPL $TSLA $AMZN  $SPY $BTC.X   \n",
       "3                                                                                                                                                                                                                                                                                                                                                                                                                                              @Taxes_R2_Damn_High  my dad ended this year by selling half his $aapl and $MSFT  Two decades in almost exactly.   I think no one is being careful.   These parabolic moves can be dangerous.   I know everyone is cheerful  now!   \n",
       "4  $AAPL And to those using the tired and old delapidated PE ratio argument, I'll just leave you with this, oh, ours?  Just 24.7 PE, at end of 2019 (with a massively more room to grow ).... Compare Apples' PE to other megacaps=, quote from article with a false negative title to begin with = \"Compared with the other megacap tech stocks, Apple's P/E ratio still ranks among the lowest. Amazon is finishing the year with a P/E of 81.8, Facebook's is 32.8, Microsoft's is 29.7, and Google-parent Alphabet's is 28.7.\"  !!!HAPPY NEW YEAR EVERYBODY!!!  After its strongest year in a decade, Apple stock is historically expensive on a price-to-earnings basis -    \n",
       "5                                                                                                                                                                                                                                                                                                                                                                                                                                                                          $AAPL **\"With massively more room to grow\" not \" with (a) massively room to grow\" silly stocktwits won't let me erase and repost with right grammar. Oh well..you get the picture. Happy New Year! 😎   \n",
       "6                                                                                                                                                                                                                                                                                                                                                                                                                                                                                                                                                                                                                                  $AAPL gonna rip on Thursday for the new year   \n",
       "7                                                                                                                                                                                                                                                                                                                                                                                                                                                                                                                                                          $AAPL $MSFT $AMZN $PTI bulls and bears.. Happy New Years!! May all of us little fish make some 💰 this upcoming year.   \n",
       "8                                                                                                                                                                                                                                                                                                                                                                                                                                                                                                                                                            Bullish investment portfolio: Apple($AAPL), International Bancshares($IBOC),…  #correlations #stocks #stockratings   \n",
       "9                                                                                                                                                                                                                                                                                                                                                                                                                                          $AAPL $TSLA been to 6 dealerships in last few weeks. Non stop deliveries to the point they canceled my service rQ (tesla). Been to 4 Apple stores. Packed packed packed. Entire middle class upgrade cycle next 24months. $SPY $DJIA   \n",
       "\n",
       "                                                                                                                                                                                                                                                                                                                                                                                                                                                                                                                                                                                                                                                            body_processed  \n",
       "0                                                                                                                                                                                                                                                                                                                                                                                                                                                                                                                                                                 good things happening 2020 run trump and everything’s gonna run up get it while you can follow the trend  \n",
       "1                                                                                                                                                                                                                                                                                                                                                                                                                                                                                                                                                                                          Happy New Year amazing winning AAPL Bulls! You’re making life fun and exciting!  \n",
       "2                                                                                                                                                                                                                                                                                                                                                                                                                                                                                                                                                                                                                                               Happy New Year  :)      .X  \n",
       "3                                                                                                                                                                                                                                                                                                                                                                                                                                                                        my dad ended this year by selling half his  and   Two decades in almost exactly.   I think no one is being careful.   These parabolic moves can be dangerous.   I know everyone is cheerful  now!  \n",
       "4   And to those using the tired and old delapidated PE ratio argument, I'll just leave you with this, oh, ours?  Just 24.7 PE, at end of 2019 (with a massively more room to grow ).... Compare Apples' PE to other megacaps=, quote from article with a false negative title to begin with = \"Compared with the other megacap tech stocks, Apple's P/E ratio still ranks among the lowest. Amazon is finishing the year with a P/E of 81.8, Facebook's is 32.8, Microsoft's is 29.7, and Google-parent Alphabet's is 28.7.\"  !!!HAPPY NEW YEAR EVERYBODY!!!  After its strongest year in a decade, Apple stock is historically expensive on a price-to-earnings basis -   \n",
       "5                                                                                                                                                                                                                                                                                                                                                                                                                                                                           **\"With massively more room to grow\" not \" with (a) massively room to grow\" silly stocktwits won't let me erase and repost with right grammar. Oh well..you get the picture. Happy New Year! 😎  \n",
       "6                                                                                                                                                                                                                                                                                                                                                                                                                                                                                                                                                                                                                                   gonna rip on Thursday for the new year  \n",
       "7                                                                                                                                                                                                                                                                                                                                                                                                                                                                                                                                                                            bulls and bears.. Happy New Years!! May all of us little fish make some 💰 this upcoming year.  \n",
       "8                                                                                                                                                                                                                                                                                                                                                                                                                                                                                                                                                                                                  Bullish investment portfolio: Apple(), International Bancshares(),…      \n",
       "9                                                                                                                                                                                                                                                                                                                                                                                                                                                          been to 6 dealerships in last few weeks. Non stop deliveries to the point they canceled my service rQ (tesla). Been to 4 Apple stores. Packed packed packed. Entire middle class upgrade cycle next 24months.    "
      ]
     },
     "execution_count": 309,
     "metadata": {},
     "output_type": "execute_result"
    }
   ],
   "source": [
    "df_twits_combined.head(10)"
   ]
  },
  {
   "cell_type": "markdown",
   "id": "3a7d3609-4bf6-4cd4-9004-53424c6cb7d4",
   "metadata": {
    "tags": []
   },
   "source": [
    "## Feature Engineering"
   ]
  },
  {
   "cell_type": "markdown",
   "id": "652af544-3b02-414b-8b9f-9a1371d0fe5f",
   "metadata": {
    "jp-MarkdownHeadingCollapsed": true,
    "tags": []
   },
   "source": [
    "### Generate Text Related Features"
   ]
  },
  {
   "cell_type": "code",
   "execution_count": 35,
   "id": "a865f7ae-3668-44c2-8552-09cb0ab192d5",
   "metadata": {},
   "outputs": [],
   "source": [
    "output_file = r'C:\\Users\\frank\\OneDrive\\Documents\\Learning\\NUS MTech EBCA\\3. Course Material\\EBA5004 PLP\\4. Practice Module Project\\data\\Processed\\StockTwits\\Combined\\stocktwits_combined.csv'\n",
    "df_twits_combined = pd.read_csv(output_file)\n",
    "df_twits_combined['created_at_utc'] = pd.to_datetime(df_twits_combined['created_at_utc'], utc=True)"
   ]
  },
  {
   "cell_type": "code",
   "execution_count": 39,
   "id": "9de69595-841f-4bba-9d58-5484e5f81b09",
   "metadata": {},
   "outputs": [],
   "source": [
    "import nltk\n",
    "class text_feature_engieering:\n",
    "    \n",
    "    @classmethod\n",
    "    def count_alpha(cls, string):\n",
    "        return sum(map(str.isalpha, string))\n",
    "    \n",
    "    @classmethod\n",
    "    def count_digit(cls, string):\n",
    "        return sum(map(str.isdigit, string))\n",
    "    \n",
    "    @classmethod\n",
    "    def count_emoji(cls, string): \n",
    "        # return len(nlp(string)._.emoji) spacy is slow so replace with emoji count functions\n",
    "        return emoji.emoji_count(string)\n",
    "        \n",
    "    @classmethod\n",
    "    def count_all_char(cls, string):\n",
    "        return len([c for c in string if c != ' ' ])\n",
    "    \n",
    "    @classmethod\n",
    "    def count_token(cls, string):\n",
    "        # return len([token.text for token in nlp(string) if token.text not in punc_list])\n",
    "        # string.split() is not fully correct as ☝🏿☝☝ will be count as single token, but it's significant faster than using spacy\n",
    "        return len(string.split())\n",
    "    \n",
    "    @classmethod\n",
    "    def count_sent(cls, string):\n",
    "        return len(nltk.sent_tokenize(string))\n",
    "        \n",
    "    @classmethod\n",
    "    def count_mention(cls, string):\n",
    "        return len(re.findall(r'(\\@)(\\S+)', string))\n",
    "        \n",
    "    @classmethod\n",
    "    def count_hashtag(cls, string):\n",
    "        return len(re.findall(r'(\\#)(\\S+)', string))\n",
    "        \n",
    "    @classmethod\n",
    "    def count_cashtag(cls, string):\n",
    "        return len(re.findall(r\"\\$[A-Za-z]+\", string))\n",
    "    \n",
    "    @classmethod\n",
    "    def transform(cls, df):\n",
    "        # below features are based on the original text\n",
    "        df['count_mention'] = df['body_prepared'].apply(lambda x: cls.count_mention(x))\n",
    "        df['count_hashtag'] = df['body_prepared'].apply(lambda x: cls.count_hashtag(x))\n",
    "        df['count_cashtag'] = df['body_prepared'].apply(lambda x: cls.count_cashtag(x))\n",
    "        df['count_emoji'] = df['body_prepared'].apply(lambda x: cls.count_emoji(x))\n",
    "        # below features are based on processed text\n",
    "        df['count_alpha'] = df['body_processed'].apply(lambda x: cls.count_alpha(x))\n",
    "        df['count_digit'] = df['body_processed'].apply(lambda x: cls.count_digit(x))\n",
    "        df['count_all_char'] = df['body_processed'].apply(lambda x: cls.count_all_char(x))\n",
    "        df['count_token'] = df['body_processed'].apply(lambda x: cls.count_token(x))\n",
    "        df['count_sent'] = df['body_processed'].apply(lambda x: cls.count_sent(x))\n",
    "        # finally, convert emoji to text\n",
    "        df['body_processed'] = df['body_processed'].apply(lambda x: text_processing.convert_emoji(x))\n",
    "        return df"
   ]
  },
  {
   "cell_type": "code",
   "execution_count": 312,
   "id": "a37f13e0-c965-497f-9fd9-d8d1897db0c0",
   "metadata": {},
   "outputs": [],
   "source": [
    "df_twits_combined_with_feature = text_feature_engieering.transform(df_twits_combined)"
   ]
  },
  {
   "cell_type": "code",
   "execution_count": 314,
   "id": "84172630-2510-4103-b301-cc181a900e0b",
   "metadata": {},
   "outputs": [],
   "source": [
    "df_twits_combined_with_feature.to_csv(r'C:\\Users\\frank\\OneDrive\\Documents\\Learning\\NUS MTech EBCA\\3. Course Material\\EBA5004 PLP\\4. Practice Module Project\\data\\Processed\\StockTwits\\Combined\\df_twits_combined_with_feature.csv', index=False)"
   ]
  },
  {
   "cell_type": "markdown",
   "id": "7e4f4770-48ce-4d86-8ff8-053b5d709120",
   "metadata": {
    "tags": []
   },
   "source": [
    "### Generate Time Related Features "
   ]
  },
  {
   "cell_type": "code",
   "execution_count": 4,
   "id": "c241918c-43ad-443b-b22a-d120aa3cfae8",
   "metadata": {},
   "outputs": [],
   "source": [
    "output_file = r'C:\\Users\\frank\\OneDrive\\Documents\\Learning\\NUS MTech EBCA\\3. Course Material\\EBA5004 PLP\\4. Practice Module Project\\data\\Processed\\StockTwits\\Combined\\df_twits_combined_with_feature.csv'\n",
    "df_twits_combined_with_feature = pd.read_csv(output_file)\n",
    "df_twits_combined_with_feature['created_at_utc'] = pd.to_datetime(df_twits_combined_with_feature['created_at_utc'], utc=True)"
   ]
  },
  {
   "cell_type": "code",
   "execution_count": 34,
   "id": "aa1ae363-37d2-4ce0-9c75-b9d87e21666a",
   "metadata": {},
   "outputs": [
    {
     "data": {
      "text/plain": [
       "(4165805, 25)"
      ]
     },
     "execution_count": 34,
     "metadata": {},
     "output_type": "execute_result"
    }
   ],
   "source": [
    "df_twits_combined_with_feature.shape"
   ]
  },
  {
   "cell_type": "code",
   "execution_count": 11,
   "id": "6d9faa2c-05c0-4e41-b8a3-6ebdd08406bf",
   "metadata": {},
   "outputs": [],
   "source": [
    "import time\n",
    "import pytz\n",
    "# define US eastern standard time with day time saving considered \n",
    "est = pytz.timezone('US/Eastern')\n",
    "\n",
    "class localized_time_features:\n",
    "    \n",
    "    @classmethod\n",
    "    def convet_local_time(cls, df):\n",
    "        # convert to us eastern local time, considering day time saving\n",
    "        df['created_at_local'] = df['created_at_utc'].apply(lambda x: x.astimezone(est))\n",
    "        return df\n",
    "       \n",
    "    @classmethod\n",
    "    def generate_local_time_features(cls, df):\n",
    "        df['created_month_local'] = df['created_at_local'].apply(lambda x: x.month)\n",
    "        df['created_day_local'] = df['created_at_local'].apply(lambda x: x.day)\n",
    "        # weekday starts from Monday as 1\n",
    "        df['created_weekday_local'] = df['created_at_local'].apply(lambda x: x.isoweekday())\n",
    "        df['created_hour_local'] = df['created_at_local'].apply(lambda x: x.time().hour)\n",
    "        return df\n",
    "    \n",
    "    @classmethod\n",
    "    def transform(cls, df):\n",
    "        df = cls.convet_local_time(df)\n",
    "        df = cls.generate_local_time_features(df)\n",
    "        return df"
   ]
  },
  {
   "cell_type": "code",
   "execution_count": 12,
   "id": "3f9d14ab-d883-4c10-9e07-b9cde93faae1",
   "metadata": {},
   "outputs": [],
   "source": [
    "df_twits_combined_with_feature_with_time = localized_time_features.transform(df_twits_combined_with_feature)"
   ]
  },
  {
   "cell_type": "code",
   "execution_count": 46,
   "id": "aa426d3b-140b-41a8-8a28-1755e9f4e5f0",
   "metadata": {},
   "outputs": [
    {
     "data": {
      "text/plain": [
       "(4165805, 25)"
      ]
     },
     "execution_count": 46,
     "metadata": {},
     "output_type": "execute_result"
    }
   ],
   "source": [
    "df_twits_combined_with_feature_with_time.shape"
   ]
  },
  {
   "cell_type": "code",
   "execution_count": 27,
   "id": "b4701910-5283-4942-b35e-4d3ca47aa304",
   "metadata": {},
   "outputs": [],
   "source": [
    "from datetime import timedelta\n",
    "\n",
    "class trading_time_features:\n",
    "    \n",
    "    @classmethod\n",
    "    def get_trading_day_list(cls, df_stock):\n",
    "        trading_day_list = list(df_stock['date'].apply(lambda x: x.date()).unique())\n",
    "        trading_day_list.sort()\n",
    "        return trading_day_list\n",
    "    \n",
    "    @classmethod\n",
    "    def check_within_trading_time(cls, date, time, trading_day_list):\n",
    "        # simplified with the trading time. Some days actually have a earlier closing time but not considered here\n",
    "        start_trading_time = datetime.strptime('09:30:00', '%H:%M:%S').time()\n",
    "        end_trading_time = datetime.strptime('16:00:00', '%H:%M:%S').time()\n",
    "        if (date in trading_day_list) and (start_trading_time <= time <= end_trading_time):\n",
    "            return True\n",
    "        else:\n",
    "            return False\n",
    "        \n",
    "    @classmethod\n",
    "    # this method is to check the date of the next trading close date. Same day if it's before 4pm on a trading day. After that, it will be the next trading day\n",
    "    def check_next_trading_close_date(cls, date, time, trading_day_list):\n",
    "        end_trading_time = datetime.strptime('16:00:00', '%H:%M:%S').time()\n",
    "        if time > end_trading_time:\n",
    "            date = date + timedelta(days=1)\n",
    "        next_close_date = next((d for d in trading_day_list if d >= date), np.nan)\n",
    "        next_close_datetime = datetime.combine(next_close_date, end_trading_time)\n",
    "        return next_close_datetime\n",
    "    \n",
    "    @classmethod\n",
    "    def transform(cls, df_twits, df_stock):\n",
    "        trading_day_list = cls.get_trading_day_list(df_stock)\n",
    "        df_twits['within_trading_time'] = df_twits['created_at_local'].apply(lambda x: cls.check_within_trading_time(x.date(), x.time(), trading_day_list))\n",
    "        df_twits['next_close_datetime'] = df_twits['created_at_local'].apply(lambda x: cls.check_next_trading_close_date(x.date(), x.time(), trading_day_list))\n",
    "        df_twits['hours_till_close'] = df_twits.apply(lambda x: (x['next_close_datetime'] - x['created_at_local'].replace(tzinfo=None)).total_seconds()//3600, axis=1)\n",
    "        df_twits['hours_till_close'] = df_twits['hours_till_close'].astype(int)\n",
    "        return df_twits"
   ]
  },
  {
   "cell_type": "code",
   "execution_count": 28,
   "id": "39dcd781-e88b-4b9a-8ea0-bc991827edb7",
   "metadata": {},
   "outputs": [],
   "source": [
    "df_twits_combined_with_feature_with_time = trading_time_features.transform(df_twits_combined_with_feature_with_time, df_stock_combined_labelled)"
   ]
  },
  {
   "cell_type": "code",
   "execution_count": 32,
   "id": "ed623a3a-e9eb-476f-8a65-43e57fe90f0a",
   "metadata": {},
   "outputs": [
    {
     "data": {
      "text/plain": [
       "(4165805, 25)"
      ]
     },
     "execution_count": 32,
     "metadata": {},
     "output_type": "execute_result"
    }
   ],
   "source": [
    "df_twits_combined_with_feature_with_time.shape"
   ]
  },
  {
   "cell_type": "code",
   "execution_count": 79,
   "id": "12505b41-8942-489e-8fdc-71019402b3c6",
   "metadata": {},
   "outputs": [],
   "source": [
    "df_twits_combined_with_feature_with_time.to_csv(r'C:\\Users\\frank\\OneDrive\\Documents\\Learning\\NUS MTech EBCA\\3. Course Material\\EBA5004 PLP\\4. Practice Module Project\\data\\Processed\\StockTwits\\Combined\\df_twits_combined_with_feature_with_time.csv', index=False)"
   ]
  },
  {
   "cell_type": "markdown",
   "id": "410a2871-f445-4c6d-b71b-1d629d26423d",
   "metadata": {
    "tags": []
   },
   "source": [
    "## Combine Target Variable"
   ]
  },
  {
   "cell_type": "code",
   "execution_count": 142,
   "id": "c5ebd988-2f81-4a06-9600-546715dc90ac",
   "metadata": {},
   "outputs": [],
   "source": [
    "# join with stock labels\n",
    "df_twits_combined_with_feature_with_time_with_stock = df_twits_combined_with_feature_with_time.merge(df_stock_combined_labelled, how='left', on=['stock', 'next_close_datetime'])"
   ]
  },
  {
   "cell_type": "code",
   "execution_count": 149,
   "id": "38f41412-72c9-4707-93d1-4ff17e16832c",
   "metadata": {},
   "outputs": [
    {
     "data": {
      "text/plain": [
       "Index(['created_at_utc', 'stock', 'count_like', 'count_reshare',\n",
       "       'sentiment_score', 'body_prepared', 'body_processed', 'count_mention',\n",
       "       'count_hashtag', 'count_cashtag', 'count_emoji', 'count_alpha',\n",
       "       'count_digit', 'count_all_char', 'count_token', 'count_sent',\n",
       "       'created_month_local', 'created_day_local', 'created_weekday_local',\n",
       "       'created_hour_local', 'within_trading_time', 'hours_till_close',\n",
       "       'trading_date', 'pre_day_volume', 'price_change_same_day',\n",
       "       'price_change_pre_day', 'created_date_local'],\n",
       "      dtype='object')"
      ]
     },
     "execution_count": 149,
     "metadata": {},
     "output_type": "execute_result"
    }
   ],
   "source": [
    "df_twits_combined_with_feature_with_time_with_stock.columns"
   ]
  },
  {
   "cell_type": "code",
   "execution_count": 144,
   "id": "97179ed2-365d-431d-9c35-3e94c07a61b6",
   "metadata": {},
   "outputs": [],
   "source": [
    "# add created_date_local, which is useful for grouping purposes\n",
    "df_twits_combined_with_feature_with_time_with_stock['created_date_local'] = df_twits_combined_with_feature_with_time_with_stock['created_at_local'].apply(lambda x: x.date())"
   ]
  },
  {
   "cell_type": "code",
   "execution_count": 145,
   "id": "50f03b6e-68c2-4592-802f-37ba03ef6481",
   "metadata": {},
   "outputs": [],
   "source": [
    "# drop features that will not be used for prediction later \n",
    "df_twits_combined_with_feature_with_time_with_stock.drop(columns=['created_at_local', 'next_close_datetime', 'minutes_till_close', 'open', 'adj close'], inplace=True)"
   ]
  },
  {
   "cell_type": "code",
   "execution_count": 146,
   "id": "8e9ff644-7324-42ca-8127-6fbf4fbb20c5",
   "metadata": {},
   "outputs": [],
   "source": [
    "df_twits_combined_with_feature_with_time_with_stock = df_twits_combined_with_feature_with_time_with_stock.convert_dtypes()"
   ]
  },
  {
   "cell_type": "code",
   "execution_count": 147,
   "id": "f8c1dcc0-6154-417d-aea0-852268825755",
   "metadata": {},
   "outputs": [],
   "source": [
    "df_twits_combined_with_feature_with_time_with_stock.to_csv(r'C:\\Users\\frank\\OneDrive\\Documents\\Learning\\NUS MTech EBCA\\3. Course Material\\EBA5004 PLP\\4. Practice Module Project\\data\\Processed\\StockTwits\\Combined\\df_twits_combined_with_feature_with_time_with_stock.csv', index=False)"
   ]
  },
  {
   "cell_type": "code",
   "execution_count": 153,
   "id": "b9aa9d2f-9377-472a-a61b-a97089f33cca",
   "metadata": {},
   "outputs": [
    {
     "name": "stdout",
     "output_type": "stream",
     "text": [
      "<class 'pandas.core.frame.DataFrame'>\n",
      "Int64Index: 4165805 entries, 0 to 4165804\n",
      "Data columns (total 27 columns):\n",
      " #   Column                 Dtype              \n",
      "---  ------                 -----              \n",
      " 0   created_at_utc         datetime64[ns, UTC]\n",
      " 1   stock                  string             \n",
      " 2   count_like             Int64              \n",
      " 3   count_reshare          Int64              \n",
      " 4   sentiment_score        Int64              \n",
      " 5   body_prepared          string             \n",
      " 6   body_processed         string             \n",
      " 7   count_mention          Int64              \n",
      " 8   count_hashtag          Int64              \n",
      " 9   count_cashtag          Int64              \n",
      " 10  count_emoji            Int64              \n",
      " 11  count_alpha            Int64              \n",
      " 12  count_digit            Int64              \n",
      " 13  count_all_char         Int64              \n",
      " 14  count_token            Int64              \n",
      " 15  count_sent             Int64              \n",
      " 16  created_month_local    Int64              \n",
      " 17  created_day_local      Int64              \n",
      " 18  created_weekday_local  Int64              \n",
      " 19  created_hour_local     Int64              \n",
      " 20  within_trading_time    boolean            \n",
      " 21  hours_till_close       Int32              \n",
      " 22  trading_date           datetime64[ns]     \n",
      " 23  pre_day_volume         Int64              \n",
      " 24  price_change_same_day  Int32              \n",
      " 25  price_change_pre_day   Int64              \n",
      " 26  created_date_local     object             \n",
      "dtypes: Int32(2), Int64(18), boolean(1), datetime64[ns, UTC](1), datetime64[ns](1), object(1), string(3)\n",
      "memory usage: 913.7+ MB\n"
     ]
    }
   ],
   "source": [
    "df_twits_combined_with_feature_with_time_with_stock.info()"
   ]
  },
  {
   "cell_type": "markdown",
   "id": "8510ac9f-9be5-4c4f-99aa-4ac98f5ebba9",
   "metadata": {},
   "source": [
    "####  reprocess text as the entity was all removed, resulting some text rows with NA value."
   ]
  },
  {
   "cell_type": "code",
   "execution_count": 318,
   "id": "b311f8fa-0835-4fa1-bbbf-01c7790d1709",
   "metadata": {},
   "outputs": [],
   "source": [
    "df_twits_combined_with_feature_with_time_with_stock = pd.read_csv(r'C:\\Users\\frank\\OneDrive\\Documents\\Learning\\NUS MTech EBCA\\3. Course Material\\EBA5004 PLP\\4. Practice Module Project\\data\\Processed\\StockTwits\\Combined\\df_twits_combined_with_feature_with_time_with_stock.csv')"
   ]
  },
  {
   "cell_type": "code",
   "execution_count": 192,
   "id": "41243812-765d-4c9c-be92-46f0252fe535",
   "metadata": {},
   "outputs": [
    {
     "data": {
      "text/html": [
       "<div>\n",
       "<style scoped>\n",
       "    .dataframe tbody tr th:only-of-type {\n",
       "        vertical-align: middle;\n",
       "    }\n",
       "\n",
       "    .dataframe tbody tr th {\n",
       "        vertical-align: top;\n",
       "    }\n",
       "\n",
       "    .dataframe thead th {\n",
       "        text-align: right;\n",
       "    }\n",
       "</style>\n",
       "<table border=\"1\" class=\"dataframe\">\n",
       "  <thead>\n",
       "    <tr style=\"text-align: right;\">\n",
       "      <th></th>\n",
       "      <th>created_at_utc</th>\n",
       "      <th>stock</th>\n",
       "      <th>count_like</th>\n",
       "      <th>count_reshare</th>\n",
       "      <th>sentiment_score</th>\n",
       "      <th>body_prepared</th>\n",
       "      <th>body_processed</th>\n",
       "      <th>count_mention</th>\n",
       "      <th>count_hashtag</th>\n",
       "      <th>count_cashtag</th>\n",
       "      <th>count_emoji</th>\n",
       "      <th>count_alpha</th>\n",
       "      <th>count_digit</th>\n",
       "      <th>count_all_char</th>\n",
       "      <th>count_token</th>\n",
       "      <th>count_sent</th>\n",
       "      <th>created_month_local</th>\n",
       "      <th>created_day_local</th>\n",
       "      <th>created_weekday_local</th>\n",
       "      <th>created_hour_local</th>\n",
       "      <th>within_trading_time</th>\n",
       "      <th>hours_till_close</th>\n",
       "      <th>trading_date</th>\n",
       "      <th>pre_day_volume</th>\n",
       "      <th>price_change_same_day</th>\n",
       "      <th>price_change_pre_day</th>\n",
       "      <th>created_date_local</th>\n",
       "    </tr>\n",
       "  </thead>\n",
       "  <tbody>\n",
       "    <tr>\n",
       "      <th>33</th>\n",
       "      <td>2020-01-01 13:53:41+00:00</td>\n",
       "      <td>AAPL</td>\n",
       "      <td>&lt;NA&gt;</td>\n",
       "      <td>&lt;NA&gt;</td>\n",
       "      <td>&lt;NA&gt;</td>\n",
       "      <td>$AAPL</td>\n",
       "      <td>&lt;NA&gt;</td>\n",
       "      <td>0</td>\n",
       "      <td>0</td>\n",
       "      <td>1</td>\n",
       "      <td>0</td>\n",
       "      <td>0</td>\n",
       "      <td>0</td>\n",
       "      <td>0</td>\n",
       "      <td>0</td>\n",
       "      <td>0</td>\n",
       "      <td>1</td>\n",
       "      <td>1</td>\n",
       "      <td>3</td>\n",
       "      <td>8</td>\n",
       "      <td>False</td>\n",
       "      <td>31</td>\n",
       "      <td>2020-01-02</td>\n",
       "      <td>100805600</td>\n",
       "      <td>0</td>\n",
       "      <td>1</td>\n",
       "      <td>2020-01-01</td>\n",
       "    </tr>\n",
       "    <tr>\n",
       "      <th>49</th>\n",
       "      <td>2020-01-01 14:54:35+00:00</td>\n",
       "      <td>AAPL</td>\n",
       "      <td>2</td>\n",
       "      <td>&lt;NA&gt;</td>\n",
       "      <td>&lt;NA&gt;</td>\n",
       "      <td>$AAPL</td>\n",
       "      <td>&lt;NA&gt;</td>\n",
       "      <td>0</td>\n",
       "      <td>0</td>\n",
       "      <td>1</td>\n",
       "      <td>0</td>\n",
       "      <td>0</td>\n",
       "      <td>0</td>\n",
       "      <td>0</td>\n",
       "      <td>0</td>\n",
       "      <td>0</td>\n",
       "      <td>1</td>\n",
       "      <td>1</td>\n",
       "      <td>3</td>\n",
       "      <td>9</td>\n",
       "      <td>False</td>\n",
       "      <td>30</td>\n",
       "      <td>2020-01-02</td>\n",
       "      <td>100805600</td>\n",
       "      <td>0</td>\n",
       "      <td>1</td>\n",
       "      <td>2020-01-01</td>\n",
       "    </tr>\n",
       "    <tr>\n",
       "      <th>137</th>\n",
       "      <td>2020-01-01 21:41:58+00:00</td>\n",
       "      <td>AAPL</td>\n",
       "      <td>1</td>\n",
       "      <td>&lt;NA&gt;</td>\n",
       "      <td>&lt;NA&gt;</td>\n",
       "      <td>$AAPL</td>\n",
       "      <td>&lt;NA&gt;</td>\n",
       "      <td>0</td>\n",
       "      <td>0</td>\n",
       "      <td>1</td>\n",
       "      <td>0</td>\n",
       "      <td>0</td>\n",
       "      <td>0</td>\n",
       "      <td>0</td>\n",
       "      <td>0</td>\n",
       "      <td>0</td>\n",
       "      <td>1</td>\n",
       "      <td>1</td>\n",
       "      <td>3</td>\n",
       "      <td>16</td>\n",
       "      <td>False</td>\n",
       "      <td>23</td>\n",
       "      <td>2020-01-02</td>\n",
       "      <td>100805600</td>\n",
       "      <td>0</td>\n",
       "      <td>1</td>\n",
       "      <td>2020-01-01</td>\n",
       "    </tr>\n",
       "    <tr>\n",
       "      <th>231</th>\n",
       "      <td>2020-01-02 03:09:26+00:00</td>\n",
       "      <td>AAPL</td>\n",
       "      <td>2</td>\n",
       "      <td>&lt;NA&gt;</td>\n",
       "      <td>&lt;NA&gt;</td>\n",
       "      <td>$AAPL</td>\n",
       "      <td>&lt;NA&gt;</td>\n",
       "      <td>0</td>\n",
       "      <td>0</td>\n",
       "      <td>1</td>\n",
       "      <td>0</td>\n",
       "      <td>0</td>\n",
       "      <td>0</td>\n",
       "      <td>0</td>\n",
       "      <td>0</td>\n",
       "      <td>0</td>\n",
       "      <td>1</td>\n",
       "      <td>1</td>\n",
       "      <td>3</td>\n",
       "      <td>22</td>\n",
       "      <td>False</td>\n",
       "      <td>17</td>\n",
       "      <td>2020-01-02</td>\n",
       "      <td>100805600</td>\n",
       "      <td>0</td>\n",
       "      <td>1</td>\n",
       "      <td>2020-01-01</td>\n",
       "    </tr>\n",
       "    <tr>\n",
       "      <th>371</th>\n",
       "      <td>2020-01-02 13:15:32+00:00</td>\n",
       "      <td>AAPL</td>\n",
       "      <td>&lt;NA&gt;</td>\n",
       "      <td>&lt;NA&gt;</td>\n",
       "      <td>&lt;NA&gt;</td>\n",
       "      <td>$AAPL</td>\n",
       "      <td>&lt;NA&gt;</td>\n",
       "      <td>0</td>\n",
       "      <td>0</td>\n",
       "      <td>1</td>\n",
       "      <td>0</td>\n",
       "      <td>0</td>\n",
       "      <td>0</td>\n",
       "      <td>0</td>\n",
       "      <td>0</td>\n",
       "      <td>0</td>\n",
       "      <td>1</td>\n",
       "      <td>2</td>\n",
       "      <td>4</td>\n",
       "      <td>8</td>\n",
       "      <td>False</td>\n",
       "      <td>7</td>\n",
       "      <td>2020-01-02</td>\n",
       "      <td>100805600</td>\n",
       "      <td>0</td>\n",
       "      <td>1</td>\n",
       "      <td>2020-01-02</td>\n",
       "    </tr>\n",
       "  </tbody>\n",
       "</table>\n",
       "</div>"
      ],
      "text/plain": [
       "               created_at_utc stock  count_like  count_reshare  \\\n",
       "33  2020-01-01 13:53:41+00:00  AAPL        <NA>           <NA>   \n",
       "49  2020-01-01 14:54:35+00:00  AAPL           2           <NA>   \n",
       "137 2020-01-01 21:41:58+00:00  AAPL           1           <NA>   \n",
       "231 2020-01-02 03:09:26+00:00  AAPL           2           <NA>   \n",
       "371 2020-01-02 13:15:32+00:00  AAPL        <NA>           <NA>   \n",
       "\n",
       "     sentiment_score body_prepared body_processed  count_mention  \\\n",
       "33              <NA>         $AAPL           <NA>              0   \n",
       "49              <NA>         $AAPL           <NA>              0   \n",
       "137             <NA>         $AAPL           <NA>              0   \n",
       "231             <NA>         $AAPL           <NA>              0   \n",
       "371             <NA>         $AAPL           <NA>              0   \n",
       "\n",
       "     count_hashtag  count_cashtag  count_emoji  count_alpha  count_digit  \\\n",
       "33               0              1            0            0            0   \n",
       "49               0              1            0            0            0   \n",
       "137              0              1            0            0            0   \n",
       "231              0              1            0            0            0   \n",
       "371              0              1            0            0            0   \n",
       "\n",
       "     count_all_char  count_token  count_sent  created_month_local  \\\n",
       "33                0            0           0                    1   \n",
       "49                0            0           0                    1   \n",
       "137               0            0           0                    1   \n",
       "231               0            0           0                    1   \n",
       "371               0            0           0                    1   \n",
       "\n",
       "     created_day_local  created_weekday_local  created_hour_local  \\\n",
       "33                   1                      3                   8   \n",
       "49                   1                      3                   9   \n",
       "137                  1                      3                  16   \n",
       "231                  1                      3                  22   \n",
       "371                  2                      4                   8   \n",
       "\n",
       "     within_trading_time  hours_till_close trading_date  pre_day_volume  \\\n",
       "33                 False                31   2020-01-02       100805600   \n",
       "49                 False                30   2020-01-02       100805600   \n",
       "137                False                23   2020-01-02       100805600   \n",
       "231                False                17   2020-01-02       100805600   \n",
       "371                False                 7   2020-01-02       100805600   \n",
       "\n",
       "     price_change_same_day  price_change_pre_day created_date_local  \n",
       "33                       0                     1         2020-01-01  \n",
       "49                       0                     1         2020-01-01  \n",
       "137                      0                     1         2020-01-01  \n",
       "231                      0                     1         2020-01-01  \n",
       "371                      0                     1         2020-01-02  "
      ]
     },
     "execution_count": 192,
     "metadata": {},
     "output_type": "execute_result"
    }
   ],
   "source": [
    "df_twits_combined_with_feature_with_time_with_stock[df_twits_combined_with_feature_with_time_with_stock['body_processed'].isna()].head(5)"
   ]
  },
  {
   "cell_type": "code",
   "execution_count": 181,
   "id": "697e9745-cb86-443e-9170-b78a578abf38",
   "metadata": {},
   "outputs": [],
   "source": [
    "# backup procedure to read the output file in case that the following process stops\n",
    "df_twits_combined_reprocess = pd.read_csv(r'C:\\Users\\frank\\OneDrive\\Documents\\Learning\\NUS MTech EBCA\\3. Course Material\\EBA5004 PLP\\4. Practice Module Project\\data\\Processed\\StockTwits\\Combined\\df_twits_combined_with_feature.csv', usecols=['body_prepared'])"
   ]
  },
  {
   "cell_type": "code",
   "execution_count": 183,
   "id": "20d65d77-810f-4a14-b901-7bdb381612b9",
   "metadata": {},
   "outputs": [],
   "source": [
    "df_twits_combined_reprocess = text_processing.transform(df_twits_combined_reprocess)\n",
    "df_twits_combined_reprocess['body_processed'] = df_twits_combined_reprocess['body_processed'].apply(lambda x: text_processing.convert_emoji(x))"
   ]
  },
  {
   "cell_type": "code",
   "execution_count": 316,
   "id": "bbb3e769-2466-4387-adbe-8ecd52958006",
   "metadata": {},
   "outputs": [],
   "source": [
    "df_twits_combined_reprocess.drop(columns='body_prepared', inplace=True)"
   ]
  },
  {
   "cell_type": "code",
   "execution_count": 317,
   "id": "60883c71-d807-4330-9c6a-5f718ad4e3c1",
   "metadata": {},
   "outputs": [
    {
     "data": {
      "text/html": [
       "<div>\n",
       "<style scoped>\n",
       "    .dataframe tbody tr th:only-of-type {\n",
       "        vertical-align: middle;\n",
       "    }\n",
       "\n",
       "    .dataframe tbody tr th {\n",
       "        vertical-align: top;\n",
       "    }\n",
       "\n",
       "    .dataframe thead th {\n",
       "        text-align: right;\n",
       "    }\n",
       "</style>\n",
       "<table border=\"1\" class=\"dataframe\">\n",
       "  <thead>\n",
       "    <tr style=\"text-align: right;\">\n",
       "      <th></th>\n",
       "      <th>body_processed</th>\n",
       "    </tr>\n",
       "  </thead>\n",
       "  <tbody>\n",
       "    <tr>\n",
       "      <th>0</th>\n",
       "      <td>cashtag_AAPL good things happening 2020 run trump and everything’s gonna run up get it while you can follow the trend</td>\n",
       "    </tr>\n",
       "    <tr>\n",
       "      <th>1</th>\n",
       "      <td>cashtag_AAPL Happy New Year amazing winning AAPL Bulls! You’re making life fun and exciting!</td>\n",
       "    </tr>\n",
       "    <tr>\n",
       "      <th>2</th>\n",
       "      <td>Happy New Year  :) cashtag_AAPL cashtag_TSLA cashtag_AMZN  cashtag_SPY cashtag_BTC.X</td>\n",
       "    </tr>\n",
       "    <tr>\n",
       "      <th>3</th>\n",
       "      <td>mention_Taxes_R2_Damn_High  my dad ended this year by selling half his cashtag_aapl and cashtag_MSFT  Two decades in almost exactly.   I think no one is being careful.   These parabolic moves can be dangerous.   I know everyone is cheerful  now!</td>\n",
       "    </tr>\n",
       "    <tr>\n",
       "      <th>4</th>\n",
       "      <td>cashtag_AAPL And to those using the tired and old delapidated PE ratio argument, I'll just leave you with this, oh, ours?  Just 24.7 PE, at end of 2019 (with a massively more room to grow ).... Compare Apples' PE to other megacaps=, quote from article with a false negative title to begin with = \"Compared with the other megacap tech stocks, Apple's P/E ratio still ranks among the lowest. Amazon is finishing the year with a P/E of 81.8, Facebook's is 32.8, Microsoft's is 29.7, and Google-parent Alphabet's is 28.7.\"  !!!HAPPY NEW YEAR EVERYBODY!!!  After its strongest year in a decade, Apple stock is historically expensive on a price-to-earnings basis -</td>\n",
       "    </tr>\n",
       "  </tbody>\n",
       "</table>\n",
       "</div>"
      ],
      "text/plain": [
       "                                                                                                                                                                                                                                                                                                                                                                                                                                                                                                                                                                                                                                                                        body_processed\n",
       "0                                                                                                                                                                                                                                                                                                                                                                                                                                                                                                                                                                cashtag_AAPL good things happening 2020 run trump and everything’s gonna run up get it while you can follow the trend\n",
       "1                                                                                                                                                                                                                                                                                                                                                                                                                                                                                                                                                                                         cashtag_AAPL Happy New Year amazing winning AAPL Bulls! You’re making life fun and exciting!\n",
       "2                                                                                                                                                                                                                                                                                                                                                                                                                                                                                                                                                                                                 Happy New Year  :) cashtag_AAPL cashtag_TSLA cashtag_AMZN  cashtag_SPY cashtag_BTC.X\n",
       "3                                                                                                                                                                                                                                                                                                                                                                                                                                mention_Taxes_R2_Damn_High  my dad ended this year by selling half his cashtag_aapl and cashtag_MSFT  Two decades in almost exactly.   I think no one is being careful.   These parabolic moves can be dangerous.   I know everyone is cheerful  now!\n",
       "4  cashtag_AAPL And to those using the tired and old delapidated PE ratio argument, I'll just leave you with this, oh, ours?  Just 24.7 PE, at end of 2019 (with a massively more room to grow ).... Compare Apples' PE to other megacaps=, quote from article with a false negative title to begin with = \"Compared with the other megacap tech stocks, Apple's P/E ratio still ranks among the lowest. Amazon is finishing the year with a P/E of 81.8, Facebook's is 32.8, Microsoft's is 29.7, and Google-parent Alphabet's is 28.7.\"  !!!HAPPY NEW YEAR EVERYBODY!!!  After its strongest year in a decade, Apple stock is historically expensive on a price-to-earnings basis - "
      ]
     },
     "execution_count": 317,
     "metadata": {},
     "output_type": "execute_result"
    }
   ],
   "source": [
    "df_twits_combined_reprocess.head(5)"
   ]
  },
  {
   "cell_type": "markdown",
   "id": "2fd0fdb1-a642-457d-b53c-e9d70e7b5c3d",
   "metadata": {},
   "source": [
    "#### replace the column with new processed text"
   ]
  },
  {
   "cell_type": "code",
   "execution_count": 319,
   "id": "e469911a-98f5-4fdb-bab7-fa46668e0c44",
   "metadata": {},
   "outputs": [],
   "source": [
    "df_twits_combined_with_feature_with_time_with_stock['body_processed'] = df_twits_combined_reprocess['body_processed']"
   ]
  },
  {
   "cell_type": "markdown",
   "id": "dcc32c80-1dac-4e08-8837-ffc815fa83aa",
   "metadata": {},
   "source": [
    "#### replace NA values"
   ]
  },
  {
   "cell_type": "code",
   "execution_count": 320,
   "id": "33dd035d-6748-4263-9e5e-da1e50c12bfd",
   "metadata": {},
   "outputs": [],
   "source": [
    "df_twits_combined_with_feature_with_time_with_stock['count_like'] = df_twits_combined_with_feature_with_time_with_stock['count_like'].fillna(0)\n",
    "df_twits_combined_with_feature_with_time_with_stock['count_reshare'] = df_twits_combined_with_feature_with_time_with_stock['count_reshare'].fillna(0)"
   ]
  },
  {
   "cell_type": "code",
   "execution_count": 321,
   "id": "4da5a0a3-e510-4677-8787-dd327d88f38a",
   "metadata": {},
   "outputs": [],
   "source": [
    "df_twits_combined_with_feature_with_time_with_stock = df_twits_combined_with_feature_with_time_with_stock.convert_dtypes()"
   ]
  },
  {
   "cell_type": "code",
   "execution_count": 322,
   "id": "2f4ff55f-767c-42cb-af8f-38eafb4e97a8",
   "metadata": {},
   "outputs": [
    {
     "name": "stdout",
     "output_type": "stream",
     "text": [
      "<class 'pandas.core.frame.DataFrame'>\n",
      "RangeIndex: 4165805 entries, 0 to 4165804\n",
      "Data columns (total 27 columns):\n",
      " #   Column                 Dtype  \n",
      "---  ------                 -----  \n",
      " 0   created_at_utc         string \n",
      " 1   stock                  string \n",
      " 2   count_like             Int64  \n",
      " 3   count_reshare          Int64  \n",
      " 4   sentiment_score        Int64  \n",
      " 5   body_prepared          string \n",
      " 6   body_processed         string \n",
      " 7   count_mention          Int64  \n",
      " 8   count_hashtag          Int64  \n",
      " 9   count_cashtag          Int64  \n",
      " 10  count_emoji            Int64  \n",
      " 11  count_alpha            Int64  \n",
      " 12  count_digit            Int64  \n",
      " 13  count_all_char         Int64  \n",
      " 14  count_token            Int64  \n",
      " 15  count_sent             Int64  \n",
      " 16  created_month_local    Int64  \n",
      " 17  created_day_local      Int64  \n",
      " 18  created_weekday_local  Int64  \n",
      " 19  created_hour_local     Int64  \n",
      " 20  within_trading_time    boolean\n",
      " 21  hours_till_close       Int64  \n",
      " 22  trading_date           string \n",
      " 23  pre_day_volume         Int64  \n",
      " 24  price_change_same_day  Int64  \n",
      " 25  price_change_pre_day   Int64  \n",
      " 26  created_date_local     string \n",
      "dtypes: Int64(20), boolean(1), string(6)\n",
      "memory usage: 913.7 MB\n"
     ]
    }
   ],
   "source": [
    "df_twits_combined_with_feature_with_time_with_stock.info()"
   ]
  },
  {
   "cell_type": "code",
   "execution_count": 323,
   "id": "28a59ea9-cb7e-4d90-8776-10ae29cfeff9",
   "metadata": {},
   "outputs": [],
   "source": [
    "df_twits_combined_with_feature_with_time_with_stock['trading_date'] = pd.to_datetime(df_twits_combined_with_feature_with_time_with_stock['trading_date'])"
   ]
  },
  {
   "cell_type": "code",
   "execution_count": 325,
   "id": "0927db28-f48d-40b3-83e5-876fc2dab43d",
   "metadata": {},
   "outputs": [
    {
     "data": {
      "text/html": [
       "<div>\n",
       "<style scoped>\n",
       "    .dataframe tbody tr th:only-of-type {\n",
       "        vertical-align: middle;\n",
       "    }\n",
       "\n",
       "    .dataframe tbody tr th {\n",
       "        vertical-align: top;\n",
       "    }\n",
       "\n",
       "    .dataframe thead th {\n",
       "        text-align: right;\n",
       "    }\n",
       "</style>\n",
       "<table border=\"1\" class=\"dataframe\">\n",
       "  <thead>\n",
       "    <tr style=\"text-align: right;\">\n",
       "      <th></th>\n",
       "      <th>created_at_utc</th>\n",
       "      <th>stock</th>\n",
       "      <th>count_like</th>\n",
       "      <th>count_reshare</th>\n",
       "      <th>sentiment_score</th>\n",
       "      <th>body_prepared</th>\n",
       "      <th>body_processed</th>\n",
       "      <th>count_mention</th>\n",
       "      <th>count_hashtag</th>\n",
       "      <th>count_cashtag</th>\n",
       "      <th>count_emoji</th>\n",
       "      <th>count_alpha</th>\n",
       "      <th>count_digit</th>\n",
       "      <th>count_all_char</th>\n",
       "      <th>count_token</th>\n",
       "      <th>count_sent</th>\n",
       "      <th>created_month_local</th>\n",
       "      <th>created_day_local</th>\n",
       "      <th>created_weekday_local</th>\n",
       "      <th>created_hour_local</th>\n",
       "      <th>within_trading_time</th>\n",
       "      <th>hours_till_close</th>\n",
       "      <th>trading_date</th>\n",
       "      <th>pre_day_volume</th>\n",
       "      <th>price_change_same_day</th>\n",
       "      <th>price_change_pre_day</th>\n",
       "      <th>created_date_local</th>\n",
       "    </tr>\n",
       "  </thead>\n",
       "  <tbody>\n",
       "    <tr>\n",
       "      <th>0</th>\n",
       "      <td>2020-01-01 05:06:58+00:00</td>\n",
       "      <td>AAPL</td>\n",
       "      <td>2</td>\n",
       "      <td>0</td>\n",
       "      <td>1</td>\n",
       "      <td>$AAPL good things happening 2020 run trump and everything’s gonna run up get it while you can follow the trend</td>\n",
       "      <td>cashtag_AAPL good things happening 2020 run trump and everything’s gonna run up get it while you can follow the trend</td>\n",
       "      <td>0</td>\n",
       "      <td>0</td>\n",
       "      <td>1</td>\n",
       "      <td>0</td>\n",
       "      <td>81</td>\n",
       "      <td>4</td>\n",
       "      <td>86</td>\n",
       "      <td>19</td>\n",
       "      <td>1</td>\n",
       "      <td>1</td>\n",
       "      <td>1</td>\n",
       "      <td>3</td>\n",
       "      <td>0</td>\n",
       "      <td>False</td>\n",
       "      <td>39</td>\n",
       "      <td>2020-01-02</td>\n",
       "      <td>100805600</td>\n",
       "      <td>0</td>\n",
       "      <td>1</td>\n",
       "      <td>2020-01-01</td>\n",
       "    </tr>\n",
       "    <tr>\n",
       "      <th>1</th>\n",
       "      <td>2020-01-01 05:08:28+00:00</td>\n",
       "      <td>AAPL</td>\n",
       "      <td>3</td>\n",
       "      <td>0</td>\n",
       "      <td>1</td>\n",
       "      <td>$AAPL Happy New Year amazing winning AAPL Bulls! You’re making life fun and exciting!</td>\n",
       "      <td>cashtag_AAPL Happy New Year amazing winning AAPL Bulls! You’re making life fun and exciting!</td>\n",
       "      <td>0</td>\n",
       "      <td>0</td>\n",
       "      <td>1</td>\n",
       "      <td>0</td>\n",
       "      <td>64</td>\n",
       "      <td>0</td>\n",
       "      <td>67</td>\n",
       "      <td>13</td>\n",
       "      <td>2</td>\n",
       "      <td>1</td>\n",
       "      <td>1</td>\n",
       "      <td>3</td>\n",
       "      <td>0</td>\n",
       "      <td>False</td>\n",
       "      <td>39</td>\n",
       "      <td>2020-01-02</td>\n",
       "      <td>100805600</td>\n",
       "      <td>0</td>\n",
       "      <td>1</td>\n",
       "      <td>2020-01-01</td>\n",
       "    </tr>\n",
       "  </tbody>\n",
       "</table>\n",
       "</div>"
      ],
      "text/plain": [
       "              created_at_utc stock  count_like  count_reshare  \\\n",
       "0  2020-01-01 05:06:58+00:00  AAPL           2              0   \n",
       "1  2020-01-01 05:08:28+00:00  AAPL           3              0   \n",
       "\n",
       "   sentiment_score  \\\n",
       "0                1   \n",
       "1                1   \n",
       "\n",
       "                                                                                                    body_prepared  \\\n",
       "0  $AAPL good things happening 2020 run trump and everything’s gonna run up get it while you can follow the trend   \n",
       "1                           $AAPL Happy New Year amazing winning AAPL Bulls! You’re making life fun and exciting!   \n",
       "\n",
       "                                                                                                          body_processed  \\\n",
       "0  cashtag_AAPL good things happening 2020 run trump and everything’s gonna run up get it while you can follow the trend   \n",
       "1                           cashtag_AAPL Happy New Year amazing winning AAPL Bulls! You’re making life fun and exciting!   \n",
       "\n",
       "   count_mention  count_hashtag  count_cashtag  count_emoji  count_alpha  \\\n",
       "0              0              0              1            0           81   \n",
       "1              0              0              1            0           64   \n",
       "\n",
       "   count_digit  count_all_char  count_token  count_sent  created_month_local  \\\n",
       "0            4              86           19           1                    1   \n",
       "1            0              67           13           2                    1   \n",
       "\n",
       "   created_day_local  created_weekday_local  created_hour_local  \\\n",
       "0                  1                      3                   0   \n",
       "1                  1                      3                   0   \n",
       "\n",
       "   within_trading_time  hours_till_close trading_date  pre_day_volume  \\\n",
       "0                False                39   2020-01-02       100805600   \n",
       "1                False                39   2020-01-02       100805600   \n",
       "\n",
       "   price_change_same_day  price_change_pre_day created_date_local  \n",
       "0                      0                     1         2020-01-01  \n",
       "1                      0                     1         2020-01-01  "
      ]
     },
     "execution_count": 325,
     "metadata": {},
     "output_type": "execute_result"
    }
   ],
   "source": [
    "df_twits_combined_with_feature_with_time_with_stock.head(2)"
   ]
  },
  {
   "cell_type": "markdown",
   "id": "60fa5890-aabc-45d3-a504-fbfe586b819d",
   "metadata": {},
   "source": [
    "#### convert pre_day_volume to z-score"
   ]
  },
  {
   "cell_type": "code",
   "execution_count": 326,
   "id": "a757b726-f184-452a-8018-a0f259c7ba91",
   "metadata": {},
   "outputs": [],
   "source": [
    "df_twits_combined_with_feature_with_time_with_stock_new = df_twits_combined_with_feature_with_time_with_stock.merge(df_stock_combined_labelled[['stock', 'trading_date', 'pre_day_volume_zscore']], on=['stock', 'trading_date'], how='left').drop(columns='pre_day_volume')"
   ]
  },
  {
   "cell_type": "code",
   "execution_count": 327,
   "id": "3f72f2d9-3858-4913-a8a9-e79643b23b87",
   "metadata": {},
   "outputs": [
    {
     "data": {
      "text/plain": [
       "(4165805, 27)"
      ]
     },
     "execution_count": 327,
     "metadata": {},
     "output_type": "execute_result"
    }
   ],
   "source": [
    "df_twits_combined_with_feature_with_time_with_stock_new.shape"
   ]
  },
  {
   "cell_type": "markdown",
   "id": "a7eda88b-83c3-4ac3-8b9b-e27c97c8a2f5",
   "metadata": {},
   "source": [
    "#### Save file"
   ]
  },
  {
   "cell_type": "code",
   "execution_count": 329,
   "id": "f6103653-31f4-4343-9955-647ed893bf56",
   "metadata": {},
   "outputs": [],
   "source": [
    "#  save file\n",
    "df_twits_combined_with_feature_with_time_with_stock_new.to_csv(r'C:\\Users\\frank\\OneDrive\\Documents\\Learning\\NUS MTech EBCA\\3. Course Material\\EBA5004 PLP\\4. Practice Module Project\\data\\Processed\\StockTwits\\Combined\\df_twits_combined_with_feature_with_time_with_stock_new.csv', index=False)"
   ]
  },
  {
   "cell_type": "markdown",
   "id": "bb7c07c2-9601-4891-92c2-b0db1cfd5729",
   "metadata": {},
   "source": [
    "### Combine with predicted sentiment score"
   ]
  },
  {
   "cell_type": "code",
   "execution_count": 3,
   "id": "63d62ffa-ec89-403b-a7cc-b4d5abc64087",
   "metadata": {},
   "outputs": [],
   "source": [
    "df_twits_combined_with_feature_with_time_with_stock_new = pd.read_csv(r'C:\\Users\\frank\\OneDrive\\Documents\\Learning\\NUS MTech EBCA\\3. Course Material\\EBA5004 PLP\\4. Practice Module Project\\data\\Processed\\StockTwits\\Combined\\df_twits_combined_with_feature_with_time_with_stock_new.csv')"
   ]
  },
  {
   "cell_type": "code",
   "execution_count": 5,
   "id": "59d6fc88-428e-4de3-b8f7-b3f0823bbfa0",
   "metadata": {},
   "outputs": [],
   "source": [
    "df_combined_predicted = pd.read_csv(r'C:\\Users\\frank\\OneDrive\\Documents\\Learning\\NUS MTech EBCA\\3. Course Material\\EBA5004 PLP\\4. Practice Module Project\\data\\Processed\\StockTwits\\Combined\\df_combined_predicted.csv', usecols=['sentiment_score', 'sentiment_score_predicted'])"
   ]
  },
  {
   "cell_type": "code",
   "execution_count": 10,
   "id": "9541dc29-7e91-4d4e-916d-bbed62dbd65f",
   "metadata": {},
   "outputs": [
    {
     "data": {
      "text/plain": [
       "(4165805, 2)"
      ]
     },
     "execution_count": 10,
     "metadata": {},
     "output_type": "execute_result"
    }
   ],
   "source": [
    "df_combined_predicted.shape"
   ]
  },
  {
   "cell_type": "code",
   "execution_count": 9,
   "id": "2de886e2-2c0d-412d-90a0-dee43bd9762d",
   "metadata": {},
   "outputs": [
    {
     "data": {
      "text/plain": [
       "sentiment_score              2014973\n",
       "sentiment_score_predicted    2150832\n",
       "dtype: int64"
      ]
     },
     "execution_count": 9,
     "metadata": {},
     "output_type": "execute_result"
    }
   ],
   "source": [
    "df_combined_predicted.isna().sum()"
   ]
  },
  {
   "cell_type": "code",
   "execution_count": 15,
   "id": "e35b3805-896a-4932-96a6-2adf77f1978f",
   "metadata": {},
   "outputs": [],
   "source": [
    "df_twits_combined_with_feature_with_time_with_stock_new['sentiment_score_predicted'] = df_combined_predicted['sentiment_score_predicted']"
   ]
  },
  {
   "cell_type": "code",
   "execution_count": 20,
   "id": "6b8bcc63-9d30-4791-9594-a19a1a99a763",
   "metadata": {},
   "outputs": [],
   "source": [
    "df_twits_combined_with_feature_with_time_with_stock_new['sentiment_score_combined'] = df_combined_predicted['sentiment_score'].fillna(df_combined_predicted['sentiment_score_predicted'])\n",
    "df_twits_combined_with_feature_with_time_with_stock_new['sentiment_score_combined'] = df_twits_combined_with_feature_with_time_with_stock_new['sentiment_score_combined'].astype(int)"
   ]
  },
  {
   "cell_type": "code",
   "execution_count": 67,
   "id": "2fcbaf89-21f0-4644-a427-70eb2dc01455",
   "metadata": {},
   "outputs": [],
   "source": [
    "df_twits_combined_with_feature_with_time_with_stock_new = df_twits_combined_with_feature_with_time_with_stock_new.astype({'sentiment_score': 'Int64', 'sentiment_score_predicted': 'Int64'})"
   ]
  },
  {
   "cell_type": "code",
   "execution_count": 26,
   "id": "ca552fbf-8425-40ee-9154-bcf95163c6ec",
   "metadata": {},
   "outputs": [],
   "source": [
    "#  save file\n",
    "df_twits_combined_with_feature_with_time_with_stock_new.to_csv(r'C:\\Users\\frank\\OneDrive\\Documents\\Learning\\NUS MTech EBCA\\3. Course Material\\EBA5004 PLP\\4. Practice Module Project\\data\\Processed\\StockTwits\\Combined\\df_twits_combined_with_feature_with_time_with_stock_with_prediction.csv', index=False)"
   ]
  },
  {
   "cell_type": "markdown",
   "id": "f06f01c8-3fcc-4516-9f3c-9c9c0c77703b",
   "metadata": {},
   "source": [
    "## EDA for features"
   ]
  },
  {
   "cell_type": "code",
   "execution_count": 122,
   "id": "0758eeee-d21f-4d8f-aa50-d103c957e552",
   "metadata": {},
   "outputs": [],
   "source": [
    "import plotly.express as px\n",
    "def eda_by_group(df, grouping_list=['hours_till_close', 'stock']):\n",
    "    df_group = df.groupby(grouping_list)['body_processed'].count().reset_index()\n",
    "    fig = px.bar(df_group, x='hours_till_close', y='body_processed', color='stock', title='Count of StockTwits per Hour till Stock Closing Time')\n",
    "    fig.add_vline(x=6, annotation_text='trading', annotation_position='top left')\n",
    "    fig.add_vline(x=16, annotation_text='midnight', annotation_position='top left')\n",
    "    fig.add_vline(x=23, annotation_text='next days are none-trading', annotation_position='top right')\n",
    "    fig.show()"
   ]
  },
  {
   "cell_type": "code",
   "execution_count": 123,
   "id": "0fa9c8b8-fd21-4234-8ff8-256baa40b604",
   "metadata": {},
   "outputs": [
    {
     "data": {
      "application/vnd.plotly.v1+json": {
       "config": {
        "plotlyServerURL": "https://plot.ly"
       },
       "data": [
        {
         "alignmentgroup": "True",
         "hovertemplate": "stock=AAPL<br>hours_till_close=%{x}<br>body_processed=%{y}<extra></extra>",
         "legendgroup": "AAPL",
         "marker": {
          "color": "#636efa",
          "pattern": {
           "shape": ""
          }
         },
         "name": "AAPL",
         "offsetgroup": "AAPL",
         "orientation": "v",
         "showlegend": true,
         "textposition": "auto",
         "type": "bar",
         "x": [
          0,
          1,
          2,
          3,
          4,
          5,
          6,
          7,
          8,
          9,
          10,
          11,
          12,
          13,
          14,
          15,
          16,
          17,
          18,
          19,
          20,
          21,
          22,
          23,
          24,
          25,
          26,
          27,
          28,
          29,
          30,
          31,
          32,
          33,
          34,
          35,
          36,
          37,
          38,
          39,
          40,
          41,
          42,
          43,
          44,
          45,
          46,
          47,
          48,
          49,
          50,
          51,
          52,
          53,
          54,
          55,
          56,
          57,
          58,
          59,
          60,
          61,
          62,
          63,
          64,
          65,
          66,
          67,
          68,
          69,
          70,
          71,
          72,
          73,
          74,
          75,
          76,
          77,
          78,
          79,
          80,
          81,
          82,
          83,
          84,
          85,
          86,
          87,
          88,
          89,
          90,
          91,
          92,
          93,
          94,
          95
         ],
         "xaxis": "x",
         "y": [
          76865,
          67525,
          67190,
          67143,
          72193,
          85060,
          72826,
          36133,
          23085,
          12355,
          9034,
          8515,
          5457,
          6394,
          7649,
          10376,
          13676,
          17261,
          18545,
          20133,
          22661,
          25986,
          31089,
          55014,
          2042,
          1978,
          2028,
          2084,
          1952,
          1833,
          1483,
          1054,
          707,
          499,
          399,
          432,
          464,
          568,
          745,
          974,
          1105,
          1350,
          1604,
          1640,
          1650,
          1628,
          1612,
          1702,
          1841,
          1796,
          1881,
          1843,
          1876,
          1699,
          1508,
          1103,
          797,
          455,
          347,
          477,
          476,
          560,
          836,
          1080,
          1469,
          1655,
          2032,
          2417,
          3101,
          3426,
          4398,
          8416,
          219,
          217,
          234,
          217,
          225,
          228,
          209,
          167,
          88,
          47,
          38,
          52,
          47,
          65,
          85,
          127,
          172,
          199,
          211,
          273,
          346,
          405,
          582,
          1187
         ],
         "yaxis": "y"
        },
        {
         "alignmentgroup": "True",
         "hovertemplate": "stock=AMZN<br>hours_till_close=%{x}<br>body_processed=%{y}<extra></extra>",
         "legendgroup": "AMZN",
         "marker": {
          "color": "#EF553B",
          "pattern": {
           "shape": ""
          }
         },
         "name": "AMZN",
         "offsetgroup": "AMZN",
         "orientation": "v",
         "showlegend": true,
         "textposition": "auto",
         "type": "bar",
         "x": [
          0,
          1,
          2,
          3,
          4,
          5,
          6,
          7,
          8,
          9,
          10,
          11,
          12,
          13,
          14,
          15,
          16,
          17,
          18,
          19,
          20,
          21,
          22,
          23,
          24,
          25,
          26,
          27,
          28,
          29,
          30,
          31,
          32,
          33,
          34,
          35,
          36,
          37,
          38,
          39,
          40,
          41,
          42,
          43,
          44,
          45,
          46,
          47,
          48,
          49,
          50,
          51,
          52,
          53,
          54,
          55,
          56,
          57,
          58,
          59,
          60,
          61,
          62,
          63,
          64,
          65,
          66,
          67,
          68,
          69,
          70,
          71,
          72,
          73,
          74,
          75,
          76,
          77,
          78,
          79,
          80,
          81,
          82,
          83,
          84,
          85,
          86,
          87,
          88,
          89,
          90,
          91,
          92,
          93,
          94,
          95
         ],
         "xaxis": "x",
         "y": [
          40813,
          34371,
          33804,
          35671,
          38754,
          46591,
          37236,
          18040,
          11719,
          6532,
          4278,
          3909,
          2964,
          2921,
          3632,
          5181,
          6476,
          8130,
          8762,
          10114,
          11199,
          13375,
          17146,
          34958,
          1152,
          1060,
          992,
          1144,
          1028,
          962,
          852,
          622,
          437,
          301,
          206,
          230,
          283,
          275,
          376,
          470,
          591,
          666,
          663,
          663,
          670,
          763,
          724,
          878,
          852,
          861,
          937,
          963,
          923,
          914,
          801,
          595,
          395,
          231,
          174,
          214,
          209,
          247,
          378,
          514,
          686,
          758,
          853,
          1117,
          1289,
          1634,
          2136,
          4128,
          114,
          85,
          103,
          136,
          106,
          140,
          113,
          64,
          45,
          28,
          24,
          26,
          29,
          38,
          49,
          63,
          76,
          100,
          127,
          143,
          158,
          216,
          236,
          546
         ],
         "yaxis": "y"
        },
        {
         "alignmentgroup": "True",
         "hovertemplate": "stock=FB<br>hours_till_close=%{x}<br>body_processed=%{y}<extra></extra>",
         "legendgroup": "FB",
         "marker": {
          "color": "#00cc96",
          "pattern": {
           "shape": ""
          }
         },
         "name": "FB",
         "offsetgroup": "FB",
         "orientation": "v",
         "showlegend": true,
         "textposition": "auto",
         "type": "bar",
         "x": [
          0,
          1,
          2,
          3,
          4,
          5,
          6,
          7,
          8,
          9,
          10,
          11,
          12,
          13,
          14,
          15,
          16,
          17,
          18,
          19,
          20,
          21,
          22,
          23,
          24,
          25,
          26,
          27,
          28,
          29,
          30,
          31,
          32,
          33,
          34,
          35,
          36,
          37,
          38,
          39,
          40,
          41,
          42,
          43,
          44,
          45,
          46,
          47,
          48,
          49,
          50,
          51,
          52,
          53,
          54,
          55,
          56,
          57,
          58,
          59,
          60,
          61,
          62,
          63,
          64,
          65,
          66,
          67,
          68,
          69,
          70,
          71,
          72,
          73,
          74,
          75,
          76,
          77,
          78,
          79,
          80,
          81,
          82,
          83,
          84,
          85,
          86,
          87,
          88,
          89,
          90,
          91,
          92,
          93,
          94,
          95
         ],
         "xaxis": "x",
         "y": [
          24540,
          23950,
          22677,
          24195,
          25399,
          28344,
          24207,
          11910,
          7589,
          4340,
          2941,
          2618,
          1715,
          2005,
          2617,
          3638,
          4740,
          6096,
          6793,
          7795,
          8489,
          10199,
          12992,
          24468,
          854,
          830,
          778,
          897,
          806,
          736,
          555,
          368,
          275,
          211,
          144,
          164,
          258,
          207,
          283,
          386,
          431,
          565,
          553,
          554,
          550,
          552,
          564,
          611,
          646,
          654,
          719,
          709,
          680,
          722,
          587,
          413,
          284,
          182,
          157,
          166,
          163,
          223,
          358,
          474,
          589,
          740,
          754,
          837,
          1079,
          1124,
          1281,
          2119,
          96,
          93,
          121,
          110,
          100,
          98,
          125,
          80,
          32,
          34,
          29,
          21,
          28,
          29,
          42,
          60,
          65,
          86,
          103,
          114,
          146,
          168,
          233,
          330
         ],
         "yaxis": "y"
        },
        {
         "alignmentgroup": "True",
         "hovertemplate": "stock=NVDA<br>hours_till_close=%{x}<br>body_processed=%{y}<extra></extra>",
         "legendgroup": "NVDA",
         "marker": {
          "color": "#ab63fa",
          "pattern": {
           "shape": ""
          }
         },
         "name": "NVDA",
         "offsetgroup": "NVDA",
         "orientation": "v",
         "showlegend": true,
         "textposition": "auto",
         "type": "bar",
         "x": [
          0,
          1,
          2,
          3,
          4,
          5,
          6,
          7,
          8,
          9,
          10,
          11,
          12,
          13,
          14,
          15,
          16,
          17,
          18,
          19,
          20,
          21,
          22,
          23,
          24,
          25,
          26,
          27,
          28,
          29,
          30,
          31,
          32,
          33,
          34,
          35,
          36,
          37,
          38,
          39,
          40,
          41,
          42,
          43,
          44,
          45,
          46,
          47,
          48,
          49,
          50,
          51,
          52,
          53,
          54,
          55,
          56,
          57,
          58,
          59,
          60,
          61,
          62,
          63,
          64,
          65,
          66,
          67,
          68,
          69,
          70,
          71,
          72,
          73,
          74,
          75,
          76,
          77,
          78,
          79,
          80,
          81,
          82,
          83,
          84,
          85,
          86,
          87,
          88,
          89,
          90,
          91,
          92,
          93,
          94,
          95
         ],
         "xaxis": "x",
         "y": [
          19738,
          17473,
          16654,
          19286,
          21218,
          25475,
          22638,
          9957,
          6721,
          3511,
          2363,
          2410,
          1443,
          1467,
          1850,
          2463,
          3239,
          4036,
          4190,
          4826,
          5531,
          6932,
          9727,
          19217,
          462,
          457,
          487,
          488,
          413,
          401,
          359,
          243,
          187,
          137,
          112,
          150,
          110,
          124,
          189,
          179,
          185,
          292,
          310,
          340,
          342,
          301,
          406,
          422,
          352,
          399,
          436,
          447,
          464,
          455,
          406,
          266,
          199,
          106,
          103,
          143,
          116,
          132,
          242,
          282,
          312,
          374,
          457,
          529,
          612,
          837,
          985,
          1996,
          54,
          49,
          64,
          72,
          67,
          61,
          66,
          30,
          30,
          17,
          20,
          27,
          22,
          47,
          31,
          59,
          60,
          79,
          78,
          111,
          113,
          157,
          185,
          340
         ],
         "yaxis": "y"
        },
        {
         "alignmentgroup": "True",
         "hovertemplate": "stock=TSLA<br>hours_till_close=%{x}<br>body_processed=%{y}<extra></extra>",
         "legendgroup": "TSLA",
         "marker": {
          "color": "#FFA15A",
          "pattern": {
           "shape": ""
          }
         },
         "name": "TSLA",
         "offsetgroup": "TSLA",
         "orientation": "v",
         "showlegend": true,
         "textposition": "auto",
         "type": "bar",
         "x": [
          0,
          1,
          2,
          3,
          4,
          5,
          6,
          7,
          8,
          9,
          10,
          11,
          12,
          13,
          14,
          15,
          16,
          17,
          18,
          19,
          20,
          21,
          22,
          23,
          24,
          25,
          26,
          27,
          28,
          29,
          30,
          31,
          32,
          33,
          34,
          35,
          36,
          37,
          38,
          39,
          40,
          41,
          42,
          43,
          44,
          45,
          46,
          47,
          48,
          49,
          50,
          51,
          52,
          53,
          54,
          55,
          56,
          57,
          58,
          59,
          60,
          61,
          62,
          63,
          64,
          65,
          66,
          67,
          68,
          69,
          70,
          71,
          72,
          73,
          74,
          75,
          76,
          77,
          78,
          79,
          80,
          81,
          82,
          83,
          84,
          85,
          86,
          87,
          88,
          89,
          90,
          91,
          92,
          93,
          94,
          95
         ],
         "xaxis": "x",
         "y": [
          181542,
          156928,
          150601,
          154044,
          177240,
          215619,
          184273,
          94330,
          66946,
          36709,
          27249,
          29043,
          16658,
          18742,
          19238,
          24933,
          31969,
          37768,
          40232,
          44888,
          55500,
          63336,
          76497,
          111443,
          5082,
          4925,
          4666,
          4795,
          4790,
          4060,
          3186,
          2242,
          1520,
          1031,
          963,
          984,
          1177,
          1288,
          1947,
          2346,
          2775,
          3024,
          3185,
          3397,
          3555,
          3792,
          3827,
          4238,
          4228,
          3786,
          4100,
          4136,
          3998,
          3482,
          3054,
          2262,
          1573,
          1021,
          904,
          908,
          1128,
          1324,
          1682,
          2327,
          3017,
          3459,
          3921,
          4613,
          5805,
          6865,
          8467,
          15605,
          580,
          620,
          641,
          708,
          703,
          733,
          753,
          542,
          248,
          141,
          128,
          128,
          159,
          193,
          282,
          408,
          487,
          599,
          698,
          930,
          1492,
          1712,
          2240,
          2165
         ],
         "yaxis": "y"
        }
       ],
       "layout": {
        "annotations": [
         {
          "showarrow": false,
          "text": "trading",
          "x": 6,
          "xanchor": "right",
          "xref": "x",
          "y": 1,
          "yanchor": "top",
          "yref": "y domain"
         },
         {
          "showarrow": false,
          "text": "midnight",
          "x": 16,
          "xanchor": "right",
          "xref": "x",
          "y": 1,
          "yanchor": "top",
          "yref": "y domain"
         },
         {
          "showarrow": false,
          "text": "next days are none-trading",
          "x": 23,
          "xanchor": "left",
          "xref": "x",
          "y": 1,
          "yanchor": "top",
          "yref": "y domain"
         }
        ],
        "autosize": true,
        "barmode": "relative",
        "legend": {
         "title": {
          "text": "stock"
         },
         "tracegroupgap": 0
        },
        "shapes": [
         {
          "type": "line",
          "x0": 6,
          "x1": 6,
          "xref": "x",
          "y0": 0,
          "y1": 1,
          "yref": "y domain"
         },
         {
          "type": "line",
          "x0": 16,
          "x1": 16,
          "xref": "x",
          "y0": 0,
          "y1": 1,
          "yref": "y domain"
         },
         {
          "type": "line",
          "x0": 23,
          "x1": 23,
          "xref": "x",
          "y0": 0,
          "y1": 1,
          "yref": "y domain"
         }
        ],
        "template": {
         "data": {
          "bar": [
           {
            "error_x": {
             "color": "#2a3f5f"
            },
            "error_y": {
             "color": "#2a3f5f"
            },
            "marker": {
             "line": {
              "color": "#E5ECF6",
              "width": 0.5
             },
             "pattern": {
              "fillmode": "overlay",
              "size": 10,
              "solidity": 0.2
             }
            },
            "type": "bar"
           }
          ],
          "barpolar": [
           {
            "marker": {
             "line": {
              "color": "#E5ECF6",
              "width": 0.5
             },
             "pattern": {
              "fillmode": "overlay",
              "size": 10,
              "solidity": 0.2
             }
            },
            "type": "barpolar"
           }
          ],
          "carpet": [
           {
            "aaxis": {
             "endlinecolor": "#2a3f5f",
             "gridcolor": "white",
             "linecolor": "white",
             "minorgridcolor": "white",
             "startlinecolor": "#2a3f5f"
            },
            "baxis": {
             "endlinecolor": "#2a3f5f",
             "gridcolor": "white",
             "linecolor": "white",
             "minorgridcolor": "white",
             "startlinecolor": "#2a3f5f"
            },
            "type": "carpet"
           }
          ],
          "choropleth": [
           {
            "colorbar": {
             "outlinewidth": 0,
             "ticks": ""
            },
            "type": "choropleth"
           }
          ],
          "contour": [
           {
            "colorbar": {
             "outlinewidth": 0,
             "ticks": ""
            },
            "colorscale": [
             [
              0,
              "#0d0887"
             ],
             [
              0.1111111111111111,
              "#46039f"
             ],
             [
              0.2222222222222222,
              "#7201a8"
             ],
             [
              0.3333333333333333,
              "#9c179e"
             ],
             [
              0.4444444444444444,
              "#bd3786"
             ],
             [
              0.5555555555555556,
              "#d8576b"
             ],
             [
              0.6666666666666666,
              "#ed7953"
             ],
             [
              0.7777777777777778,
              "#fb9f3a"
             ],
             [
              0.8888888888888888,
              "#fdca26"
             ],
             [
              1,
              "#f0f921"
             ]
            ],
            "type": "contour"
           }
          ],
          "contourcarpet": [
           {
            "colorbar": {
             "outlinewidth": 0,
             "ticks": ""
            },
            "type": "contourcarpet"
           }
          ],
          "heatmap": [
           {
            "colorbar": {
             "outlinewidth": 0,
             "ticks": ""
            },
            "colorscale": [
             [
              0,
              "#0d0887"
             ],
             [
              0.1111111111111111,
              "#46039f"
             ],
             [
              0.2222222222222222,
              "#7201a8"
             ],
             [
              0.3333333333333333,
              "#9c179e"
             ],
             [
              0.4444444444444444,
              "#bd3786"
             ],
             [
              0.5555555555555556,
              "#d8576b"
             ],
             [
              0.6666666666666666,
              "#ed7953"
             ],
             [
              0.7777777777777778,
              "#fb9f3a"
             ],
             [
              0.8888888888888888,
              "#fdca26"
             ],
             [
              1,
              "#f0f921"
             ]
            ],
            "type": "heatmap"
           }
          ],
          "heatmapgl": [
           {
            "colorbar": {
             "outlinewidth": 0,
             "ticks": ""
            },
            "colorscale": [
             [
              0,
              "#0d0887"
             ],
             [
              0.1111111111111111,
              "#46039f"
             ],
             [
              0.2222222222222222,
              "#7201a8"
             ],
             [
              0.3333333333333333,
              "#9c179e"
             ],
             [
              0.4444444444444444,
              "#bd3786"
             ],
             [
              0.5555555555555556,
              "#d8576b"
             ],
             [
              0.6666666666666666,
              "#ed7953"
             ],
             [
              0.7777777777777778,
              "#fb9f3a"
             ],
             [
              0.8888888888888888,
              "#fdca26"
             ],
             [
              1,
              "#f0f921"
             ]
            ],
            "type": "heatmapgl"
           }
          ],
          "histogram": [
           {
            "marker": {
             "pattern": {
              "fillmode": "overlay",
              "size": 10,
              "solidity": 0.2
             }
            },
            "type": "histogram"
           }
          ],
          "histogram2d": [
           {
            "colorbar": {
             "outlinewidth": 0,
             "ticks": ""
            },
            "colorscale": [
             [
              0,
              "#0d0887"
             ],
             [
              0.1111111111111111,
              "#46039f"
             ],
             [
              0.2222222222222222,
              "#7201a8"
             ],
             [
              0.3333333333333333,
              "#9c179e"
             ],
             [
              0.4444444444444444,
              "#bd3786"
             ],
             [
              0.5555555555555556,
              "#d8576b"
             ],
             [
              0.6666666666666666,
              "#ed7953"
             ],
             [
              0.7777777777777778,
              "#fb9f3a"
             ],
             [
              0.8888888888888888,
              "#fdca26"
             ],
             [
              1,
              "#f0f921"
             ]
            ],
            "type": "histogram2d"
           }
          ],
          "histogram2dcontour": [
           {
            "colorbar": {
             "outlinewidth": 0,
             "ticks": ""
            },
            "colorscale": [
             [
              0,
              "#0d0887"
             ],
             [
              0.1111111111111111,
              "#46039f"
             ],
             [
              0.2222222222222222,
              "#7201a8"
             ],
             [
              0.3333333333333333,
              "#9c179e"
             ],
             [
              0.4444444444444444,
              "#bd3786"
             ],
             [
              0.5555555555555556,
              "#d8576b"
             ],
             [
              0.6666666666666666,
              "#ed7953"
             ],
             [
              0.7777777777777778,
              "#fb9f3a"
             ],
             [
              0.8888888888888888,
              "#fdca26"
             ],
             [
              1,
              "#f0f921"
             ]
            ],
            "type": "histogram2dcontour"
           }
          ],
          "mesh3d": [
           {
            "colorbar": {
             "outlinewidth": 0,
             "ticks": ""
            },
            "type": "mesh3d"
           }
          ],
          "parcoords": [
           {
            "line": {
             "colorbar": {
              "outlinewidth": 0,
              "ticks": ""
             }
            },
            "type": "parcoords"
           }
          ],
          "pie": [
           {
            "automargin": true,
            "type": "pie"
           }
          ],
          "scatter": [
           {
            "marker": {
             "colorbar": {
              "outlinewidth": 0,
              "ticks": ""
             }
            },
            "type": "scatter"
           }
          ],
          "scatter3d": [
           {
            "line": {
             "colorbar": {
              "outlinewidth": 0,
              "ticks": ""
             }
            },
            "marker": {
             "colorbar": {
              "outlinewidth": 0,
              "ticks": ""
             }
            },
            "type": "scatter3d"
           }
          ],
          "scattercarpet": [
           {
            "marker": {
             "colorbar": {
              "outlinewidth": 0,
              "ticks": ""
             }
            },
            "type": "scattercarpet"
           }
          ],
          "scattergeo": [
           {
            "marker": {
             "colorbar": {
              "outlinewidth": 0,
              "ticks": ""
             }
            },
            "type": "scattergeo"
           }
          ],
          "scattergl": [
           {
            "marker": {
             "colorbar": {
              "outlinewidth": 0,
              "ticks": ""
             }
            },
            "type": "scattergl"
           }
          ],
          "scattermapbox": [
           {
            "marker": {
             "colorbar": {
              "outlinewidth": 0,
              "ticks": ""
             }
            },
            "type": "scattermapbox"
           }
          ],
          "scatterpolar": [
           {
            "marker": {
             "colorbar": {
              "outlinewidth": 0,
              "ticks": ""
             }
            },
            "type": "scatterpolar"
           }
          ],
          "scatterpolargl": [
           {
            "marker": {
             "colorbar": {
              "outlinewidth": 0,
              "ticks": ""
             }
            },
            "type": "scatterpolargl"
           }
          ],
          "scatterternary": [
           {
            "marker": {
             "colorbar": {
              "outlinewidth": 0,
              "ticks": ""
             }
            },
            "type": "scatterternary"
           }
          ],
          "surface": [
           {
            "colorbar": {
             "outlinewidth": 0,
             "ticks": ""
            },
            "colorscale": [
             [
              0,
              "#0d0887"
             ],
             [
              0.1111111111111111,
              "#46039f"
             ],
             [
              0.2222222222222222,
              "#7201a8"
             ],
             [
              0.3333333333333333,
              "#9c179e"
             ],
             [
              0.4444444444444444,
              "#bd3786"
             ],
             [
              0.5555555555555556,
              "#d8576b"
             ],
             [
              0.6666666666666666,
              "#ed7953"
             ],
             [
              0.7777777777777778,
              "#fb9f3a"
             ],
             [
              0.8888888888888888,
              "#fdca26"
             ],
             [
              1,
              "#f0f921"
             ]
            ],
            "type": "surface"
           }
          ],
          "table": [
           {
            "cells": {
             "fill": {
              "color": "#EBF0F8"
             },
             "line": {
              "color": "white"
             }
            },
            "header": {
             "fill": {
              "color": "#C8D4E3"
             },
             "line": {
              "color": "white"
             }
            },
            "type": "table"
           }
          ]
         },
         "layout": {
          "annotationdefaults": {
           "arrowcolor": "#2a3f5f",
           "arrowhead": 0,
           "arrowwidth": 1
          },
          "autotypenumbers": "strict",
          "coloraxis": {
           "colorbar": {
            "outlinewidth": 0,
            "ticks": ""
           }
          },
          "colorscale": {
           "diverging": [
            [
             0,
             "#8e0152"
            ],
            [
             0.1,
             "#c51b7d"
            ],
            [
             0.2,
             "#de77ae"
            ],
            [
             0.3,
             "#f1b6da"
            ],
            [
             0.4,
             "#fde0ef"
            ],
            [
             0.5,
             "#f7f7f7"
            ],
            [
             0.6,
             "#e6f5d0"
            ],
            [
             0.7,
             "#b8e186"
            ],
            [
             0.8,
             "#7fbc41"
            ],
            [
             0.9,
             "#4d9221"
            ],
            [
             1,
             "#276419"
            ]
           ],
           "sequential": [
            [
             0,
             "#0d0887"
            ],
            [
             0.1111111111111111,
             "#46039f"
            ],
            [
             0.2222222222222222,
             "#7201a8"
            ],
            [
             0.3333333333333333,
             "#9c179e"
            ],
            [
             0.4444444444444444,
             "#bd3786"
            ],
            [
             0.5555555555555556,
             "#d8576b"
            ],
            [
             0.6666666666666666,
             "#ed7953"
            ],
            [
             0.7777777777777778,
             "#fb9f3a"
            ],
            [
             0.8888888888888888,
             "#fdca26"
            ],
            [
             1,
             "#f0f921"
            ]
           ],
           "sequentialminus": [
            [
             0,
             "#0d0887"
            ],
            [
             0.1111111111111111,
             "#46039f"
            ],
            [
             0.2222222222222222,
             "#7201a8"
            ],
            [
             0.3333333333333333,
             "#9c179e"
            ],
            [
             0.4444444444444444,
             "#bd3786"
            ],
            [
             0.5555555555555556,
             "#d8576b"
            ],
            [
             0.6666666666666666,
             "#ed7953"
            ],
            [
             0.7777777777777778,
             "#fb9f3a"
            ],
            [
             0.8888888888888888,
             "#fdca26"
            ],
            [
             1,
             "#f0f921"
            ]
           ]
          },
          "colorway": [
           "#636efa",
           "#EF553B",
           "#00cc96",
           "#ab63fa",
           "#FFA15A",
           "#19d3f3",
           "#FF6692",
           "#B6E880",
           "#FF97FF",
           "#FECB52"
          ],
          "font": {
           "color": "#2a3f5f"
          },
          "geo": {
           "bgcolor": "white",
           "lakecolor": "white",
           "landcolor": "#E5ECF6",
           "showlakes": true,
           "showland": true,
           "subunitcolor": "white"
          },
          "hoverlabel": {
           "align": "left"
          },
          "hovermode": "closest",
          "mapbox": {
           "style": "light"
          },
          "paper_bgcolor": "white",
          "plot_bgcolor": "#E5ECF6",
          "polar": {
           "angularaxis": {
            "gridcolor": "white",
            "linecolor": "white",
            "ticks": ""
           },
           "bgcolor": "#E5ECF6",
           "radialaxis": {
            "gridcolor": "white",
            "linecolor": "white",
            "ticks": ""
           }
          },
          "scene": {
           "xaxis": {
            "backgroundcolor": "#E5ECF6",
            "gridcolor": "white",
            "gridwidth": 2,
            "linecolor": "white",
            "showbackground": true,
            "ticks": "",
            "zerolinecolor": "white"
           },
           "yaxis": {
            "backgroundcolor": "#E5ECF6",
            "gridcolor": "white",
            "gridwidth": 2,
            "linecolor": "white",
            "showbackground": true,
            "ticks": "",
            "zerolinecolor": "white"
           },
           "zaxis": {
            "backgroundcolor": "#E5ECF6",
            "gridcolor": "white",
            "gridwidth": 2,
            "linecolor": "white",
            "showbackground": true,
            "ticks": "",
            "zerolinecolor": "white"
           }
          },
          "shapedefaults": {
           "line": {
            "color": "#2a3f5f"
           }
          },
          "ternary": {
           "aaxis": {
            "gridcolor": "white",
            "linecolor": "white",
            "ticks": ""
           },
           "baxis": {
            "gridcolor": "white",
            "linecolor": "white",
            "ticks": ""
           },
           "bgcolor": "#E5ECF6",
           "caxis": {
            "gridcolor": "white",
            "linecolor": "white",
            "ticks": ""
           }
          },
          "title": {
           "x": 0.05
          },
          "xaxis": {
           "automargin": true,
           "gridcolor": "white",
           "linecolor": "white",
           "ticks": "",
           "title": {
            "standoff": 15
           },
           "zerolinecolor": "white",
           "zerolinewidth": 2
          },
          "yaxis": {
           "automargin": true,
           "gridcolor": "white",
           "linecolor": "white",
           "ticks": "",
           "title": {
            "standoff": 15
           },
           "zerolinecolor": "white",
           "zerolinewidth": 2
          }
         }
        },
        "title": {
         "text": "Count of StockTwits per Hour till Stock Closing Time"
        },
        "xaxis": {
         "anchor": "y",
         "autorange": false,
         "domain": [
          0,
          1
         ],
         "range": [
          -0.5,
          50.47399333539098
         ],
         "title": {
          "text": "hours_till_close"
         },
         "type": "linear"
        },
        "yaxis": {
         "anchor": "x",
         "autorange": true,
         "domain": [
          0,
          1
         ],
         "range": [
          0,
          422198.94736842107
         ],
         "title": {
          "text": "body_processed"
         },
         "type": "linear"
        }
       }
      },
      "image/png": "[encoded data removed]",
      "text/html": [
       "<div>                            <div id=\"0e66aa60-e662-430b-a7c4-5437db784c64\" class=\"plotly-graph-div\" style=\"height:525px; width:100%;\"></div>            <script type=\"text/javascript\">                require([\"plotly\"], function(Plotly) {                    window.PLOTLYENV=window.PLOTLYENV || {};                                    if (document.getElementById(\"0e66aa60-e662-430b-a7c4-5437db784c64\")) {                    Plotly.newPlot(                        \"0e66aa60-e662-430b-a7c4-5437db784c64\",                        [{\"alignmentgroup\":\"True\",\"hovertemplate\":\"stock=AAPL<br>hours_till_close=%{x}<br>body_processed=%{y}<extra></extra>\",\"legendgroup\":\"AAPL\",\"marker\":{\"color\":\"#636efa\",\"pattern\":{\"shape\":\"\"}},\"name\":\"AAPL\",\"offsetgroup\":\"AAPL\",\"orientation\":\"v\",\"showlegend\":true,\"textposition\":\"auto\",\"x\":[0,1,2,3,4,5,6,7,8,9,10,11,12,13,14,15,16,17,18,19,20,21,22,23,24,25,26,27,28,29,30,31,32,33,34,35,36,37,38,39,40,41,42,43,44,45,46,47,48,49,50,51,52,53,54,55,56,57,58,59,60,61,62,63,64,65,66,67,68,69,70,71,72,73,74,75,76,77,78,79,80,81,82,83,84,85,86,87,88,89,90,91,92,93,94,95],\"xaxis\":\"x\",\"y\":[76865,67525,67190,67143,72193,85060,72826,36133,23085,12355,9034,8515,5457,6394,7649,10376,13676,17261,18545,20133,22661,25986,31089,55014,2042,1978,2028,2084,1952,1833,1483,1054,707,499,399,432,464,568,745,974,1105,1350,1604,1640,1650,1628,1612,1702,1841,1796,1881,1843,1876,1699,1508,1103,797,455,347,477,476,560,836,1080,1469,1655,2032,2417,3101,3426,4398,8416,219,217,234,217,225,228,209,167,88,47,38,52,47,65,85,127,172,199,211,273,346,405,582,1187],\"yaxis\":\"y\",\"type\":\"bar\"},{\"alignmentgroup\":\"True\",\"hovertemplate\":\"stock=AMZN<br>hours_till_close=%{x}<br>body_processed=%{y}<extra></extra>\",\"legendgroup\":\"AMZN\",\"marker\":{\"color\":\"#EF553B\",\"pattern\":{\"shape\":\"\"}},\"name\":\"AMZN\",\"offsetgroup\":\"AMZN\",\"orientation\":\"v\",\"showlegend\":true,\"textposition\":\"auto\",\"x\":[0,1,2,3,4,5,6,7,8,9,10,11,12,13,14,15,16,17,18,19,20,21,22,23,24,25,26,27,28,29,30,31,32,33,34,35,36,37,38,39,40,41,42,43,44,45,46,47,48,49,50,51,52,53,54,55,56,57,58,59,60,61,62,63,64,65,66,67,68,69,70,71,72,73,74,75,76,77,78,79,80,81,82,83,84,85,86,87,88,89,90,91,92,93,94,95],\"xaxis\":\"x\",\"y\":[40813,34371,33804,35671,38754,46591,37236,18040,11719,6532,4278,3909,2964,2921,3632,5181,6476,8130,8762,10114,11199,13375,17146,34958,1152,1060,992,1144,1028,962,852,622,437,301,206,230,283,275,376,470,591,666,663,663,670,763,724,878,852,861,937,963,923,914,801,595,395,231,174,214,209,247,378,514,686,758,853,1117,1289,1634,2136,4128,114,85,103,136,106,140,113,64,45,28,24,26,29,38,49,63,76,100,127,143,158,216,236,546],\"yaxis\":\"y\",\"type\":\"bar\"},{\"alignmentgroup\":\"True\",\"hovertemplate\":\"stock=FB<br>hours_till_close=%{x}<br>body_processed=%{y}<extra></extra>\",\"legendgroup\":\"FB\",\"marker\":{\"color\":\"#00cc96\",\"pattern\":{\"shape\":\"\"}},\"name\":\"FB\",\"offsetgroup\":\"FB\",\"orientation\":\"v\",\"showlegend\":true,\"textposition\":\"auto\",\"x\":[0,1,2,3,4,5,6,7,8,9,10,11,12,13,14,15,16,17,18,19,20,21,22,23,24,25,26,27,28,29,30,31,32,33,34,35,36,37,38,39,40,41,42,43,44,45,46,47,48,49,50,51,52,53,54,55,56,57,58,59,60,61,62,63,64,65,66,67,68,69,70,71,72,73,74,75,76,77,78,79,80,81,82,83,84,85,86,87,88,89,90,91,92,93,94,95],\"xaxis\":\"x\",\"y\":[24540,23950,22677,24195,25399,28344,24207,11910,7589,4340,2941,2618,1715,2005,2617,3638,4740,6096,6793,7795,8489,10199,12992,24468,854,830,778,897,806,736,555,368,275,211,144,164,258,207,283,386,431,565,553,554,550,552,564,611,646,654,719,709,680,722,587,413,284,182,157,166,163,223,358,474,589,740,754,837,1079,1124,1281,2119,96,93,121,110,100,98,125,80,32,34,29,21,28,29,42,60,65,86,103,114,146,168,233,330],\"yaxis\":\"y\",\"type\":\"bar\"},{\"alignmentgroup\":\"True\",\"hovertemplate\":\"stock=NVDA<br>hours_till_close=%{x}<br>body_processed=%{y}<extra></extra>\",\"legendgroup\":\"NVDA\",\"marker\":{\"color\":\"#ab63fa\",\"pattern\":{\"shape\":\"\"}},\"name\":\"NVDA\",\"offsetgroup\":\"NVDA\",\"orientation\":\"v\",\"showlegend\":true,\"textposition\":\"auto\",\"x\":[0,1,2,3,4,5,6,7,8,9,10,11,12,13,14,15,16,17,18,19,20,21,22,23,24,25,26,27,28,29,30,31,32,33,34,35,36,37,38,39,40,41,42,43,44,45,46,47,48,49,50,51,52,53,54,55,56,57,58,59,60,61,62,63,64,65,66,67,68,69,70,71,72,73,74,75,76,77,78,79,80,81,82,83,84,85,86,87,88,89,90,91,92,93,94,95],\"xaxis\":\"x\",\"y\":[19738,17473,16654,19286,21218,25475,22638,9957,6721,3511,2363,2410,1443,1467,1850,2463,3239,4036,4190,4826,5531,6932,9727,19217,462,457,487,488,413,401,359,243,187,137,112,150,110,124,189,179,185,292,310,340,342,301,406,422,352,399,436,447,464,455,406,266,199,106,103,143,116,132,242,282,312,374,457,529,612,837,985,1996,54,49,64,72,67,61,66,30,30,17,20,27,22,47,31,59,60,79,78,111,113,157,185,340],\"yaxis\":\"y\",\"type\":\"bar\"},{\"alignmentgroup\":\"True\",\"hovertemplate\":\"stock=TSLA<br>hours_till_close=%{x}<br>body_processed=%{y}<extra></extra>\",\"legendgroup\":\"TSLA\",\"marker\":{\"color\":\"#FFA15A\",\"pattern\":{\"shape\":\"\"}},\"name\":\"TSLA\",\"offsetgroup\":\"TSLA\",\"orientation\":\"v\",\"showlegend\":true,\"textposition\":\"auto\",\"x\":[0,1,2,3,4,5,6,7,8,9,10,11,12,13,14,15,16,17,18,19,20,21,22,23,24,25,26,27,28,29,30,31,32,33,34,35,36,37,38,39,40,41,42,43,44,45,46,47,48,49,50,51,52,53,54,55,56,57,58,59,60,61,62,63,64,65,66,67,68,69,70,71,72,73,74,75,76,77,78,79,80,81,82,83,84,85,86,87,88,89,90,91,92,93,94,95],\"xaxis\":\"x\",\"y\":[181542,156928,150601,154044,177240,215619,184273,94330,66946,36709,27249,29043,16658,18742,19238,24933,31969,37768,40232,44888,55500,63336,76497,111443,5082,4925,4666,4795,4790,4060,3186,2242,1520,1031,963,984,1177,1288,1947,2346,2775,3024,3185,3397,3555,3792,3827,4238,4228,3786,4100,4136,3998,3482,3054,2262,1573,1021,904,908,1128,1324,1682,2327,3017,3459,3921,4613,5805,6865,8467,15605,580,620,641,708,703,733,753,542,248,141,128,128,159,193,282,408,487,599,698,930,1492,1712,2240,2165],\"yaxis\":\"y\",\"type\":\"bar\"}],                        {\"template\":{\"data\":{\"bar\":[{\"error_x\":{\"color\":\"#2a3f5f\"},\"error_y\":{\"color\":\"#2a3f5f\"},\"marker\":{\"line\":{\"color\":\"#E5ECF6\",\"width\":0.5},\"pattern\":{\"fillmode\":\"overlay\",\"size\":10,\"solidity\":0.2}},\"type\":\"bar\"}],\"barpolar\":[{\"marker\":{\"line\":{\"color\":\"#E5ECF6\",\"width\":0.5},\"pattern\":{\"fillmode\":\"overlay\",\"size\":10,\"solidity\":0.2}},\"type\":\"barpolar\"}],\"carpet\":[{\"aaxis\":{\"endlinecolor\":\"#2a3f5f\",\"gridcolor\":\"white\",\"linecolor\":\"white\",\"minorgridcolor\":\"white\",\"startlinecolor\":\"#2a3f5f\"},\"baxis\":{\"endlinecolor\":\"#2a3f5f\",\"gridcolor\":\"white\",\"linecolor\":\"white\",\"minorgridcolor\":\"white\",\"startlinecolor\":\"#2a3f5f\"},\"type\":\"carpet\"}],\"choropleth\":[{\"colorbar\":{\"outlinewidth\":0,\"ticks\":\"\"},\"type\":\"choropleth\"}],\"contour\":[{\"colorbar\":{\"outlinewidth\":0,\"ticks\":\"\"},\"colorscale\":[[0.0,\"#0d0887\"],[0.1111111111111111,\"#46039f\"],[0.2222222222222222,\"#7201a8\"],[0.3333333333333333,\"#9c179e\"],[0.4444444444444444,\"#bd3786\"],[0.5555555555555556,\"#d8576b\"],[0.6666666666666666,\"#ed7953\"],[0.7777777777777778,\"#fb9f3a\"],[0.8888888888888888,\"#fdca26\"],[1.0,\"#f0f921\"]],\"type\":\"contour\"}],\"contourcarpet\":[{\"colorbar\":{\"outlinewidth\":0,\"ticks\":\"\"},\"type\":\"contourcarpet\"}],\"heatmap\":[{\"colorbar\":{\"outlinewidth\":0,\"ticks\":\"\"},\"colorscale\":[[0.0,\"#0d0887\"],[0.1111111111111111,\"#46039f\"],[0.2222222222222222,\"#7201a8\"],[0.3333333333333333,\"#9c179e\"],[0.4444444444444444,\"#bd3786\"],[0.5555555555555556,\"#d8576b\"],[0.6666666666666666,\"#ed7953\"],[0.7777777777777778,\"#fb9f3a\"],[0.8888888888888888,\"#fdca26\"],[1.0,\"#f0f921\"]],\"type\":\"heatmap\"}],\"heatmapgl\":[{\"colorbar\":{\"outlinewidth\":0,\"ticks\":\"\"},\"colorscale\":[[0.0,\"#0d0887\"],[0.1111111111111111,\"#46039f\"],[0.2222222222222222,\"#7201a8\"],[0.3333333333333333,\"#9c179e\"],[0.4444444444444444,\"#bd3786\"],[0.5555555555555556,\"#d8576b\"],[0.6666666666666666,\"#ed7953\"],[0.7777777777777778,\"#fb9f3a\"],[0.8888888888888888,\"#fdca26\"],[1.0,\"#f0f921\"]],\"type\":\"heatmapgl\"}],\"histogram\":[{\"marker\":{\"pattern\":{\"fillmode\":\"overlay\",\"size\":10,\"solidity\":0.2}},\"type\":\"histogram\"}],\"histogram2d\":[{\"colorbar\":{\"outlinewidth\":0,\"ticks\":\"\"},\"colorscale\":[[0.0,\"#0d0887\"],[0.1111111111111111,\"#46039f\"],[0.2222222222222222,\"#7201a8\"],[0.3333333333333333,\"#9c179e\"],[0.4444444444444444,\"#bd3786\"],[0.5555555555555556,\"#d8576b\"],[0.6666666666666666,\"#ed7953\"],[0.7777777777777778,\"#fb9f3a\"],[0.8888888888888888,\"#fdca26\"],[1.0,\"#f0f921\"]],\"type\":\"histogram2d\"}],\"histogram2dcontour\":[{\"colorbar\":{\"outlinewidth\":0,\"ticks\":\"\"},\"colorscale\":[[0.0,\"#0d0887\"],[0.1111111111111111,\"#46039f\"],[0.2222222222222222,\"#7201a8\"],[0.3333333333333333,\"#9c179e\"],[0.4444444444444444,\"#bd3786\"],[0.5555555555555556,\"#d8576b\"],[0.6666666666666666,\"#ed7953\"],[0.7777777777777778,\"#fb9f3a\"],[0.8888888888888888,\"#fdca26\"],[1.0,\"#f0f921\"]],\"type\":\"histogram2dcontour\"}],\"mesh3d\":[{\"colorbar\":{\"outlinewidth\":0,\"ticks\":\"\"},\"type\":\"mesh3d\"}],\"parcoords\":[{\"line\":{\"colorbar\":{\"outlinewidth\":0,\"ticks\":\"\"}},\"type\":\"parcoords\"}],\"pie\":[{\"automargin\":true,\"type\":\"pie\"}],\"scatter\":[{\"marker\":{\"colorbar\":{\"outlinewidth\":0,\"ticks\":\"\"}},\"type\":\"scatter\"}],\"scatter3d\":[{\"line\":{\"colorbar\":{\"outlinewidth\":0,\"ticks\":\"\"}},\"marker\":{\"colorbar\":{\"outlinewidth\":0,\"ticks\":\"\"}},\"type\":\"scatter3d\"}],\"scattercarpet\":[{\"marker\":{\"colorbar\":{\"outlinewidth\":0,\"ticks\":\"\"}},\"type\":\"scattercarpet\"}],\"scattergeo\":[{\"marker\":{\"colorbar\":{\"outlinewidth\":0,\"ticks\":\"\"}},\"type\":\"scattergeo\"}],\"scattergl\":[{\"marker\":{\"colorbar\":{\"outlinewidth\":0,\"ticks\":\"\"}},\"type\":\"scattergl\"}],\"scattermapbox\":[{\"marker\":{\"colorbar\":{\"outlinewidth\":0,\"ticks\":\"\"}},\"type\":\"scattermapbox\"}],\"scatterpolar\":[{\"marker\":{\"colorbar\":{\"outlinewidth\":0,\"ticks\":\"\"}},\"type\":\"scatterpolar\"}],\"scatterpolargl\":[{\"marker\":{\"colorbar\":{\"outlinewidth\":0,\"ticks\":\"\"}},\"type\":\"scatterpolargl\"}],\"scatterternary\":[{\"marker\":{\"colorbar\":{\"outlinewidth\":0,\"ticks\":\"\"}},\"type\":\"scatterternary\"}],\"surface\":[{\"colorbar\":{\"outlinewidth\":0,\"ticks\":\"\"},\"colorscale\":[[0.0,\"#0d0887\"],[0.1111111111111111,\"#46039f\"],[0.2222222222222222,\"#7201a8\"],[0.3333333333333333,\"#9c179e\"],[0.4444444444444444,\"#bd3786\"],[0.5555555555555556,\"#d8576b\"],[0.6666666666666666,\"#ed7953\"],[0.7777777777777778,\"#fb9f3a\"],[0.8888888888888888,\"#fdca26\"],[1.0,\"#f0f921\"]],\"type\":\"surface\"}],\"table\":[{\"cells\":{\"fill\":{\"color\":\"#EBF0F8\"},\"line\":{\"color\":\"white\"}},\"header\":{\"fill\":{\"color\":\"#C8D4E3\"},\"line\":{\"color\":\"white\"}},\"type\":\"table\"}]},\"layout\":{\"annotationdefaults\":{\"arrowcolor\":\"#2a3f5f\",\"arrowhead\":0,\"arrowwidth\":1},\"autotypenumbers\":\"strict\",\"coloraxis\":{\"colorbar\":{\"outlinewidth\":0,\"ticks\":\"\"}},\"colorscale\":{\"diverging\":[[0,\"#8e0152\"],[0.1,\"#c51b7d\"],[0.2,\"#de77ae\"],[0.3,\"#f1b6da\"],[0.4,\"#fde0ef\"],[0.5,\"#f7f7f7\"],[0.6,\"#e6f5d0\"],[0.7,\"#b8e186\"],[0.8,\"#7fbc41\"],[0.9,\"#4d9221\"],[1,\"#276419\"]],\"sequential\":[[0.0,\"#0d0887\"],[0.1111111111111111,\"#46039f\"],[0.2222222222222222,\"#7201a8\"],[0.3333333333333333,\"#9c179e\"],[0.4444444444444444,\"#bd3786\"],[0.5555555555555556,\"#d8576b\"],[0.6666666666666666,\"#ed7953\"],[0.7777777777777778,\"#fb9f3a\"],[0.8888888888888888,\"#fdca26\"],[1.0,\"#f0f921\"]],\"sequentialminus\":[[0.0,\"#0d0887\"],[0.1111111111111111,\"#46039f\"],[0.2222222222222222,\"#7201a8\"],[0.3333333333333333,\"#9c179e\"],[0.4444444444444444,\"#bd3786\"],[0.5555555555555556,\"#d8576b\"],[0.6666666666666666,\"#ed7953\"],[0.7777777777777778,\"#fb9f3a\"],[0.8888888888888888,\"#fdca26\"],[1.0,\"#f0f921\"]]},\"colorway\":[\"#636efa\",\"#EF553B\",\"#00cc96\",\"#ab63fa\",\"#FFA15A\",\"#19d3f3\",\"#FF6692\",\"#B6E880\",\"#FF97FF\",\"#FECB52\"],\"font\":{\"color\":\"#2a3f5f\"},\"geo\":{\"bgcolor\":\"white\",\"lakecolor\":\"white\",\"landcolor\":\"#E5ECF6\",\"showlakes\":true,\"showland\":true,\"subunitcolor\":\"white\"},\"hoverlabel\":{\"align\":\"left\"},\"hovermode\":\"closest\",\"mapbox\":{\"style\":\"light\"},\"paper_bgcolor\":\"white\",\"plot_bgcolor\":\"#E5ECF6\",\"polar\":{\"angularaxis\":{\"gridcolor\":\"white\",\"linecolor\":\"white\",\"ticks\":\"\"},\"bgcolor\":\"#E5ECF6\",\"radialaxis\":{\"gridcolor\":\"white\",\"linecolor\":\"white\",\"ticks\":\"\"}},\"scene\":{\"xaxis\":{\"backgroundcolor\":\"#E5ECF6\",\"gridcolor\":\"white\",\"gridwidth\":2,\"linecolor\":\"white\",\"showbackground\":true,\"ticks\":\"\",\"zerolinecolor\":\"white\"},\"yaxis\":{\"backgroundcolor\":\"#E5ECF6\",\"gridcolor\":\"white\",\"gridwidth\":2,\"linecolor\":\"white\",\"showbackground\":true,\"ticks\":\"\",\"zerolinecolor\":\"white\"},\"zaxis\":{\"backgroundcolor\":\"#E5ECF6\",\"gridcolor\":\"white\",\"gridwidth\":2,\"linecolor\":\"white\",\"showbackground\":true,\"ticks\":\"\",\"zerolinecolor\":\"white\"}},\"shapedefaults\":{\"line\":{\"color\":\"#2a3f5f\"}},\"ternary\":{\"aaxis\":{\"gridcolor\":\"white\",\"linecolor\":\"white\",\"ticks\":\"\"},\"baxis\":{\"gridcolor\":\"white\",\"linecolor\":\"white\",\"ticks\":\"\"},\"bgcolor\":\"#E5ECF6\",\"caxis\":{\"gridcolor\":\"white\",\"linecolor\":\"white\",\"ticks\":\"\"}},\"title\":{\"x\":0.05},\"xaxis\":{\"automargin\":true,\"gridcolor\":\"white\",\"linecolor\":\"white\",\"ticks\":\"\",\"title\":{\"standoff\":15},\"zerolinecolor\":\"white\",\"zerolinewidth\":2},\"yaxis\":{\"automargin\":true,\"gridcolor\":\"white\",\"linecolor\":\"white\",\"ticks\":\"\",\"title\":{\"standoff\":15},\"zerolinecolor\":\"white\",\"zerolinewidth\":2}}},\"xaxis\":{\"anchor\":\"y\",\"domain\":[0.0,1.0],\"title\":{\"text\":\"hours_till_close\"}},\"yaxis\":{\"anchor\":\"x\",\"domain\":[0.0,1.0],\"title\":{\"text\":\"body_processed\"}},\"legend\":{\"title\":{\"text\":\"stock\"},\"tracegroupgap\":0},\"title\":{\"text\":\"Count of StockTwits per Hour till Stock Closing Time\"},\"barmode\":\"relative\",\"shapes\":[{\"type\":\"line\",\"x0\":6,\"x1\":6,\"xref\":\"x\",\"y0\":0,\"y1\":1,\"yref\":\"y domain\"},{\"type\":\"line\",\"x0\":16,\"x1\":16,\"xref\":\"x\",\"y0\":0,\"y1\":1,\"yref\":\"y domain\"},{\"type\":\"line\",\"x0\":23,\"x1\":23,\"xref\":\"x\",\"y0\":0,\"y1\":1,\"yref\":\"y domain\"}],\"annotations\":[{\"showarrow\":false,\"text\":\"trading\",\"x\":6,\"xanchor\":\"right\",\"xref\":\"x\",\"y\":1,\"yanchor\":\"top\",\"yref\":\"y domain\"},{\"showarrow\":false,\"text\":\"midnight\",\"x\":16,\"xanchor\":\"right\",\"xref\":\"x\",\"y\":1,\"yanchor\":\"top\",\"yref\":\"y domain\"},{\"showarrow\":false,\"text\":\"next days are none-trading\",\"x\":23,\"xanchor\":\"left\",\"xref\":\"x\",\"y\":1,\"yanchor\":\"top\",\"yref\":\"y domain\"}]},                        {\"responsive\": true}                    ).then(function(){\n",
       "                            \n",
       "var gd = document.getElementById('0e66aa60-e662-430b-a7c4-5437db784c64');\n",
       "var x = new MutationObserver(function (mutations, observer) {{\n",
       "        var display = window.getComputedStyle(gd).display;\n",
       "        if (!display || display === 'none') {{\n",
       "            console.log([gd, 'removed!']);\n",
       "            Plotly.purge(gd);\n",
       "            observer.disconnect();\n",
       "        }}\n",
       "}});\n",
       "\n",
       "// Listen for the removal of the full notebook cells\n",
       "var notebookContainer = gd.closest('#notebook-container');\n",
       "if (notebookContainer) {{\n",
       "    x.observe(notebookContainer, {childList: true});\n",
       "}}\n",
       "\n",
       "// Listen for the clearing of the current output cell\n",
       "var outputEl = gd.closest('.output');\n",
       "if (outputEl) {{\n",
       "    x.observe(outputEl, {childList: true});\n",
       "}}\n",
       "\n",
       "                        })                };                });            </script>        </div>"
      ]
     },
     "metadata": {},
     "output_type": "display_data"
    }
   ],
   "source": [
    "eda_by_group(df_twits_combined_with_feature_with_time_with_stock_new)"
   ]
  },
  {
   "cell_type": "code",
   "execution_count": 124,
   "id": "0d244692-3d11-48f5-9563-72d51fd70b59",
   "metadata": {},
   "outputs": [],
   "source": [
    "def eda_by_group_2(df, grouping_list=['hours_till_close', 'stock']):\n",
    "    # for within_trading_time in [True, False]:\n",
    "    # df_group = df[df['within_trading_time']==within_trading_time].groupby(grouping_list)['count_all_char'].mean().reset_index()\n",
    "    df_group = df.groupby(grouping_list)['count_all_char'].mean().reset_index()\n",
    "    fig = px.line(df_group, x='hours_till_close', y='count_all_char', color='stock', title='Average of Charaster Length per Hour till Stock Closing Time')\n",
    "    fig.add_vline(x=6, annotation_text='trading', annotation_position='top left')\n",
    "    fig.add_vline(x=16, annotation_text='midnight', annotation_position='top left')\n",
    "    fig.add_vline(x=23, annotation_text='next days are none-trading', annotation_position='top right')\n",
    "    fig.show()"
   ]
  },
  {
   "cell_type": "code",
   "execution_count": 125,
   "id": "d93702c9-7512-41c4-bf04-209baa7377fe",
   "metadata": {},
   "outputs": [
    {
     "data": {
      "application/vnd.plotly.v1+json": {
       "config": {
        "plotlyServerURL": "https://plot.ly"
       },
       "data": [
        {
         "hovertemplate": "stock=AAPL<br>hours_till_close=%{x}<br>count_all_char=%{y}<extra></extra>",
         "legendgroup": "AAPL",
         "line": {
          "color": "#636efa",
          "dash": "solid"
         },
         "marker": {
          "symbol": "circle"
         },
         "mode": "lines",
         "name": "AAPL",
         "orientation": "v",
         "showlegend": true,
         "type": "scatter",
         "x": [
          0,
          1,
          2,
          3,
          4,
          5,
          6,
          7,
          8,
          9,
          10,
          11,
          12,
          13,
          14,
          15,
          16,
          17,
          18,
          19,
          20,
          21,
          22,
          23,
          24,
          25,
          26,
          27,
          28,
          29,
          30,
          31,
          32,
          33,
          34,
          35,
          36,
          37,
          38,
          39,
          40,
          41,
          42,
          43,
          44,
          45,
          46,
          47,
          48,
          49,
          50,
          51,
          52,
          53,
          54,
          55,
          56,
          57,
          58,
          59,
          60,
          61,
          62,
          63,
          64,
          65,
          66,
          67,
          68,
          69,
          70,
          71,
          72,
          73,
          74,
          75,
          76,
          77,
          78,
          79,
          80,
          81,
          82,
          83,
          84,
          85,
          86,
          87,
          88,
          89,
          90,
          91,
          92,
          93,
          94,
          95
         ],
         "xaxis": "x",
         "y": [
          57.70943862616275,
          62.196786375416515,
          61.23731210001488,
          62.514156352858826,
          62.67117310542574,
          59.287996708205974,
          58.3495592233543,
          78.81772894583898,
          76.80745072557939,
          77.58575475515985,
          75.82731901704672,
          66.70287727539636,
          74.70478284771853,
          75.81607757272442,
          84.22042097006144,
          85.28084040092521,
          86.968996782685,
          87.80383523550199,
          88.88239417632785,
          84.73794268117022,
          84.6436609152288,
          82.37808820133918,
          79.38685708771591,
          66.87288690151598,
          102.69931439764936,
          104.04347826086956,
          117.75887573964496,
          101.5647792706334,
          116.46413934426229,
          115.6797599563557,
          109.7875927174646,
          102.54079696394687,
          91.94342291371994,
          85.68537074148297,
          87.89223057644111,
          89.68981481481481,
          92.04741379310344,
          102.3855633802817,
          98.24563758389262,
          100.20533880903491,
          98.37556561085972,
          103.9325925925926,
          106.0791770573566,
          100.17621951219512,
          114.1260606060606,
          106.752457002457,
          103.12903225806451,
          102.05052878965923,
          104.8500814774579,
          105.58964365256125,
          117.83359914938862,
          109.5360824742268,
          129.84754797441366,
          119.85462036492054,
          105.67042440318302,
          113.81595648232094,
          103.94730238393977,
          99.4967032967033,
          108.2507204610951,
          85.86792452830188,
          104.58193277310924,
          102.82142857142857,
          97.40789473684211,
          94.19259259259259,
          91.0068073519401,
          95.53776435045317,
          103.23031496062993,
          92.83988415390981,
          89.91518864882296,
          91.50204319906597,
          92.04615734424739,
          77.40351711026616,
          93.51598173515981,
          118.17972350230414,
          116.18376068376068,
          108.93087557603687,
          106.95111111111112,
          114.3859649122807,
          116.80861244019138,
          120.74850299401197,
          97.17045454545455,
          83.38297872340425,
          117.60526315789474,
          108.73076923076923,
          82.85106382978724,
          101,
          78.56470588235294,
          84.73228346456693,
          96.59883720930233,
          108.7035175879397,
          111.73459715639811,
          103.83882783882784,
          89.49421965317919,
          96.18765432098765,
          88.23883161512028,
          78.46166807076663
         ],
         "yaxis": "y"
        },
        {
         "hovertemplate": "stock=AMZN<br>hours_till_close=%{x}<br>count_all_char=%{y}<extra></extra>",
         "legendgroup": "AMZN",
         "line": {
          "color": "#EF553B",
          "dash": "solid"
         },
         "marker": {
          "symbol": "circle"
         },
         "mode": "lines",
         "name": "AMZN",
         "orientation": "v",
         "showlegend": true,
         "type": "scatter",
         "x": [
          0,
          1,
          2,
          3,
          4,
          5,
          6,
          7,
          8,
          9,
          10,
          11,
          12,
          13,
          14,
          15,
          16,
          17,
          18,
          19,
          20,
          21,
          22,
          23,
          24,
          25,
          26,
          27,
          28,
          29,
          30,
          31,
          32,
          33,
          34,
          35,
          36,
          37,
          38,
          39,
          40,
          41,
          42,
          43,
          44,
          45,
          46,
          47,
          48,
          49,
          50,
          51,
          52,
          53,
          54,
          55,
          56,
          57,
          58,
          59,
          60,
          61,
          62,
          63,
          64,
          65,
          66,
          67,
          68,
          69,
          70,
          71,
          72,
          73,
          74,
          75,
          76,
          77,
          78,
          79,
          80,
          81,
          82,
          83,
          84,
          85,
          86,
          87,
          88,
          89,
          90,
          91,
          92,
          93,
          94,
          95
         ],
         "xaxis": "x",
         "y": [
          61.584078602406095,
          67.7824910535044,
          69.118713761685,
          69.03064113705811,
          67.44065128760901,
          64.1714064948166,
          68.52817166183263,
          86.60443458980045,
          82.90792729755098,
          83.88885486834047,
          82.73655913978494,
          75.68073676132003,
          88.61943319838056,
          87.2327969873331,
          95.70512114537445,
          97.5871453387377,
          96.7073810994441,
          96.96543665436654,
          98.45937000684775,
          96.07504449278228,
          91.37815876417537,
          86.48620560747663,
          82.42353901784672,
          65.54891584186738,
          106.36979166666667,
          110.59811320754717,
          119.47782258064517,
          108.68094405594405,
          117.41828793774319,
          118.6018711018711,
          116.64201877934272,
          106.2652733118971,
          107.83066361556064,
          110.07308970099668,
          107.64563106796116,
          111.3391304347826,
          92.60424028268551,
          106.2,
          105.13297872340425,
          114.17021276595744,
          106.48561759729273,
          110.60510510510511,
          106.38009049773756,
          97.68778280542986,
          113.45820895522388,
          104.58060288335518,
          113.6975138121547,
          110.69020501138952,
          103.56924882629107,
          120.85946573751451,
          114.92102454642476,
          122.54620976116303,
          129.1397616468039,
          125.53172866520788,
          114.8601747815231,
          113.12773109243697,
          100.30126582278481,
          129.24675324675326,
          95.1896551724138,
          112.43457943925233,
          103.35406698564593,
          106.19028340080972,
          111.88095238095238,
          110.02918287937743,
          97.89650145772595,
          105.7203166226913,
          103.58499413833529,
          97.71620411817368,
          101.69200930954229,
          94.99571603427172,
          96.83192883895131,
          82.83938953488372,
          101.65789473684211,
          139.76470588235293,
          122.28155339805825,
          117.6470588235294,
          119.26415094339623,
          118.95,
          113.16814159292035,
          110,
          104.17777777777778,
          103.75,
          118.375,
          101.88461538461539,
          131.9655172413793,
          77.02631578947368,
          92.28571428571429,
          94.82539682539682,
          128.47368421052633,
          99.18,
          83.39370078740157,
          75.44755244755245,
          84.63291139240506,
          98.16203703703704,
          106.10593220338983,
          84.08424908424908
         ],
         "yaxis": "y"
        },
        {
         "hovertemplate": "stock=FB<br>hours_till_close=%{x}<br>count_all_char=%{y}<extra></extra>",
         "legendgroup": "FB",
         "line": {
          "color": "#00cc96",
          "dash": "solid"
         },
         "marker": {
          "symbol": "circle"
         },
         "mode": "lines",
         "name": "FB",
         "orientation": "v",
         "showlegend": true,
         "type": "scatter",
         "x": [
          0,
          1,
          2,
          3,
          4,
          5,
          6,
          7,
          8,
          9,
          10,
          11,
          12,
          13,
          14,
          15,
          16,
          17,
          18,
          19,
          20,
          21,
          22,
          23,
          24,
          25,
          26,
          27,
          28,
          29,
          30,
          31,
          32,
          33,
          34,
          35,
          36,
          37,
          38,
          39,
          40,
          41,
          42,
          43,
          44,
          45,
          46,
          47,
          48,
          49,
          50,
          51,
          52,
          53,
          54,
          55,
          56,
          57,
          58,
          59,
          60,
          61,
          62,
          63,
          64,
          65,
          66,
          67,
          68,
          69,
          70,
          71,
          72,
          73,
          74,
          75,
          76,
          77,
          78,
          79,
          80,
          81,
          82,
          83,
          84,
          85,
          86,
          87,
          88,
          89,
          90,
          91,
          92,
          93,
          94,
          95
         ],
         "xaxis": "x",
         "y": [
          60.56911165444173,
          64.26964509394573,
          64.78537725448693,
          64.30026865054764,
          64.67077443993858,
          60.77561388653683,
          61.064320237947705,
          83.7303946263644,
          80.27487152457505,
          81.58364055299539,
          76.5001700102006,
          71.81932773109244,
          84.34460641399417,
          87.68279301745636,
          92.11310661062285,
          93.39719626168224,
          90.5698312236287,
          94.84350393700787,
          91.35006624466362,
          90.47119948685055,
          85.11249852750619,
          81.13687616432983,
          76.30603448275862,
          62.06400196174595,
          93.97892271662764,
          100.30361445783133,
          108.90359897172236,
          100.12597547380156,
          114.19354838709677,
          132.33423913043478,
          114.57297297297298,
          113.01902173913044,
          90.64727272727272,
          85.27488151658768,
          101.70138888888889,
          93.5670731707317,
          87.76744186046511,
          111.26086956521739,
          90.38162544169612,
          90.52331606217616,
          97.69141531322506,
          95.06371681415929,
          119.65280289330923,
          113.5884476534296,
          112.49454545454546,
          108.72644927536231,
          106.95921985815603,
          109.43207855973813,
          100.34520123839009,
          109.33792048929664,
          119.06954102920723,
          121.3046544428773,
          122.03676470588235,
          116.14127423822714,
          117.08177172061329,
          119.47457627118644,
          105.76408450704226,
          87.62637362637362,
          92.1592356687898,
          90.22289156626506,
          107.9877300613497,
          112.51121076233184,
          107.68435754189944,
          99.24261603375527,
          113.68760611205433,
          96.10810810810811,
          103.73076923076923,
          92.47909199522103,
          95.14643188137164,
          93.94217081850533,
          93.74785323965652,
          84.29683813119397,
          74.21875,
          117.87096774193549,
          104.13223140495867,
          120.78181818181818,
          101.87,
          116.13265306122449,
          137.888,
          115.475,
          96.4375,
          105.67647058823529,
          91.44827586206897,
          51.23809523809524,
          78.14285714285714,
          140.10344827586206,
          62.857142857142854,
          75.71666666666667,
          97.81538461538462,
          81.15116279069767,
          115.33980582524272,
          85.85087719298245,
          86.06849315068493,
          82.18452380952381,
          86.1587982832618,
          81.49090909090908
         ],
         "yaxis": "y"
        },
        {
         "hovertemplate": "stock=NVDA<br>hours_till_close=%{x}<br>count_all_char=%{y}<extra></extra>",
         "legendgroup": "NVDA",
         "line": {
          "color": "#ab63fa",
          "dash": "solid"
         },
         "marker": {
          "symbol": "circle"
         },
         "mode": "lines",
         "name": "NVDA",
         "orientation": "v",
         "showlegend": true,
         "type": "scatter",
         "x": [
          0,
          1,
          2,
          3,
          4,
          5,
          6,
          7,
          8,
          9,
          10,
          11,
          12,
          13,
          14,
          15,
          16,
          17,
          18,
          19,
          20,
          21,
          22,
          23,
          24,
          25,
          26,
          27,
          28,
          29,
          30,
          31,
          32,
          33,
          34,
          35,
          36,
          37,
          38,
          39,
          40,
          41,
          42,
          43,
          44,
          45,
          46,
          47,
          48,
          49,
          50,
          51,
          52,
          53,
          54,
          55,
          56,
          57,
          58,
          59,
          60,
          61,
          62,
          63,
          64,
          65,
          66,
          67,
          68,
          69,
          70,
          71,
          72,
          73,
          74,
          75,
          76,
          77,
          78,
          79,
          80,
          81,
          82,
          83,
          84,
          85,
          86,
          87,
          88,
          89,
          90,
          91,
          92,
          93,
          94,
          95
         ],
         "xaxis": "x",
         "y": [
          56.01104468537846,
          61.10158530303897,
          61.03818902365798,
          59.407653219952294,
          58.947544537656704,
          56.62896957801767,
          56.95458962805902,
          80.26052023701918,
          69.92367207260824,
          74.1313016234691,
          70.24418112568769,
          60.69253112033195,
          75.46292446292446,
          85.6182685753238,
          92.75621621621622,
          90.44376776289079,
          87.74035196048163,
          93.85579781962339,
          95.26706443914081,
          87.19912971404891,
          83.83366479840896,
          80.7204270051933,
          73.53932353243549,
          59.85158973825259,
          89.57575757575758,
          98.38293216630197,
          117.81314168377824,
          100.59016393442623,
          108.2179176755448,
          122.87032418952619,
          82.7883008356546,
          95.17283950617283,
          87.10695187165776,
          94.54014598540147,
          90.92857142857143,
          83.75333333333333,
          90.9,
          95.62903225806451,
          100.4074074074074,
          87.63687150837988,
          88.99459459459459,
          85.04794520547945,
          137.74193548387098,
          105.70294117647059,
          109.1140350877193,
          113.70431893687707,
          98.95320197044335,
          82.91232227488152,
          101.0909090909091,
          110.41353383458646,
          127.30504587155963,
          107.18120805369128,
          131.63577586206895,
          119.6989010989011,
          99.30295566502463,
          117.40977443609023,
          98.83417085427136,
          106.97169811320755,
          90.66990291262135,
          69.79020979020979,
          103.85344827586206,
          79.67424242424242,
          87.14462809917356,
          76.54609929078015,
          94.625,
          92.8475935828877,
          86.82494529540482,
          81.91115311909263,
          99.6029411764706,
          93.9247311827957,
          84.60203045685279,
          79.83617234468937,
          77.79629629629629,
          95.75510204081633,
          119.515625,
          105.22222222222223,
          87.11940298507463,
          125.37704918032787,
          102.75757575757575,
          149.2,
          92.06666666666666,
          114.29411764705883,
          113.55,
          74.51851851851852,
          131.6818181818182,
          78.44680851063829,
          96.2258064516129,
          101.94915254237289,
          82.81666666666666,
          91.26582278481013,
          85.33333333333333,
          84.09909909909909,
          93.52212389380531,
          100.85987261146497,
          79.44864864864864,
          81.63235294117646
         ],
         "yaxis": "y"
        },
        {
         "hovertemplate": "stock=TSLA<br>hours_till_close=%{x}<br>count_all_char=%{y}<extra></extra>",
         "legendgroup": "TSLA",
         "line": {
          "color": "#FFA15A",
          "dash": "solid"
         },
         "marker": {
          "symbol": "circle"
         },
         "mode": "lines",
         "name": "TSLA",
         "orientation": "v",
         "showlegend": true,
         "type": "scatter",
         "x": [
          0,
          1,
          2,
          3,
          4,
          5,
          6,
          7,
          8,
          9,
          10,
          11,
          12,
          13,
          14,
          15,
          16,
          17,
          18,
          19,
          20,
          21,
          22,
          23,
          24,
          25,
          26,
          27,
          28,
          29,
          30,
          31,
          32,
          33,
          34,
          35,
          36,
          37,
          38,
          39,
          40,
          41,
          42,
          43,
          44,
          45,
          46,
          47,
          48,
          49,
          50,
          51,
          52,
          53,
          54,
          55,
          56,
          57,
          58,
          59,
          60,
          61,
          62,
          63,
          64,
          65,
          66,
          67,
          68,
          69,
          70,
          71,
          72,
          73,
          74,
          75,
          76,
          77,
          78,
          79,
          80,
          81,
          82,
          83,
          84,
          85,
          86,
          87,
          88,
          89,
          90,
          91,
          92,
          93,
          94,
          95
         ],
         "xaxis": "x",
         "y": [
          54.312236286919834,
          57.333694433115824,
          58.800638773978925,
          59.56742878658046,
          58.58512751071993,
          55.1103288671221,
          54.57751813884834,
          73.44874377186473,
          69.19479879305709,
          73.79272113105777,
          73.63128922162281,
          62.98199221843473,
          73.91289470524673,
          75.57325792338064,
          86.15651315105521,
          87.78819235551278,
          86.29234570990647,
          84.89088646473205,
          86.48839232451779,
          84.18385760114062,
          78.82783783783783,
          74.95673866363522,
          72.04533511118083,
          65.82792997317014,
          95.96300669027941,
          95.73989847715735,
          105.6305186455208,
          104.8873826903024,
          105.0509394572025,
          114.135960591133,
          105.76553672316385,
          107.13871543264942,
          106.64671052631579,
          103.45683802133851,
          94.57528556593977,
          102.70528455284553,
          99.15123194562447,
          99.77329192546584,
          95.11967128916281,
          87.95524296675192,
          92.04432432432432,
          90.77215608465609,
          100.07755102040817,
          96.53929938180748,
          101.3803094233474,
          98.05854430379746,
          102.37522863862033,
          96.59627182633318,
          94.5600756859035,
          105.37585842577919,
          114.46048780487804,
          110.24685686653771,
          119.72086043021511,
          119.45720850086157,
          113.02914210870989,
          119.26525198938992,
          107.47870311506675,
          113.1488736532811,
          107.22345132743362,
          102.94493392070484,
          104.28280141843972,
          106.74093655589124,
          99.44470868014268,
          95.14052428018908,
          94.49486244613855,
          95.24602486267707,
          97.43356286661566,
          94.76826360286148,
          88.7130060292851,
          87.33357611070649,
          88.64154954529349,
          76.57891701377764,
          107.36896551724138,
          102.04193548387097,
          98.8767550702028,
          99.80649717514125,
          98.58179231863443,
          109.56207366984994,
          99.22974767596281,
          97.64206642066421,
          111.73387096774194,
          119.64539007092199,
          101.390625,
          112.9296875,
          88.89308176100629,
          108.50777202072538,
          90.98936170212765,
          91.35049019607843,
          84.42915811088295,
          102.17863105175292,
          92.54011461318052,
          93.65161290322581,
          79.66890080428955,
          78.18866822429906,
          77.034375,
          77.29561200923787
         ],
         "yaxis": "y"
        }
       ],
       "layout": {
        "annotations": [
         {
          "showarrow": false,
          "text": "trading",
          "x": 6,
          "xanchor": "right",
          "xref": "x",
          "y": 1,
          "yanchor": "top",
          "yref": "y domain"
         },
         {
          "showarrow": false,
          "text": "midnight",
          "x": 16,
          "xanchor": "right",
          "xref": "x",
          "y": 1,
          "yanchor": "top",
          "yref": "y domain"
         },
         {
          "showarrow": false,
          "text": "next days are none-trading",
          "x": 23,
          "xanchor": "left",
          "xref": "x",
          "y": 1,
          "yanchor": "top",
          "yref": "y domain"
         }
        ],
        "autosize": true,
        "legend": {
         "title": {
          "text": "stock"
         },
         "tracegroupgap": 0
        },
        "shapes": [
         {
          "type": "line",
          "x0": 6,
          "x1": 6,
          "xref": "x",
          "y0": 0,
          "y1": 1,
          "yref": "y domain"
         },
         {
          "type": "line",
          "x0": 16,
          "x1": 16,
          "xref": "x",
          "y0": 0,
          "y1": 1,
          "yref": "y domain"
         },
         {
          "type": "line",
          "x0": 23,
          "x1": 23,
          "xref": "x",
          "y0": 0,
          "y1": 1,
          "yref": "y domain"
         }
        ],
        "template": {
         "data": {
          "bar": [
           {
            "error_x": {
             "color": "#2a3f5f"
            },
            "error_y": {
             "color": "#2a3f5f"
            },
            "marker": {
             "line": {
              "color": "#E5ECF6",
              "width": 0.5
             },
             "pattern": {
              "fillmode": "overlay",
              "size": 10,
              "solidity": 0.2
             }
            },
            "type": "bar"
           }
          ],
          "barpolar": [
           {
            "marker": {
             "line": {
              "color": "#E5ECF6",
              "width": 0.5
             },
             "pattern": {
              "fillmode": "overlay",
              "size": 10,
              "solidity": 0.2
             }
            },
            "type": "barpolar"
           }
          ],
          "carpet": [
           {
            "aaxis": {
             "endlinecolor": "#2a3f5f",
             "gridcolor": "white",
             "linecolor": "white",
             "minorgridcolor": "white",
             "startlinecolor": "#2a3f5f"
            },
            "baxis": {
             "endlinecolor": "#2a3f5f",
             "gridcolor": "white",
             "linecolor": "white",
             "minorgridcolor": "white",
             "startlinecolor": "#2a3f5f"
            },
            "type": "carpet"
           }
          ],
          "choropleth": [
           {
            "colorbar": {
             "outlinewidth": 0,
             "ticks": ""
            },
            "type": "choropleth"
           }
          ],
          "contour": [
           {
            "colorbar": {
             "outlinewidth": 0,
             "ticks": ""
            },
            "colorscale": [
             [
              0,
              "#0d0887"
             ],
             [
              0.1111111111111111,
              "#46039f"
             ],
             [
              0.2222222222222222,
              "#7201a8"
             ],
             [
              0.3333333333333333,
              "#9c179e"
             ],
             [
              0.4444444444444444,
              "#bd3786"
             ],
             [
              0.5555555555555556,
              "#d8576b"
             ],
             [
              0.6666666666666666,
              "#ed7953"
             ],
             [
              0.7777777777777778,
              "#fb9f3a"
             ],
             [
              0.8888888888888888,
              "#fdca26"
             ],
             [
              1,
              "#f0f921"
             ]
            ],
            "type": "contour"
           }
          ],
          "contourcarpet": [
           {
            "colorbar": {
             "outlinewidth": 0,
             "ticks": ""
            },
            "type": "contourcarpet"
           }
          ],
          "heatmap": [
           {
            "colorbar": {
             "outlinewidth": 0,
             "ticks": ""
            },
            "colorscale": [
             [
              0,
              "#0d0887"
             ],
             [
              0.1111111111111111,
              "#46039f"
             ],
             [
              0.2222222222222222,
              "#7201a8"
             ],
             [
              0.3333333333333333,
              "#9c179e"
             ],
             [
              0.4444444444444444,
              "#bd3786"
             ],
             [
              0.5555555555555556,
              "#d8576b"
             ],
             [
              0.6666666666666666,
              "#ed7953"
             ],
             [
              0.7777777777777778,
              "#fb9f3a"
             ],
             [
              0.8888888888888888,
              "#fdca26"
             ],
             [
              1,
              "#f0f921"
             ]
            ],
            "type": "heatmap"
           }
          ],
          "heatmapgl": [
           {
            "colorbar": {
             "outlinewidth": 0,
             "ticks": ""
            },
            "colorscale": [
             [
              0,
              "#0d0887"
             ],
             [
              0.1111111111111111,
              "#46039f"
             ],
             [
              0.2222222222222222,
              "#7201a8"
             ],
             [
              0.3333333333333333,
              "#9c179e"
             ],
             [
              0.4444444444444444,
              "#bd3786"
             ],
             [
              0.5555555555555556,
              "#d8576b"
             ],
             [
              0.6666666666666666,
              "#ed7953"
             ],
             [
              0.7777777777777778,
              "#fb9f3a"
             ],
             [
              0.8888888888888888,
              "#fdca26"
             ],
             [
              1,
              "#f0f921"
             ]
            ],
            "type": "heatmapgl"
           }
          ],
          "histogram": [
           {
            "marker": {
             "pattern": {
              "fillmode": "overlay",
              "size": 10,
              "solidity": 0.2
             }
            },
            "type": "histogram"
           }
          ],
          "histogram2d": [
           {
            "colorbar": {
             "outlinewidth": 0,
             "ticks": ""
            },
            "colorscale": [
             [
              0,
              "#0d0887"
             ],
             [
              0.1111111111111111,
              "#46039f"
             ],
             [
              0.2222222222222222,
              "#7201a8"
             ],
             [
              0.3333333333333333,
              "#9c179e"
             ],
             [
              0.4444444444444444,
              "#bd3786"
             ],
             [
              0.5555555555555556,
              "#d8576b"
             ],
             [
              0.6666666666666666,
              "#ed7953"
             ],
             [
              0.7777777777777778,
              "#fb9f3a"
             ],
             [
              0.8888888888888888,
              "#fdca26"
             ],
             [
              1,
              "#f0f921"
             ]
            ],
            "type": "histogram2d"
           }
          ],
          "histogram2dcontour": [
           {
            "colorbar": {
             "outlinewidth": 0,
             "ticks": ""
            },
            "colorscale": [
             [
              0,
              "#0d0887"
             ],
             [
              0.1111111111111111,
              "#46039f"
             ],
             [
              0.2222222222222222,
              "#7201a8"
             ],
             [
              0.3333333333333333,
              "#9c179e"
             ],
             [
              0.4444444444444444,
              "#bd3786"
             ],
             [
              0.5555555555555556,
              "#d8576b"
             ],
             [
              0.6666666666666666,
              "#ed7953"
             ],
             [
              0.7777777777777778,
              "#fb9f3a"
             ],
             [
              0.8888888888888888,
              "#fdca26"
             ],
             [
              1,
              "#f0f921"
             ]
            ],
            "type": "histogram2dcontour"
           }
          ],
          "mesh3d": [
           {
            "colorbar": {
             "outlinewidth": 0,
             "ticks": ""
            },
            "type": "mesh3d"
           }
          ],
          "parcoords": [
           {
            "line": {
             "colorbar": {
              "outlinewidth": 0,
              "ticks": ""
             }
            },
            "type": "parcoords"
           }
          ],
          "pie": [
           {
            "automargin": true,
            "type": "pie"
           }
          ],
          "scatter": [
           {
            "marker": {
             "colorbar": {
              "outlinewidth": 0,
              "ticks": ""
             }
            },
            "type": "scatter"
           }
          ],
          "scatter3d": [
           {
            "line": {
             "colorbar": {
              "outlinewidth": 0,
              "ticks": ""
             }
            },
            "marker": {
             "colorbar": {
              "outlinewidth": 0,
              "ticks": ""
             }
            },
            "type": "scatter3d"
           }
          ],
          "scattercarpet": [
           {
            "marker": {
             "colorbar": {
              "outlinewidth": 0,
              "ticks": ""
             }
            },
            "type": "scattercarpet"
           }
          ],
          "scattergeo": [
           {
            "marker": {
             "colorbar": {
              "outlinewidth": 0,
              "ticks": ""
             }
            },
            "type": "scattergeo"
           }
          ],
          "scattergl": [
           {
            "marker": {
             "colorbar": {
              "outlinewidth": 0,
              "ticks": ""
             }
            },
            "type": "scattergl"
           }
          ],
          "scattermapbox": [
           {
            "marker": {
             "colorbar": {
              "outlinewidth": 0,
              "ticks": ""
             }
            },
            "type": "scattermapbox"
           }
          ],
          "scatterpolar": [
           {
            "marker": {
             "colorbar": {
              "outlinewidth": 0,
              "ticks": ""
             }
            },
            "type": "scatterpolar"
           }
          ],
          "scatterpolargl": [
           {
            "marker": {
             "colorbar": {
              "outlinewidth": 0,
              "ticks": ""
             }
            },
            "type": "scatterpolargl"
           }
          ],
          "scatterternary": [
           {
            "marker": {
             "colorbar": {
              "outlinewidth": 0,
              "ticks": ""
             }
            },
            "type": "scatterternary"
           }
          ],
          "surface": [
           {
            "colorbar": {
             "outlinewidth": 0,
             "ticks": ""
            },
            "colorscale": [
             [
              0,
              "#0d0887"
             ],
             [
              0.1111111111111111,
              "#46039f"
             ],
             [
              0.2222222222222222,
              "#7201a8"
             ],
             [
              0.3333333333333333,
              "#9c179e"
             ],
             [
              0.4444444444444444,
              "#bd3786"
             ],
             [
              0.5555555555555556,
              "#d8576b"
             ],
             [
              0.6666666666666666,
              "#ed7953"
             ],
             [
              0.7777777777777778,
              "#fb9f3a"
             ],
             [
              0.8888888888888888,
              "#fdca26"
             ],
             [
              1,
              "#f0f921"
             ]
            ],
            "type": "surface"
           }
          ],
          "table": [
           {
            "cells": {
             "fill": {
              "color": "#EBF0F8"
             },
             "line": {
              "color": "white"
             }
            },
            "header": {
             "fill": {
              "color": "#C8D4E3"
             },
             "line": {
              "color": "white"
             }
            },
            "type": "table"
           }
          ]
         },
         "layout": {
          "annotationdefaults": {
           "arrowcolor": "#2a3f5f",
           "arrowhead": 0,
           "arrowwidth": 1
          },
          "autotypenumbers": "strict",
          "coloraxis": {
           "colorbar": {
            "outlinewidth": 0,
            "ticks": ""
           }
          },
          "colorscale": {
           "diverging": [
            [
             0,
             "#8e0152"
            ],
            [
             0.1,
             "#c51b7d"
            ],
            [
             0.2,
             "#de77ae"
            ],
            [
             0.3,
             "#f1b6da"
            ],
            [
             0.4,
             "#fde0ef"
            ],
            [
             0.5,
             "#f7f7f7"
            ],
            [
             0.6,
             "#e6f5d0"
            ],
            [
             0.7,
             "#b8e186"
            ],
            [
             0.8,
             "#7fbc41"
            ],
            [
             0.9,
             "#4d9221"
            ],
            [
             1,
             "#276419"
            ]
           ],
           "sequential": [
            [
             0,
             "#0d0887"
            ],
            [
             0.1111111111111111,
             "#46039f"
            ],
            [
             0.2222222222222222,
             "#7201a8"
            ],
            [
             0.3333333333333333,
             "#9c179e"
            ],
            [
             0.4444444444444444,
             "#bd3786"
            ],
            [
             0.5555555555555556,
             "#d8576b"
            ],
            [
             0.6666666666666666,
             "#ed7953"
            ],
            [
             0.7777777777777778,
             "#fb9f3a"
            ],
            [
             0.8888888888888888,
             "#fdca26"
            ],
            [
             1,
             "#f0f921"
            ]
           ],
           "sequentialminus": [
            [
             0,
             "#0d0887"
            ],
            [
             0.1111111111111111,
             "#46039f"
            ],
            [
             0.2222222222222222,
             "#7201a8"
            ],
            [
             0.3333333333333333,
             "#9c179e"
            ],
            [
             0.4444444444444444,
             "#bd3786"
            ],
            [
             0.5555555555555556,
             "#d8576b"
            ],
            [
             0.6666666666666666,
             "#ed7953"
            ],
            [
             0.7777777777777778,
             "#fb9f3a"
            ],
            [
             0.8888888888888888,
             "#fdca26"
            ],
            [
             1,
             "#f0f921"
            ]
           ]
          },
          "colorway": [
           "#636efa",
           "#EF553B",
           "#00cc96",
           "#ab63fa",
           "#FFA15A",
           "#19d3f3",
           "#FF6692",
           "#B6E880",
           "#FF97FF",
           "#FECB52"
          ],
          "font": {
           "color": "#2a3f5f"
          },
          "geo": {
           "bgcolor": "white",
           "lakecolor": "white",
           "landcolor": "#E5ECF6",
           "showlakes": true,
           "showland": true,
           "subunitcolor": "white"
          },
          "hoverlabel": {
           "align": "left"
          },
          "hovermode": "closest",
          "mapbox": {
           "style": "light"
          },
          "paper_bgcolor": "white",
          "plot_bgcolor": "#E5ECF6",
          "polar": {
           "angularaxis": {
            "gridcolor": "white",
            "linecolor": "white",
            "ticks": ""
           },
           "bgcolor": "#E5ECF6",
           "radialaxis": {
            "gridcolor": "white",
            "linecolor": "white",
            "ticks": ""
           }
          },
          "scene": {
           "xaxis": {
            "backgroundcolor": "#E5ECF6",
            "gridcolor": "white",
            "gridwidth": 2,
            "linecolor": "white",
            "showbackground": true,
            "ticks": "",
            "zerolinecolor": "white"
           },
           "yaxis": {
            "backgroundcolor": "#E5ECF6",
            "gridcolor": "white",
            "gridwidth": 2,
            "linecolor": "white",
            "showbackground": true,
            "ticks": "",
            "zerolinecolor": "white"
           },
           "zaxis": {
            "backgroundcolor": "#E5ECF6",
            "gridcolor": "white",
            "gridwidth": 2,
            "linecolor": "white",
            "showbackground": true,
            "ticks": "",
            "zerolinecolor": "white"
           }
          },
          "shapedefaults": {
           "line": {
            "color": "#2a3f5f"
           }
          },
          "ternary": {
           "aaxis": {
            "gridcolor": "white",
            "linecolor": "white",
            "ticks": ""
           },
           "baxis": {
            "gridcolor": "white",
            "linecolor": "white",
            "ticks": ""
           },
           "bgcolor": "#E5ECF6",
           "caxis": {
            "gridcolor": "white",
            "linecolor": "white",
            "ticks": ""
           }
          },
          "title": {
           "x": 0.05
          },
          "xaxis": {
           "automargin": true,
           "gridcolor": "white",
           "linecolor": "white",
           "ticks": "",
           "title": {
            "standoff": 15
           },
           "zerolinecolor": "white",
           "zerolinewidth": 2
          },
          "yaxis": {
           "automargin": true,
           "gridcolor": "white",
           "linecolor": "white",
           "ticks": "",
           "title": {
            "standoff": 15
           },
           "zerolinecolor": "white",
           "zerolinewidth": 2
          }
         }
        },
        "title": {
         "text": "Average of Charaster Length per Hour till Stock Closing Time"
        },
        "xaxis": {
         "anchor": "y",
         "autorange": false,
         "domain": [
          0,
          1
         ],
         "range": [
          -0.19970805152035265,
          50.17981653649845
         ],
         "title": {
          "text": "hours_till_close"
         },
         "type": "linear"
        },
        "yaxis": {
         "anchor": "x",
         "autorange": false,
         "domain": [
          0,
          1
         ],
         "range": [
          -0.8626291749338568,
          152.73196224187976
         ],
         "title": {
          "text": "count_all_char"
         },
         "type": "linear"
        }
       }
      },
      "image/png": "[encoded data removed]",
      "text/html": [
       "<div>                            <div id=\"21cf5163-ece6-4179-92d6-39fe87b9193e\" class=\"plotly-graph-div\" style=\"height:525px; width:100%;\"></div>            <script type=\"text/javascript\">                require([\"plotly\"], function(Plotly) {                    window.PLOTLYENV=window.PLOTLYENV || {};                                    if (document.getElementById(\"21cf5163-ece6-4179-92d6-39fe87b9193e\")) {                    Plotly.newPlot(                        \"21cf5163-ece6-4179-92d6-39fe87b9193e\",                        [{\"hovertemplate\":\"stock=AAPL<br>hours_till_close=%{x}<br>count_all_char=%{y}<extra></extra>\",\"legendgroup\":\"AAPL\",\"line\":{\"color\":\"#636efa\",\"dash\":\"solid\"},\"marker\":{\"symbol\":\"circle\"},\"mode\":\"lines\",\"name\":\"AAPL\",\"orientation\":\"v\",\"showlegend\":true,\"x\":[0,1,2,3,4,5,6,7,8,9,10,11,12,13,14,15,16,17,18,19,20,21,22,23,24,25,26,27,28,29,30,31,32,33,34,35,36,37,38,39,40,41,42,43,44,45,46,47,48,49,50,51,52,53,54,55,56,57,58,59,60,61,62,63,64,65,66,67,68,69,70,71,72,73,74,75,76,77,78,79,80,81,82,83,84,85,86,87,88,89,90,91,92,93,94,95],\"xaxis\":\"x\",\"y\":[57.70943862616275,62.196786375416515,61.23731210001488,62.514156352858826,62.67117310542574,59.287996708205974,58.3495592233543,78.81772894583898,76.80745072557939,77.58575475515985,75.82731901704672,66.70287727539636,74.70478284771853,75.81607757272442,84.22042097006144,85.28084040092521,86.968996782685,87.80383523550199,88.88239417632785,84.73794268117022,84.6436609152288,82.37808820133918,79.38685708771591,66.87288690151598,102.69931439764936,104.04347826086956,117.75887573964496,101.5647792706334,116.46413934426229,115.6797599563557,109.7875927174646,102.54079696394687,91.94342291371994,85.68537074148297,87.89223057644111,89.68981481481481,92.04741379310344,102.3855633802817,98.24563758389262,100.20533880903491,98.37556561085972,103.9325925925926,106.0791770573566,100.17621951219512,114.1260606060606,106.752457002457,103.12903225806451,102.05052878965923,104.8500814774579,105.58964365256125,117.83359914938862,109.5360824742268,129.84754797441366,119.85462036492054,105.67042440318302,113.81595648232094,103.94730238393977,99.4967032967033,108.2507204610951,85.86792452830188,104.58193277310924,102.82142857142857,97.40789473684211,94.19259259259259,91.0068073519401,95.53776435045317,103.23031496062993,92.83988415390981,89.91518864882296,91.50204319906597,92.04615734424739,77.40351711026616,93.51598173515981,118.17972350230414,116.18376068376068,108.93087557603687,106.95111111111112,114.3859649122807,116.80861244019138,120.74850299401197,97.17045454545455,83.38297872340425,117.60526315789474,108.73076923076923,82.85106382978724,101.0,78.56470588235294,84.73228346456693,96.59883720930233,108.7035175879397,111.73459715639811,103.83882783882784,89.49421965317919,96.18765432098765,88.23883161512028,78.46166807076663],\"yaxis\":\"y\",\"type\":\"scatter\"},{\"hovertemplate\":\"stock=AMZN<br>hours_till_close=%{x}<br>count_all_char=%{y}<extra></extra>\",\"legendgroup\":\"AMZN\",\"line\":{\"color\":\"#EF553B\",\"dash\":\"solid\"},\"marker\":{\"symbol\":\"circle\"},\"mode\":\"lines\",\"name\":\"AMZN\",\"orientation\":\"v\",\"showlegend\":true,\"x\":[0,1,2,3,4,5,6,7,8,9,10,11,12,13,14,15,16,17,18,19,20,21,22,23,24,25,26,27,28,29,30,31,32,33,34,35,36,37,38,39,40,41,42,43,44,45,46,47,48,49,50,51,52,53,54,55,56,57,58,59,60,61,62,63,64,65,66,67,68,69,70,71,72,73,74,75,76,77,78,79,80,81,82,83,84,85,86,87,88,89,90,91,92,93,94,95],\"xaxis\":\"x\",\"y\":[61.584078602406095,67.7824910535044,69.118713761685,69.03064113705811,67.44065128760901,64.1714064948166,68.52817166183263,86.60443458980045,82.90792729755098,83.88885486834047,82.73655913978494,75.68073676132003,88.61943319838056,87.2327969873331,95.70512114537445,97.5871453387377,96.7073810994441,96.96543665436654,98.45937000684775,96.07504449278228,91.37815876417537,86.48620560747663,82.42353901784672,65.54891584186738,106.36979166666667,110.59811320754717,119.47782258064517,108.68094405594405,117.41828793774319,118.6018711018711,116.64201877934272,106.2652733118971,107.83066361556064,110.07308970099668,107.64563106796116,111.3391304347826,92.60424028268551,106.2,105.13297872340425,114.17021276595744,106.48561759729273,110.60510510510511,106.38009049773756,97.68778280542986,113.45820895522388,104.58060288335518,113.6975138121547,110.69020501138952,103.56924882629107,120.85946573751451,114.92102454642476,122.54620976116303,129.1397616468039,125.53172866520788,114.8601747815231,113.12773109243697,100.30126582278481,129.24675324675326,95.1896551724138,112.43457943925233,103.35406698564593,106.19028340080972,111.88095238095238,110.02918287937743,97.89650145772595,105.7203166226913,103.58499413833529,97.71620411817368,101.69200930954229,94.99571603427172,96.83192883895131,82.83938953488372,101.65789473684211,139.76470588235293,122.28155339805825,117.6470588235294,119.26415094339623,118.95,113.16814159292035,110.0,104.17777777777778,103.75,118.375,101.88461538461539,131.9655172413793,77.02631578947368,92.28571428571429,94.82539682539682,128.47368421052633,99.18,83.39370078740157,75.44755244755245,84.63291139240506,98.16203703703704,106.10593220338983,84.08424908424908],\"yaxis\":\"y\",\"type\":\"scatter\"},{\"hovertemplate\":\"stock=FB<br>hours_till_close=%{x}<br>count_all_char=%{y}<extra></extra>\",\"legendgroup\":\"FB\",\"line\":{\"color\":\"#00cc96\",\"dash\":\"solid\"},\"marker\":{\"symbol\":\"circle\"},\"mode\":\"lines\",\"name\":\"FB\",\"orientation\":\"v\",\"showlegend\":true,\"x\":[0,1,2,3,4,5,6,7,8,9,10,11,12,13,14,15,16,17,18,19,20,21,22,23,24,25,26,27,28,29,30,31,32,33,34,35,36,37,38,39,40,41,42,43,44,45,46,47,48,49,50,51,52,53,54,55,56,57,58,59,60,61,62,63,64,65,66,67,68,69,70,71,72,73,74,75,76,77,78,79,80,81,82,83,84,85,86,87,88,89,90,91,92,93,94,95],\"xaxis\":\"x\",\"y\":[60.56911165444173,64.26964509394573,64.78537725448693,64.30026865054764,64.67077443993858,60.77561388653683,61.064320237947705,83.7303946263644,80.27487152457505,81.58364055299539,76.5001700102006,71.81932773109244,84.34460641399417,87.68279301745636,92.11310661062285,93.39719626168224,90.5698312236287,94.84350393700787,91.35006624466362,90.47119948685055,85.11249852750619,81.13687616432983,76.30603448275862,62.06400196174595,93.97892271662764,100.30361445783133,108.90359897172236,100.12597547380156,114.19354838709677,132.33423913043478,114.57297297297298,113.01902173913044,90.64727272727272,85.27488151658768,101.70138888888889,93.5670731707317,87.76744186046511,111.26086956521739,90.38162544169612,90.52331606217616,97.69141531322506,95.06371681415929,119.65280289330923,113.5884476534296,112.49454545454546,108.72644927536231,106.95921985815603,109.43207855973813,100.34520123839009,109.33792048929664,119.06954102920723,121.3046544428773,122.03676470588235,116.14127423822714,117.08177172061329,119.47457627118644,105.76408450704226,87.62637362637362,92.1592356687898,90.22289156626506,107.9877300613497,112.51121076233184,107.68435754189944,99.24261603375527,113.68760611205433,96.10810810810811,103.73076923076923,92.47909199522103,95.14643188137164,93.94217081850533,93.74785323965652,84.29683813119397,74.21875,117.87096774193549,104.13223140495867,120.78181818181818,101.87,116.13265306122449,137.888,115.475,96.4375,105.67647058823529,91.44827586206897,51.23809523809524,78.14285714285714,140.10344827586206,62.857142857142854,75.71666666666667,97.81538461538462,81.15116279069767,115.33980582524272,85.85087719298245,86.06849315068493,82.18452380952381,86.1587982832618,81.49090909090908],\"yaxis\":\"y\",\"type\":\"scatter\"},{\"hovertemplate\":\"stock=NVDA<br>hours_till_close=%{x}<br>count_all_char=%{y}<extra></extra>\",\"legendgroup\":\"NVDA\",\"line\":{\"color\":\"#ab63fa\",\"dash\":\"solid\"},\"marker\":{\"symbol\":\"circle\"},\"mode\":\"lines\",\"name\":\"NVDA\",\"orientation\":\"v\",\"showlegend\":true,\"x\":[0,1,2,3,4,5,6,7,8,9,10,11,12,13,14,15,16,17,18,19,20,21,22,23,24,25,26,27,28,29,30,31,32,33,34,35,36,37,38,39,40,41,42,43,44,45,46,47,48,49,50,51,52,53,54,55,56,57,58,59,60,61,62,63,64,65,66,67,68,69,70,71,72,73,74,75,76,77,78,79,80,81,82,83,84,85,86,87,88,89,90,91,92,93,94,95],\"xaxis\":\"x\",\"y\":[56.01104468537846,61.10158530303897,61.03818902365798,59.407653219952294,58.947544537656704,56.62896957801767,56.95458962805902,80.26052023701918,69.92367207260824,74.1313016234691,70.24418112568769,60.69253112033195,75.46292446292446,85.6182685753238,92.75621621621622,90.44376776289079,87.74035196048163,93.85579781962339,95.26706443914081,87.19912971404891,83.83366479840896,80.7204270051933,73.53932353243549,59.85158973825259,89.57575757575758,98.38293216630197,117.81314168377824,100.59016393442623,108.2179176755448,122.87032418952619,82.7883008356546,95.17283950617283,87.10695187165776,94.54014598540147,90.92857142857143,83.75333333333333,90.9,95.62903225806451,100.4074074074074,87.63687150837988,88.99459459459459,85.04794520547945,137.74193548387098,105.70294117647059,109.1140350877193,113.70431893687707,98.95320197044335,82.91232227488152,101.0909090909091,110.41353383458646,127.30504587155963,107.18120805369128,131.63577586206895,119.6989010989011,99.30295566502463,117.40977443609023,98.83417085427136,106.97169811320755,90.66990291262135,69.79020979020979,103.85344827586206,79.67424242424242,87.14462809917356,76.54609929078015,94.625,92.8475935828877,86.82494529540482,81.91115311909263,99.6029411764706,93.9247311827957,84.60203045685279,79.83617234468937,77.79629629629629,95.75510204081633,119.515625,105.22222222222223,87.11940298507463,125.37704918032787,102.75757575757575,149.2,92.06666666666666,114.29411764705883,113.55,74.51851851851852,131.6818181818182,78.44680851063829,96.2258064516129,101.94915254237289,82.81666666666666,91.26582278481013,85.33333333333333,84.09909909909909,93.52212389380531,100.85987261146497,79.44864864864864,81.63235294117646],\"yaxis\":\"y\",\"type\":\"scatter\"},{\"hovertemplate\":\"stock=TSLA<br>hours_till_close=%{x}<br>count_all_char=%{y}<extra></extra>\",\"legendgroup\":\"TSLA\",\"line\":{\"color\":\"#FFA15A\",\"dash\":\"solid\"},\"marker\":{\"symbol\":\"circle\"},\"mode\":\"lines\",\"name\":\"TSLA\",\"orientation\":\"v\",\"showlegend\":true,\"x\":[0,1,2,3,4,5,6,7,8,9,10,11,12,13,14,15,16,17,18,19,20,21,22,23,24,25,26,27,28,29,30,31,32,33,34,35,36,37,38,39,40,41,42,43,44,45,46,47,48,49,50,51,52,53,54,55,56,57,58,59,60,61,62,63,64,65,66,67,68,69,70,71,72,73,74,75,76,77,78,79,80,81,82,83,84,85,86,87,88,89,90,91,92,93,94,95],\"xaxis\":\"x\",\"y\":[54.312236286919834,57.333694433115824,58.800638773978925,59.56742878658046,58.58512751071993,55.1103288671221,54.57751813884834,73.44874377186473,69.19479879305709,73.79272113105777,73.63128922162281,62.98199221843473,73.91289470524673,75.57325792338064,86.15651315105521,87.78819235551278,86.29234570990647,84.89088646473205,86.48839232451779,84.18385760114062,78.82783783783783,74.95673866363522,72.04533511118083,65.82792997317014,95.96300669027941,95.73989847715735,105.6305186455208,104.8873826903024,105.0509394572025,114.135960591133,105.76553672316385,107.13871543264942,106.64671052631579,103.45683802133851,94.57528556593977,102.70528455284553,99.15123194562447,99.77329192546584,95.11967128916281,87.95524296675192,92.04432432432432,90.77215608465609,100.07755102040817,96.53929938180748,101.3803094233474,98.05854430379746,102.37522863862033,96.59627182633318,94.5600756859035,105.37585842577919,114.46048780487804,110.24685686653771,119.72086043021511,119.45720850086157,113.02914210870989,119.26525198938992,107.47870311506675,113.1488736532811,107.22345132743362,102.94493392070484,104.28280141843972,106.74093655589124,99.44470868014268,95.14052428018908,94.49486244613855,95.24602486267707,97.43356286661566,94.76826360286148,88.7130060292851,87.33357611070649,88.64154954529349,76.57891701377764,107.36896551724138,102.04193548387097,98.8767550702028,99.80649717514125,98.58179231863443,109.56207366984994,99.22974767596281,97.64206642066421,111.73387096774194,119.64539007092199,101.390625,112.9296875,88.89308176100629,108.50777202072538,90.98936170212765,91.35049019607843,84.42915811088295,102.17863105175292,92.54011461318052,93.65161290322581,79.66890080428955,78.18866822429906,77.034375,77.29561200923787],\"yaxis\":\"y\",\"type\":\"scatter\"}],                        {\"template\":{\"data\":{\"bar\":[{\"error_x\":{\"color\":\"#2a3f5f\"},\"error_y\":{\"color\":\"#2a3f5f\"},\"marker\":{\"line\":{\"color\":\"#E5ECF6\",\"width\":0.5},\"pattern\":{\"fillmode\":\"overlay\",\"size\":10,\"solidity\":0.2}},\"type\":\"bar\"}],\"barpolar\":[{\"marker\":{\"line\":{\"color\":\"#E5ECF6\",\"width\":0.5},\"pattern\":{\"fillmode\":\"overlay\",\"size\":10,\"solidity\":0.2}},\"type\":\"barpolar\"}],\"carpet\":[{\"aaxis\":{\"endlinecolor\":\"#2a3f5f\",\"gridcolor\":\"white\",\"linecolor\":\"white\",\"minorgridcolor\":\"white\",\"startlinecolor\":\"#2a3f5f\"},\"baxis\":{\"endlinecolor\":\"#2a3f5f\",\"gridcolor\":\"white\",\"linecolor\":\"white\",\"minorgridcolor\":\"white\",\"startlinecolor\":\"#2a3f5f\"},\"type\":\"carpet\"}],\"choropleth\":[{\"colorbar\":{\"outlinewidth\":0,\"ticks\":\"\"},\"type\":\"choropleth\"}],\"contour\":[{\"colorbar\":{\"outlinewidth\":0,\"ticks\":\"\"},\"colorscale\":[[0.0,\"#0d0887\"],[0.1111111111111111,\"#46039f\"],[0.2222222222222222,\"#7201a8\"],[0.3333333333333333,\"#9c179e\"],[0.4444444444444444,\"#bd3786\"],[0.5555555555555556,\"#d8576b\"],[0.6666666666666666,\"#ed7953\"],[0.7777777777777778,\"#fb9f3a\"],[0.8888888888888888,\"#fdca26\"],[1.0,\"#f0f921\"]],\"type\":\"contour\"}],\"contourcarpet\":[{\"colorbar\":{\"outlinewidth\":0,\"ticks\":\"\"},\"type\":\"contourcarpet\"}],\"heatmap\":[{\"colorbar\":{\"outlinewidth\":0,\"ticks\":\"\"},\"colorscale\":[[0.0,\"#0d0887\"],[0.1111111111111111,\"#46039f\"],[0.2222222222222222,\"#7201a8\"],[0.3333333333333333,\"#9c179e\"],[0.4444444444444444,\"#bd3786\"],[0.5555555555555556,\"#d8576b\"],[0.6666666666666666,\"#ed7953\"],[0.7777777777777778,\"#fb9f3a\"],[0.8888888888888888,\"#fdca26\"],[1.0,\"#f0f921\"]],\"type\":\"heatmap\"}],\"heatmapgl\":[{\"colorbar\":{\"outlinewidth\":0,\"ticks\":\"\"},\"colorscale\":[[0.0,\"#0d0887\"],[0.1111111111111111,\"#46039f\"],[0.2222222222222222,\"#7201a8\"],[0.3333333333333333,\"#9c179e\"],[0.4444444444444444,\"#bd3786\"],[0.5555555555555556,\"#d8576b\"],[0.6666666666666666,\"#ed7953\"],[0.7777777777777778,\"#fb9f3a\"],[0.8888888888888888,\"#fdca26\"],[1.0,\"#f0f921\"]],\"type\":\"heatmapgl\"}],\"histogram\":[{\"marker\":{\"pattern\":{\"fillmode\":\"overlay\",\"size\":10,\"solidity\":0.2}},\"type\":\"histogram\"}],\"histogram2d\":[{\"colorbar\":{\"outlinewidth\":0,\"ticks\":\"\"},\"colorscale\":[[0.0,\"#0d0887\"],[0.1111111111111111,\"#46039f\"],[0.2222222222222222,\"#7201a8\"],[0.3333333333333333,\"#9c179e\"],[0.4444444444444444,\"#bd3786\"],[0.5555555555555556,\"#d8576b\"],[0.6666666666666666,\"#ed7953\"],[0.7777777777777778,\"#fb9f3a\"],[0.8888888888888888,\"#fdca26\"],[1.0,\"#f0f921\"]],\"type\":\"histogram2d\"}],\"histogram2dcontour\":[{\"colorbar\":{\"outlinewidth\":0,\"ticks\":\"\"},\"colorscale\":[[0.0,\"#0d0887\"],[0.1111111111111111,\"#46039f\"],[0.2222222222222222,\"#7201a8\"],[0.3333333333333333,\"#9c179e\"],[0.4444444444444444,\"#bd3786\"],[0.5555555555555556,\"#d8576b\"],[0.6666666666666666,\"#ed7953\"],[0.7777777777777778,\"#fb9f3a\"],[0.8888888888888888,\"#fdca26\"],[1.0,\"#f0f921\"]],\"type\":\"histogram2dcontour\"}],\"mesh3d\":[{\"colorbar\":{\"outlinewidth\":0,\"ticks\":\"\"},\"type\":\"mesh3d\"}],\"parcoords\":[{\"line\":{\"colorbar\":{\"outlinewidth\":0,\"ticks\":\"\"}},\"type\":\"parcoords\"}],\"pie\":[{\"automargin\":true,\"type\":\"pie\"}],\"scatter\":[{\"marker\":{\"colorbar\":{\"outlinewidth\":0,\"ticks\":\"\"}},\"type\":\"scatter\"}],\"scatter3d\":[{\"line\":{\"colorbar\":{\"outlinewidth\":0,\"ticks\":\"\"}},\"marker\":{\"colorbar\":{\"outlinewidth\":0,\"ticks\":\"\"}},\"type\":\"scatter3d\"}],\"scattercarpet\":[{\"marker\":{\"colorbar\":{\"outlinewidth\":0,\"ticks\":\"\"}},\"type\":\"scattercarpet\"}],\"scattergeo\":[{\"marker\":{\"colorbar\":{\"outlinewidth\":0,\"ticks\":\"\"}},\"type\":\"scattergeo\"}],\"scattergl\":[{\"marker\":{\"colorbar\":{\"outlinewidth\":0,\"ticks\":\"\"}},\"type\":\"scattergl\"}],\"scattermapbox\":[{\"marker\":{\"colorbar\":{\"outlinewidth\":0,\"ticks\":\"\"}},\"type\":\"scattermapbox\"}],\"scatterpolar\":[{\"marker\":{\"colorbar\":{\"outlinewidth\":0,\"ticks\":\"\"}},\"type\":\"scatterpolar\"}],\"scatterpolargl\":[{\"marker\":{\"colorbar\":{\"outlinewidth\":0,\"ticks\":\"\"}},\"type\":\"scatterpolargl\"}],\"scatterternary\":[{\"marker\":{\"colorbar\":{\"outlinewidth\":0,\"ticks\":\"\"}},\"type\":\"scatterternary\"}],\"surface\":[{\"colorbar\":{\"outlinewidth\":0,\"ticks\":\"\"},\"colorscale\":[[0.0,\"#0d0887\"],[0.1111111111111111,\"#46039f\"],[0.2222222222222222,\"#7201a8\"],[0.3333333333333333,\"#9c179e\"],[0.4444444444444444,\"#bd3786\"],[0.5555555555555556,\"#d8576b\"],[0.6666666666666666,\"#ed7953\"],[0.7777777777777778,\"#fb9f3a\"],[0.8888888888888888,\"#fdca26\"],[1.0,\"#f0f921\"]],\"type\":\"surface\"}],\"table\":[{\"cells\":{\"fill\":{\"color\":\"#EBF0F8\"},\"line\":{\"color\":\"white\"}},\"header\":{\"fill\":{\"color\":\"#C8D4E3\"},\"line\":{\"color\":\"white\"}},\"type\":\"table\"}]},\"layout\":{\"annotationdefaults\":{\"arrowcolor\":\"#2a3f5f\",\"arrowhead\":0,\"arrowwidth\":1},\"autotypenumbers\":\"strict\",\"coloraxis\":{\"colorbar\":{\"outlinewidth\":0,\"ticks\":\"\"}},\"colorscale\":{\"diverging\":[[0,\"#8e0152\"],[0.1,\"#c51b7d\"],[0.2,\"#de77ae\"],[0.3,\"#f1b6da\"],[0.4,\"#fde0ef\"],[0.5,\"#f7f7f7\"],[0.6,\"#e6f5d0\"],[0.7,\"#b8e186\"],[0.8,\"#7fbc41\"],[0.9,\"#4d9221\"],[1,\"#276419\"]],\"sequential\":[[0.0,\"#0d0887\"],[0.1111111111111111,\"#46039f\"],[0.2222222222222222,\"#7201a8\"],[0.3333333333333333,\"#9c179e\"],[0.4444444444444444,\"#bd3786\"],[0.5555555555555556,\"#d8576b\"],[0.6666666666666666,\"#ed7953\"],[0.7777777777777778,\"#fb9f3a\"],[0.8888888888888888,\"#fdca26\"],[1.0,\"#f0f921\"]],\"sequentialminus\":[[0.0,\"#0d0887\"],[0.1111111111111111,\"#46039f\"],[0.2222222222222222,\"#7201a8\"],[0.3333333333333333,\"#9c179e\"],[0.4444444444444444,\"#bd3786\"],[0.5555555555555556,\"#d8576b\"],[0.6666666666666666,\"#ed7953\"],[0.7777777777777778,\"#fb9f3a\"],[0.8888888888888888,\"#fdca26\"],[1.0,\"#f0f921\"]]},\"colorway\":[\"#636efa\",\"#EF553B\",\"#00cc96\",\"#ab63fa\",\"#FFA15A\",\"#19d3f3\",\"#FF6692\",\"#B6E880\",\"#FF97FF\",\"#FECB52\"],\"font\":{\"color\":\"#2a3f5f\"},\"geo\":{\"bgcolor\":\"white\",\"lakecolor\":\"white\",\"landcolor\":\"#E5ECF6\",\"showlakes\":true,\"showland\":true,\"subunitcolor\":\"white\"},\"hoverlabel\":{\"align\":\"left\"},\"hovermode\":\"closest\",\"mapbox\":{\"style\":\"light\"},\"paper_bgcolor\":\"white\",\"plot_bgcolor\":\"#E5ECF6\",\"polar\":{\"angularaxis\":{\"gridcolor\":\"white\",\"linecolor\":\"white\",\"ticks\":\"\"},\"bgcolor\":\"#E5ECF6\",\"radialaxis\":{\"gridcolor\":\"white\",\"linecolor\":\"white\",\"ticks\":\"\"}},\"scene\":{\"xaxis\":{\"backgroundcolor\":\"#E5ECF6\",\"gridcolor\":\"white\",\"gridwidth\":2,\"linecolor\":\"white\",\"showbackground\":true,\"ticks\":\"\",\"zerolinecolor\":\"white\"},\"yaxis\":{\"backgroundcolor\":\"#E5ECF6\",\"gridcolor\":\"white\",\"gridwidth\":2,\"linecolor\":\"white\",\"showbackground\":true,\"ticks\":\"\",\"zerolinecolor\":\"white\"},\"zaxis\":{\"backgroundcolor\":\"#E5ECF6\",\"gridcolor\":\"white\",\"gridwidth\":2,\"linecolor\":\"white\",\"showbackground\":true,\"ticks\":\"\",\"zerolinecolor\":\"white\"}},\"shapedefaults\":{\"line\":{\"color\":\"#2a3f5f\"}},\"ternary\":{\"aaxis\":{\"gridcolor\":\"white\",\"linecolor\":\"white\",\"ticks\":\"\"},\"baxis\":{\"gridcolor\":\"white\",\"linecolor\":\"white\",\"ticks\":\"\"},\"bgcolor\":\"#E5ECF6\",\"caxis\":{\"gridcolor\":\"white\",\"linecolor\":\"white\",\"ticks\":\"\"}},\"title\":{\"x\":0.05},\"xaxis\":{\"automargin\":true,\"gridcolor\":\"white\",\"linecolor\":\"white\",\"ticks\":\"\",\"title\":{\"standoff\":15},\"zerolinecolor\":\"white\",\"zerolinewidth\":2},\"yaxis\":{\"automargin\":true,\"gridcolor\":\"white\",\"linecolor\":\"white\",\"ticks\":\"\",\"title\":{\"standoff\":15},\"zerolinecolor\":\"white\",\"zerolinewidth\":2}}},\"xaxis\":{\"anchor\":\"y\",\"domain\":[0.0,1.0],\"title\":{\"text\":\"hours_till_close\"}},\"yaxis\":{\"anchor\":\"x\",\"domain\":[0.0,1.0],\"title\":{\"text\":\"count_all_char\"}},\"legend\":{\"title\":{\"text\":\"stock\"},\"tracegroupgap\":0},\"title\":{\"text\":\"Average of Charaster Length per Hour till Stock Closing Time\"},\"shapes\":[{\"type\":\"line\",\"x0\":6,\"x1\":6,\"xref\":\"x\",\"y0\":0,\"y1\":1,\"yref\":\"y domain\"},{\"type\":\"line\",\"x0\":16,\"x1\":16,\"xref\":\"x\",\"y0\":0,\"y1\":1,\"yref\":\"y domain\"},{\"type\":\"line\",\"x0\":23,\"x1\":23,\"xref\":\"x\",\"y0\":0,\"y1\":1,\"yref\":\"y domain\"}],\"annotations\":[{\"showarrow\":false,\"text\":\"trading\",\"x\":6,\"xanchor\":\"right\",\"xref\":\"x\",\"y\":1,\"yanchor\":\"top\",\"yref\":\"y domain\"},{\"showarrow\":false,\"text\":\"midnight\",\"x\":16,\"xanchor\":\"right\",\"xref\":\"x\",\"y\":1,\"yanchor\":\"top\",\"yref\":\"y domain\"},{\"showarrow\":false,\"text\":\"next days are none-trading\",\"x\":23,\"xanchor\":\"left\",\"xref\":\"x\",\"y\":1,\"yanchor\":\"top\",\"yref\":\"y domain\"}]},                        {\"responsive\": true}                    ).then(function(){\n",
       "                            \n",
       "var gd = document.getElementById('21cf5163-ece6-4179-92d6-39fe87b9193e');\n",
       "var x = new MutationObserver(function (mutations, observer) {{\n",
       "        var display = window.getComputedStyle(gd).display;\n",
       "        if (!display || display === 'none') {{\n",
       "            console.log([gd, 'removed!']);\n",
       "            Plotly.purge(gd);\n",
       "            observer.disconnect();\n",
       "        }}\n",
       "}});\n",
       "\n",
       "// Listen for the removal of the full notebook cells\n",
       "var notebookContainer = gd.closest('#notebook-container');\n",
       "if (notebookContainer) {{\n",
       "    x.observe(notebookContainer, {childList: true});\n",
       "}}\n",
       "\n",
       "// Listen for the clearing of the current output cell\n",
       "var outputEl = gd.closest('.output');\n",
       "if (outputEl) {{\n",
       "    x.observe(outputEl, {childList: true});\n",
       "}}\n",
       "\n",
       "                        })                };                });            </script>        </div>"
      ]
     },
     "metadata": {},
     "output_type": "display_data"
    }
   ],
   "source": [
    "eda_by_group_2(df_twits_combined_with_feature_with_time_with_stock_new)"
   ]
  },
  {
   "cell_type": "code",
   "execution_count": 84,
   "id": "8a3de19d-34aa-4dae-b0e6-c21534840ca0",
   "metadata": {},
   "outputs": [],
   "source": [
    "def eda_by_group_3(df, grouping_list=['price_change_pre_day', 'stock']):\n",
    "    # for within_trading_time in [True, False]:\n",
    "    # df_group = df[df['within_trading_time']==within_trading_time].groupby(grouping_list)['count_all_char'].mean().reset_index()\n",
    "    df_group = df.groupby(grouping_list)['sentiment_score'].mean().reset_index()\n",
    "    fig = px.bar(df_group,\n",
    "                 x='sentiment_score',\n",
    "                 y='price_change_pre_day',\n",
    "                 facet_col='stock',\n",
    "                 # color='price_change_pre_day',\n",
    "                 title='Average of Charaster Length per Hour till Stock Closing Time',\n",
    "                 orientation='h')\n",
    "    fig.update_yaxes(type='category')\n",
    "    fig.show()"
   ]
  },
  {
   "cell_type": "code",
   "execution_count": 85,
   "id": "6a5db5c2-9913-459d-9647-1fb2a7473003",
   "metadata": {},
   "outputs": [
    {
     "data": {
      "application/vnd.plotly.v1+json": {
       "config": {
        "plotlyServerURL": "https://plot.ly"
       },
       "data": [
        {
         "alignmentgroup": "True",
         "hovertemplate": "stock=AAPL<br>sentiment_score=%{x}<br>price_change_pre_day=%{y}<extra></extra>",
         "legendgroup": "",
         "marker": {
          "color": "#636efa",
          "pattern": {
           "shape": ""
          }
         },
         "name": "",
         "offsetgroup": "",
         "orientation": "h",
         "showlegend": false,
         "textposition": "auto",
         "type": "bar",
         "x": [
          0.7190513230021494,
          0.8030788777130757
         ],
         "xaxis": "x",
         "y": [
          0,
          1
         ],
         "yaxis": "y"
        },
        {
         "alignmentgroup": "True",
         "hovertemplate": "stock=AMZN<br>sentiment_score=%{x}<br>price_change_pre_day=%{y}<extra></extra>",
         "legendgroup": "",
         "marker": {
          "color": "#636efa",
          "pattern": {
           "shape": ""
          }
         },
         "name": "",
         "offsetgroup": "",
         "orientation": "h",
         "showlegend": false,
         "textposition": "auto",
         "type": "bar",
         "x": [
          0.76641080994643,
          0.8375717506714695
         ],
         "xaxis": "x2",
         "y": [
          0,
          1
         ],
         "yaxis": "y2"
        },
        {
         "alignmentgroup": "True",
         "hovertemplate": "stock=FB<br>sentiment_score=%{x}<br>price_change_pre_day=%{y}<extra></extra>",
         "legendgroup": "",
         "marker": {
          "color": "#636efa",
          "pattern": {
           "shape": ""
          }
         },
         "name": "",
         "offsetgroup": "",
         "orientation": "h",
         "showlegend": false,
         "textposition": "auto",
         "type": "bar",
         "x": [
          0.6312973914750558,
          0.7806725822086347
         ],
         "xaxis": "x3",
         "y": [
          0,
          1
         ],
         "yaxis": "y3"
        },
        {
         "alignmentgroup": "True",
         "hovertemplate": "stock=NVDA<br>sentiment_score=%{x}<br>price_change_pre_day=%{y}<extra></extra>",
         "legendgroup": "",
         "marker": {
          "color": "#636efa",
          "pattern": {
           "shape": ""
          }
         },
         "name": "",
         "offsetgroup": "",
         "orientation": "h",
         "showlegend": false,
         "textposition": "auto",
         "type": "bar",
         "x": [
          0.7976518671319234,
          0.8672261929475963
         ],
         "xaxis": "x4",
         "y": [
          0,
          1
         ],
         "yaxis": "y4"
        },
        {
         "alignmentgroup": "True",
         "hovertemplate": "stock=TSLA<br>sentiment_score=%{x}<br>price_change_pre_day=%{y}<extra></extra>",
         "legendgroup": "",
         "marker": {
          "color": "#636efa",
          "pattern": {
           "shape": ""
          }
         },
         "name": "",
         "offsetgroup": "",
         "orientation": "h",
         "showlegend": false,
         "textposition": "auto",
         "type": "bar",
         "x": [
          0.688290776919582,
          0.7827757242031856
         ],
         "xaxis": "x5",
         "y": [
          0,
          1
         ],
         "yaxis": "y5"
        }
       ],
       "layout": {
        "annotations": [
         {
          "font": {},
          "showarrow": false,
          "text": "stock=AAPL",
          "x": 0.09200000000000001,
          "xanchor": "center",
          "xref": "paper",
          "y": 1,
          "yanchor": "bottom",
          "yref": "paper"
         },
         {
          "font": {},
          "showarrow": false,
          "text": "stock=AMZN",
          "x": 0.29600000000000004,
          "xanchor": "center",
          "xref": "paper",
          "y": 1,
          "yanchor": "bottom",
          "yref": "paper"
         },
         {
          "font": {},
          "showarrow": false,
          "text": "stock=FB",
          "x": 0.5,
          "xanchor": "center",
          "xref": "paper",
          "y": 1,
          "yanchor": "bottom",
          "yref": "paper"
         },
         {
          "font": {},
          "showarrow": false,
          "text": "stock=NVDA",
          "x": 0.7040000000000002,
          "xanchor": "center",
          "xref": "paper",
          "y": 1,
          "yanchor": "bottom",
          "yref": "paper"
         },
         {
          "font": {},
          "showarrow": false,
          "text": "stock=TSLA",
          "x": 0.908,
          "xanchor": "center",
          "xref": "paper",
          "y": 1,
          "yanchor": "bottom",
          "yref": "paper"
         }
        ],
        "autosize": true,
        "barmode": "relative",
        "legend": {
         "tracegroupgap": 0
        },
        "template": {
         "data": {
          "bar": [
           {
            "error_x": {
             "color": "#2a3f5f"
            },
            "error_y": {
             "color": "#2a3f5f"
            },
            "marker": {
             "line": {
              "color": "#E5ECF6",
              "width": 0.5
             },
             "pattern": {
              "fillmode": "overlay",
              "size": 10,
              "solidity": 0.2
             }
            },
            "type": "bar"
           }
          ],
          "barpolar": [
           {
            "marker": {
             "line": {
              "color": "#E5ECF6",
              "width": 0.5
             },
             "pattern": {
              "fillmode": "overlay",
              "size": 10,
              "solidity": 0.2
             }
            },
            "type": "barpolar"
           }
          ],
          "carpet": [
           {
            "aaxis": {
             "endlinecolor": "#2a3f5f",
             "gridcolor": "white",
             "linecolor": "white",
             "minorgridcolor": "white",
             "startlinecolor": "#2a3f5f"
            },
            "baxis": {
             "endlinecolor": "#2a3f5f",
             "gridcolor": "white",
             "linecolor": "white",
             "minorgridcolor": "white",
             "startlinecolor": "#2a3f5f"
            },
            "type": "carpet"
           }
          ],
          "choropleth": [
           {
            "colorbar": {
             "outlinewidth": 0,
             "ticks": ""
            },
            "type": "choropleth"
           }
          ],
          "contour": [
           {
            "colorbar": {
             "outlinewidth": 0,
             "ticks": ""
            },
            "colorscale": [
             [
              0,
              "#0d0887"
             ],
             [
              0.1111111111111111,
              "#46039f"
             ],
             [
              0.2222222222222222,
              "#7201a8"
             ],
             [
              0.3333333333333333,
              "#9c179e"
             ],
             [
              0.4444444444444444,
              "#bd3786"
             ],
             [
              0.5555555555555556,
              "#d8576b"
             ],
             [
              0.6666666666666666,
              "#ed7953"
             ],
             [
              0.7777777777777778,
              "#fb9f3a"
             ],
             [
              0.8888888888888888,
              "#fdca26"
             ],
             [
              1,
              "#f0f921"
             ]
            ],
            "type": "contour"
           }
          ],
          "contourcarpet": [
           {
            "colorbar": {
             "outlinewidth": 0,
             "ticks": ""
            },
            "type": "contourcarpet"
           }
          ],
          "heatmap": [
           {
            "colorbar": {
             "outlinewidth": 0,
             "ticks": ""
            },
            "colorscale": [
             [
              0,
              "#0d0887"
             ],
             [
              0.1111111111111111,
              "#46039f"
             ],
             [
              0.2222222222222222,
              "#7201a8"
             ],
             [
              0.3333333333333333,
              "#9c179e"
             ],
             [
              0.4444444444444444,
              "#bd3786"
             ],
             [
              0.5555555555555556,
              "#d8576b"
             ],
             [
              0.6666666666666666,
              "#ed7953"
             ],
             [
              0.7777777777777778,
              "#fb9f3a"
             ],
             [
              0.8888888888888888,
              "#fdca26"
             ],
             [
              1,
              "#f0f921"
             ]
            ],
            "type": "heatmap"
           }
          ],
          "heatmapgl": [
           {
            "colorbar": {
             "outlinewidth": 0,
             "ticks": ""
            },
            "colorscale": [
             [
              0,
              "#0d0887"
             ],
             [
              0.1111111111111111,
              "#46039f"
             ],
             [
              0.2222222222222222,
              "#7201a8"
             ],
             [
              0.3333333333333333,
              "#9c179e"
             ],
             [
              0.4444444444444444,
              "#bd3786"
             ],
             [
              0.5555555555555556,
              "#d8576b"
             ],
             [
              0.6666666666666666,
              "#ed7953"
             ],
             [
              0.7777777777777778,
              "#fb9f3a"
             ],
             [
              0.8888888888888888,
              "#fdca26"
             ],
             [
              1,
              "#f0f921"
             ]
            ],
            "type": "heatmapgl"
           }
          ],
          "histogram": [
           {
            "marker": {
             "pattern": {
              "fillmode": "overlay",
              "size": 10,
              "solidity": 0.2
             }
            },
            "type": "histogram"
           }
          ],
          "histogram2d": [
           {
            "colorbar": {
             "outlinewidth": 0,
             "ticks": ""
            },
            "colorscale": [
             [
              0,
              "#0d0887"
             ],
             [
              0.1111111111111111,
              "#46039f"
             ],
             [
              0.2222222222222222,
              "#7201a8"
             ],
             [
              0.3333333333333333,
              "#9c179e"
             ],
             [
              0.4444444444444444,
              "#bd3786"
             ],
             [
              0.5555555555555556,
              "#d8576b"
             ],
             [
              0.6666666666666666,
              "#ed7953"
             ],
             [
              0.7777777777777778,
              "#fb9f3a"
             ],
             [
              0.8888888888888888,
              "#fdca26"
             ],
             [
              1,
              "#f0f921"
             ]
            ],
            "type": "histogram2d"
           }
          ],
          "histogram2dcontour": [
           {
            "colorbar": {
             "outlinewidth": 0,
             "ticks": ""
            },
            "colorscale": [
             [
              0,
              "#0d0887"
             ],
             [
              0.1111111111111111,
              "#46039f"
             ],
             [
              0.2222222222222222,
              "#7201a8"
             ],
             [
              0.3333333333333333,
              "#9c179e"
             ],
             [
              0.4444444444444444,
              "#bd3786"
             ],
             [
              0.5555555555555556,
              "#d8576b"
             ],
             [
              0.6666666666666666,
              "#ed7953"
             ],
             [
              0.7777777777777778,
              "#fb9f3a"
             ],
             [
              0.8888888888888888,
              "#fdca26"
             ],
             [
              1,
              "#f0f921"
             ]
            ],
            "type": "histogram2dcontour"
           }
          ],
          "mesh3d": [
           {
            "colorbar": {
             "outlinewidth": 0,
             "ticks": ""
            },
            "type": "mesh3d"
           }
          ],
          "parcoords": [
           {
            "line": {
             "colorbar": {
              "outlinewidth": 0,
              "ticks": ""
             }
            },
            "type": "parcoords"
           }
          ],
          "pie": [
           {
            "automargin": true,
            "type": "pie"
           }
          ],
          "scatter": [
           {
            "marker": {
             "colorbar": {
              "outlinewidth": 0,
              "ticks": ""
             }
            },
            "type": "scatter"
           }
          ],
          "scatter3d": [
           {
            "line": {
             "colorbar": {
              "outlinewidth": 0,
              "ticks": ""
             }
            },
            "marker": {
             "colorbar": {
              "outlinewidth": 0,
              "ticks": ""
             }
            },
            "type": "scatter3d"
           }
          ],
          "scattercarpet": [
           {
            "marker": {
             "colorbar": {
              "outlinewidth": 0,
              "ticks": ""
             }
            },
            "type": "scattercarpet"
           }
          ],
          "scattergeo": [
           {
            "marker": {
             "colorbar": {
              "outlinewidth": 0,
              "ticks": ""
             }
            },
            "type": "scattergeo"
           }
          ],
          "scattergl": [
           {
            "marker": {
             "colorbar": {
              "outlinewidth": 0,
              "ticks": ""
             }
            },
            "type": "scattergl"
           }
          ],
          "scattermapbox": [
           {
            "marker": {
             "colorbar": {
              "outlinewidth": 0,
              "ticks": ""
             }
            },
            "type": "scattermapbox"
           }
          ],
          "scatterpolar": [
           {
            "marker": {
             "colorbar": {
              "outlinewidth": 0,
              "ticks": ""
             }
            },
            "type": "scatterpolar"
           }
          ],
          "scatterpolargl": [
           {
            "marker": {
             "colorbar": {
              "outlinewidth": 0,
              "ticks": ""
             }
            },
            "type": "scatterpolargl"
           }
          ],
          "scatterternary": [
           {
            "marker": {
             "colorbar": {
              "outlinewidth": 0,
              "ticks": ""
             }
            },
            "type": "scatterternary"
           }
          ],
          "surface": [
           {
            "colorbar": {
             "outlinewidth": 0,
             "ticks": ""
            },
            "colorscale": [
             [
              0,
              "#0d0887"
             ],
             [
              0.1111111111111111,
              "#46039f"
             ],
             [
              0.2222222222222222,
              "#7201a8"
             ],
             [
              0.3333333333333333,
              "#9c179e"
             ],
             [
              0.4444444444444444,
              "#bd3786"
             ],
             [
              0.5555555555555556,
              "#d8576b"
             ],
             [
              0.6666666666666666,
              "#ed7953"
             ],
             [
              0.7777777777777778,
              "#fb9f3a"
             ],
             [
              0.8888888888888888,
              "#fdca26"
             ],
             [
              1,
              "#f0f921"
             ]
            ],
            "type": "surface"
           }
          ],
          "table": [
           {
            "cells": {
             "fill": {
              "color": "#EBF0F8"
             },
             "line": {
              "color": "white"
             }
            },
            "header": {
             "fill": {
              "color": "#C8D4E3"
             },
             "line": {
              "color": "white"
             }
            },
            "type": "table"
           }
          ]
         },
         "layout": {
          "annotationdefaults": {
           "arrowcolor": "#2a3f5f",
           "arrowhead": 0,
           "arrowwidth": 1
          },
          "autotypenumbers": "strict",
          "coloraxis": {
           "colorbar": {
            "outlinewidth": 0,
            "ticks": ""
           }
          },
          "colorscale": {
           "diverging": [
            [
             0,
             "#8e0152"
            ],
            [
             0.1,
             "#c51b7d"
            ],
            [
             0.2,
             "#de77ae"
            ],
            [
             0.3,
             "#f1b6da"
            ],
            [
             0.4,
             "#fde0ef"
            ],
            [
             0.5,
             "#f7f7f7"
            ],
            [
             0.6,
             "#e6f5d0"
            ],
            [
             0.7,
             "#b8e186"
            ],
            [
             0.8,
             "#7fbc41"
            ],
            [
             0.9,
             "#4d9221"
            ],
            [
             1,
             "#276419"
            ]
           ],
           "sequential": [
            [
             0,
             "#0d0887"
            ],
            [
             0.1111111111111111,
             "#46039f"
            ],
            [
             0.2222222222222222,
             "#7201a8"
            ],
            [
             0.3333333333333333,
             "#9c179e"
            ],
            [
             0.4444444444444444,
             "#bd3786"
            ],
            [
             0.5555555555555556,
             "#d8576b"
            ],
            [
             0.6666666666666666,
             "#ed7953"
            ],
            [
             0.7777777777777778,
             "#fb9f3a"
            ],
            [
             0.8888888888888888,
             "#fdca26"
            ],
            [
             1,
             "#f0f921"
            ]
           ],
           "sequentialminus": [
            [
             0,
             "#0d0887"
            ],
            [
             0.1111111111111111,
             "#46039f"
            ],
            [
             0.2222222222222222,
             "#7201a8"
            ],
            [
             0.3333333333333333,
             "#9c179e"
            ],
            [
             0.4444444444444444,
             "#bd3786"
            ],
            [
             0.5555555555555556,
             "#d8576b"
            ],
            [
             0.6666666666666666,
             "#ed7953"
            ],
            [
             0.7777777777777778,
             "#fb9f3a"
            ],
            [
             0.8888888888888888,
             "#fdca26"
            ],
            [
             1,
             "#f0f921"
            ]
           ]
          },
          "colorway": [
           "#636efa",
           "#EF553B",
           "#00cc96",
           "#ab63fa",
           "#FFA15A",
           "#19d3f3",
           "#FF6692",
           "#B6E880",
           "#FF97FF",
           "#FECB52"
          ],
          "font": {
           "color": "#2a3f5f"
          },
          "geo": {
           "bgcolor": "white",
           "lakecolor": "white",
           "landcolor": "#E5ECF6",
           "showlakes": true,
           "showland": true,
           "subunitcolor": "white"
          },
          "hoverlabel": {
           "align": "left"
          },
          "hovermode": "closest",
          "mapbox": {
           "style": "light"
          },
          "paper_bgcolor": "white",
          "plot_bgcolor": "#E5ECF6",
          "polar": {
           "angularaxis": {
            "gridcolor": "white",
            "linecolor": "white",
            "ticks": ""
           },
           "bgcolor": "#E5ECF6",
           "radialaxis": {
            "gridcolor": "white",
            "linecolor": "white",
            "ticks": ""
           }
          },
          "scene": {
           "xaxis": {
            "backgroundcolor": "#E5ECF6",
            "gridcolor": "white",
            "gridwidth": 2,
            "linecolor": "white",
            "showbackground": true,
            "ticks": "",
            "zerolinecolor": "white"
           },
           "yaxis": {
            "backgroundcolor": "#E5ECF6",
            "gridcolor": "white",
            "gridwidth": 2,
            "linecolor": "white",
            "showbackground": true,
            "ticks": "",
            "zerolinecolor": "white"
           },
           "zaxis": {
            "backgroundcolor": "#E5ECF6",
            "gridcolor": "white",
            "gridwidth": 2,
            "linecolor": "white",
            "showbackground": true,
            "ticks": "",
            "zerolinecolor": "white"
           }
          },
          "shapedefaults": {
           "line": {
            "color": "#2a3f5f"
           }
          },
          "ternary": {
           "aaxis": {
            "gridcolor": "white",
            "linecolor": "white",
            "ticks": ""
           },
           "baxis": {
            "gridcolor": "white",
            "linecolor": "white",
            "ticks": ""
           },
           "bgcolor": "#E5ECF6",
           "caxis": {
            "gridcolor": "white",
            "linecolor": "white",
            "ticks": ""
           }
          },
          "title": {
           "x": 0.05
          },
          "xaxis": {
           "automargin": true,
           "gridcolor": "white",
           "linecolor": "white",
           "ticks": "",
           "title": {
            "standoff": 15
           },
           "zerolinecolor": "white",
           "zerolinewidth": 2
          },
          "yaxis": {
           "automargin": true,
           "gridcolor": "white",
           "linecolor": "white",
           "ticks": "",
           "title": {
            "standoff": 15
           },
           "zerolinecolor": "white",
           "zerolinewidth": 2
          }
         }
        },
        "title": {
         "text": "Average of Charaster Length per Hour till Stock Closing Time"
        },
        "xaxis": {
         "anchor": "y",
         "autorange": true,
         "domain": [
          0,
          0.18400000000000002
         ],
         "range": [
          0,
          0.9128696767869434
         ],
         "title": {
          "text": "sentiment_score"
         },
         "type": "linear"
        },
        "xaxis2": {
         "anchor": "y2",
         "autorange": true,
         "domain": [
          0.20400000000000001,
          0.388
         ],
         "matches": "x",
         "range": [
          0,
          0.9128696767869434
         ],
         "title": {
          "text": "sentiment_score"
         },
         "type": "linear"
        },
        "xaxis3": {
         "anchor": "y3",
         "autorange": true,
         "domain": [
          0.40800000000000003,
          0.5920000000000001
         ],
         "matches": "x",
         "range": [
          0,
          0.9128696767869434
         ],
         "title": {
          "text": "sentiment_score"
         },
         "type": "linear"
        },
        "xaxis4": {
         "anchor": "y4",
         "autorange": true,
         "domain": [
          0.6120000000000001,
          0.7960000000000002
         ],
         "matches": "x",
         "range": [
          0,
          0.9128696767869434
         ],
         "title": {
          "text": "sentiment_score"
         },
         "type": "linear"
        },
        "xaxis5": {
         "anchor": "y5",
         "autorange": true,
         "domain": [
          0.8160000000000001,
          1
         ],
         "matches": "x",
         "range": [
          0,
          0.9128696767869434
         ],
         "title": {
          "text": "sentiment_score"
         },
         "type": "linear"
        },
        "yaxis": {
         "anchor": "x",
         "autorange": true,
         "domain": [
          0,
          1
         ],
         "range": [
          -0.5,
          1.5
         ],
         "title": {
          "text": "price_change_pre_day"
         },
         "type": "category"
        },
        "yaxis2": {
         "anchor": "x2",
         "autorange": true,
         "domain": [
          0,
          1
         ],
         "matches": "y",
         "range": [
          -0.5,
          1.5
         ],
         "showticklabels": false,
         "type": "category"
        },
        "yaxis3": {
         "anchor": "x3",
         "autorange": true,
         "domain": [
          0,
          1
         ],
         "matches": "y",
         "range": [
          -0.5,
          1.5
         ],
         "showticklabels": false,
         "type": "category"
        },
        "yaxis4": {
         "anchor": "x4",
         "autorange": true,
         "domain": [
          0,
          1
         ],
         "matches": "y",
         "range": [
          -0.5,
          1.5
         ],
         "showticklabels": false,
         "type": "category"
        },
        "yaxis5": {
         "anchor": "x5",
         "autorange": true,
         "domain": [
          0,
          1
         ],
         "matches": "y",
         "range": [
          -0.5,
          1.5
         ],
         "showticklabels": false,
         "type": "category"
        }
       }
      },
      "image/png": "[encoded data removed]",
      "text/html": [
       "<div>                            <div id=\"dd384ebd-6f94-48b9-b28b-0484347dce03\" class=\"plotly-graph-div\" style=\"height:525px; width:100%;\"></div>            <script type=\"text/javascript\">                require([\"plotly\"], function(Plotly) {                    window.PLOTLYENV=window.PLOTLYENV || {};                                    if (document.getElementById(\"dd384ebd-6f94-48b9-b28b-0484347dce03\")) {                    Plotly.newPlot(                        \"dd384ebd-6f94-48b9-b28b-0484347dce03\",                        [{\"alignmentgroup\":\"True\",\"hovertemplate\":\"stock=AAPL<br>sentiment_score=%{x}<br>price_change_pre_day=%{y}<extra></extra>\",\"legendgroup\":\"\",\"marker\":{\"color\":\"#636efa\",\"pattern\":{\"shape\":\"\"}},\"name\":\"\",\"offsetgroup\":\"\",\"orientation\":\"h\",\"showlegend\":false,\"textposition\":\"auto\",\"x\":[0.7190513230021494,0.8030788777130757],\"xaxis\":\"x\",\"y\":[0,1],\"yaxis\":\"y\",\"type\":\"bar\"},{\"alignmentgroup\":\"True\",\"hovertemplate\":\"stock=AMZN<br>sentiment_score=%{x}<br>price_change_pre_day=%{y}<extra></extra>\",\"legendgroup\":\"\",\"marker\":{\"color\":\"#636efa\",\"pattern\":{\"shape\":\"\"}},\"name\":\"\",\"offsetgroup\":\"\",\"orientation\":\"h\",\"showlegend\":false,\"textposition\":\"auto\",\"x\":[0.76641080994643,0.8375717506714695],\"xaxis\":\"x2\",\"y\":[0,1],\"yaxis\":\"y2\",\"type\":\"bar\"},{\"alignmentgroup\":\"True\",\"hovertemplate\":\"stock=FB<br>sentiment_score=%{x}<br>price_change_pre_day=%{y}<extra></extra>\",\"legendgroup\":\"\",\"marker\":{\"color\":\"#636efa\",\"pattern\":{\"shape\":\"\"}},\"name\":\"\",\"offsetgroup\":\"\",\"orientation\":\"h\",\"showlegend\":false,\"textposition\":\"auto\",\"x\":[0.6312973914750558,0.7806725822086347],\"xaxis\":\"x3\",\"y\":[0,1],\"yaxis\":\"y3\",\"type\":\"bar\"},{\"alignmentgroup\":\"True\",\"hovertemplate\":\"stock=NVDA<br>sentiment_score=%{x}<br>price_change_pre_day=%{y}<extra></extra>\",\"legendgroup\":\"\",\"marker\":{\"color\":\"#636efa\",\"pattern\":{\"shape\":\"\"}},\"name\":\"\",\"offsetgroup\":\"\",\"orientation\":\"h\",\"showlegend\":false,\"textposition\":\"auto\",\"x\":[0.7976518671319234,0.8672261929475963],\"xaxis\":\"x4\",\"y\":[0,1],\"yaxis\":\"y4\",\"type\":\"bar\"},{\"alignmentgroup\":\"True\",\"hovertemplate\":\"stock=TSLA<br>sentiment_score=%{x}<br>price_change_pre_day=%{y}<extra></extra>\",\"legendgroup\":\"\",\"marker\":{\"color\":\"#636efa\",\"pattern\":{\"shape\":\"\"}},\"name\":\"\",\"offsetgroup\":\"\",\"orientation\":\"h\",\"showlegend\":false,\"textposition\":\"auto\",\"x\":[0.688290776919582,0.7827757242031856],\"xaxis\":\"x5\",\"y\":[0,1],\"yaxis\":\"y5\",\"type\":\"bar\"}],                        {\"template\":{\"data\":{\"bar\":[{\"error_x\":{\"color\":\"#2a3f5f\"},\"error_y\":{\"color\":\"#2a3f5f\"},\"marker\":{\"line\":{\"color\":\"#E5ECF6\",\"width\":0.5},\"pattern\":{\"fillmode\":\"overlay\",\"size\":10,\"solidity\":0.2}},\"type\":\"bar\"}],\"barpolar\":[{\"marker\":{\"line\":{\"color\":\"#E5ECF6\",\"width\":0.5},\"pattern\":{\"fillmode\":\"overlay\",\"size\":10,\"solidity\":0.2}},\"type\":\"barpolar\"}],\"carpet\":[{\"aaxis\":{\"endlinecolor\":\"#2a3f5f\",\"gridcolor\":\"white\",\"linecolor\":\"white\",\"minorgridcolor\":\"white\",\"startlinecolor\":\"#2a3f5f\"},\"baxis\":{\"endlinecolor\":\"#2a3f5f\",\"gridcolor\":\"white\",\"linecolor\":\"white\",\"minorgridcolor\":\"white\",\"startlinecolor\":\"#2a3f5f\"},\"type\":\"carpet\"}],\"choropleth\":[{\"colorbar\":{\"outlinewidth\":0,\"ticks\":\"\"},\"type\":\"choropleth\"}],\"contour\":[{\"colorbar\":{\"outlinewidth\":0,\"ticks\":\"\"},\"colorscale\":[[0.0,\"#0d0887\"],[0.1111111111111111,\"#46039f\"],[0.2222222222222222,\"#7201a8\"],[0.3333333333333333,\"#9c179e\"],[0.4444444444444444,\"#bd3786\"],[0.5555555555555556,\"#d8576b\"],[0.6666666666666666,\"#ed7953\"],[0.7777777777777778,\"#fb9f3a\"],[0.8888888888888888,\"#fdca26\"],[1.0,\"#f0f921\"]],\"type\":\"contour\"}],\"contourcarpet\":[{\"colorbar\":{\"outlinewidth\":0,\"ticks\":\"\"},\"type\":\"contourcarpet\"}],\"heatmap\":[{\"colorbar\":{\"outlinewidth\":0,\"ticks\":\"\"},\"colorscale\":[[0.0,\"#0d0887\"],[0.1111111111111111,\"#46039f\"],[0.2222222222222222,\"#7201a8\"],[0.3333333333333333,\"#9c179e\"],[0.4444444444444444,\"#bd3786\"],[0.5555555555555556,\"#d8576b\"],[0.6666666666666666,\"#ed7953\"],[0.7777777777777778,\"#fb9f3a\"],[0.8888888888888888,\"#fdca26\"],[1.0,\"#f0f921\"]],\"type\":\"heatmap\"}],\"heatmapgl\":[{\"colorbar\":{\"outlinewidth\":0,\"ticks\":\"\"},\"colorscale\":[[0.0,\"#0d0887\"],[0.1111111111111111,\"#46039f\"],[0.2222222222222222,\"#7201a8\"],[0.3333333333333333,\"#9c179e\"],[0.4444444444444444,\"#bd3786\"],[0.5555555555555556,\"#d8576b\"],[0.6666666666666666,\"#ed7953\"],[0.7777777777777778,\"#fb9f3a\"],[0.8888888888888888,\"#fdca26\"],[1.0,\"#f0f921\"]],\"type\":\"heatmapgl\"}],\"histogram\":[{\"marker\":{\"pattern\":{\"fillmode\":\"overlay\",\"size\":10,\"solidity\":0.2}},\"type\":\"histogram\"}],\"histogram2d\":[{\"colorbar\":{\"outlinewidth\":0,\"ticks\":\"\"},\"colorscale\":[[0.0,\"#0d0887\"],[0.1111111111111111,\"#46039f\"],[0.2222222222222222,\"#7201a8\"],[0.3333333333333333,\"#9c179e\"],[0.4444444444444444,\"#bd3786\"],[0.5555555555555556,\"#d8576b\"],[0.6666666666666666,\"#ed7953\"],[0.7777777777777778,\"#fb9f3a\"],[0.8888888888888888,\"#fdca26\"],[1.0,\"#f0f921\"]],\"type\":\"histogram2d\"}],\"histogram2dcontour\":[{\"colorbar\":{\"outlinewidth\":0,\"ticks\":\"\"},\"colorscale\":[[0.0,\"#0d0887\"],[0.1111111111111111,\"#46039f\"],[0.2222222222222222,\"#7201a8\"],[0.3333333333333333,\"#9c179e\"],[0.4444444444444444,\"#bd3786\"],[0.5555555555555556,\"#d8576b\"],[0.6666666666666666,\"#ed7953\"],[0.7777777777777778,\"#fb9f3a\"],[0.8888888888888888,\"#fdca26\"],[1.0,\"#f0f921\"]],\"type\":\"histogram2dcontour\"}],\"mesh3d\":[{\"colorbar\":{\"outlinewidth\":0,\"ticks\":\"\"},\"type\":\"mesh3d\"}],\"parcoords\":[{\"line\":{\"colorbar\":{\"outlinewidth\":0,\"ticks\":\"\"}},\"type\":\"parcoords\"}],\"pie\":[{\"automargin\":true,\"type\":\"pie\"}],\"scatter\":[{\"marker\":{\"colorbar\":{\"outlinewidth\":0,\"ticks\":\"\"}},\"type\":\"scatter\"}],\"scatter3d\":[{\"line\":{\"colorbar\":{\"outlinewidth\":0,\"ticks\":\"\"}},\"marker\":{\"colorbar\":{\"outlinewidth\":0,\"ticks\":\"\"}},\"type\":\"scatter3d\"}],\"scattercarpet\":[{\"marker\":{\"colorbar\":{\"outlinewidth\":0,\"ticks\":\"\"}},\"type\":\"scattercarpet\"}],\"scattergeo\":[{\"marker\":{\"colorbar\":{\"outlinewidth\":0,\"ticks\":\"\"}},\"type\":\"scattergeo\"}],\"scattergl\":[{\"marker\":{\"colorbar\":{\"outlinewidth\":0,\"ticks\":\"\"}},\"type\":\"scattergl\"}],\"scattermapbox\":[{\"marker\":{\"colorbar\":{\"outlinewidth\":0,\"ticks\":\"\"}},\"type\":\"scattermapbox\"}],\"scatterpolar\":[{\"marker\":{\"colorbar\":{\"outlinewidth\":0,\"ticks\":\"\"}},\"type\":\"scatterpolar\"}],\"scatterpolargl\":[{\"marker\":{\"colorbar\":{\"outlinewidth\":0,\"ticks\":\"\"}},\"type\":\"scatterpolargl\"}],\"scatterternary\":[{\"marker\":{\"colorbar\":{\"outlinewidth\":0,\"ticks\":\"\"}},\"type\":\"scatterternary\"}],\"surface\":[{\"colorbar\":{\"outlinewidth\":0,\"ticks\":\"\"},\"colorscale\":[[0.0,\"#0d0887\"],[0.1111111111111111,\"#46039f\"],[0.2222222222222222,\"#7201a8\"],[0.3333333333333333,\"#9c179e\"],[0.4444444444444444,\"#bd3786\"],[0.5555555555555556,\"#d8576b\"],[0.6666666666666666,\"#ed7953\"],[0.7777777777777778,\"#fb9f3a\"],[0.8888888888888888,\"#fdca26\"],[1.0,\"#f0f921\"]],\"type\":\"surface\"}],\"table\":[{\"cells\":{\"fill\":{\"color\":\"#EBF0F8\"},\"line\":{\"color\":\"white\"}},\"header\":{\"fill\":{\"color\":\"#C8D4E3\"},\"line\":{\"color\":\"white\"}},\"type\":\"table\"}]},\"layout\":{\"annotationdefaults\":{\"arrowcolor\":\"#2a3f5f\",\"arrowhead\":0,\"arrowwidth\":1},\"autotypenumbers\":\"strict\",\"coloraxis\":{\"colorbar\":{\"outlinewidth\":0,\"ticks\":\"\"}},\"colorscale\":{\"diverging\":[[0,\"#8e0152\"],[0.1,\"#c51b7d\"],[0.2,\"#de77ae\"],[0.3,\"#f1b6da\"],[0.4,\"#fde0ef\"],[0.5,\"#f7f7f7\"],[0.6,\"#e6f5d0\"],[0.7,\"#b8e186\"],[0.8,\"#7fbc41\"],[0.9,\"#4d9221\"],[1,\"#276419\"]],\"sequential\":[[0.0,\"#0d0887\"],[0.1111111111111111,\"#46039f\"],[0.2222222222222222,\"#7201a8\"],[0.3333333333333333,\"#9c179e\"],[0.4444444444444444,\"#bd3786\"],[0.5555555555555556,\"#d8576b\"],[0.6666666666666666,\"#ed7953\"],[0.7777777777777778,\"#fb9f3a\"],[0.8888888888888888,\"#fdca26\"],[1.0,\"#f0f921\"]],\"sequentialminus\":[[0.0,\"#0d0887\"],[0.1111111111111111,\"#46039f\"],[0.2222222222222222,\"#7201a8\"],[0.3333333333333333,\"#9c179e\"],[0.4444444444444444,\"#bd3786\"],[0.5555555555555556,\"#d8576b\"],[0.6666666666666666,\"#ed7953\"],[0.7777777777777778,\"#fb9f3a\"],[0.8888888888888888,\"#fdca26\"],[1.0,\"#f0f921\"]]},\"colorway\":[\"#636efa\",\"#EF553B\",\"#00cc96\",\"#ab63fa\",\"#FFA15A\",\"#19d3f3\",\"#FF6692\",\"#B6E880\",\"#FF97FF\",\"#FECB52\"],\"font\":{\"color\":\"#2a3f5f\"},\"geo\":{\"bgcolor\":\"white\",\"lakecolor\":\"white\",\"landcolor\":\"#E5ECF6\",\"showlakes\":true,\"showland\":true,\"subunitcolor\":\"white\"},\"hoverlabel\":{\"align\":\"left\"},\"hovermode\":\"closest\",\"mapbox\":{\"style\":\"light\"},\"paper_bgcolor\":\"white\",\"plot_bgcolor\":\"#E5ECF6\",\"polar\":{\"angularaxis\":{\"gridcolor\":\"white\",\"linecolor\":\"white\",\"ticks\":\"\"},\"bgcolor\":\"#E5ECF6\",\"radialaxis\":{\"gridcolor\":\"white\",\"linecolor\":\"white\",\"ticks\":\"\"}},\"scene\":{\"xaxis\":{\"backgroundcolor\":\"#E5ECF6\",\"gridcolor\":\"white\",\"gridwidth\":2,\"linecolor\":\"white\",\"showbackground\":true,\"ticks\":\"\",\"zerolinecolor\":\"white\"},\"yaxis\":{\"backgroundcolor\":\"#E5ECF6\",\"gridcolor\":\"white\",\"gridwidth\":2,\"linecolor\":\"white\",\"showbackground\":true,\"ticks\":\"\",\"zerolinecolor\":\"white\"},\"zaxis\":{\"backgroundcolor\":\"#E5ECF6\",\"gridcolor\":\"white\",\"gridwidth\":2,\"linecolor\":\"white\",\"showbackground\":true,\"ticks\":\"\",\"zerolinecolor\":\"white\"}},\"shapedefaults\":{\"line\":{\"color\":\"#2a3f5f\"}},\"ternary\":{\"aaxis\":{\"gridcolor\":\"white\",\"linecolor\":\"white\",\"ticks\":\"\"},\"baxis\":{\"gridcolor\":\"white\",\"linecolor\":\"white\",\"ticks\":\"\"},\"bgcolor\":\"#E5ECF6\",\"caxis\":{\"gridcolor\":\"white\",\"linecolor\":\"white\",\"ticks\":\"\"}},\"title\":{\"x\":0.05},\"xaxis\":{\"automargin\":true,\"gridcolor\":\"white\",\"linecolor\":\"white\",\"ticks\":\"\",\"title\":{\"standoff\":15},\"zerolinecolor\":\"white\",\"zerolinewidth\":2},\"yaxis\":{\"automargin\":true,\"gridcolor\":\"white\",\"linecolor\":\"white\",\"ticks\":\"\",\"title\":{\"standoff\":15},\"zerolinecolor\":\"white\",\"zerolinewidth\":2}}},\"xaxis\":{\"anchor\":\"y\",\"domain\":[0.0,0.18400000000000002],\"title\":{\"text\":\"sentiment_score\"}},\"yaxis\":{\"anchor\":\"x\",\"domain\":[0.0,1.0],\"title\":{\"text\":\"price_change_pre_day\"},\"type\":\"category\"},\"xaxis2\":{\"anchor\":\"y2\",\"domain\":[0.20400000000000001,0.388],\"matches\":\"x\",\"title\":{\"text\":\"sentiment_score\"}},\"yaxis2\":{\"anchor\":\"x2\",\"domain\":[0.0,1.0],\"matches\":\"y\",\"showticklabels\":false,\"type\":\"category\"},\"xaxis3\":{\"anchor\":\"y3\",\"domain\":[0.40800000000000003,0.5920000000000001],\"matches\":\"x\",\"title\":{\"text\":\"sentiment_score\"}},\"yaxis3\":{\"anchor\":\"x3\",\"domain\":[0.0,1.0],\"matches\":\"y\",\"showticklabels\":false,\"type\":\"category\"},\"xaxis4\":{\"anchor\":\"y4\",\"domain\":[0.6120000000000001,0.7960000000000002],\"matches\":\"x\",\"title\":{\"text\":\"sentiment_score\"}},\"yaxis4\":{\"anchor\":\"x4\",\"domain\":[0.0,1.0],\"matches\":\"y\",\"showticklabels\":false,\"type\":\"category\"},\"xaxis5\":{\"anchor\":\"y5\",\"domain\":[0.8160000000000001,1.0],\"matches\":\"x\",\"title\":{\"text\":\"sentiment_score\"}},\"yaxis5\":{\"anchor\":\"x5\",\"domain\":[0.0,1.0],\"matches\":\"y\",\"showticklabels\":false,\"type\":\"category\"},\"annotations\":[{\"font\":{},\"showarrow\":false,\"text\":\"stock=AAPL\",\"x\":0.09200000000000001,\"xanchor\":\"center\",\"xref\":\"paper\",\"y\":1.0,\"yanchor\":\"bottom\",\"yref\":\"paper\"},{\"font\":{},\"showarrow\":false,\"text\":\"stock=AMZN\",\"x\":0.29600000000000004,\"xanchor\":\"center\",\"xref\":\"paper\",\"y\":1.0,\"yanchor\":\"bottom\",\"yref\":\"paper\"},{\"font\":{},\"showarrow\":false,\"text\":\"stock=FB\",\"x\":0.5,\"xanchor\":\"center\",\"xref\":\"paper\",\"y\":1.0,\"yanchor\":\"bottom\",\"yref\":\"paper\"},{\"font\":{},\"showarrow\":false,\"text\":\"stock=NVDA\",\"x\":0.7040000000000002,\"xanchor\":\"center\",\"xref\":\"paper\",\"y\":1.0,\"yanchor\":\"bottom\",\"yref\":\"paper\"},{\"font\":{},\"showarrow\":false,\"text\":\"stock=TSLA\",\"x\":0.908,\"xanchor\":\"center\",\"xref\":\"paper\",\"y\":1.0,\"yanchor\":\"bottom\",\"yref\":\"paper\"}],\"legend\":{\"tracegroupgap\":0},\"title\":{\"text\":\"Average of Charaster Length per Hour till Stock Closing Time\"},\"barmode\":\"relative\"},                        {\"responsive\": true}                    ).then(function(){\n",
       "                            \n",
       "var gd = document.getElementById('dd384ebd-6f94-48b9-b28b-0484347dce03');\n",
       "var x = new MutationObserver(function (mutations, observer) {{\n",
       "        var display = window.getComputedStyle(gd).display;\n",
       "        if (!display || display === 'none') {{\n",
       "            console.log([gd, 'removed!']);\n",
       "            Plotly.purge(gd);\n",
       "            observer.disconnect();\n",
       "        }}\n",
       "}});\n",
       "\n",
       "// Listen for the removal of the full notebook cells\n",
       "var notebookContainer = gd.closest('#notebook-container');\n",
       "if (notebookContainer) {{\n",
       "    x.observe(notebookContainer, {childList: true});\n",
       "}}\n",
       "\n",
       "// Listen for the clearing of the current output cell\n",
       "var outputEl = gd.closest('.output');\n",
       "if (outputEl) {{\n",
       "    x.observe(outputEl, {childList: true});\n",
       "}}\n",
       "\n",
       "                        })                };                });            </script>        </div>"
      ]
     },
     "metadata": {},
     "output_type": "display_data"
    }
   ],
   "source": [
    "eda_by_group_3(df_twits_combined_with_feature_with_time_with_stock_new)"
   ]
  },
  {
   "cell_type": "code",
   "execution_count": null,
   "id": "cadd85b4-06b0-488f-87bd-7993c0573dfe",
   "metadata": {},
   "outputs": [],
   "source": []
  },
  {
   "cell_type": "code",
   "execution_count": null,
   "id": "ba436b42-ff27-491d-982c-64c88ea3654c",
   "metadata": {},
   "outputs": [],
   "source": []
  },
  {
   "cell_type": "code",
   "execution_count": null,
   "id": "a13abcb5-f2fd-4659-a327-656ce0f949a8",
   "metadata": {},
   "outputs": [],
   "source": []
  },
  {
   "cell_type": "markdown",
   "id": "f22bab1e-9413-4419-88ea-fd6299b87c96",
   "metadata": {},
   "source": [
    "## Dimensionality Reduction"
   ]
  },
  {
   "cell_type": "markdown",
   "id": "ed650755-c665-4123-a725-b82b0d90dd7f",
   "metadata": {},
   "source": [
    "### hourly aggregation "
   ]
  },
  {
   "cell_type": "code",
   "execution_count": 127,
   "id": "3db9908e-19f7-4372-a4d3-d12f8921ec1e",
   "metadata": {},
   "outputs": [],
   "source": [
    "# group by features and average the sentiment score\n",
    "class dimension_reduction:\n",
    "    \n",
    "    @classmethod\n",
    "    def aggregate_by_features(cls, df: pd.DataFrame, groupby_list: list) -> pd.DataFrame:\n",
    "        df_grouper = df.groupby(groupby_list)\n",
    "        df_agg = df_grouper.mean().add_prefix('avg_')\n",
    "        df_agg['count_record'] = df_grouper['hours_till_close'].count()\n",
    "        df_agg.reset_index(inplace=True)\n",
    "        df_agg.convert_dtypes()\n",
    "        return df_agg"
   ]
  },
  {
   "cell_type": "code",
   "execution_count": 128,
   "id": "8435e284-5623-4017-9e59-dbc5aae82c1e",
   "metadata": {},
   "outputs": [],
   "source": [
    "# groupby_list is the list for either the features or the target variables to be aggregated by\n",
    "groupby_list = ['stock', 'created_date_local', 'created_month_local', 'created_day_local', 'created_weekday_local', 'created_hour_local', \n",
    "                'within_trading_time', 'hours_till_close','trading_date', 'price_change_same_day', 'price_change_pre_day']\n",
    "df_all_grouped = dimension_reduction.aggregate_by_features(df_twits_combined_with_feature_with_time_with_stock_new, groupby_list)"
   ]
  },
  {
   "cell_type": "code",
   "execution_count": 129,
   "id": "8327e159-53a1-4ba3-918b-43e1eb1adf85",
   "metadata": {},
   "outputs": [
    {
     "data": {
      "text/html": [
       "<div>\n",
       "<style scoped>\n",
       "    .dataframe tbody tr th:only-of-type {\n",
       "        vertical-align: middle;\n",
       "    }\n",
       "\n",
       "    .dataframe tbody tr th {\n",
       "        vertical-align: top;\n",
       "    }\n",
       "\n",
       "    .dataframe thead th {\n",
       "        text-align: right;\n",
       "    }\n",
       "</style>\n",
       "<table border=\"1\" class=\"dataframe\">\n",
       "  <thead>\n",
       "    <tr style=\"text-align: right;\">\n",
       "      <th></th>\n",
       "      <th></th>\n",
       "      <th>created_date_local</th>\n",
       "      <th>created_month_local</th>\n",
       "      <th>created_day_local</th>\n",
       "      <th>created_weekday_local</th>\n",
       "      <th>created_hour_local</th>\n",
       "      <th>within_trading_time</th>\n",
       "      <th>trading_date</th>\n",
       "      <th>price_change_same_day</th>\n",
       "      <th>price_change_pre_day</th>\n",
       "      <th>avg_count_like</th>\n",
       "      <th>avg_count_reshare</th>\n",
       "      <th>avg_sentiment_score</th>\n",
       "      <th>avg_count_mention</th>\n",
       "      <th>avg_count_hashtag</th>\n",
       "      <th>avg_count_cashtag</th>\n",
       "      <th>avg_count_emoji</th>\n",
       "      <th>avg_count_alpha</th>\n",
       "      <th>avg_count_digit</th>\n",
       "      <th>avg_count_all_char</th>\n",
       "      <th>avg_count_token</th>\n",
       "      <th>avg_count_sent</th>\n",
       "      <th>avg_pre_day_volume_zscore</th>\n",
       "      <th>avg_sentiment_score_predicted</th>\n",
       "      <th>avg_sentiment_score_combined</th>\n",
       "      <th>count_record</th>\n",
       "    </tr>\n",
       "    <tr>\n",
       "      <th>stock</th>\n",
       "      <th>hours_till_close</th>\n",
       "      <th></th>\n",
       "      <th></th>\n",
       "      <th></th>\n",
       "      <th></th>\n",
       "      <th></th>\n",
       "      <th></th>\n",
       "      <th></th>\n",
       "      <th></th>\n",
       "      <th></th>\n",
       "      <th></th>\n",
       "      <th></th>\n",
       "      <th></th>\n",
       "      <th></th>\n",
       "      <th></th>\n",
       "      <th></th>\n",
       "      <th></th>\n",
       "      <th></th>\n",
       "      <th></th>\n",
       "      <th></th>\n",
       "      <th></th>\n",
       "      <th></th>\n",
       "      <th></th>\n",
       "      <th></th>\n",
       "      <th></th>\n",
       "      <th></th>\n",
       "    </tr>\n",
       "  </thead>\n",
       "  <tbody>\n",
       "    <tr>\n",
       "      <th rowspan=\"5\" valign=\"top\">AAPL</th>\n",
       "      <th>0</th>\n",
       "      <td>564</td>\n",
       "      <td>564</td>\n",
       "      <td>564</td>\n",
       "      <td>564</td>\n",
       "      <td>564</td>\n",
       "      <td>564</td>\n",
       "      <td>564</td>\n",
       "      <td>564</td>\n",
       "      <td>564</td>\n",
       "      <td>564</td>\n",
       "      <td>564</td>\n",
       "      <td>552</td>\n",
       "      <td>564</td>\n",
       "      <td>564</td>\n",
       "      <td>564</td>\n",
       "      <td>564</td>\n",
       "      <td>564</td>\n",
       "      <td>564</td>\n",
       "      <td>564</td>\n",
       "      <td>564</td>\n",
       "      <td>564</td>\n",
       "      <td>564</td>\n",
       "      <td>555</td>\n",
       "      <td>564</td>\n",
       "      <td>564</td>\n",
       "    </tr>\n",
       "    <tr>\n",
       "      <th>1</th>\n",
       "      <td>561</td>\n",
       "      <td>561</td>\n",
       "      <td>561</td>\n",
       "      <td>561</td>\n",
       "      <td>561</td>\n",
       "      <td>561</td>\n",
       "      <td>561</td>\n",
       "      <td>561</td>\n",
       "      <td>561</td>\n",
       "      <td>561</td>\n",
       "      <td>561</td>\n",
       "      <td>554</td>\n",
       "      <td>561</td>\n",
       "      <td>561</td>\n",
       "      <td>561</td>\n",
       "      <td>561</td>\n",
       "      <td>561</td>\n",
       "      <td>561</td>\n",
       "      <td>561</td>\n",
       "      <td>561</td>\n",
       "      <td>561</td>\n",
       "      <td>561</td>\n",
       "      <td>551</td>\n",
       "      <td>561</td>\n",
       "      <td>561</td>\n",
       "    </tr>\n",
       "    <tr>\n",
       "      <th>2</th>\n",
       "      <td>560</td>\n",
       "      <td>560</td>\n",
       "      <td>560</td>\n",
       "      <td>560</td>\n",
       "      <td>560</td>\n",
       "      <td>560</td>\n",
       "      <td>560</td>\n",
       "      <td>560</td>\n",
       "      <td>560</td>\n",
       "      <td>560</td>\n",
       "      <td>560</td>\n",
       "      <td>553</td>\n",
       "      <td>560</td>\n",
       "      <td>560</td>\n",
       "      <td>560</td>\n",
       "      <td>560</td>\n",
       "      <td>560</td>\n",
       "      <td>560</td>\n",
       "      <td>560</td>\n",
       "      <td>560</td>\n",
       "      <td>560</td>\n",
       "      <td>560</td>\n",
       "      <td>551</td>\n",
       "      <td>560</td>\n",
       "      <td>560</td>\n",
       "    </tr>\n",
       "    <tr>\n",
       "      <th>3</th>\n",
       "      <td>564</td>\n",
       "      <td>564</td>\n",
       "      <td>564</td>\n",
       "      <td>564</td>\n",
       "      <td>564</td>\n",
       "      <td>564</td>\n",
       "      <td>564</td>\n",
       "      <td>564</td>\n",
       "      <td>564</td>\n",
       "      <td>564</td>\n",
       "      <td>564</td>\n",
       "      <td>553</td>\n",
       "      <td>564</td>\n",
       "      <td>564</td>\n",
       "      <td>564</td>\n",
       "      <td>564</td>\n",
       "      <td>564</td>\n",
       "      <td>564</td>\n",
       "      <td>564</td>\n",
       "      <td>564</td>\n",
       "      <td>564</td>\n",
       "      <td>564</td>\n",
       "      <td>555</td>\n",
       "      <td>564</td>\n",
       "      <td>564</td>\n",
       "    </tr>\n",
       "    <tr>\n",
       "      <th>4</th>\n",
       "      <td>569</td>\n",
       "      <td>569</td>\n",
       "      <td>569</td>\n",
       "      <td>569</td>\n",
       "      <td>569</td>\n",
       "      <td>569</td>\n",
       "      <td>569</td>\n",
       "      <td>569</td>\n",
       "      <td>569</td>\n",
       "      <td>569</td>\n",
       "      <td>569</td>\n",
       "      <td>554</td>\n",
       "      <td>569</td>\n",
       "      <td>569</td>\n",
       "      <td>569</td>\n",
       "      <td>569</td>\n",
       "      <td>569</td>\n",
       "      <td>569</td>\n",
       "      <td>569</td>\n",
       "      <td>569</td>\n",
       "      <td>569</td>\n",
       "      <td>569</td>\n",
       "      <td>558</td>\n",
       "      <td>569</td>\n",
       "      <td>569</td>\n",
       "    </tr>\n",
       "    <tr>\n",
       "      <th>...</th>\n",
       "      <th>...</th>\n",
       "      <td>...</td>\n",
       "      <td>...</td>\n",
       "      <td>...</td>\n",
       "      <td>...</td>\n",
       "      <td>...</td>\n",
       "      <td>...</td>\n",
       "      <td>...</td>\n",
       "      <td>...</td>\n",
       "      <td>...</td>\n",
       "      <td>...</td>\n",
       "      <td>...</td>\n",
       "      <td>...</td>\n",
       "      <td>...</td>\n",
       "      <td>...</td>\n",
       "      <td>...</td>\n",
       "      <td>...</td>\n",
       "      <td>...</td>\n",
       "      <td>...</td>\n",
       "      <td>...</td>\n",
       "      <td>...</td>\n",
       "      <td>...</td>\n",
       "      <td>...</td>\n",
       "      <td>...</td>\n",
       "      <td>...</td>\n",
       "      <td>...</td>\n",
       "    </tr>\n",
       "    <tr>\n",
       "      <th rowspan=\"5\" valign=\"top\">TSLA</th>\n",
       "      <th>91</th>\n",
       "      <td>17</td>\n",
       "      <td>17</td>\n",
       "      <td>17</td>\n",
       "      <td>17</td>\n",
       "      <td>17</td>\n",
       "      <td>17</td>\n",
       "      <td>17</td>\n",
       "      <td>17</td>\n",
       "      <td>17</td>\n",
       "      <td>17</td>\n",
       "      <td>17</td>\n",
       "      <td>17</td>\n",
       "      <td>17</td>\n",
       "      <td>17</td>\n",
       "      <td>17</td>\n",
       "      <td>17</td>\n",
       "      <td>17</td>\n",
       "      <td>17</td>\n",
       "      <td>17</td>\n",
       "      <td>17</td>\n",
       "      <td>17</td>\n",
       "      <td>17</td>\n",
       "      <td>17</td>\n",
       "      <td>17</td>\n",
       "      <td>17</td>\n",
       "    </tr>\n",
       "    <tr>\n",
       "      <th>92</th>\n",
       "      <td>17</td>\n",
       "      <td>17</td>\n",
       "      <td>17</td>\n",
       "      <td>17</td>\n",
       "      <td>17</td>\n",
       "      <td>17</td>\n",
       "      <td>17</td>\n",
       "      <td>17</td>\n",
       "      <td>17</td>\n",
       "      <td>17</td>\n",
       "      <td>17</td>\n",
       "      <td>17</td>\n",
       "      <td>17</td>\n",
       "      <td>17</td>\n",
       "      <td>17</td>\n",
       "      <td>17</td>\n",
       "      <td>17</td>\n",
       "      <td>17</td>\n",
       "      <td>17</td>\n",
       "      <td>17</td>\n",
       "      <td>17</td>\n",
       "      <td>17</td>\n",
       "      <td>17</td>\n",
       "      <td>17</td>\n",
       "      <td>17</td>\n",
       "    </tr>\n",
       "    <tr>\n",
       "      <th>93</th>\n",
       "      <td>17</td>\n",
       "      <td>17</td>\n",
       "      <td>17</td>\n",
       "      <td>17</td>\n",
       "      <td>17</td>\n",
       "      <td>17</td>\n",
       "      <td>17</td>\n",
       "      <td>17</td>\n",
       "      <td>17</td>\n",
       "      <td>17</td>\n",
       "      <td>17</td>\n",
       "      <td>17</td>\n",
       "      <td>17</td>\n",
       "      <td>17</td>\n",
       "      <td>17</td>\n",
       "      <td>17</td>\n",
       "      <td>17</td>\n",
       "      <td>17</td>\n",
       "      <td>17</td>\n",
       "      <td>17</td>\n",
       "      <td>17</td>\n",
       "      <td>17</td>\n",
       "      <td>17</td>\n",
       "      <td>17</td>\n",
       "      <td>17</td>\n",
       "    </tr>\n",
       "    <tr>\n",
       "      <th>94</th>\n",
       "      <td>17</td>\n",
       "      <td>17</td>\n",
       "      <td>17</td>\n",
       "      <td>17</td>\n",
       "      <td>17</td>\n",
       "      <td>17</td>\n",
       "      <td>17</td>\n",
       "      <td>17</td>\n",
       "      <td>17</td>\n",
       "      <td>17</td>\n",
       "      <td>17</td>\n",
       "      <td>17</td>\n",
       "      <td>17</td>\n",
       "      <td>17</td>\n",
       "      <td>17</td>\n",
       "      <td>17</td>\n",
       "      <td>17</td>\n",
       "      <td>17</td>\n",
       "      <td>17</td>\n",
       "      <td>17</td>\n",
       "      <td>17</td>\n",
       "      <td>17</td>\n",
       "      <td>17</td>\n",
       "      <td>17</td>\n",
       "      <td>17</td>\n",
       "    </tr>\n",
       "    <tr>\n",
       "      <th>95</th>\n",
       "      <td>17</td>\n",
       "      <td>17</td>\n",
       "      <td>17</td>\n",
       "      <td>17</td>\n",
       "      <td>17</td>\n",
       "      <td>17</td>\n",
       "      <td>17</td>\n",
       "      <td>17</td>\n",
       "      <td>17</td>\n",
       "      <td>17</td>\n",
       "      <td>17</td>\n",
       "      <td>17</td>\n",
       "      <td>17</td>\n",
       "      <td>17</td>\n",
       "      <td>17</td>\n",
       "      <td>17</td>\n",
       "      <td>17</td>\n",
       "      <td>17</td>\n",
       "      <td>17</td>\n",
       "      <td>17</td>\n",
       "      <td>17</td>\n",
       "      <td>17</td>\n",
       "      <td>17</td>\n",
       "      <td>17</td>\n",
       "      <td>17</td>\n",
       "    </tr>\n",
       "  </tbody>\n",
       "</table>\n",
       "<p>480 rows × 25 columns</p>\n",
       "</div>"
      ],
      "text/plain": [
       "                        created_date_local  created_month_local  \\\n",
       "stock hours_till_close                                            \n",
       "AAPL  0                                564                  564   \n",
       "      1                                561                  561   \n",
       "      2                                560                  560   \n",
       "      3                                564                  564   \n",
       "      4                                569                  569   \n",
       "...                                    ...                  ...   \n",
       "TSLA  91                                17                   17   \n",
       "      92                                17                   17   \n",
       "      93                                17                   17   \n",
       "      94                                17                   17   \n",
       "      95                                17                   17   \n",
       "\n",
       "                        created_day_local  created_weekday_local  \\\n",
       "stock hours_till_close                                             \n",
       "AAPL  0                               564                    564   \n",
       "      1                               561                    561   \n",
       "      2                               560                    560   \n",
       "      3                               564                    564   \n",
       "      4                               569                    569   \n",
       "...                                   ...                    ...   \n",
       "TSLA  91                               17                     17   \n",
       "      92                               17                     17   \n",
       "      93                               17                     17   \n",
       "      94                               17                     17   \n",
       "      95                               17                     17   \n",
       "\n",
       "                        created_hour_local  within_trading_time  trading_date  \\\n",
       "stock hours_till_close                                                          \n",
       "AAPL  0                                564                  564           564   \n",
       "      1                                561                  561           561   \n",
       "      2                                560                  560           560   \n",
       "      3                                564                  564           564   \n",
       "      4                                569                  569           569   \n",
       "...                                    ...                  ...           ...   \n",
       "TSLA  91                                17                   17            17   \n",
       "      92                                17                   17            17   \n",
       "      93                                17                   17            17   \n",
       "      94                                17                   17            17   \n",
       "      95                                17                   17            17   \n",
       "\n",
       "                        price_change_same_day  price_change_pre_day  \\\n",
       "stock hours_till_close                                                \n",
       "AAPL  0                                   564                   564   \n",
       "      1                                   561                   561   \n",
       "      2                                   560                   560   \n",
       "      3                                   564                   564   \n",
       "      4                                   569                   569   \n",
       "...                                       ...                   ...   \n",
       "TSLA  91                                   17                    17   \n",
       "      92                                   17                    17   \n",
       "      93                                   17                    17   \n",
       "      94                                   17                    17   \n",
       "      95                                   17                    17   \n",
       "\n",
       "                        avg_count_like  avg_count_reshare  \\\n",
       "stock hours_till_close                                      \n",
       "AAPL  0                            564                564   \n",
       "      1                            561                561   \n",
       "      2                            560                560   \n",
       "      3                            564                564   \n",
       "      4                            569                569   \n",
       "...                                ...                ...   \n",
       "TSLA  91                            17                 17   \n",
       "      92                            17                 17   \n",
       "      93                            17                 17   \n",
       "      94                            17                 17   \n",
       "      95                            17                 17   \n",
       "\n",
       "                        avg_sentiment_score  avg_count_mention  \\\n",
       "stock hours_till_close                                           \n",
       "AAPL  0                                 552                564   \n",
       "      1                                 554                561   \n",
       "      2                                 553                560   \n",
       "      3                                 553                564   \n",
       "      4                                 554                569   \n",
       "...                                     ...                ...   \n",
       "TSLA  91                                 17                 17   \n",
       "      92                                 17                 17   \n",
       "      93                                 17                 17   \n",
       "      94                                 17                 17   \n",
       "      95                                 17                 17   \n",
       "\n",
       "                        avg_count_hashtag  avg_count_cashtag  avg_count_emoji  \\\n",
       "stock hours_till_close                                                          \n",
       "AAPL  0                               564                564              564   \n",
       "      1                               561                561              561   \n",
       "      2                               560                560              560   \n",
       "      3                               564                564              564   \n",
       "      4                               569                569              569   \n",
       "...                                   ...                ...              ...   \n",
       "TSLA  91                               17                 17               17   \n",
       "      92                               17                 17               17   \n",
       "      93                               17                 17               17   \n",
       "      94                               17                 17               17   \n",
       "      95                               17                 17               17   \n",
       "\n",
       "                        avg_count_alpha  avg_count_digit  avg_count_all_char  \\\n",
       "stock hours_till_close                                                         \n",
       "AAPL  0                             564              564                 564   \n",
       "      1                             561              561                 561   \n",
       "      2                             560              560                 560   \n",
       "      3                             564              564                 564   \n",
       "      4                             569              569                 569   \n",
       "...                                 ...              ...                 ...   \n",
       "TSLA  91                             17               17                  17   \n",
       "      92                             17               17                  17   \n",
       "      93                             17               17                  17   \n",
       "      94                             17               17                  17   \n",
       "      95                             17               17                  17   \n",
       "\n",
       "                        avg_count_token  avg_count_sent  \\\n",
       "stock hours_till_close                                    \n",
       "AAPL  0                             564             564   \n",
       "      1                             561             561   \n",
       "      2                             560             560   \n",
       "      3                             564             564   \n",
       "      4                             569             569   \n",
       "...                                 ...             ...   \n",
       "TSLA  91                             17              17   \n",
       "      92                             17              17   \n",
       "      93                             17              17   \n",
       "      94                             17              17   \n",
       "      95                             17              17   \n",
       "\n",
       "                        avg_pre_day_volume_zscore  \\\n",
       "stock hours_till_close                              \n",
       "AAPL  0                                       564   \n",
       "      1                                       561   \n",
       "      2                                       560   \n",
       "      3                                       564   \n",
       "      4                                       569   \n",
       "...                                           ...   \n",
       "TSLA  91                                       17   \n",
       "      92                                       17   \n",
       "      93                                       17   \n",
       "      94                                       17   \n",
       "      95                                       17   \n",
       "\n",
       "                        avg_sentiment_score_predicted  \\\n",
       "stock hours_till_close                                  \n",
       "AAPL  0                                           555   \n",
       "      1                                           551   \n",
       "      2                                           551   \n",
       "      3                                           555   \n",
       "      4                                           558   \n",
       "...                                               ...   \n",
       "TSLA  91                                           17   \n",
       "      92                                           17   \n",
       "      93                                           17   \n",
       "      94                                           17   \n",
       "      95                                           17   \n",
       "\n",
       "                        avg_sentiment_score_combined  count_record  \n",
       "stock hours_till_close                                              \n",
       "AAPL  0                                          564           564  \n",
       "      1                                          561           561  \n",
       "      2                                          560           560  \n",
       "      3                                          564           564  \n",
       "      4                                          569           569  \n",
       "...                                              ...           ...  \n",
       "TSLA  91                                          17            17  \n",
       "      92                                          17            17  \n",
       "      93                                          17            17  \n",
       "      94                                          17            17  \n",
       "      95                                          17            17  \n",
       "\n",
       "[480 rows x 25 columns]"
      ]
     },
     "execution_count": 129,
     "metadata": {},
     "output_type": "execute_result"
    }
   ],
   "source": [
    "df_all_grouped.groupby(['stock','hours_till_close']).count()"
   ]
  },
  {
   "cell_type": "code",
   "execution_count": 31,
   "id": "8e88252f-79a0-4532-b1f4-8c1a02714713",
   "metadata": {},
   "outputs": [],
   "source": [
    "# output file for correlation analysis\n",
    "df_all_grouped.to_csv(r'C:\\Users\\frank\\OneDrive\\Documents\\Learning\\NUS MTech EBCA\\3. Course Material\\EBA5004 PLP\\4. Practice Module Project\\data\\Processed\\StockTwits\\Combined\\df_all_grouped.csv', index=False)"
   ]
  },
  {
   "cell_type": "markdown",
   "id": "9b03d1d9-ddd8-4793-be1a-da8425a7eb98",
   "metadata": {},
   "source": [
    "#### daily aggregation"
   ]
  },
  {
   "cell_type": "code",
   "execution_count": 126,
   "id": "705c14db-fc06-401f-944f-493b7aa79b2c",
   "metadata": {},
   "outputs": [
    {
     "data": {
      "text/html": [
       "<div>\n",
       "<style scoped>\n",
       "    .dataframe tbody tr th:only-of-type {\n",
       "        vertical-align: middle;\n",
       "    }\n",
       "\n",
       "    .dataframe tbody tr th {\n",
       "        vertical-align: top;\n",
       "    }\n",
       "\n",
       "    .dataframe thead th {\n",
       "        text-align: right;\n",
       "    }\n",
       "</style>\n",
       "<table border=\"1\" class=\"dataframe\">\n",
       "  <thead>\n",
       "    <tr style=\"text-align: right;\">\n",
       "      <th></th>\n",
       "      <th>created_at_utc</th>\n",
       "      <th>stock</th>\n",
       "      <th>count_like</th>\n",
       "      <th>count_reshare</th>\n",
       "      <th>sentiment_score</th>\n",
       "      <th>body_prepared</th>\n",
       "      <th>body_processed</th>\n",
       "      <th>count_mention</th>\n",
       "      <th>count_hashtag</th>\n",
       "      <th>count_cashtag</th>\n",
       "      <th>count_emoji</th>\n",
       "      <th>count_alpha</th>\n",
       "      <th>count_digit</th>\n",
       "      <th>count_all_char</th>\n",
       "      <th>count_token</th>\n",
       "      <th>count_sent</th>\n",
       "      <th>created_month_local</th>\n",
       "      <th>created_day_local</th>\n",
       "      <th>created_weekday_local</th>\n",
       "      <th>created_hour_local</th>\n",
       "      <th>within_trading_time</th>\n",
       "      <th>hours_till_close</th>\n",
       "      <th>trading_date</th>\n",
       "      <th>price_change_same_day</th>\n",
       "      <th>price_change_pre_day</th>\n",
       "      <th>created_date_local</th>\n",
       "      <th>pre_day_volume_zscore</th>\n",
       "      <th>sentiment_score_predicted</th>\n",
       "      <th>sentiment_score_combined</th>\n",
       "    </tr>\n",
       "  </thead>\n",
       "  <tbody>\n",
       "    <tr>\n",
       "      <th>0</th>\n",
       "      <td>2020-01-01 05:06:58+00:00</td>\n",
       "      <td>AAPL</td>\n",
       "      <td>2</td>\n",
       "      <td>0</td>\n",
       "      <td>1</td>\n",
       "      <td>$AAPL good things happening 2020 run trump and everything’s gonna run up get it while you can follow the trend</td>\n",
       "      <td>cashtag_AAPL good things happening 2020 run trump and everything’s gonna run up get it while you can follow the trend</td>\n",
       "      <td>0</td>\n",
       "      <td>0</td>\n",
       "      <td>1</td>\n",
       "      <td>0</td>\n",
       "      <td>81</td>\n",
       "      <td>4</td>\n",
       "      <td>86</td>\n",
       "      <td>19</td>\n",
       "      <td>1</td>\n",
       "      <td>1</td>\n",
       "      <td>1</td>\n",
       "      <td>3</td>\n",
       "      <td>0</td>\n",
       "      <td>False</td>\n",
       "      <td>39</td>\n",
       "      <td>2020-01-02</td>\n",
       "      <td>0</td>\n",
       "      <td>1</td>\n",
       "      <td>2020-01-01</td>\n",
       "      <td>-0.332439</td>\n",
       "      <td>&lt;NA&gt;</td>\n",
       "      <td>1</td>\n",
       "    </tr>\n",
       "    <tr>\n",
       "      <th>1</th>\n",
       "      <td>2020-01-01 05:08:28+00:00</td>\n",
       "      <td>AAPL</td>\n",
       "      <td>3</td>\n",
       "      <td>0</td>\n",
       "      <td>1</td>\n",
       "      <td>$AAPL Happy New Year amazing winning AAPL Bulls! You’re making life fun and exciting!</td>\n",
       "      <td>cashtag_AAPL Happy New Year amazing winning AAPL Bulls! You’re making life fun and exciting!</td>\n",
       "      <td>0</td>\n",
       "      <td>0</td>\n",
       "      <td>1</td>\n",
       "      <td>0</td>\n",
       "      <td>64</td>\n",
       "      <td>0</td>\n",
       "      <td>67</td>\n",
       "      <td>13</td>\n",
       "      <td>2</td>\n",
       "      <td>1</td>\n",
       "      <td>1</td>\n",
       "      <td>3</td>\n",
       "      <td>0</td>\n",
       "      <td>False</td>\n",
       "      <td>39</td>\n",
       "      <td>2020-01-02</td>\n",
       "      <td>0</td>\n",
       "      <td>1</td>\n",
       "      <td>2020-01-01</td>\n",
       "      <td>-0.332439</td>\n",
       "      <td>&lt;NA&gt;</td>\n",
       "      <td>1</td>\n",
       "    </tr>\n",
       "    <tr>\n",
       "      <th>2</th>\n",
       "      <td>2020-01-01 05:14:51+00:00</td>\n",
       "      <td>AAPL</td>\n",
       "      <td>21</td>\n",
       "      <td>0</td>\n",
       "      <td>1</td>\n",
       "      <td>Happy New Year  :) $AAPL $TSLA $AMZN  $SPY $BTC.X</td>\n",
       "      <td>Happy New Year  :) cashtag_AAPL cashtag_TSLA cashtag_AMZN  cashtag_SPY cashtag_BTC.X</td>\n",
       "      <td>0</td>\n",
       "      <td>0</td>\n",
       "      <td>5</td>\n",
       "      <td>0</td>\n",
       "      <td>13</td>\n",
       "      <td>0</td>\n",
       "      <td>16</td>\n",
       "      <td>5</td>\n",
       "      <td>1</td>\n",
       "      <td>1</td>\n",
       "      <td>1</td>\n",
       "      <td>3</td>\n",
       "      <td>0</td>\n",
       "      <td>False</td>\n",
       "      <td>39</td>\n",
       "      <td>2020-01-02</td>\n",
       "      <td>0</td>\n",
       "      <td>1</td>\n",
       "      <td>2020-01-01</td>\n",
       "      <td>-0.332439</td>\n",
       "      <td>&lt;NA&gt;</td>\n",
       "      <td>1</td>\n",
       "    </tr>\n",
       "    <tr>\n",
       "      <th>3</th>\n",
       "      <td>2020-01-01 05:19:59+00:00</td>\n",
       "      <td>AAPL</td>\n",
       "      <td>1</td>\n",
       "      <td>0</td>\n",
       "      <td>&lt;NA&gt;</td>\n",
       "      <td>@Taxes_R2_Damn_High  my dad ended this year by selling half his $aapl and $MSFT  Two decades in almost exactly.   I think no one is being careful.   These parabolic moves can be dangerous.   I know everyone is cheerful  now!</td>\n",
       "      <td>mention_Taxes_R2_Damn_High  my dad ended this year by selling half his cashtag_aapl and cashtag_MSFT  Two decades in almost exactly.   I think no one is being careful.   These parabolic moves can be dangerous.   I know everyone is cheerful  now!</td>\n",
       "      <td>1</td>\n",
       "      <td>0</td>\n",
       "      <td>2</td>\n",
       "      <td>0</td>\n",
       "      <td>146</td>\n",
       "      <td>0</td>\n",
       "      <td>150</td>\n",
       "      <td>34</td>\n",
       "      <td>4</td>\n",
       "      <td>1</td>\n",
       "      <td>1</td>\n",
       "      <td>3</td>\n",
       "      <td>0</td>\n",
       "      <td>False</td>\n",
       "      <td>39</td>\n",
       "      <td>2020-01-02</td>\n",
       "      <td>0</td>\n",
       "      <td>1</td>\n",
       "      <td>2020-01-01</td>\n",
       "      <td>-0.332439</td>\n",
       "      <td>1</td>\n",
       "      <td>1</td>\n",
       "    </tr>\n",
       "    <tr>\n",
       "      <th>4</th>\n",
       "      <td>2020-01-01 05:37:42+00:00</td>\n",
       "      <td>AAPL</td>\n",
       "      <td>1</td>\n",
       "      <td>0</td>\n",
       "      <td>1</td>\n",
       "      <td>$AAPL And to those using the tired and old delapidated PE ratio argument, I'll just leave you with this, oh, ours?  Just 24.7 PE, at end of 2019 (with a massively more room to grow ).... Compare Apples' PE to other megacaps=, quote from article with a false negative title to begin with = \"Compared with the other megacap tech stocks, Apple's P/E ratio still ranks among the lowest. Amazon is finishing the year with a P/E of 81.8, Facebook's is 32.8, Microsoft's is 29.7, and Google-parent Alphabet's is 28.7.\"  !!!HAPPY NEW YEAR EVERYBODY!!!  After its strongest year in a decade, Apple stock is historically expensive on a price-to-earnings basis -</td>\n",
       "      <td>cashtag_AAPL And to those using the tired and old delapidated PE ratio argument, I'll just leave you with this, oh, ours?  Just 24.7 PE, at end of 2019 (with a massively more room to grow ).... Compare Apples' PE to other megacaps=, quote from article with a false negative title to begin with = \"Compared with the other megacap tech stocks, Apple's P/E ratio still ranks among the lowest. Amazon is finishing the year with a P/E of 81.8, Facebook's is 32.8, Microsoft's is 29.7, and Google-parent Alphabet's is 28.7.\"  !!!HAPPY NEW YEAR EVERYBODY!!!  After its strongest year in a decade, Apple stock is historically expensive on a price-to-earnings basis -</td>\n",
       "      <td>0</td>\n",
       "      <td>0</td>\n",
       "      <td>1</td>\n",
       "      <td>0</td>\n",
       "      <td>468</td>\n",
       "      <td>19</td>\n",
       "      <td>533</td>\n",
       "      <td>110</td>\n",
       "      <td>7</td>\n",
       "      <td>1</td>\n",
       "      <td>1</td>\n",
       "      <td>3</td>\n",
       "      <td>0</td>\n",
       "      <td>False</td>\n",
       "      <td>39</td>\n",
       "      <td>2020-01-02</td>\n",
       "      <td>0</td>\n",
       "      <td>1</td>\n",
       "      <td>2020-01-01</td>\n",
       "      <td>-0.332439</td>\n",
       "      <td>&lt;NA&gt;</td>\n",
       "      <td>1</td>\n",
       "    </tr>\n",
       "  </tbody>\n",
       "</table>\n",
       "</div>"
      ],
      "text/plain": [
       "              created_at_utc stock  count_like  count_reshare  \\\n",
       "0  2020-01-01 05:06:58+00:00  AAPL           2              0   \n",
       "1  2020-01-01 05:08:28+00:00  AAPL           3              0   \n",
       "2  2020-01-01 05:14:51+00:00  AAPL          21              0   \n",
       "3  2020-01-01 05:19:59+00:00  AAPL           1              0   \n",
       "4  2020-01-01 05:37:42+00:00  AAPL           1              0   \n",
       "\n",
       "   sentiment_score  \\\n",
       "0                1   \n",
       "1                1   \n",
       "2                1   \n",
       "3             <NA>   \n",
       "4                1   \n",
       "\n",
       "                                                                                                                                                                                                                                                                                                                                                                                                                                                                                                                                                                                                                                                                  body_prepared  \\\n",
       "0                                                                                                                                                                                                                                                                                                                                                                                                                                                                                                                                                                $AAPL good things happening 2020 run trump and everything’s gonna run up get it while you can follow the trend   \n",
       "1                                                                                                                                                                                                                                                                                                                                                                                                                                                                                                                                                                                         $AAPL Happy New Year amazing winning AAPL Bulls! You’re making life fun and exciting!   \n",
       "2                                                                                                                                                                                                                                                                                                                                                                                                                                                                                                                                                                                                                             Happy New Year  :) $AAPL $TSLA $AMZN  $SPY $BTC.X   \n",
       "3                                                                                                                                                                                                                                                                                                                                                                                                                                              @Taxes_R2_Damn_High  my dad ended this year by selling half his $aapl and $MSFT  Two decades in almost exactly.   I think no one is being careful.   These parabolic moves can be dangerous.   I know everyone is cheerful  now!   \n",
       "4  $AAPL And to those using the tired and old delapidated PE ratio argument, I'll just leave you with this, oh, ours?  Just 24.7 PE, at end of 2019 (with a massively more room to grow ).... Compare Apples' PE to other megacaps=, quote from article with a false negative title to begin with = \"Compared with the other megacap tech stocks, Apple's P/E ratio still ranks among the lowest. Amazon is finishing the year with a P/E of 81.8, Facebook's is 32.8, Microsoft's is 29.7, and Google-parent Alphabet's is 28.7.\"  !!!HAPPY NEW YEAR EVERYBODY!!!  After its strongest year in a decade, Apple stock is historically expensive on a price-to-earnings basis -    \n",
       "\n",
       "                                                                                                                                                                                                                                                                                                                                                                                                                                                                                                                                                                                                                                                                        body_processed  \\\n",
       "0                                                                                                                                                                                                                                                                                                                                                                                                                                                                                                                                                                cashtag_AAPL good things happening 2020 run trump and everything’s gonna run up get it while you can follow the trend   \n",
       "1                                                                                                                                                                                                                                                                                                                                                                                                                                                                                                                                                                                         cashtag_AAPL Happy New Year amazing winning AAPL Bulls! You’re making life fun and exciting!   \n",
       "2                                                                                                                                                                                                                                                                                                                                                                                                                                                                                                                                                                                                 Happy New Year  :) cashtag_AAPL cashtag_TSLA cashtag_AMZN  cashtag_SPY cashtag_BTC.X   \n",
       "3                                                                                                                                                                                                                                                                                                                                                                                                                                mention_Taxes_R2_Damn_High  my dad ended this year by selling half his cashtag_aapl and cashtag_MSFT  Two decades in almost exactly.   I think no one is being careful.   These parabolic moves can be dangerous.   I know everyone is cheerful  now!   \n",
       "4  cashtag_AAPL And to those using the tired and old delapidated PE ratio argument, I'll just leave you with this, oh, ours?  Just 24.7 PE, at end of 2019 (with a massively more room to grow ).... Compare Apples' PE to other megacaps=, quote from article with a false negative title to begin with = \"Compared with the other megacap tech stocks, Apple's P/E ratio still ranks among the lowest. Amazon is finishing the year with a P/E of 81.8, Facebook's is 32.8, Microsoft's is 29.7, and Google-parent Alphabet's is 28.7.\"  !!!HAPPY NEW YEAR EVERYBODY!!!  After its strongest year in a decade, Apple stock is historically expensive on a price-to-earnings basis -    \n",
       "\n",
       "   count_mention  count_hashtag  count_cashtag  count_emoji  count_alpha  \\\n",
       "0              0              0              1            0           81   \n",
       "1              0              0              1            0           64   \n",
       "2              0              0              5            0           13   \n",
       "3              1              0              2            0          146   \n",
       "4              0              0              1            0          468   \n",
       "\n",
       "   count_digit  count_all_char  count_token  count_sent  created_month_local  \\\n",
       "0            4              86           19           1                    1   \n",
       "1            0              67           13           2                    1   \n",
       "2            0              16            5           1                    1   \n",
       "3            0             150           34           4                    1   \n",
       "4           19             533          110           7                    1   \n",
       "\n",
       "   created_day_local  created_weekday_local  created_hour_local  \\\n",
       "0                  1                      3                   0   \n",
       "1                  1                      3                   0   \n",
       "2                  1                      3                   0   \n",
       "3                  1                      3                   0   \n",
       "4                  1                      3                   0   \n",
       "\n",
       "   within_trading_time  hours_till_close trading_date  price_change_same_day  \\\n",
       "0                False                39   2020-01-02                      0   \n",
       "1                False                39   2020-01-02                      0   \n",
       "2                False                39   2020-01-02                      0   \n",
       "3                False                39   2020-01-02                      0   \n",
       "4                False                39   2020-01-02                      0   \n",
       "\n",
       "   price_change_pre_day created_date_local  pre_day_volume_zscore  \\\n",
       "0                     1         2020-01-01              -0.332439   \n",
       "1                     1         2020-01-01              -0.332439   \n",
       "2                     1         2020-01-01              -0.332439   \n",
       "3                     1         2020-01-01              -0.332439   \n",
       "4                     1         2020-01-01              -0.332439   \n",
       "\n",
       "   sentiment_score_predicted  sentiment_score_combined  \n",
       "0                       <NA>                         1  \n",
       "1                       <NA>                         1  \n",
       "2                       <NA>                         1  \n",
       "3                          1                         1  \n",
       "4                       <NA>                         1  "
      ]
     },
     "execution_count": 126,
     "metadata": {},
     "output_type": "execute_result"
    }
   ],
   "source": [
    "df_twits_combined_with_feature_with_time_with_stock_new.head()"
   ]
  },
  {
   "cell_type": "code",
   "execution_count": 135,
   "id": "b8f1e90c-98aa-4e89-a2ae-93dbe4159260",
   "metadata": {},
   "outputs": [],
   "source": [
    "# groupby_list is the list for either the features or the target variables to be aggregated by daily target variable\n",
    "groupby_list_daily = ['stock', 'within_trading_time', 'trading_date', 'price_change_same_day', 'price_change_pre_day']\n",
    "df_all_grouped_daily = dimension_reduction.aggregate_by_features(df_twits_combined_with_feature_with_time_with_stock_new, groupby_list_daily)\n",
    "df_all_grouped_daily.drop(columns=['avg_created_month_local', 'avg_created_day_local', 'avg_created_weekday_local', 'avg_created_hour_local'], inplace=True)"
   ]
  },
  {
   "cell_type": "code",
   "execution_count": 136,
   "id": "6ea82c49-655e-42bf-8336-6ee6a601c111",
   "metadata": {},
   "outputs": [
    {
     "data": {
      "text/html": [
       "<div>\n",
       "<style scoped>\n",
       "    .dataframe tbody tr th:only-of-type {\n",
       "        vertical-align: middle;\n",
       "    }\n",
       "\n",
       "    .dataframe tbody tr th {\n",
       "        vertical-align: top;\n",
       "    }\n",
       "\n",
       "    .dataframe thead th {\n",
       "        text-align: right;\n",
       "    }\n",
       "</style>\n",
       "<table border=\"1\" class=\"dataframe\">\n",
       "  <thead>\n",
       "    <tr style=\"text-align: right;\">\n",
       "      <th></th>\n",
       "      <th>stock</th>\n",
       "      <th>within_trading_time</th>\n",
       "      <th>trading_date</th>\n",
       "      <th>price_change_same_day</th>\n",
       "      <th>price_change_pre_day</th>\n",
       "      <th>avg_count_like</th>\n",
       "      <th>avg_count_reshare</th>\n",
       "      <th>avg_sentiment_score</th>\n",
       "      <th>avg_count_mention</th>\n",
       "      <th>avg_count_hashtag</th>\n",
       "      <th>avg_count_cashtag</th>\n",
       "      <th>avg_count_emoji</th>\n",
       "      <th>avg_count_alpha</th>\n",
       "      <th>avg_count_digit</th>\n",
       "      <th>avg_count_all_char</th>\n",
       "      <th>avg_count_token</th>\n",
       "      <th>avg_count_sent</th>\n",
       "      <th>avg_hours_till_close</th>\n",
       "      <th>avg_pre_day_volume_zscore</th>\n",
       "      <th>avg_sentiment_score_predicted</th>\n",
       "      <th>avg_sentiment_score_combined</th>\n",
       "      <th>count_record</th>\n",
       "    </tr>\n",
       "  </thead>\n",
       "  <tbody>\n",
       "    <tr>\n",
       "      <th>0</th>\n",
       "      <td>AAPL</td>\n",
       "      <td>False</td>\n",
       "      <td>2020-01-02</td>\n",
       "      <td>0</td>\n",
       "      <td>1</td>\n",
       "      <td>2.944690</td>\n",
       "      <td>0.066372</td>\n",
       "      <td>0.845745</td>\n",
       "      <td>0.121681</td>\n",
       "      <td>0.055310</td>\n",
       "      <td>2.026549</td>\n",
       "      <td>0.303097</td>\n",
       "      <td>95.464602</td>\n",
       "      <td>3.588496</td>\n",
       "      <td>104.975664</td>\n",
       "      <td>23.369469</td>\n",
       "      <td>2.000000</td>\n",
       "      <td>17.491150</td>\n",
       "      <td>-0.332439</td>\n",
       "      <td>0.727273</td>\n",
       "      <td>0.776549</td>\n",
       "      <td>452</td>\n",
       "    </tr>\n",
       "    <tr>\n",
       "      <th>1</th>\n",
       "      <td>AAPL</td>\n",
       "      <td>False</td>\n",
       "      <td>2020-01-03</td>\n",
       "      <td>0</td>\n",
       "      <td>0</td>\n",
       "      <td>2.072884</td>\n",
       "      <td>0.048589</td>\n",
       "      <td>0.673913</td>\n",
       "      <td>0.063480</td>\n",
       "      <td>0.042320</td>\n",
       "      <td>1.797022</td>\n",
       "      <td>0.394984</td>\n",
       "      <td>76.984326</td>\n",
       "      <td>2.634796</td>\n",
       "      <td>84.173981</td>\n",
       "      <td>18.911442</td>\n",
       "      <td>1.835423</td>\n",
       "      <td>15.686520</td>\n",
       "      <td>0.239195</td>\n",
       "      <td>0.570796</td>\n",
       "      <td>0.619122</td>\n",
       "      <td>1276</td>\n",
       "    </tr>\n",
       "    <tr>\n",
       "      <th>2</th>\n",
       "      <td>AAPL</td>\n",
       "      <td>False</td>\n",
       "      <td>2020-01-06</td>\n",
       "      <td>1</td>\n",
       "      <td>1</td>\n",
       "      <td>2.231039</td>\n",
       "      <td>0.064177</td>\n",
       "      <td>0.615152</td>\n",
       "      <td>0.056009</td>\n",
       "      <td>0.166861</td>\n",
       "      <td>2.149358</td>\n",
       "      <td>0.586931</td>\n",
       "      <td>91.822637</td>\n",
       "      <td>2.197200</td>\n",
       "      <td>99.466744</td>\n",
       "      <td>21.988331</td>\n",
       "      <td>1.926488</td>\n",
       "      <td>35.352392</td>\n",
       "      <td>0.417939</td>\n",
       "      <td>0.626186</td>\n",
       "      <td>0.621937</td>\n",
       "      <td>857</td>\n",
       "    </tr>\n",
       "    <tr>\n",
       "      <th>3</th>\n",
       "      <td>AAPL</td>\n",
       "      <td>False</td>\n",
       "      <td>2020-01-07</td>\n",
       "      <td>0</td>\n",
       "      <td>0</td>\n",
       "      <td>1.943953</td>\n",
       "      <td>0.044248</td>\n",
       "      <td>0.736842</td>\n",
       "      <td>0.070796</td>\n",
       "      <td>0.209440</td>\n",
       "      <td>2.153392</td>\n",
       "      <td>0.309735</td>\n",
       "      <td>86.802360</td>\n",
       "      <td>3.129794</td>\n",
       "      <td>95.020649</td>\n",
       "      <td>21.091445</td>\n",
       "      <td>1.781711</td>\n",
       "      <td>14.654867</td>\n",
       "      <td>-0.042596</td>\n",
       "      <td>0.776699</td>\n",
       "      <td>0.761062</td>\n",
       "      <td>339</td>\n",
       "    </tr>\n",
       "    <tr>\n",
       "      <th>4</th>\n",
       "      <td>AAPL</td>\n",
       "      <td>False</td>\n",
       "      <td>2020-01-08</td>\n",
       "      <td>1</td>\n",
       "      <td>1</td>\n",
       "      <td>2.166667</td>\n",
       "      <td>0.075221</td>\n",
       "      <td>0.62116</td>\n",
       "      <td>0.058997</td>\n",
       "      <td>0.042773</td>\n",
       "      <td>1.912979</td>\n",
       "      <td>0.535398</td>\n",
       "      <td>69.679941</td>\n",
       "      <td>1.781711</td>\n",
       "      <td>75.433628</td>\n",
       "      <td>16.952802</td>\n",
       "      <td>1.648968</td>\n",
       "      <td>17.182891</td>\n",
       "      <td>-0.199460</td>\n",
       "      <td>0.509091</td>\n",
       "      <td>0.557522</td>\n",
       "      <td>678</td>\n",
       "    </tr>\n",
       "    <tr>\n",
       "      <th>...</th>\n",
       "      <td>...</td>\n",
       "      <td>...</td>\n",
       "      <td>...</td>\n",
       "      <td>...</td>\n",
       "      <td>...</td>\n",
       "      <td>...</td>\n",
       "      <td>...</td>\n",
       "      <td>...</td>\n",
       "      <td>...</td>\n",
       "      <td>...</td>\n",
       "      <td>...</td>\n",
       "      <td>...</td>\n",
       "      <td>...</td>\n",
       "      <td>...</td>\n",
       "      <td>...</td>\n",
       "      <td>...</td>\n",
       "      <td>...</td>\n",
       "      <td>...</td>\n",
       "      <td>...</td>\n",
       "      <td>...</td>\n",
       "      <td>...</td>\n",
       "      <td>...</td>\n",
       "    </tr>\n",
       "    <tr>\n",
       "      <th>5453</th>\n",
       "      <td>TSLA</td>\n",
       "      <td>True</td>\n",
       "      <td>2022-02-22</td>\n",
       "      <td>0</td>\n",
       "      <td>0</td>\n",
       "      <td>1.613290</td>\n",
       "      <td>0.023965</td>\n",
       "      <td>0.637037</td>\n",
       "      <td>0.024510</td>\n",
       "      <td>0.016340</td>\n",
       "      <td>1.403595</td>\n",
       "      <td>0.377451</td>\n",
       "      <td>49.852941</td>\n",
       "      <td>1.801743</td>\n",
       "      <td>54.832244</td>\n",
       "      <td>12.405229</td>\n",
       "      <td>1.504357</td>\n",
       "      <td>2.780501</td>\n",
       "      <td>-0.704964</td>\n",
       "      <td>0.478114</td>\n",
       "      <td>0.559913</td>\n",
       "      <td>1836</td>\n",
       "    </tr>\n",
       "    <tr>\n",
       "      <th>5454</th>\n",
       "      <td>TSLA</td>\n",
       "      <td>True</td>\n",
       "      <td>2022-02-23</td>\n",
       "      <td>0</td>\n",
       "      <td>0</td>\n",
       "      <td>1.284633</td>\n",
       "      <td>0.022047</td>\n",
       "      <td>0.499375</td>\n",
       "      <td>0.028628</td>\n",
       "      <td>0.017769</td>\n",
       "      <td>1.338927</td>\n",
       "      <td>0.292201</td>\n",
       "      <td>48.599210</td>\n",
       "      <td>1.686081</td>\n",
       "      <td>53.088516</td>\n",
       "      <td>12.066798</td>\n",
       "      <td>1.500494</td>\n",
       "      <td>2.704837</td>\n",
       "      <td>-0.571148</td>\n",
       "      <td>0.402363</td>\n",
       "      <td>0.453439</td>\n",
       "      <td>3039</td>\n",
       "    </tr>\n",
       "    <tr>\n",
       "      <th>5455</th>\n",
       "      <td>TSLA</td>\n",
       "      <td>True</td>\n",
       "      <td>2022-02-24</td>\n",
       "      <td>1</td>\n",
       "      <td>1</td>\n",
       "      <td>1.363794</td>\n",
       "      <td>0.016890</td>\n",
       "      <td>0.750809</td>\n",
       "      <td>0.025552</td>\n",
       "      <td>0.015158</td>\n",
       "      <td>1.391945</td>\n",
       "      <td>0.483759</td>\n",
       "      <td>47.174534</td>\n",
       "      <td>1.363794</td>\n",
       "      <td>51.473365</td>\n",
       "      <td>11.554786</td>\n",
       "      <td>1.498051</td>\n",
       "      <td>2.864010</td>\n",
       "      <td>-0.462831</td>\n",
       "      <td>0.578751</td>\n",
       "      <td>0.670853</td>\n",
       "      <td>2309</td>\n",
       "    </tr>\n",
       "    <tr>\n",
       "      <th>5456</th>\n",
       "      <td>TSLA</td>\n",
       "      <td>True</td>\n",
       "      <td>2022-02-25</td>\n",
       "      <td>1</td>\n",
       "      <td>1</td>\n",
       "      <td>1.420875</td>\n",
       "      <td>0.015488</td>\n",
       "      <td>0.793149</td>\n",
       "      <td>0.026936</td>\n",
       "      <td>0.016162</td>\n",
       "      <td>1.454545</td>\n",
       "      <td>0.470034</td>\n",
       "      <td>48.960269</td>\n",
       "      <td>1.671380</td>\n",
       "      <td>53.667340</td>\n",
       "      <td>12.033670</td>\n",
       "      <td>1.501010</td>\n",
       "      <td>3.241751</td>\n",
       "      <td>-0.100242</td>\n",
       "      <td>0.625344</td>\n",
       "      <td>0.711111</td>\n",
       "      <td>1485</td>\n",
       "    </tr>\n",
       "    <tr>\n",
       "      <th>5457</th>\n",
       "      <td>TSLA</td>\n",
       "      <td>True</td>\n",
       "      <td>2022-02-28</td>\n",
       "      <td>1</td>\n",
       "      <td>1</td>\n",
       "      <td>1.712254</td>\n",
       "      <td>0.013129</td>\n",
       "      <td>0.776316</td>\n",
       "      <td>0.020788</td>\n",
       "      <td>0.014770</td>\n",
       "      <td>1.455689</td>\n",
       "      <td>0.540481</td>\n",
       "      <td>44.381838</td>\n",
       "      <td>1.470460</td>\n",
       "      <td>48.581510</td>\n",
       "      <td>10.942013</td>\n",
       "      <td>1.400985</td>\n",
       "      <td>3.452954</td>\n",
       "      <td>-0.636492</td>\n",
       "      <td>0.653141</td>\n",
       "      <td>0.724836</td>\n",
       "      <td>1828</td>\n",
       "    </tr>\n",
       "  </tbody>\n",
       "</table>\n",
       "<p>5458 rows × 22 columns</p>\n",
       "</div>"
      ],
      "text/plain": [
       "     stock  within_trading_time trading_date  price_change_same_day  \\\n",
       "0     AAPL                False   2020-01-02                      0   \n",
       "1     AAPL                False   2020-01-03                      0   \n",
       "2     AAPL                False   2020-01-06                      1   \n",
       "3     AAPL                False   2020-01-07                      0   \n",
       "4     AAPL                False   2020-01-08                      1   \n",
       "...    ...                  ...          ...                    ...   \n",
       "5453  TSLA                 True   2022-02-22                      0   \n",
       "5454  TSLA                 True   2022-02-23                      0   \n",
       "5455  TSLA                 True   2022-02-24                      1   \n",
       "5456  TSLA                 True   2022-02-25                      1   \n",
       "5457  TSLA                 True   2022-02-28                      1   \n",
       "\n",
       "      price_change_pre_day  avg_count_like  avg_count_reshare  \\\n",
       "0                        1        2.944690           0.066372   \n",
       "1                        0        2.072884           0.048589   \n",
       "2                        1        2.231039           0.064177   \n",
       "3                        0        1.943953           0.044248   \n",
       "4                        1        2.166667           0.075221   \n",
       "...                    ...             ...                ...   \n",
       "5453                     0        1.613290           0.023965   \n",
       "5454                     0        1.284633           0.022047   \n",
       "5455                     1        1.363794           0.016890   \n",
       "5456                     1        1.420875           0.015488   \n",
       "5457                     1        1.712254           0.013129   \n",
       "\n",
       "      avg_sentiment_score  avg_count_mention  avg_count_hashtag  \\\n",
       "0                0.845745           0.121681           0.055310   \n",
       "1                0.673913           0.063480           0.042320   \n",
       "2                0.615152           0.056009           0.166861   \n",
       "3                0.736842           0.070796           0.209440   \n",
       "4                 0.62116           0.058997           0.042773   \n",
       "...                   ...                ...                ...   \n",
       "5453             0.637037           0.024510           0.016340   \n",
       "5454             0.499375           0.028628           0.017769   \n",
       "5455             0.750809           0.025552           0.015158   \n",
       "5456             0.793149           0.026936           0.016162   \n",
       "5457             0.776316           0.020788           0.014770   \n",
       "\n",
       "      avg_count_cashtag  avg_count_emoji  avg_count_alpha  avg_count_digit  \\\n",
       "0              2.026549         0.303097        95.464602         3.588496   \n",
       "1              1.797022         0.394984        76.984326         2.634796   \n",
       "2              2.149358         0.586931        91.822637         2.197200   \n",
       "3              2.153392         0.309735        86.802360         3.129794   \n",
       "4              1.912979         0.535398        69.679941         1.781711   \n",
       "...                 ...              ...              ...              ...   \n",
       "5453           1.403595         0.377451        49.852941         1.801743   \n",
       "5454           1.338927         0.292201        48.599210         1.686081   \n",
       "5455           1.391945         0.483759        47.174534         1.363794   \n",
       "5456           1.454545         0.470034        48.960269         1.671380   \n",
       "5457           1.455689         0.540481        44.381838         1.470460   \n",
       "\n",
       "      avg_count_all_char  avg_count_token  avg_count_sent  \\\n",
       "0             104.975664        23.369469        2.000000   \n",
       "1              84.173981        18.911442        1.835423   \n",
       "2              99.466744        21.988331        1.926488   \n",
       "3              95.020649        21.091445        1.781711   \n",
       "4              75.433628        16.952802        1.648968   \n",
       "...                  ...              ...             ...   \n",
       "5453           54.832244        12.405229        1.504357   \n",
       "5454           53.088516        12.066798        1.500494   \n",
       "5455           51.473365        11.554786        1.498051   \n",
       "5456           53.667340        12.033670        1.501010   \n",
       "5457           48.581510        10.942013        1.400985   \n",
       "\n",
       "      avg_hours_till_close  avg_pre_day_volume_zscore  \\\n",
       "0                17.491150                  -0.332439   \n",
       "1                15.686520                   0.239195   \n",
       "2                35.352392                   0.417939   \n",
       "3                14.654867                  -0.042596   \n",
       "4                17.182891                  -0.199460   \n",
       "...                    ...                        ...   \n",
       "5453              2.780501                  -0.704964   \n",
       "5454              2.704837                  -0.571148   \n",
       "5455              2.864010                  -0.462831   \n",
       "5456              3.241751                  -0.100242   \n",
       "5457              3.452954                  -0.636492   \n",
       "\n",
       "      avg_sentiment_score_predicted  avg_sentiment_score_combined  \\\n",
       "0                          0.727273                      0.776549   \n",
       "1                          0.570796                      0.619122   \n",
       "2                          0.626186                      0.621937   \n",
       "3                          0.776699                      0.761062   \n",
       "4                          0.509091                      0.557522   \n",
       "...                             ...                           ...   \n",
       "5453                       0.478114                      0.559913   \n",
       "5454                       0.402363                      0.453439   \n",
       "5455                       0.578751                      0.670853   \n",
       "5456                       0.625344                      0.711111   \n",
       "5457                       0.653141                      0.724836   \n",
       "\n",
       "      count_record  \n",
       "0              452  \n",
       "1             1276  \n",
       "2              857  \n",
       "3              339  \n",
       "4              678  \n",
       "...            ...  \n",
       "5453          1836  \n",
       "5454          3039  \n",
       "5455          2309  \n",
       "5456          1485  \n",
       "5457          1828  \n",
       "\n",
       "[5458 rows x 22 columns]"
      ]
     },
     "execution_count": 136,
     "metadata": {},
     "output_type": "execute_result"
    }
   ],
   "source": [
    "df_all_grouped_daily"
   ]
  },
  {
   "cell_type": "code",
   "execution_count": 137,
   "id": "da7acd72-fd62-46da-9d67-0e1c14ad9245",
   "metadata": {},
   "outputs": [],
   "source": [
    "# output file for correlation analysis\n",
    "df_all_grouped_daily.to_csv(r'C:\\Users\\frank\\OneDrive\\Documents\\Learning\\NUS MTech EBCA\\3. Course Material\\EBA5004 PLP\\4. Practice Module Project\\data\\Processed\\StockTwits\\Combined\\df_all_grouped_daily.csv', index=False)"
   ]
  },
  {
   "cell_type": "code",
   "execution_count": null,
   "id": "0a207d2b-d692-4b28-a62f-da2ff0afab76",
   "metadata": {},
   "outputs": [],
   "source": []
  },
  {
   "cell_type": "code",
   "execution_count": null,
   "id": "4f1d5fd2-6565-4cb2-981b-83e4b7f2d7b7",
   "metadata": {},
   "outputs": [],
   "source": []
  },
  {
   "cell_type": "code",
   "execution_count": null,
   "id": "5537e0bc-ee70-4b42-ade8-ade535c1ed74",
   "metadata": {},
   "outputs": [],
   "source": []
  },
  {
   "cell_type": "code",
   "execution_count": null,
   "id": "2800c5ff-9d59-4af5-91a4-391875396191",
   "metadata": {},
   "outputs": [],
   "source": []
  },
  {
   "cell_type": "markdown",
   "id": "8ed4016b-ec8e-4b4c-b101-d43b2f132f61",
   "metadata": {},
   "source": [
    "## Exploratory Data Analysis"
   ]
  },
  {
   "cell_type": "markdown",
   "id": "fd9b0d43-a4c8-40e3-938a-6bf032816cf0",
   "metadata": {},
   "source": [
    "# Modelling and Evaluation"
   ]
  },
  {
   "cell_type": "markdown",
   "id": "2061c6f2-2d41-4588-9aa1-d86ebfedeb3c",
   "metadata": {},
   "source": [
    "## Sentiment Engine Training"
   ]
  },
  {
   "cell_type": "code",
   "execution_count": null,
   "id": "a1a55447-0d09-4829-af4f-4671c6bf98db",
   "metadata": {},
   "outputs": [],
   "source": []
  }
 ],
 "metadata": {
  "kernelspec": {
   "display_name": "Python 3 (ipykernel)",
   "language": "python",
   "name": "python3"
  },
  "language_info": {
   "codemirror_mode": {
    "name": "ipython",
    "version": 3
   },
   "file_extension": ".py",
   "mimetype": "text/x-python",
   "name": "python",
   "nbconvert_exporter": "python",
   "pygments_lexer": "ipython3",
   "version": "3.10.2"
  },
  "toc-autonumbering": true,
  "toc-showcode": false,
  "toc-showmarkdowntxt": false
 },
 "nbformat": 4,
 "nbformat_minor": 5
}
