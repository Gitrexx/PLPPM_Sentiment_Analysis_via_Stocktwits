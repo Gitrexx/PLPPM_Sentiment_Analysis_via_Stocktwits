{
  "nbformat": 4,
  "nbformat_minor": 0,
  "metadata": {
    "colab": {
      "name": "Other_SAlibs.ipynb",
      "provenance": [],
      "collapsed_sections": []
    },
    "kernelspec": {
      "name": "python3",
      "display_name": "Python 3"
    },
    "language_info": {
      "name": "python"
    }
  },
  "cells": [
    {
      "cell_type": "markdown",
      "source": [
        "### Try out several sentiment analysis libraries\n",
        "\n"
      ],
      "metadata": {
        "id": "P5XUz8aASL9j"
      }
    },
    {
      "cell_type": "markdown",
      "source": [
        "#### Vader"
      ],
      "metadata": {
        "id": "Ffp1Uu64ZWdG"
      }
    },
    {
      "cell_type": "code",
      "source": [
        "!pip install VaderSentiment"
      ],
      "metadata": {
        "colab": {
          "base_uri": "https://localhost:8080/"
        },
        "id": "MJCerR6ESVrZ",
        "outputId": "011aa88a-7080-4038-c0c7-51a3b0002e73"
      },
      "execution_count": null,
      "outputs": [
        {
          "output_type": "stream",
          "name": "stdout",
          "text": [
            "Collecting VaderSentiment\n",
            "  Downloading vaderSentiment-3.3.2-py2.py3-none-any.whl (125 kB)\n",
            "\u001b[?25l\r\u001b[K     |██▋                             | 10 kB 29.8 MB/s eta 0:00:01\r\u001b[K     |█████▏                          | 20 kB 9.7 MB/s eta 0:00:01\r\u001b[K     |███████▉                        | 30 kB 7.8 MB/s eta 0:00:01\r\u001b[K     |██████████▍                     | 40 kB 7.5 MB/s eta 0:00:01\r\u001b[K     |█████████████                   | 51 kB 4.5 MB/s eta 0:00:01\r\u001b[K     |███████████████▋                | 61 kB 4.6 MB/s eta 0:00:01\r\u001b[K     |██████████████████▏             | 71 kB 4.6 MB/s eta 0:00:01\r\u001b[K     |████████████████████▉           | 81 kB 5.1 MB/s eta 0:00:01\r\u001b[K     |███████████████████████▍        | 92 kB 5.2 MB/s eta 0:00:01\r\u001b[K     |██████████████████████████      | 102 kB 4.3 MB/s eta 0:00:01\r\u001b[K     |████████████████████████████▋   | 112 kB 4.3 MB/s eta 0:00:01\r\u001b[K     |███████████████████████████████▏| 122 kB 4.3 MB/s eta 0:00:01\r\u001b[K     |████████████████████████████████| 125 kB 4.3 MB/s \n",
            "\u001b[?25hRequirement already satisfied: requests in /usr/local/lib/python3.7/dist-packages (from VaderSentiment) (2.23.0)\n",
            "Requirement already satisfied: chardet<4,>=3.0.2 in /usr/local/lib/python3.7/dist-packages (from requests->VaderSentiment) (3.0.4)\n",
            "Requirement already satisfied: idna<3,>=2.5 in /usr/local/lib/python3.7/dist-packages (from requests->VaderSentiment) (2.10)\n",
            "Requirement already satisfied: urllib3!=1.25.0,!=1.25.1,<1.26,>=1.21.1 in /usr/local/lib/python3.7/dist-packages (from requests->VaderSentiment) (1.24.3)\n",
            "Requirement already satisfied: certifi>=2017.4.17 in /usr/local/lib/python3.7/dist-packages (from requests->VaderSentiment) (2021.10.8)\n",
            "Installing collected packages: VaderSentiment\n",
            "Successfully installed VaderSentiment-3.3.2\n"
          ]
        }
      ]
    },
    {
      "cell_type": "code",
      "source": [
        "from vaderSentiment.vaderSentiment import SentimentIntensityAnalyzer\n",
        "vader_obj = SentimentIntensityAnalyzer()"
      ],
      "metadata": {
        "id": "_PpUXvuaSrWR"
      },
      "execution_count": null,
      "outputs": []
    },
    {
      "cell_type": "code",
      "source": [
        "sentences = ['I hate the new movie very much!',\n",
        "        'I do not really like this movie.',\n",
        "        'I think this movie is just ok.',\n",
        "        'I think this movie is pretty good.',\n",
        "        'I like this movie.']\n",
        "\n",
        "for sent in sentences:\n",
        "  vaderScore = vader_obj.polarity_scores(sent)\n",
        "  print(sent,'-------',vaderScore)"
      ],
      "metadata": {
        "colab": {
          "base_uri": "https://localhost:8080/"
        },
        "id": "w3BcLnNNS3yT",
        "outputId": "a23f70e3-6dad-46cb-b8b6-8e5e1a311d78"
      },
      "execution_count": null,
      "outputs": [
        {
          "output_type": "stream",
          "name": "stdout",
          "text": [
            "I hate the new movie very much! ------- {'neg': 0.4, 'neu': 0.6, 'pos': 0.0, 'compound': -0.6114}\n",
            "I do not really like this movie. ------- {'neg': 0.279, 'neu': 0.721, 'pos': 0.0, 'compound': -0.3241}\n",
            "I think this movie is just ok. ------- {'neg': 0.0, 'neu': 1.0, 'pos': 0.0, 'compound': 0.0}\n",
            "I think this movie is pretty good. ------- {'neg': 0.0, 'neu': 0.45, 'pos': 0.55, 'compound': 0.7269}\n",
            "I like this movie. ------- {'neg': 0.0, 'neu': 0.545, 'pos': 0.455, 'compound': 0.3612}\n"
          ]
        }
      ]
    },
    {
      "cell_type": "markdown",
      "source": [
        "#### stanza"
      ],
      "metadata": {
        "id": "ndhF603eZaQD"
      }
    },
    {
      "cell_type": "code",
      "source": [
        "!pip install stanza"
      ],
      "metadata": {
        "colab": {
          "base_uri": "https://localhost:8080/"
        },
        "id": "T1AzCOCjXkCG",
        "outputId": "c5ad0800-b60e-4d22-e843-caccc2754ede"
      },
      "execution_count": null,
      "outputs": [
        {
          "output_type": "stream",
          "name": "stdout",
          "text": [
            "Collecting stanza\n",
            "  Downloading stanza-1.3.0-py3-none-any.whl (432 kB)\n",
            "\u001b[K     |████████████████████████████████| 432 kB 4.2 MB/s \n",
            "\u001b[?25hCollecting emoji\n",
            "  Downloading emoji-1.6.3.tar.gz (174 kB)\n",
            "\u001b[K     |████████████████████████████████| 174 kB 59.9 MB/s \n",
            "\u001b[?25hRequirement already satisfied: requests in /usr/local/lib/python3.7/dist-packages (from stanza) (2.23.0)\n",
            "Requirement already satisfied: protobuf in /usr/local/lib/python3.7/dist-packages (from stanza) (3.17.3)\n",
            "Requirement already satisfied: numpy in /usr/local/lib/python3.7/dist-packages (from stanza) (1.19.5)\n",
            "Requirement already satisfied: tqdm in /usr/local/lib/python3.7/dist-packages (from stanza) (4.62.3)\n",
            "Requirement already satisfied: torch>=1.3.0 in /usr/local/lib/python3.7/dist-packages (from stanza) (1.10.0+cu111)\n",
            "Requirement already satisfied: six in /usr/local/lib/python3.7/dist-packages (from stanza) (1.15.0)\n",
            "Requirement already satisfied: typing-extensions in /usr/local/lib/python3.7/dist-packages (from torch>=1.3.0->stanza) (3.10.0.2)\n",
            "Requirement already satisfied: certifi>=2017.4.17 in /usr/local/lib/python3.7/dist-packages (from requests->stanza) (2021.10.8)\n",
            "Requirement already satisfied: urllib3!=1.25.0,!=1.25.1,<1.26,>=1.21.1 in /usr/local/lib/python3.7/dist-packages (from requests->stanza) (1.24.3)\n",
            "Requirement already satisfied: idna<3,>=2.5 in /usr/local/lib/python3.7/dist-packages (from requests->stanza) (2.10)\n",
            "Requirement already satisfied: chardet<4,>=3.0.2 in /usr/local/lib/python3.7/dist-packages (from requests->stanza) (3.0.4)\n",
            "Building wheels for collected packages: emoji\n",
            "  Building wheel for emoji (setup.py) ... \u001b[?25l\u001b[?25hdone\n",
            "  Created wheel for emoji: filename=emoji-1.6.3-py3-none-any.whl size=170298 sha256=ec442c4c0e79901bf4492082dd8f15b28106d65243307eecfc540e175134682e\n",
            "  Stored in directory: /root/.cache/pip/wheels/03/8b/d7/ad579fbef83c287215c0caab60fb0ae0f30c4d7ce5f580eade\n",
            "Successfully built emoji\n",
            "Installing collected packages: emoji, stanza\n",
            "Successfully installed emoji-1.6.3 stanza-1.3.0\n"
          ]
        }
      ]
    },
    {
      "cell_type": "code",
      "source": [
        "import stanza\n",
        "stanza.download('en')\n",
        "nlp = stanza.Pipeline(lang='en',processors='tokenize,sentiment')"
      ],
      "metadata": {
        "colab": {
          "base_uri": "https://localhost:8080/",
          "height": 310,
          "referenced_widgets": [
            "d071833066854d4aa4ac1ac23b55643d",
            "f7f1869be3c2413da825f9aee2ac3d5c",
            "0f0e7083e91649868346fe4b25d4a6b1",
            "6220fb6e4fee4c41bdcff7c21cc63808",
            "96e86069563549259aa326ea2d7c284f",
            "6c48310ceaee4027b16d117e3fa2e7bb",
            "87f3f01e00fc431296f14972e1a20ec5",
            "e3eba32b60a34c8581189abea1366e30",
            "f800c347c3ae4b6da510f12031bfb4d1",
            "f783d98033a645ebb327b6dd248d93ac",
            "555ec93d494f49d193fdfa72b42d2542"
          ]
        },
        "id": "es4s2ricXvkF",
        "outputId": "4d505010-dd4c-407c-d30a-bad9c531d73d"
      },
      "execution_count": null,
      "outputs": [
        {
          "output_type": "display_data",
          "data": {
            "application/vnd.jupyter.widget-view+json": {
              "model_id": "d071833066854d4aa4ac1ac23b55643d",
              "version_minor": 0,
              "version_major": 2
            },
            "text/plain": [
              "Downloading https://raw.githubusercontent.com/stanfordnlp/stanza-resources/main/resources_1.3.0.json:   0%|   …"
            ]
          },
          "metadata": {}
        },
        {
          "output_type": "stream",
          "name": "stderr",
          "text": [
            "2022-02-13 04:43:46 INFO: Downloading default packages for language: en (English)...\n",
            "2022-02-13 04:43:47 INFO: File exists: /root/stanza_resources/en/default.zip.\n",
            "2022-02-13 04:43:53 INFO: Finished downloading models and saved to /root/stanza_resources.\n",
            "2022-02-13 04:43:53 INFO: Loading these models for language: en (English):\n",
            "========================\n",
            "| Processor | Package  |\n",
            "------------------------\n",
            "| tokenize  | combined |\n",
            "| sentiment | sstplus  |\n",
            "========================\n",
            "\n",
            "2022-02-13 04:43:53 INFO: Use device: cpu\n",
            "2022-02-13 04:43:53 INFO: Loading: tokenize\n",
            "2022-02-13 04:43:53 INFO: Loading: sentiment\n",
            "2022-02-13 04:43:54 INFO: Done loading processors!\n"
          ]
        }
      ]
    },
    {
      "cell_type": "code",
      "source": [
        "sentiment_dict = {0: \"Negative\",1: \"Neutral\",2: \"Positive\"}\n",
        "doc = nlp('I hate the new movie very much! I do not really like this movie. I think this movie is just ok. I think this movie is pretty good. I like this movie.')\n",
        "for sent in doc.sentences:\n",
        "  print(sent.text, '--------', sentiment_dict[sent.sentiment])"
      ],
      "metadata": {
        "colab": {
          "base_uri": "https://localhost:8080/"
        },
        "id": "hw0aIMykZOWF",
        "outputId": "6b6dafc8-be97-4a0b-bdb6-366aa299329b"
      },
      "execution_count": null,
      "outputs": [
        {
          "output_type": "stream",
          "name": "stdout",
          "text": [
            "I hate the new movie very much! -------- Negative\n",
            "I do not really like this movie. -------- Negative\n",
            "I think this movie is just ok. -------- Neutral\n",
            "I think this movie is pretty good. -------- Positive\n",
            "I like this movie. -------- Neutral\n"
          ]
        }
      ]
    },
    {
      "cell_type": "markdown",
      "source": [
        "#### text2emotion"
      ],
      "metadata": {
        "id": "4byFfadJe47q"
      }
    },
    {
      "cell_type": "code",
      "source": [
        "!pip install text2emotion"
      ],
      "metadata": {
        "colab": {
          "base_uri": "https://localhost:8080/"
        },
        "id": "8IkkdSiSd4sZ",
        "outputId": "6e4ae81e-2f20-4806-8e00-5442bc438244"
      },
      "execution_count": null,
      "outputs": [
        {
          "output_type": "stream",
          "name": "stdout",
          "text": [
            "Collecting text2emotion\n",
            "  Downloading text2emotion-0.0.5-py3-none-any.whl (57 kB)\n",
            "\u001b[?25l\r\u001b[K     |█████▊                          | 10 kB 22.1 MB/s eta 0:00:01\r\u001b[K     |███████████▍                    | 20 kB 17.0 MB/s eta 0:00:01\r\u001b[K     |█████████████████               | 30 kB 10.8 MB/s eta 0:00:01\r\u001b[K     |██████████████████████▊         | 40 kB 9.1 MB/s eta 0:00:01\r\u001b[K     |████████████████████████████▍   | 51 kB 4.2 MB/s eta 0:00:01\r\u001b[K     |████████████████████████████████| 57 kB 2.6 MB/s \n",
            "\u001b[?25hRequirement already satisfied: emoji>=0.6.0 in /usr/local/lib/python3.7/dist-packages (from text2emotion) (1.6.3)\n",
            "Requirement already satisfied: nltk in /usr/local/lib/python3.7/dist-packages (from text2emotion) (3.2.5)\n",
            "Requirement already satisfied: six in /usr/local/lib/python3.7/dist-packages (from nltk->text2emotion) (1.15.0)\n",
            "Installing collected packages: text2emotion\n",
            "Successfully installed text2emotion-0.0.5\n"
          ]
        }
      ]
    },
    {
      "cell_type": "code",
      "source": [
        "import text2emotion as te\n",
        "sentences = ['I hate the new movie very much!',\n",
        "        'I do not really like this movie.',\n",
        "        'I think this movie is just ok.',\n",
        "        'I think this movie is pretty good.',\n",
        "        'I like this movie.']\n",
        "\n",
        "for sent in sentences:\n",
        "  print(sent, '--------', te.get_emotion(sent))"
      ],
      "metadata": {
        "colab": {
          "base_uri": "https://localhost:8080/"
        },
        "id": "URcUtn7_d8Cd",
        "outputId": "9f01c2d8-d99f-442b-d716-4bf00e793e2f"
      },
      "execution_count": null,
      "outputs": [
        {
          "output_type": "stream",
          "name": "stdout",
          "text": [
            "I hate the new movie very much! -------- {'Happy': 0.0, 'Angry': 0.0, 'Surprise': 0.0, 'Sad': 1.0, 'Fear': 0.0}\n",
            "I do not really like this movie. -------- {'Happy': 0.0, 'Angry': 0.0, 'Surprise': 1.0, 'Sad': 0.0, 'Fear': 0.0}\n",
            "I think this movie is just ok. -------- {'Happy': 0.0, 'Angry': 0.0, 'Surprise': 1.0, 'Sad': 0.0, 'Fear': 0.0}\n",
            "I think this movie is pretty good. -------- {'Happy': 0.67, 'Angry': 0.0, 'Surprise': 0.33, 'Sad': 0.0, 'Fear': 0.0}\n",
            "I like this movie. -------- {'Happy': 0, 'Angry': 0, 'Surprise': 0, 'Sad': 0, 'Fear': 0}\n"
          ]
        }
      ]
    },
    {
      "cell_type": "markdown",
      "source": [
        "#### spacy trained sentiment analysis"
      ],
      "metadata": {
        "id": "8emoGqEWhx_7"
      }
    },
    {
      "cell_type": "code",
      "source": [
        "#!unzip model_artifacts.zip"
      ],
      "metadata": {
        "id": "W0fy9yRwh_c5"
      },
      "execution_count": null,
      "outputs": []
    },
    {
      "cell_type": "code",
      "source": [
        "# Load saved model\n",
        "loaded_model = spacy.load(\"model_artifacts\") "
      ],
      "metadata": {
        "id": "IqAK8eJQijB0"
      },
      "execution_count": null,
      "outputs": []
    },
    {
      "cell_type": "code",
      "source": [
        "# Test predictions for reviews\n",
        "def test_model(sentence):\n",
        "    #  Load saved trained model\n",
        "    loaded_model = spacy.load(\"model_artifacts\")\n",
        "    # Generate prediction\n",
        "    parsed_text = loaded_model(sentence)\n",
        "    # Determine prediction to return\n",
        "    if parsed_text.cats[\"pos\"] > parsed_text.cats[\"neg\"]:\n",
        "        prediction = \"Positive\"\n",
        "        score = parsed_text.cats[\"pos\"]\n",
        "    else:\n",
        "        prediction = \"Negative\"\n",
        "        score = parsed_text.cats[\"neg\"]\n",
        "    print(sentence, prediction, score)"
      ],
      "metadata": {
        "id": "xZ-H0BHjiykJ"
      },
      "execution_count": null,
      "outputs": []
    },
    {
      "cell_type": "code",
      "source": [
        "sentences = ['I hate the new movie very much.',\n",
        "        'I do not really like this movie.',\n",
        "        'I think this movie is just ok.',\n",
        "        'I think this movie is pretty good.',\n",
        "        'I like this movie.']"
      ],
      "metadata": {
        "id": "B5m_iYR1j7l8"
      },
      "execution_count": null,
      "outputs": []
    },
    {
      "cell_type": "code",
      "source": [
        "for sent in sentences:\n",
        "  test_model(sent)"
      ],
      "metadata": {
        "colab": {
          "base_uri": "https://localhost:8080/"
        },
        "id": "wTjPApngjvaC",
        "outputId": "1ca31fd9-b5df-474a-a9ae-594b03e97a5a"
      },
      "execution_count": null,
      "outputs": [
        {
          "output_type": "stream",
          "name": "stdout",
          "text": [
            "I hate the new movie very much. Positive 0.9999545812606812\n",
            "I do not really like this movie. Negative 0.9999545812606812\n",
            "I think this movie is just ok. Positive 0.9996165037155151\n",
            "I think this movie is pretty good. Positive 0.9967238306999207\n",
            "I like this movie. Positive 0.9999545812606812\n"
          ]
        }
      ]
    }
  ]
}