{
  "cells": [
    {
      "cell_type": "markdown",
      "metadata": {
        "id": "j0Bi0v5q62co"
      },
      "source": [
        "### Sentiment Engine training"
      ]
    },
    {
      "cell_type": "code",
      "execution_count": null,
      "metadata": {
        "id": "Kc1IgjmSWprG"
      },
      "outputs": [],
      "source": [
        "!pip install transformers\n",
        "from transformers import RobertaForSequenceClassification, RobertaTokenizer, BertForSequenceClassification, BertTokenizer, AutoModelForSequenceClassification, AutoTokenizer, AdamW"
      ]
    },
    {
      "cell_type": "code",
      "execution_count": null,
      "metadata": {
        "id": "oM4JDGc8i27N"
      },
      "outputs": [],
      "source": [
        "from google.colab import drive\n",
        "drive.mount('/content/drive')"
      ]
    },
    {
      "cell_type": "code",
      "execution_count": null,
      "metadata": {
        "colab": {
          "base_uri": "https://localhost:8080/"
        },
        "id": "dbArSFKejKFU",
        "outputId": "cd9e5cbd-b869-45a1-80ea-3d239a7aef07"
      },
      "outputs": [
        {
          "name": "stdout",
          "output_type": "stream",
          "text": [
            "/content/drive/MyDrive/Projects/PLP_PracticeModule\n"
          ]
        }
      ],
      "source": [
        "cd drive/MyDrive/Projects/PLP_PracticeModule/"
      ]
    },
    {
      "cell_type": "code",
      "execution_count": null,
      "metadata": {
        "id": "Y871gMmijMGW"
      },
      "outputs": [],
      "source": [
        "import numpy as np\n",
        "import pandas as pd\n",
        "import matplotlib.pyplot as plt\n",
        "import torch\n",
        "import torch.nn as nn\n",
        "import torch.nn.functional as F\n",
        "%matplotlib inline"
      ]
    },
    {
      "cell_type": "code",
      "execution_count": 70,
      "metadata": {
        "colab": {
          "base_uri": "https://localhost:8080/",
          "height": 424
        },
        "id": "wZkoS1A-jWON",
        "outputId": "d2d60e05-facb-4749-b9fa-4ad0af575153"
      },
      "outputs": [
        {
          "output_type": "execute_result",
          "data": {
            "text/plain": [
              "                                                     body entities Stock\n",
              "0                        $TSLA stock starting to rocket 🚀  Bullish  TSLA\n",
              "1       $TSLA Money got banana it grow big \\nBut took ...  Bullish  TSLA\n",
              "2       $AAPL bear logic last qtr, but the iPhone numb...  Bullish  AAPL\n",
              "3       $AAPL 129 at the morning bell. Sleep well my B...  Bullish  AAPL\n",
              "4       $AMZN $TSLA $AAPL $GOOGL now well get some che...  Bullish  TSLA\n",
              "...                                                   ...      ...   ...\n",
              "639995  $FB $280 puts\\nburn it into soot\\nwatch it tur...  Bearish    FB\n",
              "639996                         $AMZN  pump...dump coming.  Bearish  AMZN\n",
              "639997  $IWM  Scary Money Is The Only Thing Holding Th...  Bearish  AAPL\n",
              "639998  $FB Maybe you bulls could ask Brandon to pass ...  Bearish    FB\n",
              "639999  $AMZN This 🗑 is literally down 1% everyday smh...  Bearish  AMZN\n",
              "\n",
              "[640000 rows x 3 columns]"
            ],
            "text/html": [
              "\n",
              "  <div id=\"df-6b1129b4-26ab-4a71-a554-e3c5d011e109\">\n",
              "    <div class=\"colab-df-container\">\n",
              "      <div>\n",
              "<style scoped>\n",
              "    .dataframe tbody tr th:only-of-type {\n",
              "        vertical-align: middle;\n",
              "    }\n",
              "\n",
              "    .dataframe tbody tr th {\n",
              "        vertical-align: top;\n",
              "    }\n",
              "\n",
              "    .dataframe thead th {\n",
              "        text-align: right;\n",
              "    }\n",
              "</style>\n",
              "<table border=\"1\" class=\"dataframe\">\n",
              "  <thead>\n",
              "    <tr style=\"text-align: right;\">\n",
              "      <th></th>\n",
              "      <th>body</th>\n",
              "      <th>entities</th>\n",
              "      <th>Stock</th>\n",
              "    </tr>\n",
              "  </thead>\n",
              "  <tbody>\n",
              "    <tr>\n",
              "      <th>0</th>\n",
              "      <td>$TSLA stock starting to rocket 🚀</td>\n",
              "      <td>Bullish</td>\n",
              "      <td>TSLA</td>\n",
              "    </tr>\n",
              "    <tr>\n",
              "      <th>1</th>\n",
              "      <td>$TSLA Money got banana it grow big \\nBut took ...</td>\n",
              "      <td>Bullish</td>\n",
              "      <td>TSLA</td>\n",
              "    </tr>\n",
              "    <tr>\n",
              "      <th>2</th>\n",
              "      <td>$AAPL bear logic last qtr, but the iPhone numb...</td>\n",
              "      <td>Bullish</td>\n",
              "      <td>AAPL</td>\n",
              "    </tr>\n",
              "    <tr>\n",
              "      <th>3</th>\n",
              "      <td>$AAPL 129 at the morning bell. Sleep well my B...</td>\n",
              "      <td>Bullish</td>\n",
              "      <td>AAPL</td>\n",
              "    </tr>\n",
              "    <tr>\n",
              "      <th>4</th>\n",
              "      <td>$AMZN $TSLA $AAPL $GOOGL now well get some che...</td>\n",
              "      <td>Bullish</td>\n",
              "      <td>TSLA</td>\n",
              "    </tr>\n",
              "    <tr>\n",
              "      <th>...</th>\n",
              "      <td>...</td>\n",
              "      <td>...</td>\n",
              "      <td>...</td>\n",
              "    </tr>\n",
              "    <tr>\n",
              "      <th>639995</th>\n",
              "      <td>$FB $280 puts\\nburn it into soot\\nwatch it tur...</td>\n",
              "      <td>Bearish</td>\n",
              "      <td>FB</td>\n",
              "    </tr>\n",
              "    <tr>\n",
              "      <th>639996</th>\n",
              "      <td>$AMZN  pump...dump coming.</td>\n",
              "      <td>Bearish</td>\n",
              "      <td>AMZN</td>\n",
              "    </tr>\n",
              "    <tr>\n",
              "      <th>639997</th>\n",
              "      <td>$IWM  Scary Money Is The Only Thing Holding Th...</td>\n",
              "      <td>Bearish</td>\n",
              "      <td>AAPL</td>\n",
              "    </tr>\n",
              "    <tr>\n",
              "      <th>639998</th>\n",
              "      <td>$FB Maybe you bulls could ask Brandon to pass ...</td>\n",
              "      <td>Bearish</td>\n",
              "      <td>FB</td>\n",
              "    </tr>\n",
              "    <tr>\n",
              "      <th>639999</th>\n",
              "      <td>$AMZN This 🗑 is literally down 1% everyday smh...</td>\n",
              "      <td>Bearish</td>\n",
              "      <td>AMZN</td>\n",
              "    </tr>\n",
              "  </tbody>\n",
              "</table>\n",
              "<p>640000 rows × 3 columns</p>\n",
              "</div>\n",
              "      <button class=\"colab-df-convert\" onclick=\"convertToInteractive('df-6b1129b4-26ab-4a71-a554-e3c5d011e109')\"\n",
              "              title=\"Convert this dataframe to an interactive table.\"\n",
              "              style=\"display:none;\">\n",
              "        \n",
              "  <svg xmlns=\"http://www.w3.org/2000/svg\" height=\"24px\"viewBox=\"0 0 24 24\"\n",
              "       width=\"24px\">\n",
              "    <path d=\"M0 0h24v24H0V0z\" fill=\"none\"/>\n",
              "    <path d=\"M18.56 5.44l.94 2.06.94-2.06 2.06-.94-2.06-.94-.94-2.06-.94 2.06-2.06.94zm-11 1L8.5 8.5l.94-2.06 2.06-.94-2.06-.94L8.5 2.5l-.94 2.06-2.06.94zm10 10l.94 2.06.94-2.06 2.06-.94-2.06-.94-.94-2.06-.94 2.06-2.06.94z\"/><path d=\"M17.41 7.96l-1.37-1.37c-.4-.4-.92-.59-1.43-.59-.52 0-1.04.2-1.43.59L10.3 9.45l-7.72 7.72c-.78.78-.78 2.05 0 2.83L4 21.41c.39.39.9.59 1.41.59.51 0 1.02-.2 1.41-.59l7.78-7.78 2.81-2.81c.8-.78.8-2.07 0-2.86zM5.41 20L4 18.59l7.72-7.72 1.47 1.35L5.41 20z\"/>\n",
              "  </svg>\n",
              "      </button>\n",
              "      \n",
              "  <style>\n",
              "    .colab-df-container {\n",
              "      display:flex;\n",
              "      flex-wrap:wrap;\n",
              "      gap: 12px;\n",
              "    }\n",
              "\n",
              "    .colab-df-convert {\n",
              "      background-color: #E8F0FE;\n",
              "      border: none;\n",
              "      border-radius: 50%;\n",
              "      cursor: pointer;\n",
              "      display: none;\n",
              "      fill: #1967D2;\n",
              "      height: 32px;\n",
              "      padding: 0 0 0 0;\n",
              "      width: 32px;\n",
              "    }\n",
              "\n",
              "    .colab-df-convert:hover {\n",
              "      background-color: #E2EBFA;\n",
              "      box-shadow: 0px 1px 2px rgba(60, 64, 67, 0.3), 0px 1px 3px 1px rgba(60, 64, 67, 0.15);\n",
              "      fill: #174EA6;\n",
              "    }\n",
              "\n",
              "    [theme=dark] .colab-df-convert {\n",
              "      background-color: #3B4455;\n",
              "      fill: #D2E3FC;\n",
              "    }\n",
              "\n",
              "    [theme=dark] .colab-df-convert:hover {\n",
              "      background-color: #434B5C;\n",
              "      box-shadow: 0px 1px 3px 1px rgba(0, 0, 0, 0.15);\n",
              "      filter: drop-shadow(0px 1px 2px rgba(0, 0, 0, 0.3));\n",
              "      fill: #FFFFFF;\n",
              "    }\n",
              "  </style>\n",
              "\n",
              "      <script>\n",
              "        const buttonEl =\n",
              "          document.querySelector('#df-6b1129b4-26ab-4a71-a554-e3c5d011e109 button.colab-df-convert');\n",
              "        buttonEl.style.display =\n",
              "          google.colab.kernel.accessAllowed ? 'block' : 'none';\n",
              "\n",
              "        async function convertToInteractive(key) {\n",
              "          const element = document.querySelector('#df-6b1129b4-26ab-4a71-a554-e3c5d011e109');\n",
              "          const dataTable =\n",
              "            await google.colab.kernel.invokeFunction('convertToInteractive',\n",
              "                                                     [key], {});\n",
              "          if (!dataTable) return;\n",
              "\n",
              "          const docLinkHtml = 'Like what you see? Visit the ' +\n",
              "            '<a target=\"_blank\" href=https://colab.research.google.com/notebooks/data_table.ipynb>data table notebook</a>'\n",
              "            + ' to learn more about interactive tables.';\n",
              "          element.innerHTML = '';\n",
              "          dataTable['output_type'] = 'display_data';\n",
              "          await google.colab.output.renderOutput(dataTable, element);\n",
              "          const docLink = document.createElement('div');\n",
              "          docLink.innerHTML = docLinkHtml;\n",
              "          element.appendChild(docLink);\n",
              "        }\n",
              "      </script>\n",
              "    </div>\n",
              "  </div>\n",
              "  "
            ]
          },
          "metadata": {},
          "execution_count": 70
        }
      ],
      "source": [
        "df = pd.read_csv('small_dataset_for_training.csv',usecols=['body','entities','Stock'])\n",
        "# df = df.loc[280001:360000].reset_index(drop=True)\n",
        "df"
      ]
    },
    {
      "cell_type": "code",
      "execution_count": 71,
      "metadata": {
        "id": "rv9nvlLSjltg"
      },
      "outputs": [],
      "source": [
        "df['entities'] = df.entities.replace('Bullish',1).replace('Bearish',0)"
      ]
    },
    {
      "cell_type": "code",
      "execution_count": null,
      "metadata": {
        "colab": {
          "base_uri": "https://localhost:8080/"
        },
        "id": "lNKAwVQvIxae",
        "outputId": "5977946e-f775-468d-86a0-9f1c43d0e216"
      },
      "outputs": [
        {
          "name": "stdout",
          "output_type": "stream",
          "text": [
            "Collecting emoji\n",
            "  Downloading emoji-1.7.0.tar.gz (175 kB)\n",
            "\u001b[?25l\r\u001b[K     |█▉                              | 10 kB 34.2 MB/s eta 0:00:01\r\u001b[K     |███▊                            | 20 kB 25.8 MB/s eta 0:00:01\r\u001b[K     |█████▋                          | 30 kB 12.8 MB/s eta 0:00:01\r\u001b[K     |███████▌                        | 40 kB 10.5 MB/s eta 0:00:01\r\u001b[K     |█████████▍                      | 51 kB 6.4 MB/s eta 0:00:01\r\u001b[K     |███████████▏                    | 61 kB 7.5 MB/s eta 0:00:01\r\u001b[K     |█████████████                   | 71 kB 8.0 MB/s eta 0:00:01\r\u001b[K     |███████████████                 | 81 kB 5.8 MB/s eta 0:00:01\r\u001b[K     |████████████████▉               | 92 kB 6.5 MB/s eta 0:00:01\r\u001b[K     |██████████████████▊             | 102 kB 7.1 MB/s eta 0:00:01\r\u001b[K     |████████████████████▌           | 112 kB 7.1 MB/s eta 0:00:01\r\u001b[K     |██████████████████████▍         | 122 kB 7.1 MB/s eta 0:00:01\r\u001b[K     |████████████████████████▎       | 133 kB 7.1 MB/s eta 0:00:01\r\u001b[K     |██████████████████████████▏     | 143 kB 7.1 MB/s eta 0:00:01\r\u001b[K     |████████████████████████████    | 153 kB 7.1 MB/s eta 0:00:01\r\u001b[K     |█████████████████████████████▉  | 163 kB 7.1 MB/s eta 0:00:01\r\u001b[K     |███████████████████████████████▊| 174 kB 7.1 MB/s eta 0:00:01\r\u001b[K     |████████████████████████████████| 175 kB 7.1 MB/s \n",
            "\u001b[?25hBuilding wheels for collected packages: emoji\n",
            "  Building wheel for emoji (setup.py) ... \u001b[?25l\u001b[?25hdone\n",
            "  Created wheel for emoji: filename=emoji-1.7.0-py3-none-any.whl size=171046 sha256=a86ad02b479003ee7be39f1d744d981625f2728c3d6431603032074915b3a83d\n",
            "  Stored in directory: /root/.cache/pip/wheels/8a/4e/b6/57b01db010d17ef6ea9b40300af725ef3e210cb1acfb7ac8b6\n",
            "Successfully built emoji\n",
            "Installing collected packages: emoji\n",
            "Successfully installed emoji-1.7.0\n"
          ]
        }
      ],
      "source": [
        "!pip install emoji"
      ]
    },
    {
      "cell_type": "code",
      "execution_count": 72,
      "metadata": {
        "id": "ka2Xi939j1z0"
      },
      "outputs": [],
      "source": [
        "import emoji\n",
        "import re\n",
        "\n",
        "def process_text(texts):\n",
        "  # lowercase\n",
        "  # message = message.lower() # RoBERTa tokenizer is uncased\n",
        "  # remove URLs\n",
        "  texts = re.sub(r'https?://\\S+', \"\", texts)\n",
        "  texts = re.sub(r'www.\\S+', \"\", texts)\n",
        "  # remove '\n",
        "  texts = texts.replace('&#39;', \"'\")\n",
        "  # remove symbol names\n",
        "  texts = re.sub(r'(\\#)(\\S+)', r'hashtag_\\2', texts)\n",
        "  texts = re.sub(r'(\\$)([A-Za-z]+)', r'cashtag_\\2', texts)\n",
        "  # remove usernames\n",
        "  texts = re.sub(r'(\\@)(\\S+)', r'mention_\\2', texts)\n",
        "  # demojize\n",
        "  texts = emoji.demojize(texts, delimiters=(\"\", \" \"))\n",
        "\n",
        "\n",
        "  return texts.strip()\n",
        "    "
      ]
    },
    {
      "cell_type": "code",
      "execution_count": 73,
      "metadata": {
        "colab": {
          "base_uri": "https://localhost:8080/",
          "height": 206
        },
        "id": "ApJ5frs9j35c",
        "outputId": "0dea2c4f-31ca-44d0-bbec-f1821cc6bfe3"
      },
      "outputs": [
        {
          "output_type": "execute_result",
          "data": {
            "text/plain": [
              "                                                body  entities Stock\n",
              "0       cashtag_TSLA stock starting to rocket rocket         1  TSLA\n",
              "1  cashtag_TSLA Money got banana it grow big \\nBu...         1  TSLA\n",
              "2  cashtag_AAPL bear logic last qtr, but the iPho...         1  AAPL\n",
              "3  cashtag_AAPL 129 at the morning bell. Sleep we...         1  AAPL\n",
              "4  cashtag_AMZN cashtag_TSLA cashtag_AAPL cashtag...         1  TSLA"
            ],
            "text/html": [
              "\n",
              "  <div id=\"df-10b7ea01-f211-45f4-920b-8aff26490273\">\n",
              "    <div class=\"colab-df-container\">\n",
              "      <div>\n",
              "<style scoped>\n",
              "    .dataframe tbody tr th:only-of-type {\n",
              "        vertical-align: middle;\n",
              "    }\n",
              "\n",
              "    .dataframe tbody tr th {\n",
              "        vertical-align: top;\n",
              "    }\n",
              "\n",
              "    .dataframe thead th {\n",
              "        text-align: right;\n",
              "    }\n",
              "</style>\n",
              "<table border=\"1\" class=\"dataframe\">\n",
              "  <thead>\n",
              "    <tr style=\"text-align: right;\">\n",
              "      <th></th>\n",
              "      <th>body</th>\n",
              "      <th>entities</th>\n",
              "      <th>Stock</th>\n",
              "    </tr>\n",
              "  </thead>\n",
              "  <tbody>\n",
              "    <tr>\n",
              "      <th>0</th>\n",
              "      <td>cashtag_TSLA stock starting to rocket rocket</td>\n",
              "      <td>1</td>\n",
              "      <td>TSLA</td>\n",
              "    </tr>\n",
              "    <tr>\n",
              "      <th>1</th>\n",
              "      <td>cashtag_TSLA Money got banana it grow big \\nBu...</td>\n",
              "      <td>1</td>\n",
              "      <td>TSLA</td>\n",
              "    </tr>\n",
              "    <tr>\n",
              "      <th>2</th>\n",
              "      <td>cashtag_AAPL bear logic last qtr, but the iPho...</td>\n",
              "      <td>1</td>\n",
              "      <td>AAPL</td>\n",
              "    </tr>\n",
              "    <tr>\n",
              "      <th>3</th>\n",
              "      <td>cashtag_AAPL 129 at the morning bell. Sleep we...</td>\n",
              "      <td>1</td>\n",
              "      <td>AAPL</td>\n",
              "    </tr>\n",
              "    <tr>\n",
              "      <th>4</th>\n",
              "      <td>cashtag_AMZN cashtag_TSLA cashtag_AAPL cashtag...</td>\n",
              "      <td>1</td>\n",
              "      <td>TSLA</td>\n",
              "    </tr>\n",
              "  </tbody>\n",
              "</table>\n",
              "</div>\n",
              "      <button class=\"colab-df-convert\" onclick=\"convertToInteractive('df-10b7ea01-f211-45f4-920b-8aff26490273')\"\n",
              "              title=\"Convert this dataframe to an interactive table.\"\n",
              "              style=\"display:none;\">\n",
              "        \n",
              "  <svg xmlns=\"http://www.w3.org/2000/svg\" height=\"24px\"viewBox=\"0 0 24 24\"\n",
              "       width=\"24px\">\n",
              "    <path d=\"M0 0h24v24H0V0z\" fill=\"none\"/>\n",
              "    <path d=\"M18.56 5.44l.94 2.06.94-2.06 2.06-.94-2.06-.94-.94-2.06-.94 2.06-2.06.94zm-11 1L8.5 8.5l.94-2.06 2.06-.94-2.06-.94L8.5 2.5l-.94 2.06-2.06.94zm10 10l.94 2.06.94-2.06 2.06-.94-2.06-.94-.94-2.06-.94 2.06-2.06.94z\"/><path d=\"M17.41 7.96l-1.37-1.37c-.4-.4-.92-.59-1.43-.59-.52 0-1.04.2-1.43.59L10.3 9.45l-7.72 7.72c-.78.78-.78 2.05 0 2.83L4 21.41c.39.39.9.59 1.41.59.51 0 1.02-.2 1.41-.59l7.78-7.78 2.81-2.81c.8-.78.8-2.07 0-2.86zM5.41 20L4 18.59l7.72-7.72 1.47 1.35L5.41 20z\"/>\n",
              "  </svg>\n",
              "      </button>\n",
              "      \n",
              "  <style>\n",
              "    .colab-df-container {\n",
              "      display:flex;\n",
              "      flex-wrap:wrap;\n",
              "      gap: 12px;\n",
              "    }\n",
              "\n",
              "    .colab-df-convert {\n",
              "      background-color: #E8F0FE;\n",
              "      border: none;\n",
              "      border-radius: 50%;\n",
              "      cursor: pointer;\n",
              "      display: none;\n",
              "      fill: #1967D2;\n",
              "      height: 32px;\n",
              "      padding: 0 0 0 0;\n",
              "      width: 32px;\n",
              "    }\n",
              "\n",
              "    .colab-df-convert:hover {\n",
              "      background-color: #E2EBFA;\n",
              "      box-shadow: 0px 1px 2px rgba(60, 64, 67, 0.3), 0px 1px 3px 1px rgba(60, 64, 67, 0.15);\n",
              "      fill: #174EA6;\n",
              "    }\n",
              "\n",
              "    [theme=dark] .colab-df-convert {\n",
              "      background-color: #3B4455;\n",
              "      fill: #D2E3FC;\n",
              "    }\n",
              "\n",
              "    [theme=dark] .colab-df-convert:hover {\n",
              "      background-color: #434B5C;\n",
              "      box-shadow: 0px 1px 3px 1px rgba(0, 0, 0, 0.15);\n",
              "      filter: drop-shadow(0px 1px 2px rgba(0, 0, 0, 0.3));\n",
              "      fill: #FFFFFF;\n",
              "    }\n",
              "  </style>\n",
              "\n",
              "      <script>\n",
              "        const buttonEl =\n",
              "          document.querySelector('#df-10b7ea01-f211-45f4-920b-8aff26490273 button.colab-df-convert');\n",
              "        buttonEl.style.display =\n",
              "          google.colab.kernel.accessAllowed ? 'block' : 'none';\n",
              "\n",
              "        async function convertToInteractive(key) {\n",
              "          const element = document.querySelector('#df-10b7ea01-f211-45f4-920b-8aff26490273');\n",
              "          const dataTable =\n",
              "            await google.colab.kernel.invokeFunction('convertToInteractive',\n",
              "                                                     [key], {});\n",
              "          if (!dataTable) return;\n",
              "\n",
              "          const docLinkHtml = 'Like what you see? Visit the ' +\n",
              "            '<a target=\"_blank\" href=https://colab.research.google.com/notebooks/data_table.ipynb>data table notebook</a>'\n",
              "            + ' to learn more about interactive tables.';\n",
              "          element.innerHTML = '';\n",
              "          dataTable['output_type'] = 'display_data';\n",
              "          await google.colab.output.renderOutput(dataTable, element);\n",
              "          const docLink = document.createElement('div');\n",
              "          docLink.innerHTML = docLinkHtml;\n",
              "          element.appendChild(docLink);\n",
              "        }\n",
              "      </script>\n",
              "    </div>\n",
              "  </div>\n",
              "  "
            ]
          },
          "metadata": {},
          "execution_count": 73
        }
      ],
      "source": [
        "df['body'] = df.body.apply(process_text)\n",
        "df.head()"
      ]
    },
    {
      "cell_type": "code",
      "execution_count": 74,
      "metadata": {
        "id": "OmfCtdxuj6rH"
      },
      "outputs": [],
      "source": [
        "labels = df.entities.values\n",
        "text = df.body.values"
      ]
    },
    {
      "cell_type": "code",
      "execution_count": 75,
      "metadata": {
        "id": "0k3B2eIIpCkO"
      },
      "outputs": [],
      "source": [
        "tokenizer = RobertaTokenizer.from_pretrained('roberta-base')\n",
        "# tokenizer = BertTokenizer.from_pretrained('bert-base-cased')\n",
        "# tokenizer = AutoTokenizer.from_pretrained(\"ProsusAI/finbert\")\n",
        "# tokenizer = BertTokenizer.from_pretrained(\"yiyanghkust/finbert-tone\")"
      ]
    },
    {
      "cell_type": "code",
      "execution_count": 76,
      "metadata": {
        "colab": {
          "base_uri": "https://localhost:8080/"
        },
        "id": "yWX1oQ-2k9sF",
        "outputId": "24c0a979-1cea-4e60-93a9-8b221192e0dd"
      },
      "outputs": [
        {
          "output_type": "execute_result",
          "data": {
            "text/plain": [
              "50265"
            ]
          },
          "metadata": {},
          "execution_count": 76
        }
      ],
      "source": [
        "len(tokenizer)"
      ]
    },
    {
      "cell_type": "code",
      "execution_count": 77,
      "metadata": {
        "colab": {
          "base_uri": "https://localhost:8080/"
        },
        "id": "yC2oDhfKN3o9",
        "outputId": "b921de6e-eec9-4daf-f3e6-9c69c605230d"
      },
      "outputs": [
        {
          "output_type": "stream",
          "name": "stdout",
          "text": [
            "[nltk_data] Downloading package punkt to /root/nltk_data...\n",
            "[nltk_data]   Unzipping tokenizers/punkt.zip.\n"
          ]
        },
        {
          "output_type": "execute_result",
          "data": {
            "text/plain": [
              "True"
            ]
          },
          "metadata": {},
          "execution_count": 77
        }
      ],
      "source": [
        "import nltk\n",
        "nltk.download('punkt')"
      ]
    },
    {
      "cell_type": "code",
      "execution_count": 78,
      "metadata": {
        "id": "DjOOdevYLrsW"
      },
      "outputs": [],
      "source": [
        "from nltk.tokenize import word_tokenize\n",
        "def helper(text):\n",
        "  t = word_tokenize(text)\n",
        "  return len(t)\n",
        "length = df.body.apply(helper)"
      ]
    },
    {
      "cell_type": "code",
      "execution_count": 79,
      "metadata": {
        "colab": {
          "base_uri": "https://localhost:8080/"
        },
        "id": "wPd3On0TSeUE",
        "outputId": "1a229c9d-65a4-4618-a52a-dfd1cbb97b31"
      },
      "outputs": [
        {
          "output_type": "stream",
          "name": "stdout",
          "text": [
            "there are 640000 entries in the dataframe\n",
            "97.0015% of them have a length smaller than 32 tokens\n",
            "99.18453125% of them have a length smaller than 64 tokens\n",
            "99.8300625% of them have a length smaller than 128 tokens\n",
            "So we just use 64 as RoBERTa tokenizer max padding length\n"
          ]
        }
      ],
      "source": [
        "print('there are {} entries in the dataframe'.format(len(length[length>=0])))\n",
        "print('{}% of them have a length smaller than 32 tokens'.format(100-len(length[length>32])/32000))\n",
        "print('{}% of them have a length smaller than 64 tokens'.format(100-len(length[length>64])/32000))\n",
        "print('{}% of them have a length smaller than 128 tokens'.format(100-len(length[length>128])/32000))\n",
        "print('So we just use 64 as RoBERTa tokenizer max padding length')"
      ]
    },
    {
      "cell_type": "code",
      "execution_count": 80,
      "metadata": {
        "id": "D4x4Rk0vkIVJ"
      },
      "outputs": [],
      "source": [
        "input_ids = []\n",
        "attention_mask = []\n",
        "for i in text:\n",
        "    encoded_data = tokenizer.encode_plus(\n",
        "    i,\n",
        "    add_special_tokens=True,\n",
        "    truncation=True,\n",
        "    max_length=64,\n",
        "    padding='max_length',\n",
        "    return_attention_mask= True,\n",
        "    return_tensors='pt')\n",
        "    input_ids.append(encoded_data['input_ids'])\n",
        "    attention_mask.append(encoded_data['attention_mask'])\n",
        "input_ids = torch.cat(input_ids,dim=0)\n",
        "attention_mask = torch.cat(attention_mask,dim=0)\n",
        "labels = torch.tensor(labels)"
      ]
    },
    {
      "cell_type": "code",
      "execution_count": 81,
      "metadata": {
        "id": "I23T02T4VMAF"
      },
      "outputs": [],
      "source": [
        "import random\n",
        "\n",
        "seed_val = 42\n",
        "random.seed(seed_val)\n",
        "np.random.seed(seed_val)\n",
        "torch.manual_seed(seed_val)\n",
        "torch.cuda.manual_seed_all(seed_val)"
      ]
    },
    {
      "cell_type": "code",
      "execution_count": 82,
      "metadata": {
        "colab": {
          "base_uri": "https://localhost:8080/"
        },
        "id": "uxngmadkms5-",
        "outputId": "9a04591f-3919-493e-e50c-c9ece0b150a1"
      },
      "outputs": [
        {
          "output_type": "stream",
          "name": "stdout",
          "text": [
            "Training Size -  627200\n",
            "Validation Size -  12800\n"
          ]
        }
      ],
      "source": [
        "from torch.utils.data import DataLoader,SequentialSampler,RandomSampler,TensorDataset,random_split\n",
        "\n",
        "dataset = TensorDataset(input_ids,attention_mask,labels)\n",
        "train_size = int(0.98*len(dataset))\n",
        "val_size = int((len(dataset) - train_size)/2)\n",
        "test_size = val_size\n",
        "\n",
        "train_dataset,val_dataset = random_split(dataset,[train_size,2*val_size])\n",
        "# val_dataset, test_dataset = random_split(val_dataset,[val_size,test_size])\n",
        "print('Training Size - ',train_size)\n",
        "print('Validation Size - ',val_size*2)\n",
        "# print('Test Size - ',test_size)"
      ]
    },
    {
      "cell_type": "markdown",
      "metadata": {
        "id": "D_RI7noTw-cw"
      },
      "source": [
        "#### continue"
      ]
    },
    {
      "cell_type": "code",
      "execution_count": 83,
      "metadata": {
        "colab": {
          "base_uri": "https://localhost:8080/"
        },
        "id": "wVN2nmBZovIY",
        "outputId": "aa753b5a-84c5-45ef-e471-6edac682feba"
      },
      "outputs": [
        {
          "output_type": "execute_result",
          "data": {
            "text/plain": [
              "(19600, 400)"
            ]
          },
          "metadata": {},
          "execution_count": 83
        }
      ],
      "source": [
        "train_dl = DataLoader(train_dataset,sampler = RandomSampler(train_dataset),\n",
        "                     batch_size = 32)\n",
        "val_dl = DataLoader(val_dataset,sampler = SequentialSampler(val_dataset),\n",
        "                     batch_size = 32)\n",
        "# test_dl = DataLoader(test_dataset,sampler = SequentialSampler(test_dataset),\n",
        "#                      batch_size = 32)\n",
        "len(train_dl),len(val_dl)#,len(test_dl)"
      ]
    },
    {
      "cell_type": "code",
      "execution_count": 84,
      "metadata": {
        "colab": {
          "base_uri": "https://localhost:8080/"
        },
        "id": "ouDs-bqFo7S-",
        "outputId": "fff640b3-7704-4634-be75-275d3d52a655"
      },
      "outputs": [
        {
          "output_type": "stream",
          "name": "stderr",
          "text": [
            "Some weights of the model checkpoint at roberta-base were not used when initializing RobertaForSequenceClassification: ['lm_head.dense.bias', 'roberta.pooler.dense.bias', 'lm_head.layer_norm.weight', 'roberta.pooler.dense.weight', 'lm_head.bias', 'lm_head.decoder.weight', 'lm_head.dense.weight', 'lm_head.layer_norm.bias']\n",
            "- This IS expected if you are initializing RobertaForSequenceClassification from the checkpoint of a model trained on another task or with another architecture (e.g. initializing a BertForSequenceClassification model from a BertForPreTraining model).\n",
            "- This IS NOT expected if you are initializing RobertaForSequenceClassification from the checkpoint of a model that you expect to be exactly identical (initializing a BertForSequenceClassification model from a BertForSequenceClassification model).\n",
            "Some weights of RobertaForSequenceClassification were not initialized from the model checkpoint at roberta-base and are newly initialized: ['classifier.out_proj.weight', 'classifier.dense.weight', 'classifier.out_proj.bias', 'classifier.dense.bias']\n",
            "You should probably TRAIN this model on a down-stream task to be able to use it for predictions and inference.\n"
          ]
        }
      ],
      "source": [
        "model = RobertaForSequenceClassification.from_pretrained(\"roberta-base\")\n",
        "# model = BertForSequenceClassification.from_pretrained('bert-base-cased')\n",
        "# model = AutoModelForSequenceClassification.from_pretrained(\"fineTuneFinBERT/\")\n",
        "# model = BertForSequenceClassification.from_pretrained('fineTuneFinBERT2/')"
      ]
    },
    {
      "cell_type": "code",
      "execution_count": 85,
      "metadata": {
        "colab": {
          "base_uri": "https://localhost:8080/"
        },
        "id": "Hi6oN7E9G1V0",
        "outputId": "13ca25ea-be98-41f4-a1a9-bfe27dfbe535"
      },
      "outputs": [
        {
          "output_type": "stream",
          "name": "stdout",
          "text": [
            "cuda\n"
          ]
        }
      ],
      "source": [
        "device = torch.device('cuda' if torch.cuda.is_available() else 'cpu')\n",
        "model.to(device)\n",
        "\n",
        "print(device)"
      ]
    },
    {
      "cell_type": "code",
      "execution_count": 86,
      "metadata": {
        "id": "WEkacmP3G7bZ"
      },
      "outputs": [],
      "source": [
        "optimizer = AdamW(model.parameters(),lr = 2e-5,eps=1e-8,no_deprecation_warning=True)"
      ]
    },
    {
      "cell_type": "code",
      "execution_count": 87,
      "metadata": {
        "id": "YQk2gk4PG_qZ"
      },
      "outputs": [],
      "source": [
        "from transformers import get_linear_schedule_with_warmup\n",
        "epochs = 1\n",
        "total_steps = len(train_dl)*epochs\n",
        "scheduler = get_linear_schedule_with_warmup(optimizer,num_warmup_steps=0,num_training_steps=total_steps)"
      ]
    },
    {
      "cell_type": "code",
      "execution_count": 88,
      "metadata": {
        "id": "LfI1CoVgHF5p"
      },
      "outputs": [],
      "source": [
        "def accuracy(preds,labels):\n",
        "    pred_flat = np.argmax(preds,axis=1).flatten()\n",
        "    label_flat = labels.flatten()\n",
        "    return np.sum(pred_flat==label_flat)/len(label_flat)"
      ]
    },
    {
      "cell_type": "code",
      "execution_count": 89,
      "metadata": {
        "id": "v-6bnRZT42s4"
      },
      "outputs": [],
      "source": [
        "from sklearn.metrics import classification_report\n",
        "def report(preds,labels):\n",
        "  target_names = ['Bearish','Bullish']\n",
        "  pred_flat = np.argmax(preds,axis=1).flatten()\n",
        "  label_flat = labels.flatten()\n",
        "  print(classification_report(label_flat,pred_flat,target_names=target_names,digits=4))"
      ]
    },
    {
      "cell_type": "code",
      "execution_count": 90,
      "metadata": {
        "id": "RROELwCtHY-V"
      },
      "outputs": [],
      "source": [
        "def evaluate(dataloader_test):\n",
        "    model.eval()\n",
        "    loss_val_total = 0\n",
        "    predictions,true_vals = [],[]\n",
        "    for batch in dataloader_test:\n",
        "        batch = tuple(b.to(device) for b in batch)\n",
        "        inputs = {\n",
        "            'input_ids':batch[0],\n",
        "            'attention_mask': batch[1],\n",
        "            'labels': batch[2]\n",
        "        }\n",
        "        with torch.no_grad():\n",
        "            outputs = model(**inputs)\n",
        "        loss = outputs[0]\n",
        "        logits = outputs[1]\n",
        "        loss_val_total += loss.item()\n",
        "        logits = logits.detach().cpu().numpy()\n",
        "        label_ids = inputs['labels'].cpu().numpy()\n",
        "        predictions.append(logits)\n",
        "        true_vals.append(label_ids)\n",
        "    loss_val_avg = loss_val_total / len(dataloader_test)\n",
        "    predictions = np.concatenate(predictions,axis=0)\n",
        "    true_vals = np.concatenate(true_vals,axis=0)\n",
        "    return loss_val_avg,predictions,true_vals"
      ]
    },
    {
      "cell_type": "code",
      "execution_count": 91,
      "metadata": {
        "id": "9oJBS1HmHbtz",
        "colab": {
          "base_uri": "https://localhost:8080/",
          "height": 292,
          "referenced_widgets": [
            "3106aa9bcfa74c398c0c8afa58efaea5",
            "b522e2a1a64d4244bd9b8448999fd674",
            "8ffef5d212ef4cc589d3436f3e5cdbef",
            "bdee795bf373486cbfc8e04c89e04f76",
            "b8df55b4cba84c38a5e1be1aaabf5d00",
            "07b213a0c89c4f6b8e17ec6967e57119",
            "ac79076b49e94ad383d520ce1cdf01d7",
            "12258609403f47eda4c94e6258fdaa29",
            "404f7b9cfc8b45b78087ac7639ad9847",
            "bb19307c67ef451aba830642a54bc4f6",
            "29f43c8705f849e280ba8f15d9d21f04",
            "827d13b5b35348cdb65cb4bce650f75a",
            "d68adfbbe2b648cb9084267f1b2db15f",
            "5a517b6a779d43798a99b96855f9bc4a",
            "5f0f6a86adec44819ab3d814f814f994",
            "a21262ea7a5543babcfcc6a6e577422d",
            "5700e5a999984c8384c11f4fd88186ba",
            "6a22863947af41c68c41200449668122",
            "8abb01b88bdb448f85f9c73622e7465f",
            "914f890a1d6e4901a5d8b364b8fbcfd6",
            "c937e4fdf37c409da91f0d920208fd77",
            "893b353c4bc64bf9bce8bf0b6cce5802"
          ]
        },
        "outputId": "df899b6f-46ee-4a3c-ba62-8ea10afbd6ea"
      },
      "outputs": [
        {
          "output_type": "display_data",
          "data": {
            "text/plain": [
              "  0%|          | 0/1 [00:00<?, ?it/s]"
            ],
            "application/vnd.jupyter.widget-view+json": {
              "version_major": 2,
              "version_minor": 0,
              "model_id": "3106aa9bcfa74c398c0c8afa58efaea5"
            }
          },
          "metadata": {}
        },
        {
          "output_type": "display_data",
          "data": {
            "text/plain": [
              "Epoch 1:   0%|          | 0/19600 [00:00<?, ?it/s]"
            ],
            "application/vnd.jupyter.widget-view+json": {
              "version_major": 2,
              "version_minor": 0,
              "model_id": "827d13b5b35348cdb65cb4bce650f75a"
            }
          },
          "metadata": {}
        },
        {
          "output_type": "stream",
          "name": "stdout",
          "text": [
            "\n",
            "Epoch 1\n",
            "Training loss: 0.39580057569836474\n",
            "Validation loss: 0.34102927105501296\n",
            "Validation Accuracy: 0.846484375\n",
            "              precision    recall  f1-score   support\n",
            "\n",
            "     Bearish     0.8380    0.8540    0.8459      6316\n",
            "     Bullish     0.8551    0.8391    0.8470      6484\n",
            "\n",
            "    accuracy                         0.8465     12800\n",
            "   macro avg     0.8465    0.8466    0.8465     12800\n",
            "weighted avg     0.8466    0.8465    0.8465     12800\n",
            "\n"
          ]
        }
      ],
      "source": [
        "from tqdm.notebook import tqdm\n",
        "torch.cuda.empty_cache()\n",
        "for epoch in tqdm(range(1, epochs+1)):\n",
        "    \n",
        "    model.train()\n",
        "    \n",
        "    loss_train_total = 0\n",
        "\n",
        "    progress_bar = tqdm(train_dl, desc='Epoch {:1d}'.format(epoch), leave=False, disable=False)\n",
        "    for batch in progress_bar:\n",
        "\n",
        "        model.zero_grad()\n",
        "        \n",
        "        batch = tuple(b.to(device) for b in batch)\n",
        "        \n",
        "        inputs = {'input_ids':      batch[0],\n",
        "                  'attention_mask': batch[1],\n",
        "                  'labels':         batch[2],\n",
        "                 }       \n",
        "\n",
        "        outputs = model(**inputs)\n",
        "        \n",
        "        loss = outputs[0]\n",
        "        loss_train_total += loss.item()\n",
        "        loss.backward()\n",
        "\n",
        "        torch.nn.utils.clip_grad_norm_(model.parameters(), 1.0)\n",
        "\n",
        "        optimizer.step()\n",
        "        scheduler.step()\n",
        "        \n",
        "        progress_bar.set_postfix({'training_loss': '{:.3f}'.format(loss.item()/len(batch))})\n",
        "         \n",
        "        \n",
        "    tqdm.write(f'\\nEpoch {epoch}')\n",
        "    \n",
        "    loss_train_avg = loss_train_total/len(train_dl)            \n",
        "    tqdm.write(f'Training loss: {loss_train_avg}')\n",
        "    \n",
        "    val_loss, predictions, true_vals = evaluate(val_dl)\n",
        "    val_acc = accuracy(predictions, true_vals)\n",
        "    tqdm.write(f'Validation loss: {val_loss}')\n",
        "    tqdm.write(f'Validation Accuracy: {val_acc}')\n",
        "    report(predictions,true_vals)    "
      ]
    },
    {
      "cell_type": "markdown",
      "source": [
        "### Model selection results"
      ],
      "metadata": {
        "id": "HilT7w-umEhG"
      }
    },
    {
      "cell_type": "markdown",
      "source": [
        "\n",
        "![bert-base.PNG](data:image/png;base64,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)\n",
        "BERT-base"
      ],
      "metadata": {
        "id": "C5G9iySplrk1"
      }
    },
    {
      "cell_type": "markdown",
      "source": [
        "![finbert1.PNG](data:image/png;base64,iVBORw0KGgoAAAANSUhEUgAAAegAAAD3CAYAAADWp8f2AAAAAXNSR0IArs4c6QAAAARnQU1BAACxjwv8YQUAAAAJcEhZcwAADsMAAA7DAcdvqGQAABvTSURBVHhe7dwLjtxIjoDhvYrvf8gZsNvEcrl8RIRSKarq/4CAU3wplFnpGBvt+Z//AACAcTigAQAYiAMaAICBOKABABiIAxoAgIE4oAEAGIgDGgCAgTigAQAYiAMaAICBOKABABiIAxoAgIF+5AH958+ffxYAAG91ywGtB6Rf3/Sp+3173wAAiNv+BB0dbN887K7eS/p1AQDwbV85oJ845D51Tw5oAMATHjmg5Vpj+trXqConsn69zvKrTvsAALji1gO6OhyjeHWdzbB8fZVfddIDAMBVj/0Vdxc7yVtd/6qTHgAAruKAbpz0AABw1VcO6Eh3gJ7kra5/1UkPAABXffWAtjF57Wuqa58TV+tXnPQAAHDVLQe0HGrRsvQ6y6sqJ6L+1VjF1u/0AQDwCbf9CbrDgQcAQO6RA5o/lQIAUHvsT9AAACDHAQ0AwEAc0AAADMQBDQDAQBzQAAAMxAENAMBArz6gr/5TrSf/qZfe+6n7AwBmu+WAtoePX590deYde9r19P2vuvIeam82o8qJKm9zdllVTmVx1fWu5rsaz/bZZVU5lcVV15vlbc4uAOtuO6BV9hr/evN7cuWzjeqreVevvShvY/JaV8bXW7vXoqrZ7V/J68r4emv3WkQxALnb/4qbL2Xtre/P1d+Au/478lbXr7I5Xe3dec/nVvuzmV3tzixR5QDEHjmgJaYrulZZXKzk7Gtfl8WFja/UVTWdrqeaq7mspsuLKleJek7mKN/bzV/J+9WJarK+rnZnlvC5nf7V2k/OvDoLQO/RP0FLzuaz1yKbU8VXZpz2V7kdVd/O/XavlcSzXCXqOZ2zMsvX7eZFFFNZbiduYz4v11lPFveimKjidkV24jbm83K9MwtA7/EDesXJlz+Kr8ZEV+vz2ZzOp+7vne5nVbe/Xdk8XXptdXkvy1d9Oz0+Jte69DoT9XpZ/0r8Sq/yMbnWpdeRLA6gNvqAlrzWZLU78dWYWKmVa12nst4o7mN672pGlb8imnn1Pl3/HfnTmZ+cpWx+dX4281v91kkPgNzYA9rnstqd+GpMdLVZ367T+3vdfj61X7W7P++kfye/Mr+bJ7KalfmezXf9q/OjmPhWv3XSAyD3igNaXme1O/HVmFiplWu7TlR9Nufrrl4riWe5ju2L7lfNjXLRDNXVV71qZ56KYmpnns939aLqVzvx1Ziyua43m1PNB1C79YCWL6cuy8ajvLI5X6fXdqmVmL22cbESszkVxTJ2nq5IlrN9J3nV5TtZ/8pcralqq5xY6Y1qfE6XqnJWlRMrvSs1mS5nl+VzPq+qnFjJAzhz+5+gf6roNx5+MwIAfAoH9AX6pwddAAB8Cgc0AAADcUADADAQBzQAAANxQAMAMBAHNAAAA3FAAwAw0NgDeuWfL+3886ad2lV3zFyl937q/gCAe91yQPvDw1/vqHp2Z57cv7J7/zs8ff+rrryH2hvN8DldXhQTvk+X18X9srK41eVVVKO9VX+Wt712ZbJc16eiGu2t+rs88Ga3/Qnaf2lOv0Sf/PKdzJr+5Z++v4rd++5zRPU78ySvKxLFfcxeVzn1yXpLct28qN/GdustiXf1Wa+I+rtrYWNRHng7DujG9C/+9P1lon3vPEvXvzrrtG61T63021iXtyTuc11/l/e6nM9X9d5qv43tzAfe6tEDWmK6MllutdcvK4sLm4tqsrhX9drXvmZV11fN1lxW0+VFlatEPSdzlO/VfdkVyeJWVKMxnV3NqfotG9vt8bmuv8tbWVxoztfYuK6IrbOiehuzfbqAn+bW/0jMfok8H8u+YN0Xb6fPxnx+Z45V5bv7RbFdVY/NdffavVYSz3KVqOd0zuqs03tmfT6ezcr6LT9vtUdVOSHXVb2IYmIl7mvkOopZXb8l176+6wHe7rED2oq+bGqlNxLFq9qdOdZOn411+VWfvL91spcd3f52rfSe3nO1L5tVxXXptYp6qnxWr0uvVVYfWantroWNrdbr0muV1QM/yaMHtMRXaio7fT4m1xrbmWPt9NlYl191en8h17oiXf6KaObV+3T9J/fM8quzuvmWre1myetsZWwuqluNCYlnS/Oejdl6vzI2F9VVvcAb8Vfcf+3MsXb6bKzLrzq9v9fd+2Rvld39eV3/6vzunln+U/MtW7s7a+U+J/NX5gpftztr5T62Znc+8Ea3HtAi+9L4L9tKXWS1z9/Dv/b1KutRWZ+oendnZT51/91rJfEs17F90f2quVGumidWY1aV97nd+TbX9VZzxEn/yvws7nXzRTWr6786H3ijxw5oITnN29dCr+2yurzwOV9X5awopzG7IlEu6oliFVtf9WU523eSV12+k/WvzNWarLbK+5zPqyyuPtWfWc1ndVlcreQr2p/NqXLC5qOaLK6qXuDtbj+gAQDAPg5oAAAG4oAGAGAgDmgAAAbigAYAYCAOaAAABuKABgBgIA5oAAAGGntAr/wfEOz8HxTs1K66YyYAAOKWA1oPLj28/PWOqmd35sn9K7v3v8PT93+7K5+h9mYzdvKZK3nNreR9jc/pUlFOFoDPue1P0P7Levrl/eSX/mTW9N90pu9vMvve7b6PUX03r8rfPa+7FtU80eUBfBYHdGPyb0S6t8l7nCp6z3bex67/jrx1x/wopnyuqgXwGY8e0BLTlclyq71+WVlc2FxUk8W9qte+9jUr7IxMNz/KR/U2pq+za5XFrahmNSai2IqoZ2fObr/Pdf36Wn7VZflrYWNd3tvNScwvAJ91638kpl/a6MvrY9kXvPvi7/TZmM/vzLGqfHe/KLZD67O+bn51Hc2M6rOeqNaralbqhcSieGd1fkXvrSuS5XzM10V9Pu9VebnOeqK4lfV53RwAex47oC3JZzUrvZEoXtXuzLF2+mysy6/Q+pNZJ3kf62YoqTvptTWr91oVzdu9x87+svvp0muV1asuL+Ral15nTnPWah2ANY8e0BJfqans9PmYXGtsZ46102djXb4jtX5Z/to7yZ/cQ2t2e4WtWanfEc3bucdJ/06+m9/lIyf5rsfaqQXQ46+4/9qZY+302ViX7/ja7to7ye/co6utei2pW63dEc3cuU/XfzJ/p//u+SqbuVML4MytB7RY+YLL65W6yGqfv4d/7etV1qOyPlH17s7yTubtXEe5rt/ys6LalXlZr+ryFdvnZ3Rzo1w1T/jYlXqx09/NEqsxsVML4MxjB7SQnObta6HXdlldXvicr6tyVpTTmF2RKBf1RLGMr/XXVpUTVd7n7LVfEZvL6jQe5UQWV1Xviqx/Za7WZLVdXlQ58an+iOa6msxKP4Bztx/QwBX8xg/gt+KAxkj8qQzAb8cBDQDAQBzQAAAMxAENAMBAHNAAAAzEAQ0AwEAc0AAADMQBjbGu/lMr/qnWffS9zd7fLv9J37oP8G0c0Bjr6m+8/MZ9v+79vfv9t/Oje/H54804oAEcm3RAWxLXhd/r7Z8/BzSAY91vgHf/Bvn0/TEbBzR+HPmh1h9sfW1/0H3MXysb9zmV5bO4ZWt8XRb3ql772tc8ye/JXysb9zlV5aucqnKiy5+ye9MVyeIrVuev5C3f46+VjfvcN2T399fCxqLXei26vBXlfI+/Fjbmc2/CAY1Q9EMdXdtY9lpF/dZKj1rpFVlc2Fw0L4pN4veYvVY+Vl13tSqLqy5/1cn9JZYtZV8Lfy26mmqekFhWk9V/i79Xdy1sTF5XPV1e+HrPz8hq3owDGqGVH/bqh7/rr3qtrO6Ofhvr8hNU+zl5vozUZvXdnJ37nLjr/lfnRnkfq2as9N+pu1e3v7vzIqrxVmom44BG6OoXRHLRUvZ1paqL5npZLorbWJefoNqP5KKl7OuM7cnquzkr97nizvtLry7v5L4+Vs2QXLS+qbpvF7s7L6Iab6VmMg5ohK5+QbovxuoX52rdTtzGuvwE1X66ve7ms/qr97nqW/f3c07uuzOjm/9tK3u3sbvzIqrxVmom44BGSH6wuy9E9cMf5U7mZfdY6RVZXNjcyrxq1hNWn011z2iv/Wtfq7K46vJX3XV/3xfN6Wrs9Uq/tVv/af5eK9c25q/FTl74ei+Ked2M6TigEdIfZvlVl7Ixn7N2aywbX8l7Ph/ViCgX9USxp9i9VHvarfFs3NfotV1Wl7+qm9/lO6u9XU2Usz1RXq3U3GXl3j7vX+uvNq66vIpytifKeys1U3FAI/TWH2gAz1s5NNHjgMb/o/+Lky8RgF3d7x9dHv+LAxoAgIE4oAEAGIgDGgCAgTigAQAYiAMaAICBOKABABiIAxoAgIE4oAEAGIgDGgCAgTigAQAYiAMaAICBOKABABiIAxoAgIE4oAEAGIgDGgCAgTigAQAYiAMaAICBOKABABiIAxoAgIE4oAEAGIgDGgCAgTigAQAYiAMaAICBOKABABiIAxoAgIE4oAEAGIgD+kF//vz5Z+067QMAvMevPKD1gPPr267c94n93uHqe2CXt5P3bM6uaa7syz5XNyPKr/R2+add2Z/2ZjN28p2Vmjeqnl9zXU2l6n2DX/sn6OhDe9MH+eYfOmWfYfd5us9vN99dT1Q9Tyeqz2ZI3Oe6a2FjUf5pV/Z38rxVPqpXkqvyb7X7fvh6XRlf/0Yc0MabPsS3/sCpq+9/139HfpJu/52dfon7XNefzZqi23/n5Pl38pbEs9xbdc+z+v5kc37K+8UB/Vf24dvlZTkf99ciinm2xtfpdZafLtrvzjOc9Nt81y+v/Zok2s/OHlf7NeZzXb/t0zVJtJ+dPe72+9xqv8aq2W9kn0tXJct3cZ2d1U33qw/o6sPrYj6f1Vc9IooJH4+uu5rJor3u7l/fA10Vn4+ubSyaF8We8on9Sb1dno35fHTt67ueJ0V72d2fPqOuSJbzsajOXkcz3qx7XhXVWVku6qvmTMWfoP9a+TCzD1jiO/VWNbNyer8pPrF/W1/1ZjmJ69LrSpf/pmgvu/uz9b63uxYS06XXKquf4hP7657Xyu6nS6+Vr/fXbxc9T/WMWW4nXs2figPasDF5HS3LxnxORDGvqtH5q7OrWdNc3f8d70lXuzPrbnc8q43J62xlbC6qq3q/7er+Tvp38vI6Wz9B9Bzds+30nMyfiAPasLHuw/T5bl5mpUZ86n5TXN3/Sv/u+2HrV+Y/6er+dvtXZtua3fnfdnV/Xf/J/Crf9b5N9/50eZW9Lzu1k3FAGza2k5fXXX0mq/Hx7lqs3G8Su9/o+arniXLVPOFjVf1K/9O6/Vf7jXJX6lfmVfOfUO1frqv9RrlqnvCxrt7q8m+0+36sxlQ1/y1+5QEtH1S0vNV89tour6tZzako9gbZnleeRWuiWp/T5WVxYfuymqdle1vZs9ZUtV1NFldV7wTZ3lb2rDVZbZcXVU7Y/qrurapnszmf9zmfV11+ul/7J2gAACbjgAYAYCAOaAAABuKABgBgIA5oAAAG4oAGAGAgDmgAAAbigAYAYCAO6EPdP4Dv8qLLZ077AADv8SsPaD3g/DrR9VX5O+/7FlffA7sqUb7r7fITXNmffb5oxk4+0uUnuLI/+3zRjJ18xOazmrdbfbaoRntXZnT5qX7tn6CjD+zkQ3zqB+OtP3CWfYbd54nqsxkS97mr1xPYPe3uL6rv5lX53esJqufpRPXdvCrfXYso9mbV+2FJzuej+mxG1P8WHNDGyYfY9dz1g/HWHzh19f3f6Ze4z3X9Xf5pV/fX9d+df9rV/XX9d+ffbudZpNbX77w/Uf9bcED/Za+jDzSKiShmZXmdV/XbGl+n11l+umi/O8+w2q8xn+v6u/zTru7vpN/mu/6T+d90dX+7/T7X9e/Ofxt9FvlVV8TWWVF9FYtyb/CrD2i7vCsx6zTv49F1VzNZtNfd/et7oMuzMZ+Prrt6H3tStJfd/ekz6ar4fHRtY13+adFedvenz6QrkuV8LKrTWJR7u+iZquvo+XWGLs/Govwb8Cfov7prsRqzTvMnfV3PJJ/Yv633vd21kJguvba6/JOivezuz9ZXvVlO4rr02uryT4r2srs/W9/1ZvfTpdeWvfa5t4uep3req/VR/xtwQBvVBy5WY9aVvOR0eauxqa7uv+uX19nKVDnR5b8p2svO/lb7r860dmbd7Y5nvfr8Nn8y/02655PX2dK8Z2O23q834YA2bKzLq+4Dv5pXvu5kL5Nc3f9u/8rsrmZnf3fbfX5vpX/3ebv63Xl3Wnn+Std/Mv9q/5vsPp/PXe1/Cw5ow8Z8Xq67nshp3se7a9Hdaxq73+j5queJclfqT/JPq/Yn19Weo1w1T/jYTn2Uf1q1P7mu9hzlqnnCx6r6lf63W3lmdfX9qXKT/coDWj6saHk+F722y/p03oriUewNsj2vPIvWVLVdTRZXXf5p2f5W9q01Ua3P6fKyuOryT8v2t7Jvrclqu7xYyVU1b9c9n837miqnVmom+7V/ggYAYDIOaAAABuKABgBgIA5oAAAG4oAGAGAgDmgAAAbigAYAYCAOaAAABuKABgBgIA5oAAAG4oAGAGAgDmgAAAbigAYAYCAOaAAABuKABgBgIA5oAAAG4oAGAGAgDmgAAAbigAYAYCAOaAAABuKABgBgIA5oAAAG4oAGAGAgDmgAAAbigAYAYCAOaAAABuKABgBgIA5oAAAG4oAG8Gv9+fPnn3VCe7MZO/lMl59u5dmyZ+zyosqJLj8dBzSAX8n+xr37m3hU382r8ifzJpP96opEcRvr8mKnPsq/AQc0gF+n+w29c3IgXM2/UfYcJ8//yfxb/OgDWj4QXZmuJspH9Tamr7NrlcWtqGY1BiAWfU92vju7/T7X9etr+VXXG+3s29ZGfZ/Mv8WPPaD9h7Hyge1cr87LeqJar6pZqQcQ+8T3R+rtimQ5H/N1UZ+/foPVPUd1+h7osrJ61eXf4lf8Fbd8MP7D6T6sk/zuPZTUnfTamtV7AYi/L7vfoZ3vX3Y/XXqtsvq3WdlzVlO9H1FPVS+i2HS/4q+49bXVfVgn+ZN7aM1ur7A1K/UA/hV9X3a+Qyf9O/mT+ROdvifd81/Nv8Wv/Svu7sM6ye/co6utei2pW60F8K/oO7PzPer6T+Zf7Z+o2vNuzsau5t/iVxzQ8nrlA9u5jnJdv+VnRbUr87JeADX7vYm+a9X3KspV84SPXal/i2zP3fN2ebFTH+Xf4Ff9FXf0IWk8yokq73P22q+IzWV1Go9yIosD6GXfreo7p7Qmq+3yosqJrn8qu+9o/1FellXlVJUTXX66X/Efif1kb/7hAwDkOKBf6u3/yxAAUOOABgBgIA5oAAAG4oAGAGAgDmgAAAbigAYAYCAOaAAABuKABgBgIA5oPOrKv+fW3mzGTt6zObumubIv+1zRjJ28Z3N2TXNlX/a5ohk7+UyXn27l2bJn7PKiyokuPx0HNB5jvzi7X6KovptX5btrEcWeVD1Pp3u+3Xx3LaLYk6rn6XTPt5s/mTeZ7FdXJIrbWJcXO/VR/g04oPGI7gvVOflC7uS9KveE3f17Xf/VvFflnrC7f6/rvyP/RtlznDz/J/Nv8coDWt5ovyJdXkQ1PuavrSy+Ipvr4/5a2XiUnyza687+d/t9bqe/mvuUnf1Hdvt9bqe/mvuUnf1Hdvt9ruvX1/Krrjfa2betjfo+mX+L1/4JWt9s/6vqrsVKj41V9T7XqWaJq9fTRfvdfQaptyuS5XysmzHNyjN19Jl1RbKcj3Uzpll5po4+s65IlvMxXxf1+es3WN1zVKfvgS4rq1dd/i1+7AFtSc7nq3rVzfRWZkakz/devZ4u2u/uM9j6rje7ny69jmTxJ0V72t2nre96s/vp0utIFn9StKfdfdr6rje7ny69Vln926zsOaup3o+op6oXUWy6H31ASyzLR/VeVRPlVmZaUq891bxsrvZn+cmiPe88x0n/SX5nT990da8n/Sf5nT1909W9nvTv5E/mT3T6nnTPfzX/Fr/2r7j9daSqiXIrM9XKfjR29V4TXX2mrv9k/knPU67utes/mX/S85Sre+36T+Zf7Z+o2vNuzsau5t/iVxzQ8trnRdUjoh7L5rtaz/dm/dVc7av6J7N79vvvninKVfOEj3X1IotPUO1frqu9R7lqnvCxrl5k8Qmq/ct1tfcoV80TPnal/i2yPXfP2+XFTn2Uf4NXHtDyZusbbn/1H4Kv83mhcZuzMZ/zunzF9mZzstk7tZNVz909j9ZktV1eVDlR5SbI9t89l9CarLbLiyonqtwE2f675xJak9V2eVHlRNc/ld13tP8oL8uqcqrKiS4/3Wv/BP3bRT90b/5BBAD8XxzQL6b/61AXAODn4IAGAGAgDmgAAAbigAYAYCAOaAAABuKABgBgIA5oAAAGGn1An/7zoSf+2dET9wQA/Fw/8oAWTxyWHND7rn7Gdnk7+UiXn+DK/uzzRTN28pku/7Qr+9PebMZOPtPlp1t5tuwZu7yocqLLT/dj/4p79UP55If35h+EJ9j3a/e9i+q7eVV+93qC6nk6UX03r8qfzHvalf2dPG+VP5k3mexXVySK21iXFzv1Uf4NOKA/+MG99YfgCdF7tfP+df135592dX9d/x35Sbr9d06e/2r+jbLnOHn+T+bf4pYDWt4IfTPsr/4N0liXy9gaX6uvo5yw8SgvdvNRTSXr83F/rWw8yk8W7XVn/7v9Ptf1787/tqv72+33ua5fX8uvuiaJ9rOzx91+n+v69bX8quuNdvZta6O+T+bf4rY/Qeub4X9Vq29gFBPdPLnuakQUE13tzqyIr/309XTRfnefQertimQ5H/N1Xf5p0V5296fPpCuS5XzM10V9/vpJ0V5296fPqCuS5XzM10V9/voNVvcc1el7oMvK6lWXf4sffUB7V+YLG9uZ1ZE+33v1erpov7vPYOu73ux+uvTa6vJPivayuz9b3/Vm99Ol1yqrn+IT++ue18rup0uvVVb/Nit7zmqq9yPqqepFFJvu0QM6Wl4UU7t9qzGhc/1S9rWKYhU7s5qXzdX+LD9ZtOed5zjpvzv/TSfPb5307+RP5n/T1f2d9O/kT+ZPdPqedM9/Nf8Wt/5HYvqGXHmzsrquf/Wed8/P+Npq3tV7TXT1mbr+k/lX89908nxW138y/2r/N13dX9d/Mv9q/0TVnndzNnY1/xajDujdN1VydllRXxfLXqsqL9dRT8bPynqrmdpX9U9m9+z33z1TlKvmCR/bqY/yT6v2J9fVnqNcNU/42JX6Car9y3W13yhXzRM+dqX+LbI9d8/b5cVOfZR/g8cOaCFxuyyfi/KexqKeKKa6+EreXq9a6c3m7dROVj139zxak9V2eVHlRJd/Wra/lX1rTVbb5UWVE13/07K9rexZa7LaLi+qnOj6p7L7jvYf5WVZVU5VOdHlp7v1gL5T9Ka/+YPY9dufHwB+utce0EIOJLt+m9/+/ADwk736gAYA4KfigAYAYCAOaAAABuKABgBgIA5oAAAG4oAGAGAgDmgAAAbigAYAYCAOaAAABuKABgBgIA5oAAAG4oAGAGAgDmgAAMb5z3/+CwtzPt4g5DZiAAAAAElFTkSuQmCC)\n",
        "FinBERT1(ProsusAI/finbert)"
      ],
      "metadata": {
        "id": "UFxPSF2lmI4y"
      }
    },
    {
      "cell_type": "markdown",
      "source": [
        "![finbert2.PNG](data:image/png;base64,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)\n",
        "FinBERT2(yiyanghkust/finbert-tone)"
      ],
      "metadata": {
        "id": "e7S0y9uNmTxs"
      }
    },
    {
      "cell_type": "markdown",
      "source": [
        "![roberta-base.PNG](data:image/png;base64,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)\n",
        "RoBERTa-base"
      ],
      "metadata": {
        "id": "eH99ljiBmT35"
      }
    },
    {
      "cell_type": "markdown",
      "source": [
        "### Hyper-parameters tuning results"
      ],
      "metadata": {
        "id": "jNugHiA0leJ-"
      }
    },
    {
      "cell_type": "markdown",
      "metadata": {
        "id": "fIp5gUtCBF7_"
      },
      "source": [
        "#### lr=2e-5 batch_size=16"
      ]
    },
    {
      "cell_type": "code",
      "execution_count": null,
      "metadata": {
        "id": "cvfgSoX6BDlh"
      },
      "outputs": [],
      "source": [
        "Epoch 1\n",
        "Training loss: 0.5042632510413726\n",
        "Validation loss: 0.43245579536259177\n",
        "Validation Accuracy: 0.79725\n",
        "              precision    recall  f1-score   support\n",
        "\n",
        "     Bearish     0.7693    0.8469    0.8062      3984\n",
        "     Bullish     0.8312    0.7480    0.7874      4016\n",
        "\n",
        "    accuracy                         0.7973      8000\n",
        "   macro avg     0.8002    0.7974    0.7968      8000\n",
        "weighted avg     0.8004    0.7973    0.7968      8000\n",
        "\n",
        "\n",
        "Epoch 2\n",
        "Training loss: 0.39124028661102056\n",
        "Validation loss: 0.42084143990278244\n",
        "Validation Accuracy: 0.812125\n",
        "              precision    recall  f1-score   support\n",
        "\n",
        "     Bearish     0.8190    0.7994    0.8091      3984\n",
        "     Bullish     0.8056    0.8247    0.8151      4016\n",
        "\n",
        "    accuracy                         0.8121      8000\n",
        "   macro avg     0.8123    0.8121    0.8121      8000\n",
        "weighted avg     0.8123    0.8121    0.8121      8000\n",
        "\n",
        "\n",
        "Epoch 3\n",
        "Training loss: 0.3177944357490374\n",
        "Validation loss: 0.44553036565333604\n",
        "Validation Accuracy: 0.819125\n",
        "              precision    recall  f1-score   support\n",
        "\n",
        "     Bearish     0.8020    0.8456    0.8232      3984\n",
        "     Bullish     0.8381    0.7928    0.8148      4016\n",
        "\n",
        "    accuracy                         0.8191      8000\n",
        "   macro avg     0.8200    0.8192    0.8190      8000\n",
        "weighted avg     0.8201    0.8191    0.8190      8000\n",
        "\n",
        "\n",
        "Epoch 4\n",
        "Training loss: 0.25728722433228457\n",
        "Validation loss: 0.5336796762626618\n",
        "Validation Accuracy: 0.819875\n",
        "              precision    recall  f1-score   support\n",
        "\n",
        "     Bearish     0.8096    0.8346    0.8219      3984\n",
        "     Bullish     0.8307    0.8053    0.8178      4016\n",
        "\n",
        "    accuracy                         0.8199      8000\n",
        "   macro avg     0.8202    0.8199    0.8199      8000\n",
        "weighted avg     0.8202    0.8199    0.8198      8000\n",
        "\n",
        "\n",
        "Epoch 5\n",
        "Training loss: 0.21827579473838624\n",
        "Validation loss: 0.5881511765439064\n",
        "Validation Accuracy: 0.819\n",
        "              precision    recall  f1-score   support\n",
        "\n",
        "     Bearish     0.8079    0.8351    0.8213      3984\n",
        "     Bullish     0.8308    0.8030    0.8167      4016\n",
        "\n",
        "    accuracy                         0.8190      8000\n",
        "   macro avg     0.8193    0.8191    0.8190      8000\n",
        "weighted avg     0.8194    0.8190    0.8190      8000"
      ]
    },
    {
      "cell_type": "markdown",
      "metadata": {
        "id": "7lynKsEmO6nR"
      },
      "source": [
        "#### lr=2e-5 batch_size=32"
      ]
    },
    {
      "cell_type": "code",
      "execution_count": null,
      "metadata": {
        "id": "R06rxtEVO7Vh"
      },
      "outputs": [],
      "source": [
        "Epoch 1\n",
        "Training loss: 0.5044473987221718\n",
        "Validation loss: 0.4212539587020874\n",
        "Validation Accuracy: 0.8015\n",
        "              precision    recall  f1-score   support\n",
        "\n",
        "     Bearish     0.7693    0.8589    0.8117      3984\n",
        "     Bullish     0.8418    0.7445    0.7902      4016\n",
        "\n",
        "    accuracy                         0.8015      8000\n",
        "   macro avg     0.8056    0.8017    0.8009      8000\n",
        "weighted avg     0.8057    0.8015    0.8009      8000\n",
        "\n",
        "\n",
        "Epoch 2\n",
        "Training loss: 0.39006926456424923\n",
        "Validation loss: 0.41376688557863234\n",
        "Validation Accuracy: 0.811375\n",
        "              precision    recall  f1-score   support\n",
        "\n",
        "     Bearish     0.8351    0.7741    0.8034      3984\n",
        "     Bullish     0.7910    0.8484    0.8187      4016\n",
        "\n",
        "    accuracy                         0.8114      8000\n",
        "   macro avg     0.8131    0.8112    0.8111      8000\n",
        "weighted avg     0.8130    0.8114    0.8111      8000\n",
        "\n",
        "\n",
        "Epoch 3\n",
        "Training loss: 0.3218885078231494\n",
        "Validation loss: 0.42914476060867307\n",
        "Validation Accuracy: 0.810625\n",
        "              precision    recall  f1-score   support\n",
        "\n",
        "     Bearish     0.8323    0.7761    0.8032      3984\n",
        "     Bullish     0.7918    0.8449    0.8175      4016\n",
        "\n",
        "    accuracy                         0.8106      8000\n",
        "   macro avg     0.8121    0.8105    0.8104      8000\n",
        "weighted avg     0.8120    0.8106    0.8104      8000\n",
        "\n",
        "\n",
        "Epoch 4\n",
        "Training loss: 0.26294659575323265\n",
        "Validation loss: 0.4532522008121014\n",
        "Validation Accuracy: 0.818375\n",
        "              precision    recall  f1-score   support\n",
        "\n",
        "     Bearish     0.8177    0.8175    0.8176      3984\n",
        "     Bullish     0.8190    0.8192    0.8191      4016\n",
        "\n",
        "    accuracy                         0.8184      8000\n",
        "   macro avg     0.8184    0.8184    0.8184      8000\n",
        "weighted avg     0.8184    0.8184    0.8184      8000"
      ]
    },
    {
      "cell_type": "markdown",
      "metadata": {
        "id": "tVrgFF5hWQyp"
      },
      "source": [
        "#### lr=2e-5 batch_size=64"
      ]
    },
    {
      "cell_type": "code",
      "execution_count": null,
      "metadata": {
        "id": "Oo-bUm8QWRdO"
      },
      "outputs": [],
      "source": [
        "Epoch 1\n",
        "Training loss: 0.5052129537264506\n",
        "Validation loss: 0.46480056023597716\n",
        "Validation Accuracy: 0.775875\n",
        "              precision    recall  f1-score   support\n",
        "\n",
        "     Bearish     0.7177    0.9066    0.8012      3984\n",
        "     Bullish     0.8746    0.6462    0.7432      4016\n",
        "\n",
        "    accuracy                         0.7759      8000\n",
        "   macro avg     0.7961    0.7764    0.7722      8000\n",
        "weighted avg     0.7965    0.7759    0.7721      8000\n",
        "\n",
        "\n",
        "Epoch 2\n",
        "Training loss: 0.39707499963707393\n",
        "Validation loss: 0.40828417813777923\n",
        "Validation Accuracy: 0.80625\n",
        "              precision    recall  f1-score   support\n",
        "\n",
        "     Bearish     0.7690    0.8732    0.8178      3984\n",
        "     Bullish     0.8547    0.7398    0.7931      4016\n",
        "\n",
        "    accuracy                         0.8062      8000\n",
        "   macro avg     0.8119    0.8065    0.8055      8000\n",
        "weighted avg     0.8120    0.8063    0.8054      8000\n",
        "\n",
        "\n",
        "Epoch 3\n",
        "Training loss: 0.33484467584557004\n",
        "Validation loss: 0.4248538483381271\n",
        "Validation Accuracy: 0.817875\n",
        "              precision    recall  f1-score   support\n",
        "\n",
        "     Bearish     0.7915    0.8612    0.8249      3984\n",
        "     Bullish     0.8491    0.7749    0.8103      4016\n",
        "\n",
        "    accuracy                         0.8179      8000\n",
        "   macro avg     0.8203    0.8180    0.8176      8000\n",
        "weighted avg     0.8204    0.8179    0.8176      8000\n",
        "\n",
        "\n",
        "Epoch 4\n",
        "Training loss: 0.2864336825410525\n",
        "Validation loss: 0.43113778173923495\n",
        "Validation Accuracy: 0.8175\n",
        "              precision    recall  f1-score   support\n",
        "\n",
        "     Bearish     0.8099    0.8278    0.8188      3984\n",
        "     Bullish     0.8254    0.8073    0.8162      4016\n",
        "\n",
        "    accuracy                         0.8175      8000\n",
        "   macro avg     0.8176    0.8175    0.8175      8000\n",
        "weighted avg     0.8177    0.8175    0.8175      8000"
      ]
    },
    {
      "cell_type": "markdown",
      "metadata": {
        "id": "73z4tKObjmbN"
      },
      "source": [
        "#### lr=2e-5 batch_size=128"
      ]
    },
    {
      "cell_type": "code",
      "execution_count": null,
      "metadata": {
        "id": "TPEO78XBjmmz"
      },
      "outputs": [],
      "source": [
        "Epoch 1\n",
        "Training loss: 0.514077968538125\n",
        "Validation loss: 0.42559732662306893\n",
        "Validation Accuracy: 0.797875\n",
        "              precision    recall  f1-score   support\n",
        "\n",
        "     Bearish     0.7726    0.8419    0.8058      3984\n",
        "     Bullish     0.8278    0.7542    0.7893      4016\n",
        "\n",
        "    accuracy                         0.7979      8000\n",
        "   macro avg     0.8002    0.7981    0.7975      8000\n",
        "weighted avg     0.8003    0.7979    0.7975      8000\n",
        "\n",
        "\n",
        "Epoch 2\n",
        "Training loss: 0.402296416818778\n",
        "Validation loss: 0.4060899376396149\n",
        "Validation Accuracy: 0.811875\n",
        "              precision    recall  f1-score   support\n",
        "\n",
        "     Bearish     0.7721    0.8828    0.8237      3984\n",
        "     Bullish     0.8644    0.7415    0.7983      4016\n",
        "\n",
        "    accuracy                         0.8119      8000\n",
        "   macro avg     0.8183    0.8122    0.8110      8000\n",
        "weighted avg     0.8185    0.8119    0.8110      8000\n",
        "\n",
        "\n",
        "Epoch 3\n",
        "Training loss: 0.3472650435423978\n",
        "Validation loss: 0.4040014578236474\n",
        "Validation Accuracy: 0.82\n",
        "              precision    recall  f1-score   support\n",
        "\n",
        "     Bearish     0.8045    0.8436    0.8236      3984\n",
        "     Bullish     0.8370    0.7966    0.8163      4016\n",
        "\n",
        "    accuracy                         0.8200      8000\n",
        "   macro avg     0.8207    0.8201    0.8199      8000\n",
        "weighted avg     0.8208    0.8200    0.8199      8000\n",
        "\n",
        "\n",
        "Epoch 4\n",
        "Training loss: 0.30775327400881697\n",
        "Validation loss: 0.41464819439819883\n",
        "Validation Accuracy: 0.81775\n",
        "              precision    recall  f1-score   support\n",
        "\n",
        "     Bearish     0.8151    0.8200    0.8176      3984\n",
        "     Bullish     0.8204    0.8155    0.8179      4016\n",
        "\n",
        "    accuracy                         0.8178      8000\n",
        "   macro avg     0.8178    0.8178    0.8177      8000\n",
        "weighted avg     0.8178    0.8177    0.8178      8000"
      ]
    },
    {
      "cell_type": "markdown",
      "metadata": {
        "id": "X7wlvbF6Pho6"
      },
      "source": [
        "#### lr=3e-5 batch_size=16"
      ]
    },
    {
      "cell_type": "code",
      "execution_count": null,
      "metadata": {
        "id": "BL-UiUghPhwt"
      },
      "outputs": [],
      "source": [
        "Epoch 1\n",
        "Training loss: 0.5136530679315329\n",
        "Validation loss: 0.44436713041365145\n",
        "Validation Accuracy: 0.793625\n",
        "              precision    recall  f1-score   support\n",
        "\n",
        "     Bearish     0.7955    0.7882    0.7918      3984\n",
        "     Bullish     0.7918    0.7991    0.7954      4016\n",
        "\n",
        "    accuracy                         0.7936      8000\n",
        "   macro avg     0.7937    0.7936    0.7936      8000\n",
        "weighted avg     0.7936    0.7936    0.7936      8000\n",
        "\n",
        "\n",
        "Epoch 2\n",
        "Training loss: 0.3992733389188846\n",
        "Validation loss: 0.4063637013733387\n",
        "Validation Accuracy: 0.810375\n",
        "              precision    recall  f1-score   support\n",
        "\n",
        "     Bearish     0.8458    0.7573    0.7991      3984\n",
        "     Bullish     0.7819    0.8630    0.8205      4016\n",
        "\n",
        "    accuracy                         0.8104      8000\n",
        "   macro avg     0.8138    0.8102    0.8098      8000\n",
        "weighted avg     0.8137    0.8104    0.8098      8000\n",
        "\n",
        "\n",
        "Epoch 3\n",
        "Training loss: 0.32029531909732356\n",
        "Validation loss: 0.4651685864254832\n",
        "Validation Accuracy: 0.813\n",
        "              precision    recall  f1-score   support\n",
        "\n",
        "     Bearish     0.8456    0.7641    0.8027      3984\n",
        "     Bullish     0.7864    0.8616    0.8222      4016\n",
        "\n",
        "    accuracy                         0.8130      8000\n",
        "   macro avg     0.8160    0.8128    0.8125      8000\n",
        "weighted avg     0.8158    0.8130    0.8125      8000"
      ]
    },
    {
      "cell_type": "markdown",
      "metadata": {
        "id": "D7qI28e7ZwqI"
      },
      "source": [
        "#### lr=3e-5 batch_size=32"
      ]
    },
    {
      "cell_type": "code",
      "execution_count": null,
      "metadata": {
        "id": "IQv8ENRCZwyX"
      },
      "outputs": [],
      "source": [
        "Epoch 1\n",
        "Training loss: 0.507310801770952\n",
        "Validation loss: 0.42496754831075667\n",
        "Validation Accuracy: 0.79825\n",
        "              precision    recall  f1-score   support\n",
        "\n",
        "     Bearish     0.7703    0.8476    0.8071      3984\n",
        "     Bullish     0.8321    0.7493    0.7885      4016\n",
        "\n",
        "    accuracy                         0.7983      8000\n",
        "   macro avg     0.8012    0.7984    0.7978      8000\n",
        "weighted avg     0.8013    0.7983    0.7978      8000\n",
        "\n",
        "\n",
        "Epoch 2\n",
        "Training loss: 0.388926143805186\n",
        "Validation loss: 0.39903738075494766\n",
        "Validation Accuracy: 0.806875\n",
        "              precision    recall  f1-score   support\n",
        "\n",
        "     Bearish     0.8513    0.7417    0.7928      3984\n",
        "     Bullish     0.7728    0.8715    0.8192      4016\n",
        "\n",
        "    accuracy                         0.8069      8000\n",
        "   macro avg     0.8121    0.8066    0.8060      8000\n",
        "weighted avg     0.8119    0.8069    0.8060      8000\n",
        "\n",
        "\n",
        "Epoch 3\n",
        "Training loss: 0.3100626676413748\n",
        "Validation loss: 0.44669066816568376\n",
        "Validation Accuracy: 0.819375\n",
        "              precision    recall  f1-score   support\n",
        "\n",
        "     Bearish     0.8203    0.8160    0.8182      3984\n",
        "     Bullish     0.8184    0.8227    0.8206      4016\n",
        "\n",
        "    accuracy                         0.8194      8000\n",
        "   macro avg     0.8194    0.8194    0.8194      8000\n",
        "weighted avg     0.8194    0.8194    0.8194      8000"
      ]
    },
    {
      "cell_type": "markdown",
      "metadata": {
        "id": "5Lmr-AKYauP9"
      },
      "source": [
        "#### lr=3e-5 batch_size=64"
      ]
    },
    {
      "cell_type": "code",
      "execution_count": null,
      "metadata": {
        "id": "yoEWVthtauZH"
      },
      "outputs": [],
      "source": [
        "Epoch 1\n",
        "Training loss: 0.502998171461953\n",
        "Validation loss: 0.4538692235946655\n",
        "Validation Accuracy: 0.776125\n",
        "              precision    recall  f1-score   support\n",
        "\n",
        "     Bearish     0.7182    0.9059    0.8012      3984\n",
        "     Bullish     0.8739    0.6474    0.7438      4016\n",
        "\n",
        "    accuracy                         0.7761      8000\n",
        "   macro avg     0.7961    0.7766    0.7725      8000\n",
        "weighted avg     0.7964    0.7761    0.7724      8000\n",
        "\n",
        "\n",
        "Epoch 2\n",
        "Training loss: 0.38839434218406677\n",
        "Validation loss: 0.41002321553230286\n",
        "Validation Accuracy: 0.810125\n",
        "              precision    recall  f1-score   support\n",
        "\n",
        "     Bearish     0.7778    0.8662    0.8196      3984\n",
        "     Bullish     0.8504    0.7545    0.7996      4016\n",
        "\n",
        "    accuracy                         0.8101      8000\n",
        "   macro avg     0.8141    0.8103    0.8096      8000\n",
        "weighted avg     0.8142    0.8101    0.8096      8000\n",
        "\n",
        "\n",
        "Epoch 3\n",
        "Training loss: 0.3158661618497637\n",
        "Validation loss: 0.41855282080173495\n",
        "Validation Accuracy: 0.818\n",
        "              precision    recall  f1-score   support\n",
        "\n",
        "     Bearish     0.8004    0.8454    0.8223      3984\n",
        "     Bullish     0.8376    0.7908    0.8135      4016\n",
        "\n",
        "    accuracy                         0.8180      8000\n",
        "   macro avg     0.8190    0.8181    0.8179      8000\n",
        "weighted avg     0.8190    0.8180    0.8179      8000\n",
        "\n",
        "\n",
        "Epoch 4\n",
        "Training loss: 0.2527464228603575\n",
        "Validation loss: 0.4377720236778259\n",
        "Validation Accuracy: 0.820125\n",
        "              precision    recall  f1-score   support\n",
        "\n",
        "     Bearish     0.8109    0.8331    0.8218      3984\n",
        "     Bullish     0.8298    0.8073    0.8184      4016\n",
        "\n",
        "    accuracy                         0.8201      8000\n",
        "   macro avg     0.8203    0.8202    0.8201      8000\n",
        "weighted avg     0.8204    0.8201    0.8201      8000\n",
        "\n",
        "\n",
        "Epoch 5\n",
        "Training loss: 0.206118429094553\n",
        "Validation loss: 0.5013618243932724\n",
        "Validation Accuracy: 0.81675\n",
        "              precision    recall  f1-score   support\n",
        "\n",
        "     Bearish     0.8048    0.8343    0.8193      3984\n",
        "     Bullish     0.8295    0.7993    0.8141      4016\n",
        "\n",
        "    accuracy                         0.8167      8000\n",
        "   macro avg     0.8171    0.8168    0.8167      8000\n",
        "weighted avg     0.8172    0.8167    0.8167      8000"
      ]
    },
    {
      "cell_type": "markdown",
      "metadata": {
        "id": "F2TI7rNrltcM"
      },
      "source": [
        "#### lr=3e-5 batch_size=128"
      ]
    },
    {
      "cell_type": "code",
      "execution_count": null,
      "metadata": {
        "id": "VCd1ccHxltlm"
      },
      "outputs": [],
      "source": [
        "Epoch 1\n",
        "Training loss: 0.5106104534006881\n",
        "Validation loss: 0.4116360398512038\n",
        "Validation Accuracy: 0.802125\n",
        "              precision    recall  f1-score   support\n",
        "\n",
        "     Bearish     0.7747    0.8499    0.8105      3984\n",
        "     Bullish     0.8352    0.7547    0.7929      4016\n",
        "\n",
        "    accuracy                         0.8021      8000\n",
        "   macro avg     0.8049    0.8023    0.8017      8000\n",
        "weighted avg     0.8051    0.8021    0.8017      8000\n",
        "\n",
        "\n",
        "Epoch 2\n",
        "Training loss: 0.3930181047844421\n",
        "Validation loss: 0.38866985364565776\n",
        "Validation Accuracy: 0.81925\n",
        "              precision    recall  f1-score   support\n",
        "\n",
        "     Bearish     0.8129    0.8276    0.8201      3984\n",
        "     Bullish     0.8258    0.8110    0.8183      4016\n",
        "\n",
        "    accuracy                         0.8193      8000\n",
        "   macro avg     0.8193    0.8193    0.8192      8000\n",
        "weighted avg     0.8194    0.8193    0.8192      8000\n",
        "\n",
        "\n",
        "Epoch 3\n",
        "Training loss: 0.32967852082493887\n",
        "Validation loss: 0.4115184074829495\n",
        "Validation Accuracy: 0.81475\n",
        "              precision    recall  f1-score   support\n",
        "\n",
        "     Bearish     0.7814    0.8720    0.8242      3984\n",
        "     Bullish     0.8565    0.7580    0.8042      4016\n",
        "\n",
        "    accuracy                         0.8148      8000\n",
        "   macro avg     0.8189    0.8150    0.8142      8000\n",
        "weighted avg     0.8191    0.8147    0.8142      8000\n"
      ]
    },
    {
      "cell_type": "markdown",
      "metadata": {
        "id": "Xw7hq5R6IhQc"
      },
      "source": [
        "#### lr=5e-5 batch_size=16"
      ]
    },
    {
      "cell_type": "code",
      "execution_count": null,
      "metadata": {
        "id": "yslMqHTAIhg5"
      },
      "outputs": [],
      "source": [
        "Epoch 1\n",
        "Training loss: 0.5974965874685182\n",
        "Validation loss: 0.5948965945839881\n",
        "Validation Accuracy: 0.7175\n",
        "              precision    recall  f1-score   support\n",
        "\n",
        "     Bearish     0.6671    0.8640    0.7528      3984\n",
        "     Bullish     0.8092    0.5722    0.6704      4016\n",
        "\n",
        "    accuracy                         0.7175      8000\n",
        "   macro avg     0.7381    0.7181    0.7116      8000\n",
        "weighted avg     0.7384    0.7175    0.7114      8000\n",
        "\n",
        "\n",
        "Epoch 2\n",
        "Training loss: 0.5715263673928049\n",
        "Validation loss: 0.5630566267967224\n",
        "Validation Accuracy: 0.73625\n",
        "              precision    recall  f1-score   support\n",
        "\n",
        "     Bearish     0.7603    0.6870    0.7218      3984\n",
        "     Bullish     0.7166    0.7851    0.7493      4016\n",
        "\n",
        "    accuracy                         0.7362      8000\n",
        "   macro avg     0.7384    0.7361    0.7355      8000\n",
        "weighted avg     0.7383    0.7362    0.7356      8000\n",
        "\n",
        "\n",
        "Epoch 3\n",
        "Training loss: 0.5522838095095423\n",
        "Validation loss: 0.558704370379448\n",
        "Validation Accuracy: 0.751125\n",
        "              precision    recall  f1-score   support\n",
        "\n",
        "     Bearish     0.7039    0.8635    0.7756      3984\n",
        "     Bullish     0.8252    0.6397    0.7207      4016\n",
        "\n",
        "    accuracy                         0.7511      8000\n",
        "   macro avg     0.7646    0.7516    0.7481      8000\n",
        "weighted avg     0.7648    0.7511    0.7480      8000\n",
        "\n",
        "\n",
        "Epoch 4\n",
        "Training loss: 0.47912135954863494\n",
        "Validation loss: 0.47688990265131\n",
        "Validation Accuracy: 0.778\n",
        "              precision    recall  f1-score   support\n",
        "\n",
        "     Bearish     0.8003    0.7385    0.7681      3984\n",
        "     Bullish     0.7590    0.8172    0.7871      4016\n",
        "\n",
        "    accuracy                         0.7780      8000\n",
        "   macro avg     0.7797    0.7778    0.7776      8000\n",
        "weighted avg     0.7796    0.7780    0.7776      8000\n",
        "\n",
        "\n",
        "Epoch 5\n",
        "Training loss: 0.4173517644057671\n",
        "Validation loss: 0.4699419744759798\n",
        "Validation Accuracy: 0.784125\n",
        "              precision    recall  f1-score   support\n",
        "\n",
        "     Bearish     0.7596    0.8288    0.7927      3984\n",
        "     Bullish     0.8133    0.7398    0.7748      4016\n",
        "\n",
        "    accuracy                         0.7841      8000\n",
        "   macro avg     0.7865    0.7843    0.7838      8000\n",
        "weighted avg     0.7866    0.7841    0.7837      8000"
      ]
    },
    {
      "cell_type": "markdown",
      "metadata": {
        "id": "QlED33EJXQ8M"
      },
      "source": [
        "#### lr=5e-5 batch_size=32"
      ]
    },
    {
      "cell_type": "code",
      "execution_count": null,
      "metadata": {
        "id": "blrTZbEDXRF_"
      },
      "outputs": [],
      "source": [
        "Epoch 1\n",
        "Training loss: 0.5606839387284385\n",
        "Validation loss: 0.46764432018995283\n",
        "Validation Accuracy: 0.773125\n",
        "              precision    recall  f1-score   support\n",
        "\n",
        "     Bearish     0.7516    0.8133    0.7812      3984\n",
        "     Bullish     0.7983    0.7333    0.7644      4016\n",
        "\n",
        "    accuracy                         0.7731      8000\n",
        "   macro avg     0.7749    0.7733    0.7728      8000\n",
        "weighted avg     0.7750    0.7731    0.7728      8000\n",
        "\n",
        "\n",
        "Epoch 2\n",
        "Training loss: 0.4468867841296726\n",
        "Validation loss: 0.4518423317670822\n",
        "Validation Accuracy: 0.7875\n",
        "              precision    recall  f1-score   support\n",
        "\n",
        "     Bearish     0.7485    0.8635    0.8019      3984\n",
        "     Bullish     0.8402    0.7122    0.7709      4016\n",
        "\n",
        "    accuracy                         0.7875      8000\n",
        "   macro avg     0.7943    0.7878    0.7864      8000\n",
        "weighted avg     0.7945    0.7875    0.7863      8000\n",
        "\n",
        "\n",
        "Epoch 3\n",
        "Training loss: 0.366314064833853\n",
        "Validation loss: 0.461272368222475\n",
        "Validation Accuracy: 0.80475\n",
        "              precision    recall  f1-score   support\n",
        "\n",
        "     Bearish     0.7905    0.8271    0.8084      3984\n",
        "     Bullish     0.8202    0.7826    0.8010      4016\n",
        "\n",
        "    accuracy                         0.8047      8000\n",
        "   macro avg     0.8054    0.8048    0.8047      8000\n",
        "weighted avg     0.8054    0.8047    0.8047      8000\n",
        "\n",
        "\n",
        "Epoch 4\n",
        "Training loss: 0.2908383213215404\n",
        "Validation loss: 0.4606119799315929\n",
        "Validation Accuracy: 0.811625\n",
        "              precision    recall  f1-score   support\n",
        "\n",
        "     Bearish     0.8016    0.8263    0.8137      3984\n",
        "     Bullish     0.8222    0.7971    0.8095      4016\n",
        "\n",
        "    accuracy                         0.8116      8000\n",
        "   macro avg     0.8119    0.8117    0.8116      8000\n",
        "weighted avg     0.8119    0.8116    0.8116      8000"
      ]
    },
    {
      "cell_type": "markdown",
      "metadata": {
        "id": "UTYBu-OOkX2x"
      },
      "source": [
        "#### lr=5e-5 batch_size=64"
      ]
    },
    {
      "cell_type": "code",
      "execution_count": null,
      "metadata": {
        "id": "_XJHo7ankX_j"
      },
      "outputs": [],
      "source": [
        "Epoch 1\n",
        "Training loss: 0.518081511206097\n",
        "Validation loss: 0.4243671133518219\n",
        "Validation Accuracy: 0.795875\n",
        "              precision    recall  f1-score   support\n",
        "\n",
        "     Bearish     0.8080    0.7741    0.7907      3984\n",
        "     Bullish     0.7848    0.8175    0.8008      4016\n",
        "\n",
        "    accuracy                         0.7959      8000\n",
        "   macro avg     0.7964    0.7958    0.7957      8000\n",
        "weighted avg     0.7964    0.7959    0.7958      8000\n",
        "\n",
        "\n",
        "Epoch 2\n",
        "Training loss: 0.39756798548168604\n",
        "Validation loss: 0.4209494873285294\n",
        "Validation Accuracy: 0.812875\n",
        "              precision    recall  f1-score   support\n",
        "\n",
        "     Bearish     0.8041    0.8253    0.8146      3984\n",
        "     Bullish     0.8220    0.8005    0.8112      4016\n",
        "\n",
        "    accuracy                         0.8129      8000\n",
        "   macro avg     0.8131    0.8129    0.8129      8000\n",
        "weighted avg     0.8131    0.8129    0.8129      8000\n",
        "\n",
        "\n",
        "Epoch 3\n",
        "Training loss: 0.3127424329916636\n",
        "Validation loss: 0.41800892412662505\n",
        "Validation Accuracy: 0.816625\n",
        "              precision    recall  f1-score   support\n",
        "\n",
        "     Bearish     0.8243    0.8030    0.8135      3984\n",
        "     Bullish     0.8094    0.8302    0.8197      4016\n",
        "\n",
        "    accuracy                         0.8166      8000\n",
        "   macro avg     0.8168    0.8166    0.8166      8000\n",
        "weighted avg     0.8168    0.8166    0.8166      8000\n",
        "\n",
        "\n",
        "Epoch 4\n",
        "Training loss: 0.23908037155204348\n",
        "Validation loss: 0.47631121349334715\n",
        "Validation Accuracy: 0.814125\n",
        "              precision    recall  f1-score   support\n",
        "\n",
        "     Bearish     0.8024    0.8316    0.8167      3984\n",
        "     Bullish     0.8267    0.7968    0.8115      4016\n",
        "\n",
        "    accuracy                         0.8141      8000\n",
        "   macro avg     0.8145    0.8142    0.8141      8000\n",
        "weighted avg     0.8146    0.8141    0.8141      8000"
      ]
    },
    {
      "cell_type": "markdown",
      "metadata": {
        "id": "S0UbGpbn3SbL"
      },
      "source": [
        "#### lr=5e-5 batch_size=128"
      ]
    },
    {
      "cell_type": "code",
      "execution_count": null,
      "metadata": {
        "id": "ElbDkW8h3Spv"
      },
      "outputs": [],
      "source": [
        "Epoch 1\n",
        "Training loss: 0.5166689987504461\n",
        "Validation loss: 0.4398356529455336\n",
        "Validation Accuracy: 0.786125\n",
        "              precision    recall  f1-score   support\n",
        "\n",
        "     Bearish     0.7498    0.8562    0.7995      3984\n",
        "     Bullish     0.8340    0.7166    0.7709      4016\n",
        "\n",
        "    accuracy                         0.7861      8000\n",
        "   macro avg     0.7919    0.7864    0.7852      8000\n",
        "weighted avg     0.7921    0.7861    0.7851      8000\n",
        "\n",
        "\n",
        "Epoch 2\n",
        "Training loss: 0.3953092567238884\n",
        "Validation loss: 0.4046871945971534\n",
        "Validation Accuracy: 0.80475\n",
        "              precision    recall  f1-score   support\n",
        "\n",
        "     Bearish     0.7663    0.8747    0.8169      3984\n",
        "     Bullish     0.8554    0.7353    0.7908      4016\n",
        "\n",
        "    accuracy                         0.8047      8000\n",
        "   macro avg     0.8109    0.8050    0.8039      8000\n",
        "weighted avg     0.8110    0.8047    0.8038      8000\n",
        "\n",
        "\n",
        "Epoch 3\n",
        "Training loss: 0.3168490469773328\n",
        "Validation loss: 0.4269323514567481\n",
        "Validation Accuracy: 0.8165\n",
        "              precision    recall  f1-score   support\n",
        "\n",
        "     Bearish     0.7961    0.8489    0.8217      3984\n",
        "     Bullish     0.8396    0.7844    0.8110      4016\n",
        "\n",
        "    accuracy                         0.8165      8000\n",
        "   macro avg     0.8178    0.8166    0.8163      8000\n",
        "weighted avg     0.8179    0.8165    0.8163      8000\n",
        "\n",
        "\n",
        "Epoch 4\n",
        "Training loss: 0.253418497066303\n",
        "Validation loss: 0.4435635743633149\n",
        "Validation Accuracy: 0.81725\n",
        "              precision    recall  f1-score   support\n",
        "\n",
        "     Bearish     0.8127    0.8225    0.8176      3984\n",
        "     Bullish     0.8218    0.8120    0.8169      4016\n",
        "\n",
        "    accuracy                         0.8173      8000\n",
        "   macro avg     0.8173    0.8173    0.8172      8000\n",
        "weighted avg     0.8173    0.8173    0.8172      8000\n",
        "\n",
        "\n",
        "Epoch 5\n",
        "Training loss: 0.20182169682708556\n",
        "Validation loss: 0.5088193267583847\n",
        "Validation Accuracy: 0.819625\n",
        "              precision    recall  f1-score   support\n",
        "\n",
        "     Bearish     0.8110    0.8316    0.8212      3984\n",
        "     Bullish     0.8286    0.8078    0.8181      4016\n",
        "\n",
        "    accuracy                         0.8196      8000\n",
        "   macro avg     0.8198    0.8197    0.8196      8000\n",
        "weighted avg     0.8198    0.8196    0.8196      8000\n"
      ]
    }
  ],
  "metadata": {
    "accelerator": "GPU",
    "colab": {
      "collapsed_sections": [
        "fIp5gUtCBF7_",
        "7lynKsEmO6nR",
        "tVrgFF5hWQyp",
        "73z4tKObjmbN",
        "X7wlvbF6Pho6",
        "D7qI28e7ZwqI",
        "5Lmr-AKYauP9",
        "F2TI7rNrltcM",
        "Xw7hq5R6IhQc",
        "QlED33EJXQ8M",
        "UTYBu-OOkX2x",
        "S0UbGpbn3SbL"
      ],
      "machine_shape": "hm",
      "name": "PLP_Project_ModelSelection_HyperparamsTuning",
      "provenance": []
    },
    "kernelspec": {
      "display_name": "Python 3",
      "name": "python3"
    },
    "language_info": {
      "name": "python"
    },
    "widgets": {
      "application/vnd.jupyter.widget-state+json": {
        "3106aa9bcfa74c398c0c8afa58efaea5": {
          "model_module": "@jupyter-widgets/controls",
          "model_name": "HBoxModel",
          "model_module_version": "1.5.0",
          "state": {
            "_dom_classes": [],
            "_model_module": "@jupyter-widgets/controls",
            "_model_module_version": "1.5.0",
            "_model_name": "HBoxModel",
            "_view_count": null,
            "_view_module": "@jupyter-widgets/controls",
            "_view_module_version": "1.5.0",
            "_view_name": "HBoxView",
            "box_style": "",
            "children": [
              "IPY_MODEL_b522e2a1a64d4244bd9b8448999fd674",
              "IPY_MODEL_8ffef5d212ef4cc589d3436f3e5cdbef",
              "IPY_MODEL_bdee795bf373486cbfc8e04c89e04f76"
            ],
            "layout": "IPY_MODEL_b8df55b4cba84c38a5e1be1aaabf5d00"
          }
        },
        "b522e2a1a64d4244bd9b8448999fd674": {
          "model_module": "@jupyter-widgets/controls",
          "model_name": "HTMLModel",
          "model_module_version": "1.5.0",
          "state": {
            "_dom_classes": [],
            "_model_module": "@jupyter-widgets/controls",
            "_model_module_version": "1.5.0",
            "_model_name": "HTMLModel",
            "_view_count": null,
            "_view_module": "@jupyter-widgets/controls",
            "_view_module_version": "1.5.0",
            "_view_name": "HTMLView",
            "description": "",
            "description_tooltip": null,
            "layout": "IPY_MODEL_07b213a0c89c4f6b8e17ec6967e57119",
            "placeholder": "​",
            "style": "IPY_MODEL_ac79076b49e94ad383d520ce1cdf01d7",
            "value": "100%"
          }
        },
        "8ffef5d212ef4cc589d3436f3e5cdbef": {
          "model_module": "@jupyter-widgets/controls",
          "model_name": "FloatProgressModel",
          "model_module_version": "1.5.0",
          "state": {
            "_dom_classes": [],
            "_model_module": "@jupyter-widgets/controls",
            "_model_module_version": "1.5.0",
            "_model_name": "FloatProgressModel",
            "_view_count": null,
            "_view_module": "@jupyter-widgets/controls",
            "_view_module_version": "1.5.0",
            "_view_name": "ProgressView",
            "bar_style": "success",
            "description": "",
            "description_tooltip": null,
            "layout": "IPY_MODEL_12258609403f47eda4c94e6258fdaa29",
            "max": 1,
            "min": 0,
            "orientation": "horizontal",
            "style": "IPY_MODEL_404f7b9cfc8b45b78087ac7639ad9847",
            "value": 1
          }
        },
        "bdee795bf373486cbfc8e04c89e04f76": {
          "model_module": "@jupyter-widgets/controls",
          "model_name": "HTMLModel",
          "model_module_version": "1.5.0",
          "state": {
            "_dom_classes": [],
            "_model_module": "@jupyter-widgets/controls",
            "_model_module_version": "1.5.0",
            "_model_name": "HTMLModel",
            "_view_count": null,
            "_view_module": "@jupyter-widgets/controls",
            "_view_module_version": "1.5.0",
            "_view_name": "HTMLView",
            "description": "",
            "description_tooltip": null,
            "layout": "IPY_MODEL_bb19307c67ef451aba830642a54bc4f6",
            "placeholder": "​",
            "style": "IPY_MODEL_29f43c8705f849e280ba8f15d9d21f04",
            "value": " 1/1 [1:10:13&lt;00:00, 4213.27s/it]"
          }
        },
        "b8df55b4cba84c38a5e1be1aaabf5d00": {
          "model_module": "@jupyter-widgets/base",
          "model_name": "LayoutModel",
          "model_module_version": "1.2.0",
          "state": {
            "_model_module": "@jupyter-widgets/base",
            "_model_module_version": "1.2.0",
            "_model_name": "LayoutModel",
            "_view_count": null,
            "_view_module": "@jupyter-widgets/base",
            "_view_module_version": "1.2.0",
            "_view_name": "LayoutView",
            "align_content": null,
            "align_items": null,
            "align_self": null,
            "border": null,
            "bottom": null,
            "display": null,
            "flex": null,
            "flex_flow": null,
            "grid_area": null,
            "grid_auto_columns": null,
            "grid_auto_flow": null,
            "grid_auto_rows": null,
            "grid_column": null,
            "grid_gap": null,
            "grid_row": null,
            "grid_template_areas": null,
            "grid_template_columns": null,
            "grid_template_rows": null,
            "height": null,
            "justify_content": null,
            "justify_items": null,
            "left": null,
            "margin": null,
            "max_height": null,
            "max_width": null,
            "min_height": null,
            "min_width": null,
            "object_fit": null,
            "object_position": null,
            "order": null,
            "overflow": null,
            "overflow_x": null,
            "overflow_y": null,
            "padding": null,
            "right": null,
            "top": null,
            "visibility": null,
            "width": null
          }
        },
        "07b213a0c89c4f6b8e17ec6967e57119": {
          "model_module": "@jupyter-widgets/base",
          "model_name": "LayoutModel",
          "model_module_version": "1.2.0",
          "state": {
            "_model_module": "@jupyter-widgets/base",
            "_model_module_version": "1.2.0",
            "_model_name": "LayoutModel",
            "_view_count": null,
            "_view_module": "@jupyter-widgets/base",
            "_view_module_version": "1.2.0",
            "_view_name": "LayoutView",
            "align_content": null,
            "align_items": null,
            "align_self": null,
            "border": null,
            "bottom": null,
            "display": null,
            "flex": null,
            "flex_flow": null,
            "grid_area": null,
            "grid_auto_columns": null,
            "grid_auto_flow": null,
            "grid_auto_rows": null,
            "grid_column": null,
            "grid_gap": null,
            "grid_row": null,
            "grid_template_areas": null,
            "grid_template_columns": null,
            "grid_template_rows": null,
            "height": null,
            "justify_content": null,
            "justify_items": null,
            "left": null,
            "margin": null,
            "max_height": null,
            "max_width": null,
            "min_height": null,
            "min_width": null,
            "object_fit": null,
            "object_position": null,
            "order": null,
            "overflow": null,
            "overflow_x": null,
            "overflow_y": null,
            "padding": null,
            "right": null,
            "top": null,
            "visibility": null,
            "width": null
          }
        },
        "ac79076b49e94ad383d520ce1cdf01d7": {
          "model_module": "@jupyter-widgets/controls",
          "model_name": "DescriptionStyleModel",
          "model_module_version": "1.5.0",
          "state": {
            "_model_module": "@jupyter-widgets/controls",
            "_model_module_version": "1.5.0",
            "_model_name": "DescriptionStyleModel",
            "_view_count": null,
            "_view_module": "@jupyter-widgets/base",
            "_view_module_version": "1.2.0",
            "_view_name": "StyleView",
            "description_width": ""
          }
        },
        "12258609403f47eda4c94e6258fdaa29": {
          "model_module": "@jupyter-widgets/base",
          "model_name": "LayoutModel",
          "model_module_version": "1.2.0",
          "state": {
            "_model_module": "@jupyter-widgets/base",
            "_model_module_version": "1.2.0",
            "_model_name": "LayoutModel",
            "_view_count": null,
            "_view_module": "@jupyter-widgets/base",
            "_view_module_version": "1.2.0",
            "_view_name": "LayoutView",
            "align_content": null,
            "align_items": null,
            "align_self": null,
            "border": null,
            "bottom": null,
            "display": null,
            "flex": null,
            "flex_flow": null,
            "grid_area": null,
            "grid_auto_columns": null,
            "grid_auto_flow": null,
            "grid_auto_rows": null,
            "grid_column": null,
            "grid_gap": null,
            "grid_row": null,
            "grid_template_areas": null,
            "grid_template_columns": null,
            "grid_template_rows": null,
            "height": null,
            "justify_content": null,
            "justify_items": null,
            "left": null,
            "margin": null,
            "max_height": null,
            "max_width": null,
            "min_height": null,
            "min_width": null,
            "object_fit": null,
            "object_position": null,
            "order": null,
            "overflow": null,
            "overflow_x": null,
            "overflow_y": null,
            "padding": null,
            "right": null,
            "top": null,
            "visibility": null,
            "width": null
          }
        },
        "404f7b9cfc8b45b78087ac7639ad9847": {
          "model_module": "@jupyter-widgets/controls",
          "model_name": "ProgressStyleModel",
          "model_module_version": "1.5.0",
          "state": {
            "_model_module": "@jupyter-widgets/controls",
            "_model_module_version": "1.5.0",
            "_model_name": "ProgressStyleModel",
            "_view_count": null,
            "_view_module": "@jupyter-widgets/base",
            "_view_module_version": "1.2.0",
            "_view_name": "StyleView",
            "bar_color": null,
            "description_width": ""
          }
        },
        "bb19307c67ef451aba830642a54bc4f6": {
          "model_module": "@jupyter-widgets/base",
          "model_name": "LayoutModel",
          "model_module_version": "1.2.0",
          "state": {
            "_model_module": "@jupyter-widgets/base",
            "_model_module_version": "1.2.0",
            "_model_name": "LayoutModel",
            "_view_count": null,
            "_view_module": "@jupyter-widgets/base",
            "_view_module_version": "1.2.0",
            "_view_name": "LayoutView",
            "align_content": null,
            "align_items": null,
            "align_self": null,
            "border": null,
            "bottom": null,
            "display": null,
            "flex": null,
            "flex_flow": null,
            "grid_area": null,
            "grid_auto_columns": null,
            "grid_auto_flow": null,
            "grid_auto_rows": null,
            "grid_column": null,
            "grid_gap": null,
            "grid_row": null,
            "grid_template_areas": null,
            "grid_template_columns": null,
            "grid_template_rows": null,
            "height": null,
            "justify_content": null,
            "justify_items": null,
            "left": null,
            "margin": null,
            "max_height": null,
            "max_width": null,
            "min_height": null,
            "min_width": null,
            "object_fit": null,
            "object_position": null,
            "order": null,
            "overflow": null,
            "overflow_x": null,
            "overflow_y": null,
            "padding": null,
            "right": null,
            "top": null,
            "visibility": null,
            "width": null
          }
        },
        "29f43c8705f849e280ba8f15d9d21f04": {
          "model_module": "@jupyter-widgets/controls",
          "model_name": "DescriptionStyleModel",
          "model_module_version": "1.5.0",
          "state": {
            "_model_module": "@jupyter-widgets/controls",
            "_model_module_version": "1.5.0",
            "_model_name": "DescriptionStyleModel",
            "_view_count": null,
            "_view_module": "@jupyter-widgets/base",
            "_view_module_version": "1.2.0",
            "_view_name": "StyleView",
            "description_width": ""
          }
        },
        "827d13b5b35348cdb65cb4bce650f75a": {
          "model_module": "@jupyter-widgets/controls",
          "model_name": "HBoxModel",
          "model_module_version": "1.5.0",
          "state": {
            "_dom_classes": [],
            "_model_module": "@jupyter-widgets/controls",
            "_model_module_version": "1.5.0",
            "_model_name": "HBoxModel",
            "_view_count": null,
            "_view_module": "@jupyter-widgets/controls",
            "_view_module_version": "1.5.0",
            "_view_name": "HBoxView",
            "box_style": "",
            "children": [
              "IPY_MODEL_d68adfbbe2b648cb9084267f1b2db15f",
              "IPY_MODEL_5a517b6a779d43798a99b96855f9bc4a",
              "IPY_MODEL_5f0f6a86adec44819ab3d814f814f994"
            ],
            "layout": "IPY_MODEL_a21262ea7a5543babcfcc6a6e577422d"
          }
        },
        "d68adfbbe2b648cb9084267f1b2db15f": {
          "model_module": "@jupyter-widgets/controls",
          "model_name": "HTMLModel",
          "model_module_version": "1.5.0",
          "state": {
            "_dom_classes": [],
            "_model_module": "@jupyter-widgets/controls",
            "_model_module_version": "1.5.0",
            "_model_name": "HTMLModel",
            "_view_count": null,
            "_view_module": "@jupyter-widgets/controls",
            "_view_module_version": "1.5.0",
            "_view_name": "HTMLView",
            "description": "",
            "description_tooltip": null,
            "layout": "IPY_MODEL_5700e5a999984c8384c11f4fd88186ba",
            "placeholder": "​",
            "style": "IPY_MODEL_6a22863947af41c68c41200449668122",
            "value": "Epoch 1: 100%"
          }
        },
        "5a517b6a779d43798a99b96855f9bc4a": {
          "model_module": "@jupyter-widgets/controls",
          "model_name": "FloatProgressModel",
          "model_module_version": "1.5.0",
          "state": {
            "_dom_classes": [],
            "_model_module": "@jupyter-widgets/controls",
            "_model_module_version": "1.5.0",
            "_model_name": "FloatProgressModel",
            "_view_count": null,
            "_view_module": "@jupyter-widgets/controls",
            "_view_module_version": "1.5.0",
            "_view_name": "ProgressView",
            "bar_style": "",
            "description": "",
            "description_tooltip": null,
            "layout": "IPY_MODEL_8abb01b88bdb448f85f9c73622e7465f",
            "max": 19600,
            "min": 0,
            "orientation": "horizontal",
            "style": "IPY_MODEL_914f890a1d6e4901a5d8b364b8fbcfd6",
            "value": 19600
          }
        },
        "5f0f6a86adec44819ab3d814f814f994": {
          "model_module": "@jupyter-widgets/controls",
          "model_name": "HTMLModel",
          "model_module_version": "1.5.0",
          "state": {
            "_dom_classes": [],
            "_model_module": "@jupyter-widgets/controls",
            "_model_module_version": "1.5.0",
            "_model_name": "HTMLModel",
            "_view_count": null,
            "_view_module": "@jupyter-widgets/controls",
            "_view_module_version": "1.5.0",
            "_view_name": "HTMLView",
            "description": "",
            "description_tooltip": null,
            "layout": "IPY_MODEL_c937e4fdf37c409da91f0d920208fd77",
            "placeholder": "​",
            "style": "IPY_MODEL_893b353c4bc64bf9bce8bf0b6cce5802",
            "value": " 19600/19600 [1:09:48&lt;00:00,  4.67it/s, training_loss=0.048]"
          }
        },
        "a21262ea7a5543babcfcc6a6e577422d": {
          "model_module": "@jupyter-widgets/base",
          "model_name": "LayoutModel",
          "model_module_version": "1.2.0",
          "state": {
            "_model_module": "@jupyter-widgets/base",
            "_model_module_version": "1.2.0",
            "_model_name": "LayoutModel",
            "_view_count": null,
            "_view_module": "@jupyter-widgets/base",
            "_view_module_version": "1.2.0",
            "_view_name": "LayoutView",
            "align_content": null,
            "align_items": null,
            "align_self": null,
            "border": null,
            "bottom": null,
            "display": null,
            "flex": null,
            "flex_flow": null,
            "grid_area": null,
            "grid_auto_columns": null,
            "grid_auto_flow": null,
            "grid_auto_rows": null,
            "grid_column": null,
            "grid_gap": null,
            "grid_row": null,
            "grid_template_areas": null,
            "grid_template_columns": null,
            "grid_template_rows": null,
            "height": null,
            "justify_content": null,
            "justify_items": null,
            "left": null,
            "margin": null,
            "max_height": null,
            "max_width": null,
            "min_height": null,
            "min_width": null,
            "object_fit": null,
            "object_position": null,
            "order": null,
            "overflow": null,
            "overflow_x": null,
            "overflow_y": null,
            "padding": null,
            "right": null,
            "top": null,
            "visibility": null,
            "width": null
          }
        },
        "5700e5a999984c8384c11f4fd88186ba": {
          "model_module": "@jupyter-widgets/base",
          "model_name": "LayoutModel",
          "model_module_version": "1.2.0",
          "state": {
            "_model_module": "@jupyter-widgets/base",
            "_model_module_version": "1.2.0",
            "_model_name": "LayoutModel",
            "_view_count": null,
            "_view_module": "@jupyter-widgets/base",
            "_view_module_version": "1.2.0",
            "_view_name": "LayoutView",
            "align_content": null,
            "align_items": null,
            "align_self": null,
            "border": null,
            "bottom": null,
            "display": null,
            "flex": null,
            "flex_flow": null,
            "grid_area": null,
            "grid_auto_columns": null,
            "grid_auto_flow": null,
            "grid_auto_rows": null,
            "grid_column": null,
            "grid_gap": null,
            "grid_row": null,
            "grid_template_areas": null,
            "grid_template_columns": null,
            "grid_template_rows": null,
            "height": null,
            "justify_content": null,
            "justify_items": null,
            "left": null,
            "margin": null,
            "max_height": null,
            "max_width": null,
            "min_height": null,
            "min_width": null,
            "object_fit": null,
            "object_position": null,
            "order": null,
            "overflow": null,
            "overflow_x": null,
            "overflow_y": null,
            "padding": null,
            "right": null,
            "top": null,
            "visibility": null,
            "width": null
          }
        },
        "6a22863947af41c68c41200449668122": {
          "model_module": "@jupyter-widgets/controls",
          "model_name": "DescriptionStyleModel",
          "model_module_version": "1.5.0",
          "state": {
            "_model_module": "@jupyter-widgets/controls",
            "_model_module_version": "1.5.0",
            "_model_name": "DescriptionStyleModel",
            "_view_count": null,
            "_view_module": "@jupyter-widgets/base",
            "_view_module_version": "1.2.0",
            "_view_name": "StyleView",
            "description_width": ""
          }
        },
        "8abb01b88bdb448f85f9c73622e7465f": {
          "model_module": "@jupyter-widgets/base",
          "model_name": "LayoutModel",
          "model_module_version": "1.2.0",
          "state": {
            "_model_module": "@jupyter-widgets/base",
            "_model_module_version": "1.2.0",
            "_model_name": "LayoutModel",
            "_view_count": null,
            "_view_module": "@jupyter-widgets/base",
            "_view_module_version": "1.2.0",
            "_view_name": "LayoutView",
            "align_content": null,
            "align_items": null,
            "align_self": null,
            "border": null,
            "bottom": null,
            "display": null,
            "flex": null,
            "flex_flow": null,
            "grid_area": null,
            "grid_auto_columns": null,
            "grid_auto_flow": null,
            "grid_auto_rows": null,
            "grid_column": null,
            "grid_gap": null,
            "grid_row": null,
            "grid_template_areas": null,
            "grid_template_columns": null,
            "grid_template_rows": null,
            "height": null,
            "justify_content": null,
            "justify_items": null,
            "left": null,
            "margin": null,
            "max_height": null,
            "max_width": null,
            "min_height": null,
            "min_width": null,
            "object_fit": null,
            "object_position": null,
            "order": null,
            "overflow": null,
            "overflow_x": null,
            "overflow_y": null,
            "padding": null,
            "right": null,
            "top": null,
            "visibility": null,
            "width": null
          }
        },
        "914f890a1d6e4901a5d8b364b8fbcfd6": {
          "model_module": "@jupyter-widgets/controls",
          "model_name": "ProgressStyleModel",
          "model_module_version": "1.5.0",
          "state": {
            "_model_module": "@jupyter-widgets/controls",
            "_model_module_version": "1.5.0",
            "_model_name": "ProgressStyleModel",
            "_view_count": null,
            "_view_module": "@jupyter-widgets/base",
            "_view_module_version": "1.2.0",
            "_view_name": "StyleView",
            "bar_color": null,
            "description_width": ""
          }
        },
        "c937e4fdf37c409da91f0d920208fd77": {
          "model_module": "@jupyter-widgets/base",
          "model_name": "LayoutModel",
          "model_module_version": "1.2.0",
          "state": {
            "_model_module": "@jupyter-widgets/base",
            "_model_module_version": "1.2.0",
            "_model_name": "LayoutModel",
            "_view_count": null,
            "_view_module": "@jupyter-widgets/base",
            "_view_module_version": "1.2.0",
            "_view_name": "LayoutView",
            "align_content": null,
            "align_items": null,
            "align_self": null,
            "border": null,
            "bottom": null,
            "display": null,
            "flex": null,
            "flex_flow": null,
            "grid_area": null,
            "grid_auto_columns": null,
            "grid_auto_flow": null,
            "grid_auto_rows": null,
            "grid_column": null,
            "grid_gap": null,
            "grid_row": null,
            "grid_template_areas": null,
            "grid_template_columns": null,
            "grid_template_rows": null,
            "height": null,
            "justify_content": null,
            "justify_items": null,
            "left": null,
            "margin": null,
            "max_height": null,
            "max_width": null,
            "min_height": null,
            "min_width": null,
            "object_fit": null,
            "object_position": null,
            "order": null,
            "overflow": null,
            "overflow_x": null,
            "overflow_y": null,
            "padding": null,
            "right": null,
            "top": null,
            "visibility": null,
            "width": null
          }
        },
        "893b353c4bc64bf9bce8bf0b6cce5802": {
          "model_module": "@jupyter-widgets/controls",
          "model_name": "DescriptionStyleModel",
          "model_module_version": "1.5.0",
          "state": {
            "_model_module": "@jupyter-widgets/controls",
            "_model_module_version": "1.5.0",
            "_model_name": "DescriptionStyleModel",
            "_view_count": null,
            "_view_module": "@jupyter-widgets/base",
            "_view_module_version": "1.2.0",
            "_view_name": "StyleView",
            "description_width": ""
          }
        }
      }
    }
  },
  "nbformat": 4,
  "nbformat_minor": 0
}